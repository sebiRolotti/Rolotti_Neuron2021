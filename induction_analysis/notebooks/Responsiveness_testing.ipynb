{
 "cells": [
  {
   "cell_type": "code",
   "execution_count": 1,
   "metadata": {},
   "outputs": [],
   "source": [
    "%matplotlib widget\n",
    "import matplotlib.pyplot as plt\n",
    "import seaborn as sns\n",
    "sns.set_style(style='ticks')\n",
    "import matplotlib.pyplot as plt\n",
    "import seaborn as sns\n",
    "\n",
    "import numpy as np\n",
    "import sys\n",
    "sys.path.insert(0, '/home/sebi/code/analysis/analysis-scripts/induction_analysis')\n",
    "\n",
    "from lab.classes.dbclasses import dbExperiment, dbMouse\n",
    "\n",
    "from scipy.ndimage.filters import gaussian_filter1d"
   ]
  },
  {
   "cell_type": "code",
   "execution_count": 229,
   "metadata": {},
   "outputs": [],
   "source": [
    "mouse = dbMouse('msa0919_2')\n",
    "\n",
    "expts = mouse.imagingExperiments()\n",
    "expt = [x for x in expts\n",
    "        if x.tSeriesDirectory == '/data/Mohsin/2p/msa0919_2/10_7_19/TSeriesmsa0919_2_10072019_cno_induce-003'][0]"
   ]
  },
  {
   "cell_type": "code",
   "execution_count": 238,
   "metadata": {},
   "outputs": [],
   "source": [
    "spikes = expt.spikes()\n",
    "sigs = expt.imagingData()\n",
    "rois = expt.rois()\n",
    "rlabels = [x.label for x in rois]\n",
    "on_frames = (expt.behaviorData()['led_context_pin'][1:, 0] / expt.frame_period()).astype(int)\n",
    "\n",
    "# Detected Indices\n",
    "indices = [46, 117, 154, 215, 216, 219, 224, 230, 232, 241, 265, 284, 298]"
   ]
  },
  {
   "cell_type": "code",
   "execution_count": 70,
   "metadata": {},
   "outputs": [],
   "source": [
    "def norm(s):\n",
    "    if np.nanmin(s) == np.nanmax(s):\n",
    "        return s\n",
    "    return (s - np.nanmin(s)) / (np.nanmax(s) - np.nanmin(s))"
   ]
  },
  {
   "cell_type": "code",
   "execution_count": 252,
   "metadata": {},
   "outputs": [
    {
     "data": {
      "application/vnd.jupyter.widget-view+json": {
       "model_id": "4341b7f46c3a48a0a0e852e77c496bcc",
       "version_major": 2,
       "version_minor": 0
      },
      "text/plain": [
       "FigureCanvasNbAgg()"
      ]
     },
     "metadata": {},
     "output_type": "display_data"
    },
    {
     "data": {
      "text/plain": [
       "<matplotlib.lines.Line2D at 0x7f8e24b41c10>"
      ]
     },
     "execution_count": 252,
     "metadata": {},
     "output_type": "execute_result"
    }
   ],
   "source": [
    "# Plot peri-stimulation traces and spikes for each trial\n",
    "# Choose an idx to plot\n",
    "idx = indices[12]\n",
    "\n",
    "fig = plt.figure()\n",
    "ax = fig.add_subplot(111)\n",
    "\n",
    "pre = 240\n",
    "post = 300\n",
    "\n",
    "for i, on_frame in enumerate(on_frames):\n",
    "    \n",
    "    sig = norm(gaussian_filter1d(sigs[idx, :, 0], 1))[on_frame-pre:on_frame+post]\n",
    "    spike = norm(spikes[idx, :])[on_frame-pre:on_frame+post]\n",
    "\n",
    "    ax.plot(sig + i, 'r')\n",
    "    ax.plot(spike + i, 'k')\n",
    "\n",
    "ax.axvline(x=pre, color='k')\n",
    "ax.axvline(x=pre+30, color='k')"
   ]
  },
  {
   "cell_type": "code",
   "execution_count": 207,
   "metadata": {},
   "outputs": [
    {
     "data": {
      "application/vnd.jupyter.widget-view+json": {
       "model_id": "8be455ec6a534b0bbe46a4e046c56c5e",
       "version_major": 2,
       "version_minor": 0
      },
      "text/plain": [
       "FigureCanvasNbAgg()"
      ]
     },
     "metadata": {},
     "output_type": "display_data"
    },
    {
     "data": {
      "text/plain": [
       "<matplotlib.collections.LineCollection at 0x7f8e39fc2750>"
      ]
     },
     "execution_count": 207,
     "metadata": {},
     "output_type": "execute_result"
    }
   ],
   "source": [
    "# Plot full trace\n",
    "\n",
    "fig = plt.figure()\n",
    "ax = fig.add_subplot(111)\n",
    "\n",
    "ax.plot(gaussian_filter1d(sigs[idx, :, 0], 1), 'r')\n",
    "ax.plot(spikes[idx, :], 'k')\n",
    "ax.vlines(on_frames, -600, 600, 'b', zorder=100)"
   ]
  },
  {
   "cell_type": "code",
   "execution_count": 253,
   "metadata": {},
   "outputs": [
    {
     "data": {
      "application/vnd.jupyter.widget-view+json": {
       "model_id": "86110261d8e542f3a8d485d586f66b3c",
       "version_major": 2,
       "version_minor": 0
      },
      "text/plain": [
       "FigureCanvasNbAgg()"
      ]
     },
     "metadata": {},
     "output_type": "display_data"
    },
    {
     "data": {
      "text/plain": [
       "<matplotlib.collections.LineCollection at 0x7f8e255e9090>"
      ]
     },
     "execution_count": 253,
     "metadata": {},
     "output_type": "execute_result"
    }
   ],
   "source": [
    "# Where are the stimulations happening during running\n",
    "\n",
    "pos = expt.behaviorData(imageSync=True)['treadmillPosition']\n",
    "pos[np.where(np.diff(pos) < -0.5)] = np.nan\n",
    "\n",
    "fig = plt.figure();\n",
    "ax = fig.add_subplot(111)\n",
    "ax.plot(pos)\n",
    "\n",
    "ax.vlines(on_frames, 0, 1, 'k', zorder=100)"
   ]
  }
 ],
 "metadata": {
  "kernelspec": {
   "display_name": "Python 2",
   "language": "python",
   "name": "python2"
  },
  "language_info": {
   "codemirror_mode": {
    "name": "ipython",
    "version": 2
   },
   "file_extension": ".py",
   "mimetype": "text/x-python",
   "name": "python",
   "nbconvert_exporter": "python",
   "pygments_lexer": "ipython2",
   "version": "2.7.15+"
  }
 },
 "nbformat": 4,
 "nbformat_minor": 2
}
