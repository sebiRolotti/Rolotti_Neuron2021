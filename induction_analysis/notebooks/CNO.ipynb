{
 "cells": [
  {
   "cell_type": "code",
   "execution_count": 1,
   "metadata": {},
   "outputs": [],
   "source": [
    "%matplotlib widget\n",
    "import matplotlib.pyplot as plt\n",
    "import seaborn as sns\n",
    "sns.set_style(style='ticks')\n",
    "\n",
    "from lab.classes.dbclasses import dbMouse, dbExperiment\n",
    "from lab.classes import ExperimentGroup\n",
    "\n",
    "import numpy as np\n",
    "\n",
    "from scipy.stats import wilcoxon, ttest_ind\n",
    "\n",
    "import pandas as pd\n",
    "import lab.analysis.behavior_analysis as ba"
   ]
  },
  {
   "cell_type": "code",
   "execution_count": 2,
   "metadata": {},
   "outputs": [
    {
     "name": "stderr",
     "output_type": "stream",
     "text": [
      "/home/sebi/code/analysis/analysis-scripts/induction_analysis/Analysis/induction_analysis.py:4: UserWarning: \n",
      "This call to matplotlib.use() has no effect because the backend has already\n",
      "been chosen; matplotlib.use() must be called *before* pylab, matplotlib.pyplot,\n",
      "or matplotlib.backends is imported for the first time.\n",
      "\n",
      "The backend was *originally* set to 'module://ipympl.backend_nbagg' by the following code:\n",
      "  File \"/usr/lib/python2.7/runpy.py\", line 174, in _run_module_as_main\n",
      "    \"__main__\", fname, loader, pkg_name)\n",
      "  File \"/usr/lib/python2.7/runpy.py\", line 72, in _run_code\n",
      "    exec code in run_globals\n",
      "  File \"/home/sebi/.local/lib/python2.7/site-packages/ipykernel_launcher.py\", line 16, in <module>\n",
      "    app.launch_new_instance()\n",
      "  File \"/home/sebi/.local/lib/python2.7/site-packages/traitlets/config/application.py\", line 658, in launch_instance\n",
      "    app.start()\n",
      "  File \"/home/sebi/.local/lib/python2.7/site-packages/ipykernel/kernelapp.py\", line 499, in start\n",
      "    self.io_loop.start()\n",
      "  File \"/home/sebi/.local/lib/python2.7/site-packages/tornado/ioloop.py\", line 1073, in start\n",
      "    handler_func(fd_obj, events)\n",
      "  File \"/home/sebi/.local/lib/python2.7/site-packages/tornado/stack_context.py\", line 300, in null_wrapper\n",
      "    return fn(*args, **kwargs)\n",
      "  File \"/home/sebi/.local/lib/python2.7/site-packages/zmq/eventloop/zmqstream.py\", line 456, in _handle_events\n",
      "    self._handle_recv()\n",
      "  File \"/home/sebi/.local/lib/python2.7/site-packages/zmq/eventloop/zmqstream.py\", line 486, in _handle_recv\n",
      "    self._run_callback(callback, msg)\n",
      "  File \"/home/sebi/.local/lib/python2.7/site-packages/zmq/eventloop/zmqstream.py\", line 438, in _run_callback\n",
      "    callback(*args, **kwargs)\n",
      "  File \"/home/sebi/.local/lib/python2.7/site-packages/tornado/stack_context.py\", line 300, in null_wrapper\n",
      "    return fn(*args, **kwargs)\n",
      "  File \"/home/sebi/.local/lib/python2.7/site-packages/ipykernel/kernelbase.py\", line 283, in dispatcher\n",
      "    return self.dispatch_shell(stream, msg)\n",
      "  File \"/home/sebi/.local/lib/python2.7/site-packages/ipykernel/kernelbase.py\", line 233, in dispatch_shell\n",
      "    handler(stream, idents, msg)\n",
      "  File \"/home/sebi/.local/lib/python2.7/site-packages/ipykernel/kernelbase.py\", line 399, in execute_request\n",
      "    user_expressions, allow_stdin)\n",
      "  File \"/home/sebi/.local/lib/python2.7/site-packages/ipykernel/ipkernel.py\", line 208, in do_execute\n",
      "    res = shell.run_cell(code, store_history=store_history, silent=silent)\n",
      "  File \"/home/sebi/.local/lib/python2.7/site-packages/ipykernel/zmqshell.py\", line 537, in run_cell\n",
      "    return super(ZMQInteractiveShell, self).run_cell(*args, **kwargs)\n",
      "  File \"/home/sebi/.local/lib/python2.7/site-packages/IPython/core/interactiveshell.py\", line 2714, in run_cell\n",
      "    interactivity=interactivity, compiler=compiler, result=result)\n",
      "  File \"/home/sebi/.local/lib/python2.7/site-packages/IPython/core/interactiveshell.py\", line 2818, in run_ast_nodes\n",
      "    if self.run_code(code, result):\n",
      "  File \"/home/sebi/.local/lib/python2.7/site-packages/IPython/core/interactiveshell.py\", line 2878, in run_code\n",
      "    exec(code_obj, self.user_global_ns, self.user_ns)\n",
      "  File \"<ipython-input-1-39876ea53838>\", line 1, in <module>\n",
      "    get_ipython().magic(u'matplotlib widget')\n",
      "  File \"/home/sebi/.local/lib/python2.7/site-packages/IPython/core/interactiveshell.py\", line 2160, in magic\n",
      "    return self.run_line_magic(magic_name, magic_arg_s)\n",
      "  File \"/home/sebi/.local/lib/python2.7/site-packages/IPython/core/interactiveshell.py\", line 2081, in run_line_magic\n",
      "    result = fn(*args,**kwargs)\n",
      "  File \"<decorator-gen-105>\", line 2, in matplotlib\n",
      "  File \"/home/sebi/.local/lib/python2.7/site-packages/IPython/core/magic.py\", line 188, in <lambda>\n",
      "    call = lambda f, *a, **k: f(*a, **k)\n",
      "  File \"/home/sebi/.local/lib/python2.7/site-packages/IPython/core/magics/pylab.py\", line 100, in matplotlib\n",
      "    gui, backend = self.shell.enable_matplotlib(args.gui)\n",
      "  File \"/home/sebi/.local/lib/python2.7/site-packages/IPython/core/interactiveshell.py\", line 2966, in enable_matplotlib\n",
      "    pt.activate_matplotlib(backend)\n",
      "  File \"/home/sebi/.local/lib/python2.7/site-packages/IPython/core/pylabtools.py\", line 315, in activate_matplotlib\n",
      "    matplotlib.pyplot.switch_backend(backend)\n",
      "  File \"/home/sebi/.local/lib/python2.7/site-packages/matplotlib/pyplot.py\", line 231, in switch_backend\n",
      "    matplotlib.use(newbackend, warn=False, force=True)\n",
      "  File \"/home/sebi/.local/lib/python2.7/site-packages/matplotlib/__init__.py\", line 1425, in use\n",
      "    reload(sys.modules['matplotlib.backends'])\n",
      "  File \"/home/sebi/.local/lib/python2.7/site-packages/matplotlib/backends/__init__.py\", line 17, in <module>\n",
      "    line for line in traceback.format_stack()\n",
      "\n",
      "\n",
      "  mpl.use('pdf')\n"
     ]
    },
    {
     "name": "stdout",
     "output_type": "stream",
     "text": [
      "[(0, 'SCE'), (1, 'Sparse Targeted'), (2, 'Dense'), (3, 'Dense + Dreadd'), (4, 'Sparse LED')]\n",
      "Vars in Environment: grps, labels, colors, stim_filters, ind_filters\n"
     ]
    }
   ],
   "source": [
    "%run /home/sebi/code/analysis/analysis-scripts/induction_analysis/group_scripts/init_all.py"
   ]
  },
  {
   "cell_type": "code",
   "execution_count": 3,
   "metadata": {},
   "outputs": [],
   "source": [
    "dense_grp = grps[2]\n",
    "cno_grp = grps[3]"
   ]
  },
  {
   "cell_type": "code",
   "execution_count": 76,
   "metadata": {},
   "outputs": [
    {
     "name": "stdout",
     "output_type": "stream",
     "text": [
      "control_24h not in association dictionary {u'control': {u'pre': 22349, u'post': 22341, u'induction': 22286, u'baseline': 22287}, u'cno': {u'pre': 22344, u'post': 22348, u'induction': 22326, u'baseline': 22327}}\n",
      "control_24h not in association dictionary {u'control': {u'pre': 22346, u'post': 22340, u'induction': 22311, u'baseline': 22313}, u'cno': {u'pre': 22345, u'post': 22350, u'induction': 22318, u'baseline': 22317}}\n",
      "control_24h not in association dictionary {u'control': {u'pre': 24601, u'induction': 24603, u'baseline': 24602}, u'cno': {}}\n",
      "cno_24h not in association dictionary {u'control': {u'pre': 22349, u'post': 22341, u'induction': 22286, u'baseline': 22287}, u'cno': {u'pre': 22344, u'post': 22348, u'induction': 22326, u'baseline': 22327}}\n",
      "cno_24h not in association dictionary {u'control': {u'pre': 22346, u'post': 22340, u'induction': 22311, u'baseline': 22313}, u'cno': {u'pre': 22345, u'post': 22350, u'induction': 22318, u'baseline': 22317}}\n",
      "cno_24h not in association dictionary {u'control': {u'pre': 24783, u'post': 24784, u'induction': 24781, u'baseline': 24782, u'24h': 24797}, u'cno': {u'pre': 24795, u'post': 24796, u'induction': 24798, u'baseline': 24799}}\n"
     ]
    }
   ],
   "source": [
    "frs = []\n",
    "\n",
    "for grp in [dense_grp, cno_grp]:\n",
    "    \n",
    "    prefix = grp[0].session.split('_')[0]\n",
    "\n",
    "    for sess in ['_baseline', '_induction', '_24h']:\n",
    "        newgrp = [x._get_session(prefix + sess) for x in grp]\n",
    "        for expt in newgrp:\n",
    "            \n",
    "            if expt is None:\n",
    "                continue\n",
    "\n",
    "#             running = expt.runningIntervals(returnBoolList=True)[0]\n",
    "            if sess == '_induction':\n",
    "                abs_pos = ba.absolutePosition(grp[0].find('trial'))\n",
    "                first_idx = np.where(abs_pos > 6)[0][0]\n",
    "                running = np.where(expt.velocity()[0][first_idx:] > 1)[0] + first_idx\n",
    "                nonrunning = np.where(expt.velocity()[0][first_idx:] <= 1)[0] + first_idx\n",
    "            else:\n",
    "                running = np.where(expt.velocity()[0] > 1)[0]\n",
    "                nonrunning = np.where(expt.velocity()[0] <= 1)[0]\n",
    "        \n",
    "            spikes = expt.spikes(binary=True)\n",
    "            \n",
    "            running_fr = np.nansum(spikes[:, running], axis=1) / (len(running) * expt.frame_period())\n",
    "            nonrunning_fr = np.nansum(spikes[:, nonrunning], axis=1) / (len(nonrunning) * expt.frame_period())\n",
    "            \n",
    "            full_fr = np.nansum(spikes, axis=1) / (spikes.shape[1] * expt.frame_period())\n",
    "\n",
    "            frs.append({'mouse_name': expt.parent.mouse_name,\n",
    "                        'session': prefix + sess,\n",
    "                        'condition': prefix,\n",
    "                        'sess': sess,\n",
    "                        'run_value': np.nanmean(running_fr),\n",
    "                        'nonrun_value': np.nanmean(nonrunning_fr),\n",
    "                        'value': np.nanmean(full_fr)})\n",
    "\n",
    "frs = pd.DataFrame(frs)"
   ]
  },
  {
   "cell_type": "code",
   "execution_count": 56,
   "metadata": {},
   "outputs": [],
   "source": [
    "def formatPlot(ax, offset=10):\n",
    "    for axis in ['left', 'right', 'bottom', 'top']:\n",
    "        ax.spines[axis].set_linewidth(2)\n",
    "    ax.tick_params(labelsize=14, width=2, length=4)\n",
    "    sns.despine(ax=ax, offset=offset)\n",
    "    ax.set_xlabel('')\n",
    "    ax.set_ylabel('')"
   ]
  },
  {
   "cell_type": "code",
   "execution_count": 86,
   "metadata": {},
   "outputs": [
    {
     "data": {
      "application/vnd.jupyter.widget-view+json": {
       "model_id": "c415b86935ea451ebdc7ac6b9e9e44de",
       "version_major": 2,
       "version_minor": 0
      },
      "text/plain": [
       "FigureCanvasNbAgg()"
      ]
     },
     "metadata": {},
     "output_type": "display_data"
    }
   ],
   "source": [
    "fig = plt.figure()\n",
    "ax = fig.add_subplot(111)\n",
    "\n",
    "colors = ['warm blue', 'golden rod']\n",
    "colors = sns.xkcd_palette(colors)\n",
    "\n",
    "sns.boxplot(x='sess', y='value', hue='condition', data=frs, ax=ax,\n",
    "            whis=False, showcaps=False, showfliers=False)\n",
    "plt.setp(ax.artists, edgecolor='k', facecolor='w')\n",
    "plt.setp(ax.lines, color='k')\n",
    "\n",
    "sns.swarmplot(x='sess', y='value', hue='condition', dodge=True, data=frs, palette=colors,\n",
    "              ax=ax, size=7, edgecolor='k', linewidth=1)\n",
    "\n",
    "formatPlot(ax)\n",
    "\n",
    "ax.set_xticklabels(['PRE', 'POST', '24H', 'PRE', 'POST', '24H'])\n",
    "ax.set_ylabel('Mean Event Rate(Hz)', fontsize=18)\n",
    "\n",
    "ax.legend().set_visible(False)\n",
    "\n",
    "fig.savefig('/home/sebi/plots/ind/figs4/cno_mean_fr.svg', bbox_inches='tight')"
   ]
  },
  {
   "cell_type": "code",
   "execution_count": 81,
   "metadata": {},
   "outputs": [
    {
     "name": "stdout",
     "output_type": "stream",
     "text": [
      "Ttest_indResult(statistic=-2.6301515829184243, pvalue=0.015645895416039283)\n",
      "Ttest_indResult(statistic=-3.082171093075783, pvalue=0.005650248279354123)\n",
      "Ttest_indResult(statistic=-1.313844718706283, pvalue=0.2086385374982976)\n"
     ]
    }
   ],
   "source": [
    "print ttest_ind(frs.loc[frs['session'] == 'control_baseline']['value'], frs.loc[frs['session'] == 'cno_baseline']['value'])\n",
    "print ttest_ind(frs.loc[frs['session'] == 'control_induction']['value'], frs.loc[frs['session'] == 'cno_induction']['value'])\n",
    "print ttest_ind(frs.loc[frs['session'] == 'control_24h']['value'], frs.loc[frs['session'] == 'cno_24h']['value'])"
   ]
  },
  {
   "cell_type": "code",
   "execution_count": 83,
   "metadata": {},
   "outputs": [
    {
     "data": {
      "text/html": [
       "<div>\n",
       "<style scoped>\n",
       "    .dataframe tbody tr th:only-of-type {\n",
       "        vertical-align: middle;\n",
       "    }\n",
       "\n",
       "    .dataframe tbody tr th {\n",
       "        vertical-align: top;\n",
       "    }\n",
       "\n",
       "    .dataframe thead th {\n",
       "        text-align: right;\n",
       "    }\n",
       "</style>\n",
       "<table border=\"1\" class=\"dataframe\">\n",
       "  <thead>\n",
       "    <tr style=\"text-align: right;\">\n",
       "      <th></th>\n",
       "      <th>nonrun_value</th>\n",
       "      <th>run_value</th>\n",
       "      <th>value</th>\n",
       "    </tr>\n",
       "    <tr>\n",
       "      <th>session</th>\n",
       "      <th></th>\n",
       "      <th></th>\n",
       "      <th></th>\n",
       "    </tr>\n",
       "  </thead>\n",
       "  <tbody>\n",
       "    <tr>\n",
       "      <th>cno_24h</th>\n",
       "      <td>0.034700</td>\n",
       "      <td>0.043333</td>\n",
       "      <td>0.039515</td>\n",
       "    </tr>\n",
       "    <tr>\n",
       "      <th>cno_baseline</th>\n",
       "      <td>0.061748</td>\n",
       "      <td>0.087301</td>\n",
       "      <td>0.067611</td>\n",
       "    </tr>\n",
       "    <tr>\n",
       "      <th>cno_induction</th>\n",
       "      <td>0.050138</td>\n",
       "      <td>0.058661</td>\n",
       "      <td>0.050965</td>\n",
       "    </tr>\n",
       "    <tr>\n",
       "      <th>control_24h</th>\n",
       "      <td>0.030879</td>\n",
       "      <td>0.034112</td>\n",
       "      <td>0.032045</td>\n",
       "    </tr>\n",
       "    <tr>\n",
       "      <th>control_baseline</th>\n",
       "      <td>0.039060</td>\n",
       "      <td>0.051016</td>\n",
       "      <td>0.044507</td>\n",
       "    </tr>\n",
       "    <tr>\n",
       "      <th>control_induction</th>\n",
       "      <td>0.030854</td>\n",
       "      <td>0.044073</td>\n",
       "      <td>0.036099</td>\n",
       "    </tr>\n",
       "  </tbody>\n",
       "</table>\n",
       "</div>"
      ],
      "text/plain": [
       "                   nonrun_value  run_value     value\n",
       "session                                             \n",
       "cno_24h                0.034700   0.043333  0.039515\n",
       "cno_baseline           0.061748   0.087301  0.067611\n",
       "cno_induction          0.050138   0.058661  0.050965\n",
       "control_24h            0.030879   0.034112  0.032045\n",
       "control_baseline       0.039060   0.051016  0.044507\n",
       "control_induction      0.030854   0.044073  0.036099"
      ]
     },
     "execution_count": 83,
     "metadata": {},
     "output_type": "execute_result"
    }
   ],
   "source": [
    "frs.groupby(['session']).std()"
   ]
  },
  {
   "cell_type": "code",
   "execution_count": 82,
   "metadata": {},
   "outputs": [
    {
     "data": {
      "text/html": [
       "<div>\n",
       "<style scoped>\n",
       "    .dataframe tbody tr th:only-of-type {\n",
       "        vertical-align: middle;\n",
       "    }\n",
       "\n",
       "    .dataframe tbody tr th {\n",
       "        vertical-align: top;\n",
       "    }\n",
       "\n",
       "    .dataframe thead th {\n",
       "        text-align: right;\n",
       "    }\n",
       "</style>\n",
       "<table border=\"1\" class=\"dataframe\">\n",
       "  <thead>\n",
       "    <tr style=\"text-align: right;\">\n",
       "      <th></th>\n",
       "      <th>nonrun_value</th>\n",
       "      <th>run_value</th>\n",
       "      <th>value</th>\n",
       "    </tr>\n",
       "    <tr>\n",
       "      <th>session</th>\n",
       "      <th></th>\n",
       "      <th></th>\n",
       "      <th></th>\n",
       "    </tr>\n",
       "  </thead>\n",
       "  <tbody>\n",
       "    <tr>\n",
       "      <th>cno_24h</th>\n",
       "      <td>0.078598</td>\n",
       "      <td>0.102507</td>\n",
       "      <td>0.093209</td>\n",
       "    </tr>\n",
       "    <tr>\n",
       "      <th>cno_baseline</th>\n",
       "      <td>0.133548</td>\n",
       "      <td>0.149249</td>\n",
       "      <td>0.138632</td>\n",
       "    </tr>\n",
       "    <tr>\n",
       "      <th>cno_induction</th>\n",
       "      <td>0.137852</td>\n",
       "      <td>0.115129</td>\n",
       "      <td>0.134692</td>\n",
       "    </tr>\n",
       "    <tr>\n",
       "      <th>control_24h</th>\n",
       "      <td>0.060052</td>\n",
       "      <td>0.077010</td>\n",
       "      <td>0.070402</td>\n",
       "    </tr>\n",
       "    <tr>\n",
       "      <th>control_baseline</th>\n",
       "      <td>0.066419</td>\n",
       "      <td>0.083485</td>\n",
       "      <td>0.076386</td>\n",
       "    </tr>\n",
       "    <tr>\n",
       "      <th>control_induction</th>\n",
       "      <td>0.066923</td>\n",
       "      <td>0.083146</td>\n",
       "      <td>0.078325</td>\n",
       "    </tr>\n",
       "  </tbody>\n",
       "</table>\n",
       "</div>"
      ],
      "text/plain": [
       "                   nonrun_value  run_value     value\n",
       "session                                             \n",
       "cno_24h                0.078598   0.102507  0.093209\n",
       "cno_baseline           0.133548   0.149249  0.138632\n",
       "cno_induction          0.137852   0.115129  0.134692\n",
       "control_24h            0.060052   0.077010  0.070402\n",
       "control_baseline       0.066419   0.083485  0.076386\n",
       "control_induction      0.066923   0.083146  0.078325"
      ]
     },
     "execution_count": 82,
     "metadata": {},
     "output_type": "execute_result"
    }
   ],
   "source": [
    "frs.groupby(['session']).mean()"
   ]
  },
  {
   "cell_type": "code",
   "execution_count": 72,
   "metadata": {},
   "outputs": [
    {
     "data": {
      "application/vnd.jupyter.widget-view+json": {
       "model_id": "7a74cf7eb0b844cdad45d1e013c489a0",
       "version_major": 2,
       "version_minor": 0
      },
      "text/plain": [
       "FigureCanvasNbAgg()"
      ]
     },
     "metadata": {},
     "output_type": "display_data"
    },
    {
     "data": {
      "text/plain": [
       "(0, 0.4)"
      ]
     },
     "execution_count": 72,
     "metadata": {},
     "output_type": "execute_result"
    }
   ],
   "source": [
    "fig = plt.figure()\n",
    "ax = fig.add_subplot(111)\n",
    "\n",
    "colors = ['warm blue', 'golden rod']\n",
    "colors = sns.xkcd_palette(colors)\n",
    "\n",
    "sns.boxplot(x='sess', y='run_value', hue='condition', data=frs, ax=ax,\n",
    "            whis=False, showcaps=False, showfliers=False)\n",
    "plt.setp(ax.artists, edgecolor='k', facecolor='w')\n",
    "plt.setp(ax.lines, color='k')\n",
    "\n",
    "sns.swarmplot(x='sess', y='run_value', hue='condition', dodge=True, data=frs, palette=colors,\n",
    "              ax=ax, size=7, edgecolor='k', linewidth=1)\n",
    "\n",
    "formatPlot(ax)\n",
    "\n",
    "ax.set_xticklabels(['PRE', 'POST', '24H', 'PRE', 'POST', '24H'])\n",
    "ax.set_ylabel('Mean Event Rate during Running (Hz)', fontsize=18)\n",
    "\n",
    "ax.legend().set_visible(False)\n",
    "\n",
    "ax.set_ylim([0, 0.4])"
   ]
  },
  {
   "cell_type": "code",
   "execution_count": 40,
   "metadata": {},
   "outputs": [],
   "source": [
    "from scipy.stats import ttest_ind"
   ]
  },
  {
   "cell_type": "code",
   "execution_count": 65,
   "metadata": {},
   "outputs": [
    {
     "name": "stdout",
     "output_type": "stream",
     "text": [
      "Ttest_indResult(statistic=-2.2297116809965516, pvalue=0.036812893664160004)\n",
      "Ttest_indResult(statistic=-1.4867277652120807, pvalue=0.15194754522441623)\n",
      "Ttest_indResult(statistic=-1.3562885466715637, pvalue=0.19507268924652246)\n"
     ]
    }
   ],
   "source": [
    "print ttest_ind(frs.loc[frs['session'] == 'control_baseline']['run_value'], frs.loc[frs['session'] == 'cno_baseline']['run_value'])\n",
    "print ttest_ind(frs.loc[frs['session'] == 'control_induction']['run_value'], frs.loc[frs['session'] == 'cno_induction']['run_value'])\n",
    "print ttest_ind(frs.loc[frs['session'] == 'control_24h']['run_value'], frs.loc[frs['session'] == 'cno_24h']['run_value'])"
   ]
  },
  {
   "cell_type": "code",
   "execution_count": 73,
   "metadata": {},
   "outputs": [
    {
     "data": {
      "application/vnd.jupyter.widget-view+json": {
       "model_id": "42b1d940902f48e2ad9d7606328a784c",
       "version_major": 2,
       "version_minor": 0
      },
      "text/plain": [
       "FigureCanvasNbAgg()"
      ]
     },
     "metadata": {},
     "output_type": "display_data"
    },
    {
     "data": {
      "text/plain": [
       "(0, 0.4)"
      ]
     },
     "execution_count": 73,
     "metadata": {},
     "output_type": "execute_result"
    }
   ],
   "source": [
    "fig = plt.figure()\n",
    "ax = fig.add_subplot(111)\n",
    "\n",
    "colors = ['warm blue', 'golden rod']\n",
    "colors = sns.xkcd_palette(colors)\n",
    "\n",
    "sns.boxplot(x='sess', y='nonrun_value', hue='condition', data=frs, ax=ax,\n",
    "            whis=False, showcaps=False, showfliers=False)\n",
    "plt.setp(ax.artists, edgecolor='k', facecolor='w')\n",
    "plt.setp(ax.lines, color='k')\n",
    "\n",
    "sns.swarmplot(x='sess', y='nonrun_value', data=frs, hue='condition', dodge=True, palette=colors,\n",
    "              ax=ax, size=7, edgecolor='k', linewidth=1)\n",
    "\n",
    "formatPlot(ax)\n",
    "\n",
    "ax.set_xticklabels(['PRE', 'POST', '24H', 'PRE', 'POST', '24H'])\n",
    "ax.set_ylabel('Mean Event Rate during Immobility (Hz)', fontsize=18)\n",
    "\n",
    "ax.legend().set_visible(False)\n",
    "ax.set_ylim([0, 0.4])"
   ]
  },
  {
   "cell_type": "code",
   "execution_count": 74,
   "metadata": {},
   "outputs": [
    {
     "name": "stdout",
     "output_type": "stream",
     "text": [
      "Ttest_indResult(statistic=-3.1449769621109773, pvalue=0.004888381433521167)\n",
      "Ttest_indResult(statistic=-4.126446805393002, pvalue=0.0004802333469860523)\n",
      "Ttest_indResult(statistic=-1.1665793757300937, pvalue=0.2615930279599925)\n"
     ]
    }
   ],
   "source": [
    "print ttest_ind(frs.loc[frs['session'] == 'control_baseline']['nonrun_value'], frs.loc[frs['session'] == 'cno_baseline']['nonrun_value'])\n",
    "print ttest_ind(frs.loc[frs['session'] == 'control_induction']['nonrun_value'], frs.loc[frs['session'] == 'cno_induction']['nonrun_value'])\n",
    "print ttest_ind(frs.loc[frs['session'] == 'control_24h']['nonrun_value'], frs.loc[frs['session'] == 'cno_24h']['nonrun_value'])"
   ]
  },
  {
   "cell_type": "code",
   "execution_count": 89,
   "metadata": {},
   "outputs": [
    {
     "data": {
      "text/plain": [
       "'/data/Mohsin/2p/msa0919_2/10_10_19/TSeriesmsa0919_2_10102019_cno_induce-003'"
      ]
     },
     "execution_count": 89,
     "metadata": {},
     "output_type": "execute_result"
    }
   ],
   "source": [
    "cno_grp[0].get('tSeriesDirectory')"
   ]
  },
  {
   "cell_type": "code",
   "execution_count": 88,
   "metadata": {},
   "outputs": [
    {
     "data": {
      "text/plain": [
       "'/data/Mohsin/2p/msa0919_2/10_3_19/TSeriesmsa0919_2_10032019_induce-003'"
      ]
     },
     "execution_count": 88,
     "metadata": {},
     "output_type": "execute_result"
    }
   ],
   "source": [
    "dense_grp[0].get('tSeriesDirectory')"
   ]
  },
  {
   "cell_type": "code",
   "execution_count": 90,
   "metadata": {},
   "outputs": [],
   "source": [
    "bsigs = dense_grp[0]._get_session('control_baseline').imagingData(dFOverF='from_file')[..., 0]\n",
    "csigs = dense_grp[0]._get_session('cno_baseline').imagingData(dFOverF='from_file')[..., 0]"
   ]
  },
  {
   "cell_type": "code",
   "execution_count": 107,
   "metadata": {},
   "outputs": [],
   "source": [
    "bspikes = dense_grp[0]._get_session('control_baseline').spikes()\n",
    "cspikes = dense_grp[0]._get_session('cno_baseline').spikes()"
   ]
  },
  {
   "cell_type": "code",
   "execution_count": 99,
   "metadata": {},
   "outputs": [],
   "source": [
    "from scipy.ndimage.filters import gaussian_filter1d"
   ]
  },
  {
   "cell_type": "code",
   "execution_count": 104,
   "metadata": {},
   "outputs": [],
   "source": [
    "def norm_sig(sigs, spikes):\n",
    "    \n",
    "    out = []\n",
    "    \n",
    "    for sig, spike in zip(sigs, spikes):\n",
    "        \n",
    "        noise = np.where(spike == 0)\n",
    "        smean = np.nanmean(sig[noise])\n",
    "        sstd = np.nanstd(sig[noise])\n",
    "        \n",
    "        out.append((sig - smean) / sstd)\n",
    "    \n",
    "    return np.vstack(out)"
   ]
  },
  {
   "cell_type": "code",
   "execution_count": 117,
   "metadata": {},
   "outputs": [
    {
     "data": {
      "application/vnd.jupyter.widget-view+json": {
       "model_id": "4cc8f4bd954d43eaa48541b4f1c7ac9d",
       "version_major": 2,
       "version_minor": 0
      },
      "text/plain": [
       "FigureCanvasNbAgg()"
      ]
     },
     "metadata": {},
     "output_type": "display_data"
    },
    {
     "data": {
      "text/plain": [
       "[<matplotlib.lines.Line2D at 0x7f2545f5c7d0>]"
      ]
     },
     "execution_count": 117,
     "metadata": {},
     "output_type": "execute_result"
    }
   ],
   "source": [
    "fig = plt.figure()\n",
    "ax = fig.add_subplot(111)\n",
    "\n",
    "ax.plot(gaussian_filter1d(bmean, 15) + 2 * i , color=colors[0], alpha=0.75)\n",
    "ax.plot(gaussian_filter1d(cmean, 15) + 2 * i, color=colors[1], alpha=0.75)"
   ]
  },
  {
   "cell_type": "code",
   "execution_count": 121,
   "metadata": {},
   "outputs": [],
   "source": [
    "import itertools as it"
   ]
  },
  {
   "cell_type": "code",
   "execution_count": 127,
   "metadata": {},
   "outputs": [
    {
     "data": {
      "application/vnd.jupyter.widget-view+json": {
       "model_id": "0db1a439111643f2b07cb449e73be37e",
       "version_major": 2,
       "version_minor": 0
      },
      "text/plain": [
       "FigureCanvasNbAgg()"
      ]
     },
     "metadata": {},
     "output_type": "display_data"
    }
   ],
   "source": [
    "fig = plt.figure()\n",
    "ax = fig.add_subplot(111)\n",
    "\n",
    "for i, bmean, cmean in zip(it.count(), bmeans, cmeans):\n",
    "\n",
    "\n",
    "# bmeans = []\n",
    "# cmeans = []\n",
    "\n",
    "# for i in xrange(3):\n",
    "\n",
    "#     bsigs = dense_grp[i]._get_session('control_baseline').imagingData(dFOverF='from_file')[..., 0]\n",
    "#     csigs = dense_grp[i]._get_session('cno_baseline').imagingData(dFOverF='from_file')[..., 0]\n",
    "\n",
    "#     bspikes = dense_grp[0]._get_session('control_baseline').spikes()\n",
    "#     cspikes = dense_grp[0]._get_session('cno_baseline').spikes()\n",
    "\n",
    "#     bmean = norm_sig(bsigs, bspikes)\n",
    "#     bmean = np.nanmean(bmean, axis=0)\n",
    "\n",
    "#     cmean = norm_sig(csigs, cspikes)\n",
    "#     cmean = np.nanmean(cmean, axis=0)\n",
    "    \n",
    "#     bmeans.append(bmean)\n",
    "#     cmeans.append(cmean)\n",
    "\n",
    "    ax.plot(gaussian_filter1d(bmean, 15) + i, color=colors[0])\n",
    "    ax.plot(gaussian_filter1d(cmean, 15) + i + 0.3, color=colors[1])\n",
    "\n",
    "# for i in xrange(10, 20):\n",
    "    \n",
    "#     ax.plot(bsigs[i, :] + i)"
   ]
  },
  {
   "cell_type": "code",
   "execution_count": 128,
   "metadata": {},
   "outputs": [],
   "source": [
    "bmeans = []\n",
    "for expt in dense_grp:\n",
    "    \n",
    "    bsession = expt._get_session('control_baseline')\n",
    "    bsigs = bsession.imagingData(dFOverF='from_file')[..., 0]\n",
    "    bspikes = bsession.spikes()\n",
    "    \n",
    "    bmean = norm_sig(bsigs, bspikes)\n",
    "    bmean = np.nanmean(bmean, axis=0)\n",
    "    \n",
    "    bmeans.append(bmean)"
   ]
  },
  {
   "cell_type": "code",
   "execution_count": 131,
   "metadata": {},
   "outputs": [],
   "source": [
    "cmeans = []\n",
    "for expt in cno_grp:\n",
    "    \n",
    "    bsession = expt._get_session('cno_baseline')\n",
    "    bsigs = bsession.imagingData(dFOverF='from_file')[..., 0]\n",
    "    bspikes = bsession.spikes()\n",
    "    \n",
    "    bmean = norm_sig(bsigs, bspikes)\n",
    "    bmean = np.nanmean(bmean, axis=0)\n",
    "    \n",
    "    cmeans.append(bmean)"
   ]
  },
  {
   "cell_type": "code",
   "execution_count": null,
   "metadata": {},
   "outputs": [],
   "source": []
  },
  {
   "cell_type": "code",
   "execution_count": 142,
   "metadata": {},
   "outputs": [
    {
     "data": {
      "application/vnd.jupyter.widget-view+json": {
       "model_id": "f005aee20f3f4b3394f20ef1012d5c24",
       "version_major": 2,
       "version_minor": 0
      },
      "text/plain": [
       "FigureCanvasNbAgg()"
      ]
     },
     "metadata": {},
     "output_type": "display_data"
    }
   ],
   "source": [
    "fig = plt.figure()\n",
    "ax = fig.add_subplot(111)\n",
    "\n",
    "for i in xrange(10):\n",
    "    \n",
    "    ax.plot(bmeans[i][27*60:27*300] + 2*i, color=colors[0])\n",
    "    ax.plot(cmeans[i][27*60:27*300] + 2*i + 1, color=colors[1])"
   ]
  },
  {
   "cell_type": "code",
   "execution_count": 199,
   "metadata": {},
   "outputs": [],
   "source": [
    "# roi_filter = grp.pcs_filter()\n",
    "dense_baseline = pcExperimentGroup([x._get_session('control_baseline') for x in dense_grp], **dense_grp.args)\n",
    "\n",
    "data = dense_baseline.data(roi_filter=None)\n",
    "all_data = []\n",
    "all_centroids = []\n",
    "all_stim_idx = []\n",
    "count = 0\n",
    "for expt in dense_baseline:\n",
    "#     rois = expt.rois(roi_filter=roi_filter)\n",
    "#     stim_idx = [i + count for i, r in enumerate(rois) if stim_filter(r)]\n",
    "#     all_stim_idx.extend(stim_idx)\n",
    "#     count += len(rois)\n",
    "    \n",
    "    expt_data = data[expt]\n",
    "    stim_loc = int(expt._get_session('control_induction')._get_stim_positions(units='normalized')[0])\n",
    "    expt_data = np.roll(expt_data, 50 - stim_loc, axis=1)\n",
    "#     expt_data = expt_data / np.nanmax(expt_data, axis=1, keepdims=True)\n",
    "#     centroids = calc_activity_centroids(expt_data)\n",
    "    centroids = np.argmax(expt_data, axis=1)\n",
    "    all_data.append(expt_data)\n",
    "    all_centroids.extend(centroids)\n",
    "\n",
    "all_data = np.vstack(all_data)\n",
    "sort_idx = np.argsort(all_centroids)\n",
    "# all_stim_idx = np.array(all_stim_idx)\n",
    "# nostim_idx = np.array([x for x in range(count) if x not in all_stim_idx])\n",
    "\n",
    "dense_sorted_data = all_data[sort_idx, :]"
   ]
  },
  {
   "cell_type": "code",
   "execution_count": 200,
   "metadata": {},
   "outputs": [],
   "source": [
    "# roi_filter = grp.pcs_filter()\n",
    "cno_baseline = pcExperimentGroup([x._get_session('cno_baseline') for x in cno_grp], **cno_grp.args)\n",
    "\n",
    "data = cno_baseline.data(roi_filter=None)\n",
    "all_data = []\n",
    "all_centroids = []\n",
    "all_stim_idx = []\n",
    "count = 0\n",
    "for expt in cno_baseline:\n",
    "#     rois = expt.rois(roi_filter=roi_filter)\n",
    "#     stim_idx = [i + count for i, r in enumerate(rois) if stim_filter(r)]\n",
    "#     all_stim_idx.extend(stim_idx)\n",
    "#     count += len(rois)\n",
    "    \n",
    "    expt_data = data[expt]\n",
    "    stim_loc = int(expt._get_session('cno_induction')._get_stim_positions(units='normalized')[0])\n",
    "    expt_data = np.roll(expt_data, 50 - stim_loc, axis=1)\n",
    "#     expt_data = expt_data / np.nanmax(expt_data, axis=1, keepdims=True)\n",
    "#     centroids = calc_activity_centroids(expt_data)\n",
    "    centroids = np.argmax(expt_data, axis=1)\n",
    "    all_data.append(expt_data)\n",
    "    all_centroids.extend(centroids)\n",
    "\n",
    "all_data = np.vstack(all_data)\n",
    "sort_idx = np.argsort(all_centroids)\n",
    "# all_stim_idx = np.array(all_stim_idx)\n",
    "# nostim_idx = np.array([x for x in range(count) if x not in all_stim_idx])\n",
    "\n",
    "sorted_data = all_data[sort_idx, :]"
   ]
  },
  {
   "cell_type": "code",
   "execution_count": 203,
   "metadata": {},
   "outputs": [],
   "source": [
    "c = sns.xkcd_rgb['black']\n",
    "cmap=sns.light_palette(c, as_cmap=True, reverse=True)"
   ]
  },
  {
   "cell_type": "code",
   "execution_count": 218,
   "metadata": {},
   "outputs": [],
   "source": [
    "all_vals = np.vstack([sorted_data, dense_sorted_data])\n",
    "vmax = np.nanpercentile(all_vals, 95)"
   ]
  },
  {
   "cell_type": "code",
   "execution_count": 221,
   "metadata": {},
   "outputs": [
    {
     "data": {
      "application/vnd.jupyter.widget-view+json": {
       "model_id": "844bf26800d441caadc7b1bddf35740e",
       "version_major": 2,
       "version_minor": 0
      },
      "text/plain": [
       "FigureCanvasNbAgg()"
      ]
     },
     "metadata": {},
     "output_type": "display_data"
    },
    {
     "name": "stdout",
     "output_type": "stream",
     "text": [
      "3242\n",
      "2941\n"
     ]
    }
   ],
   "source": [
    "fig = plt.figure()\n",
    "ax = fig.add_subplot(121)\n",
    "sns.heatmap(dense_sorted_data, cmap=cmap, ax=ax, cbar=False, vmax=vmax)\n",
    "\n",
    "n_cells = dense_sorted_data.shape[0]\n",
    "ax.set_xticks([])\n",
    "ax.set_yticks([])\n",
    "print n_cells\n",
    "# ax.set_yticks([n_cells - 1])\n",
    "# ax.set_yticklabels([n_cells])\n",
    "\n",
    "# ax.set_title('CNO-', fontsize=18)\n",
    "\n",
    "ax = fig.add_subplot(122)\n",
    "sns.heatmap(sorted_data, cmap=cmap, ax=ax, cbar=True, vmax=vmax)\n",
    "\n",
    "n_cells = sorted_data.shape[0]\n",
    "ax.set_xticks([])\n",
    "ax.set_yticks([])\n",
    "print n_cells\n",
    "# ax.set_yticks([n_cells - 1])\n",
    "# ax.set_yticklabels([n_cells])\n",
    "\n",
    "# ax.set_title('CNO+', fontsize=18)\n",
    "\n",
    "# fig.savefig('/home/sebi/plots/ind/figs4/all_cell_tuning.png', bbox_inches='tight')"
   ]
  },
  {
   "cell_type": "code",
   "execution_count": null,
   "metadata": {},
   "outputs": [],
   "source": []
  },
  {
   "cell_type": "code",
   "execution_count": 220,
   "metadata": {},
   "outputs": [
    {
     "ename": "AttributeError",
     "evalue": "'numpy.ndarray' object has no attribute 'autoscale_None'",
     "output_type": "error",
     "traceback": [
      "\u001b[0;31m---------------------------------------------------------------------------\u001b[0m",
      "\u001b[0;31mAttributeError\u001b[0m                            Traceback (most recent call last)",
      "\u001b[0;32m<ipython-input-220-30c7fbee6e90>\u001b[0m in \u001b[0;36m<module>\u001b[0;34m()\u001b[0m\n\u001b[0;32m----> 1\u001b[0;31m \u001b[0mplt\u001b[0m\u001b[0;34m.\u001b[0m\u001b[0mcolorbar\u001b[0m\u001b[0;34m(\u001b[0m\u001b[0msorted_data\u001b[0m\u001b[0;34m)\u001b[0m\u001b[0;34m\u001b[0m\u001b[0m\n\u001b[0m",
      "\u001b[0;32m/home/sebi/.local/lib/python2.7/site-packages/matplotlib/pyplot.pyc\u001b[0m in \u001b[0;36mcolorbar\u001b[0;34m(mappable, cax, ax, **kw)\u001b[0m\n\u001b[1;32m   2318\u001b[0m         \u001b[0max\u001b[0m \u001b[0;34m=\u001b[0m \u001b[0mgca\u001b[0m\u001b[0;34m(\u001b[0m\u001b[0;34m)\u001b[0m\u001b[0;34m\u001b[0m\u001b[0m\n\u001b[1;32m   2319\u001b[0m \u001b[0;34m\u001b[0m\u001b[0m\n\u001b[0;32m-> 2320\u001b[0;31m     \u001b[0mret\u001b[0m \u001b[0;34m=\u001b[0m \u001b[0mgcf\u001b[0m\u001b[0;34m(\u001b[0m\u001b[0;34m)\u001b[0m\u001b[0;34m.\u001b[0m\u001b[0mcolorbar\u001b[0m\u001b[0;34m(\u001b[0m\u001b[0mmappable\u001b[0m\u001b[0;34m,\u001b[0m \u001b[0mcax\u001b[0m \u001b[0;34m=\u001b[0m \u001b[0mcax\u001b[0m\u001b[0;34m,\u001b[0m \u001b[0max\u001b[0m\u001b[0;34m=\u001b[0m\u001b[0max\u001b[0m\u001b[0;34m,\u001b[0m \u001b[0;34m**\u001b[0m\u001b[0mkw\u001b[0m\u001b[0;34m)\u001b[0m\u001b[0;34m\u001b[0m\u001b[0m\n\u001b[0m\u001b[1;32m   2321\u001b[0m     \u001b[0;32mreturn\u001b[0m \u001b[0mret\u001b[0m\u001b[0;34m\u001b[0m\u001b[0m\n\u001b[1;32m   2322\u001b[0m \u001b[0mcolorbar\u001b[0m\u001b[0;34m.\u001b[0m\u001b[0m__doc__\u001b[0m \u001b[0;34m=\u001b[0m \u001b[0mmatplotlib\u001b[0m\u001b[0;34m.\u001b[0m\u001b[0mcolorbar\u001b[0m\u001b[0;34m.\u001b[0m\u001b[0mcolorbar_doc\u001b[0m\u001b[0;34m\u001b[0m\u001b[0m\n",
      "\u001b[0;32m/home/sebi/.local/lib/python2.7/site-packages/matplotlib/figure.pyc\u001b[0m in \u001b[0;36mcolorbar\u001b[0;34m(self, mappable, cax, ax, use_gridspec, **kw)\u001b[0m\n\u001b[1;32m   2096\u001b[0m                              'panchor']\n\u001b[1;32m   2097\u001b[0m         \u001b[0mcb_kw\u001b[0m \u001b[0;34m=\u001b[0m \u001b[0;34m{\u001b[0m\u001b[0mk\u001b[0m\u001b[0;34m:\u001b[0m \u001b[0mv\u001b[0m \u001b[0;32mfor\u001b[0m \u001b[0mk\u001b[0m\u001b[0;34m,\u001b[0m \u001b[0mv\u001b[0m \u001b[0;32min\u001b[0m \u001b[0mkw\u001b[0m\u001b[0;34m.\u001b[0m\u001b[0mitems\u001b[0m\u001b[0;34m(\u001b[0m\u001b[0;34m)\u001b[0m \u001b[0;32mif\u001b[0m \u001b[0mk\u001b[0m \u001b[0;32mnot\u001b[0m \u001b[0;32min\u001b[0m \u001b[0mNON_COLORBAR_KEYS\u001b[0m\u001b[0;34m}\u001b[0m\u001b[0;34m\u001b[0m\u001b[0m\n\u001b[0;32m-> 2098\u001b[0;31m         \u001b[0mcb\u001b[0m \u001b[0;34m=\u001b[0m \u001b[0mcbar\u001b[0m\u001b[0;34m.\u001b[0m\u001b[0mcolorbar_factory\u001b[0m\u001b[0;34m(\u001b[0m\u001b[0mcax\u001b[0m\u001b[0;34m,\u001b[0m \u001b[0mmappable\u001b[0m\u001b[0;34m,\u001b[0m \u001b[0;34m**\u001b[0m\u001b[0mcb_kw\u001b[0m\u001b[0;34m)\u001b[0m\u001b[0;34m\u001b[0m\u001b[0m\n\u001b[0m\u001b[1;32m   2099\u001b[0m \u001b[0;34m\u001b[0m\u001b[0m\n\u001b[1;32m   2100\u001b[0m         \u001b[0mself\u001b[0m\u001b[0;34m.\u001b[0m\u001b[0msca\u001b[0m\u001b[0;34m(\u001b[0m\u001b[0mcurrent_ax\u001b[0m\u001b[0;34m)\u001b[0m\u001b[0;34m\u001b[0m\u001b[0m\n",
      "\u001b[0;32m/home/sebi/.local/lib/python2.7/site-packages/matplotlib/colorbar.pyc\u001b[0m in \u001b[0;36mcolorbar_factory\u001b[0;34m(cax, mappable, **kwargs)\u001b[0m\n\u001b[1;32m   1397\u001b[0m         \u001b[0mcb\u001b[0m \u001b[0;34m=\u001b[0m \u001b[0mColorbarPatch\u001b[0m\u001b[0;34m(\u001b[0m\u001b[0mcax\u001b[0m\u001b[0;34m,\u001b[0m \u001b[0mmappable\u001b[0m\u001b[0;34m,\u001b[0m \u001b[0;34m**\u001b[0m\u001b[0mkwargs\u001b[0m\u001b[0;34m)\u001b[0m\u001b[0;34m\u001b[0m\u001b[0m\n\u001b[1;32m   1398\u001b[0m     \u001b[0;32melse\u001b[0m\u001b[0;34m:\u001b[0m\u001b[0;34m\u001b[0m\u001b[0m\n\u001b[0;32m-> 1399\u001b[0;31m         \u001b[0mcb\u001b[0m \u001b[0;34m=\u001b[0m \u001b[0mColorbar\u001b[0m\u001b[0;34m(\u001b[0m\u001b[0mcax\u001b[0m\u001b[0;34m,\u001b[0m \u001b[0mmappable\u001b[0m\u001b[0;34m,\u001b[0m \u001b[0;34m**\u001b[0m\u001b[0mkwargs\u001b[0m\u001b[0;34m)\u001b[0m\u001b[0;34m\u001b[0m\u001b[0m\n\u001b[0m\u001b[1;32m   1400\u001b[0m \u001b[0;34m\u001b[0m\u001b[0m\n\u001b[1;32m   1401\u001b[0m     \u001b[0mcid\u001b[0m \u001b[0;34m=\u001b[0m \u001b[0mmappable\u001b[0m\u001b[0;34m.\u001b[0m\u001b[0mcallbacksSM\u001b[0m\u001b[0;34m.\u001b[0m\u001b[0mconnect\u001b[0m\u001b[0;34m(\u001b[0m\u001b[0;34m'changed'\u001b[0m\u001b[0;34m,\u001b[0m \u001b[0mcb\u001b[0m\u001b[0;34m.\u001b[0m\u001b[0mon_mappable_changed\u001b[0m\u001b[0;34m)\u001b[0m\u001b[0;34m\u001b[0m\u001b[0m\n",
      "\u001b[0;32m/home/sebi/.local/lib/python2.7/site-packages/matplotlib/colorbar.pyc\u001b[0m in \u001b[0;36m__init__\u001b[0;34m(self, ax, mappable, **kw)\u001b[0m\n\u001b[1;32m    918\u001b[0m         \u001b[0;31m# Ensure the given mappable's norm has appropriate vmin and vmax set\u001b[0m\u001b[0;34m\u001b[0m\u001b[0;34m\u001b[0m\u001b[0m\n\u001b[1;32m    919\u001b[0m         \u001b[0;31m# even if mappable.draw has not yet been called.\u001b[0m\u001b[0;34m\u001b[0m\u001b[0;34m\u001b[0m\u001b[0m\n\u001b[0;32m--> 920\u001b[0;31m         \u001b[0mmappable\u001b[0m\u001b[0;34m.\u001b[0m\u001b[0mautoscale_None\u001b[0m\u001b[0;34m(\u001b[0m\u001b[0;34m)\u001b[0m\u001b[0;34m\u001b[0m\u001b[0m\n\u001b[0m\u001b[1;32m    921\u001b[0m \u001b[0;34m\u001b[0m\u001b[0m\n\u001b[1;32m    922\u001b[0m         \u001b[0mself\u001b[0m\u001b[0;34m.\u001b[0m\u001b[0mmappable\u001b[0m \u001b[0;34m=\u001b[0m \u001b[0mmappable\u001b[0m\u001b[0;34m\u001b[0m\u001b[0m\n",
      "\u001b[0;31mAttributeError\u001b[0m: 'numpy.ndarray' object has no attribute 'autoscale_None'"
     ]
    }
   ],
   "source": [
    "plt.colorbar(sorted_data)"
   ]
  }
 ],
 "metadata": {
  "kernelspec": {
   "display_name": "Python 2",
   "language": "python",
   "name": "python2"
  },
  "language_info": {
   "codemirror_mode": {
    "name": "ipython",
    "version": 2
   },
   "file_extension": ".py",
   "mimetype": "text/x-python",
   "name": "python",
   "nbconvert_exporter": "python",
   "pygments_lexer": "ipython2",
   "version": "2.7.17"
  }
 },
 "nbformat": 4,
 "nbformat_minor": 2
}
