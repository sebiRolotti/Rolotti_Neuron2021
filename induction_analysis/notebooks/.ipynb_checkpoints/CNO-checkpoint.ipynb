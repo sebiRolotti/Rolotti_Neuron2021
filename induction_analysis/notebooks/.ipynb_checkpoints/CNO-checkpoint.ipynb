{
 "cells": [
  {
   "cell_type": "code",
   "execution_count": 51,
   "metadata": {},
   "outputs": [],
   "source": [
    "%matplotlib widget\n",
    "import matplotlib.pyplot as plt\n",
    "import seaborn as sns\n",
    "sns.set_style(style='ticks')\n",
    "import matplotlib.pyplot as plt\n",
    "import seaborn as sns\n",
    "\n",
    "from lab.classes.dbclasses import dbMouse, dbExperiment\n",
    "from lab.classes import ExperimentGroup\n",
    "\n",
    "import numpy as np\n",
    "\n",
    "from scipy.stats import wilcoxon"
   ]
  },
  {
   "cell_type": "code",
   "execution_count": 37,
   "metadata": {},
   "outputs": [
    {
     "name": "stdout",
     "output_type": "stream",
     "text": [
      "22288 /data/Mohsin/2p/msa0919_2/10_1_19/TSeriesmsa0919_2_10012019_inputoutput-001\n",
      "22284 /data/Mohsin/2p/msa0919_2/10_1_19/TSeriesmsa0919_2_10012019_inputoutput-002\n",
      "22289 /data/Mohsin/2p/msa0919_2/10_1_19/TSeriesmsa0919_2_10012019_inputoutput-003\n",
      "22292 /data/Mohsin/2p/msa0919_2/10_1_19/TSeriesmsa0919_2_10012019_inputoutput-004\n",
      "22291 /data/Mohsin/2p/msa0919_2/10_1_19/TSeriesmsa0919_2_10012019_inputoutput-005\n",
      "22290 /data/Mohsin/2p/msa0919_2/10_1_19/TSeriesmsa0919_2_10012019_inputoutput-006\n",
      "22285 /data/Mohsin/2p/msa0919_2/10_1_19/TSeriesmsa0919_2_10012019_inputoutput-007\n",
      "22287 /data/Mohsin/2p/msa0919_2/10_3_19/TSeriesmsa0919_2_10032019_base-001\n",
      "22349 /data/Mohsin/2p/msa0919_2/10_3_19/TSeriesmsa0919_2_10032019_pre-002\n",
      "22286 /data/Mohsin/2p/msa0919_2/10_3_19/TSeriesmsa0919_2_10032019_induce-003\n",
      "22341 /data/Mohsin/2p/msa0919_2/10_3_19/TSeriesmsa0919_2_10032019_post-004\n",
      "22315 /data/Mohsin/2p/msa0919_2/10_4_19/TSeriesmsa0919_2_10042019_base-001\n",
      "22313 /data/Mohsin/2p/msa0919_2/10_5_19/TSeriesmsa0919_2_10052019_base-001\n",
      "22346 /data/Mohsin/2p/msa0919_2/10_5_19/TSeriesmsa0919_2_10052019_pre-002\n",
      "22311 /data/Mohsin/2p/msa0919_2/10_5_19/TSeriesmsa0919_2_10052019_induce-003\n",
      "22340 /data/Mohsin/2p/msa0919_2/10_5_19/TSeriesmsa0919_2_10052019_post-004\n",
      "22310 /data/Mohsin/2p/msa0919_2/10_6_19/TSeriesmsa0919_2_10062019_base2-001\n",
      "22314 /data/Mohsin/2p/msa0919_2/10_6_19/TSeriesmsa0919_2_10062019_base2extend-002\n",
      "22343 /data/Mohsin/2p/msa0919_2/10_6_19/TSeriesmsa0919_2_10062019_pre-003\n",
      "22317 /data/Mohsin/2p/msa0919_2/10_7_19/TSeriesmsa0919_2_10072019_cno_base-001\n",
      "22345 /data/Mohsin/2p/msa0919_2/10_7_19/TSeriesmsa0919_2_10072019_cno_pre-002\n",
      "22318 /data/Mohsin/2p/msa0919_2/10_7_19/TSeriesmsa0919_2_10072019_cno_induce-003\n",
      "22350 /data/Mohsin/2p/msa0919_2/10_7_19/TSeriesmsa0919_2_10072019_cno_post-004\n",
      "22319 /data/Mohsin/2p/msa0919_2/10_8_19/TSeriesmsa0919_2_10082019_24hpostcno_base-001\n",
      "22342 /data/Mohsin/2p/msa0919_2/10_8_19/TSeriesmsa0919_2_10082019_24hpostcno_pre-002\n",
      "22327 /data/Mohsin/2p/msa0919_2/10_10_19/TSeriesmsa0919_2_10102019_cno_base-001\n",
      "22344 /data/Mohsin/2p/msa0919_2/10_10_19/TSeriesmsa0919_2_10102019_cno_pre-002\n",
      "22326 /data/Mohsin/2p/msa0919_2/10_10_19/TSeriesmsa0919_2_10102019_cno_induce-003\n",
      "22348 /data/Mohsin/2p/msa0919_2/10_10_19/TSeriesmsa0919_2_10102019_cno_post-004\n",
      "22328 /data/Mohsin/2p/msa0919_2/10_11_19/TSeriesmsa0919_2_10112019_24hpostcno_base-001\n",
      "22347 /data/Mohsin/2p/msa0919_2/10_11_19/TSeriesmsa0919_2_10112019_24hpostcno_pre-002\n",
      "22404 /data/Mohsin/2p/msa0919_2/10_17_19/TSeriesmsa0919_2_10172019_zone_base-001\n",
      "22403 /data/Mohsin/2p/msa0919_2/10_17_19/TSeriesmsa0919_2_10172019_zone_pre-002\n",
      "22405 /data/Mohsin/2p/msa0919_2/10_17_19/TSeriesmsa0919_2_10172019_zone_induce-003\n",
      "22402 /data/Mohsin/2p/msa0919_2/10_17_19/TSeriesmsa0919_2_10172019_zone_post-004\n",
      "22407 /data/Mohsin/2p/msa0919_2/10_18_19/TSeriesmsa0919_2_10182019_zone_base-001\n",
      "22406 /data/Mohsin/2p/msa0919_2/10_18_19/TSeriesmsa0919_2_10182019_zone_pre-002\n",
      "22423 /data/Mohsin/2p/msa0919_2/10_19_19/TSeriesmsa0919_2_10192019_zone_cno_base-001\n",
      "22425 /data/Mohsin/2p/msa0919_2/10_19_19/TSeriesmsa0919_2_10192019_zone_cno_pre-002\n",
      "22424 /data/Mohsin/2p/msa0919_2/10_19_19/TSeriesmsa0919_2_10192019_zone_cno_induce-003\n",
      "22422 /data/Mohsin/2p/msa0919_2/10_19_19/TSeriesmsa0919_2_10192019_zone_cno_post-004\n",
      "22428 /data/Mohsin/2p/msa0919_2/10_20_19/TSeriesmsa0919_2_10202019_zone_cno_base-001\n",
      "22427 /data/Mohsin/2p/msa0919_2/10_20_19/TSeriesmsa0919_2_10202019_zone_24h_cno_pre-002\n",
      "22426 /data/Mohsin/2p/msa0919_2/10_20_19/TSeriesmsa0919_2_10202019_zone_24h_cno_base_rpt-003\n",
      "22437 /data/Mohsin/2p/msa0919_2/10_21_19/TSeriesmsa0919_2_10212019_led_base-001\n",
      "22435 /data/Mohsin/2p/msa0919_2/10_21_19/TSeriesmsa0919_2_10212019_led_pre-002\n",
      "22434 /data/Mohsin/2p/msa0919_2/10_21_19/TSeriesmsa0919_2_10212019_led_induce-003\n",
      "22433 /data/Mohsin/2p/msa0919_2/10_21_19/TSeriesmsa0919_2_10212019_led_post-004\n",
      "22438 /data/Mohsin/2p/msa0919_2/10_22_19/TSeriesmsa0919_2_10222019_led_base-001\n",
      "22436 /data/Mohsin/2p/msa0919_2/10_22_19/TSeriesmsa0919_2_10222019_led_pre-002\n",
      "22448 /data/Mohsin/2p/msa0919_2/10_24_19/TSeriesmsa0919_2_10242019_led_cno_base-001\n",
      "22446 /data/Mohsin/2p/msa0919_2/10_24_19/TSeriesmsa0919_2_10242019_led_cno_pre-002\n",
      "22444 /data/Mohsin/2p/msa0919_2/10_24_19/TSeriesmsa0919_2_10242019_led_cno_induce-003\n",
      "22442 /data/Mohsin/2p/msa0919_2/10_24_19/TSeriesmsa0919_2_10242019_led_cno_post-004\n",
      "22443 /data/Mohsin/2p/msa0919_2/10_25_19/TSeriesmsa0919_2_10252019_led_24h_cno_base-001\n",
      "22445 /data/Mohsin/2p/msa0919_2/10_25_19/TSeriesmsa0919_2_10252019_led_24h_cno_pre_rpt-002\n",
      "22447 /data/Mohsin/2p/msa0919_2/10_25_19/TSeriesmsa0919_2_10252019_led_24h_cno_pre-003\n"
     ]
    }
   ],
   "source": [
    "mouse = dbMouse('msa0919_2')\n",
    "expts = mouse.imagingExperiments()\n",
    "\n",
    "for expt in mouse.imagingExperiments():\n",
    "    print expt.trial_id, expt.get('tSeriesDirectory')"
   ]
  },
  {
   "cell_type": "code",
   "execution_count": 44,
   "metadata": {},
   "outputs": [],
   "source": [
    "pre_cno = '/data/Mohsin/2p/msa0919_2/10_5_19/TSeriesmsa0919_2_10052019_base-001'\n",
    "cno = '/data/Mohsin/2p/msa0919_2/10_10_19/TSeriesmsa0919_2_10102019_cno_base-001'\n",
    "post_cno = '/data/Mohsin/2p/msa0919_2/10_11_19/TSeriesmsa0919_2_10112019_24hpostcno_base-001'\n",
    "\n",
    "pre_cno = 22313\n",
    "cno = 22327 \n",
    "post_cno = 22328\n",
    "\n",
    "expts = [dbExperiment(pre_cno), dbExperiment(cno), dbExperiment(post_cno)]"
   ]
  },
  {
   "cell_type": "code",
   "execution_count": 49,
   "metadata": {},
   "outputs": [],
   "source": [
    "frs = []\n",
    "\n",
    "for expt in expts:\n",
    "    \n",
    "    running = expt.runningIntervals(returnBoolList=True)[0]\n",
    "    running = np.where(running)[0]\n",
    "    \n",
    "    spikes = expt.spikes(binary=True)[:, running]\n",
    "    fr = np.nansum(spikes, axis=1) / (len(running) * expt.frame_period())\n",
    "    \n",
    "    frs.append(fr)"
   ]
  },
  {
   "cell_type": "code",
   "execution_count": 54,
   "metadata": {},
   "outputs": [
    {
     "data": {
      "application/vnd.jupyter.widget-view+json": {
       "model_id": "cd64c48959f045da8f70bc828ba108e1",
       "version_major": 2,
       "version_minor": 0
      },
      "text/plain": [
       "FigureCanvasNbAgg()"
      ]
     },
     "metadata": {},
     "output_type": "display_data"
    }
   ],
   "source": [
    "fig = plt.figure()\n",
    "ax = fig.add_subplot(111)\n",
    "\n",
    "# ax.boxplot([x - frs[0] for x in frs]);\n",
    "ax.boxplot(frs)\n",
    "\n",
    "sns.despine()\n",
    "ax.set_xticklabels(['Pre', 'CNO', '24h Post'], fontsize=8)\n",
    "ax.set_ylabel('Spike Rate (Hz)', fontsize=10)\n",
    "ax.set_title('Running during Baseline', fontsize=10)\n",
    "\n",
    "fig.savefig('/home/sebi/plots/ind/cno_fr_baseline_running.pdf')"
   ]
  },
  {
   "cell_type": "code",
   "execution_count": 55,
   "metadata": {},
   "outputs": [
    {
     "name": "stdout",
     "output_type": "stream",
     "text": [
      "Pre vs CNO; p = 2.21058192915e-08\n",
      "CNO vs Post; p = 0.000211910969098\n",
      "Pre vs Post; p = 0.0307867558179\n"
     ]
    }
   ],
   "source": [
    "print 'Pre vs CNO; p = {}'.format(wilcoxon(frs[0], frs[1])[1])\n",
    "print 'CNO vs Post; p = {}'.format(wilcoxon(frs[1], frs[2])[1])\n",
    "print 'Pre vs Post; p = {}'.format(wilcoxon(frs[0], frs[2])[1])"
   ]
  },
  {
   "cell_type": "code",
   "execution_count": 59,
   "metadata": {},
   "outputs": [],
   "source": [
    "# 22346 /data/Mohsin/2p/msa0919_2/10_5_19/TSeriesmsa0919_2_10052019_pre-002\n",
    "# 22344 /data/Mohsin/2p/msa0919_2/10_10_19/TSeriesmsa0919_2_10102019_cno_pre-002\n",
    "# 22347 /data/Mohsin/2p/msa0919_2/10_11_19/TSeriesmsa0919_2_10112019_24hpostcno_pre-002\n",
    "\n",
    "pre_cno = 22346\n",
    "cno = 22344\n",
    "post_cno = 22347\n",
    "\n",
    "expts = [dbExperiment(pre_cno), dbExperiment(cno), dbExperiment(post_cno)]"
   ]
  },
  {
   "cell_type": "code",
   "execution_count": 60,
   "metadata": {},
   "outputs": [],
   "source": [
    "frs = []\n",
    "\n",
    "for expt in expts:\n",
    "    \n",
    "    running = expt.runningIntervals(returnBoolList=True)[0]\n",
    "    nonrunning = np.where(~running)[0]\n",
    "    \n",
    "    spikes = expt.spikes(binary=True)[:, nonrunning]\n",
    "    fr = np.nansum(spikes, axis=1) / (len(nonrunning) * expt.frame_period())\n",
    "    \n",
    "    frs.append(fr)"
   ]
  },
  {
   "cell_type": "code",
   "execution_count": 61,
   "metadata": {},
   "outputs": [
    {
     "data": {
      "application/vnd.jupyter.widget-view+json": {
       "model_id": "1f53b36458a242e79a3c767a52512352",
       "version_major": 2,
       "version_minor": 0
      },
      "text/plain": [
       "FigureCanvasNbAgg()"
      ]
     },
     "metadata": {},
     "output_type": "display_data"
    }
   ],
   "source": [
    "fig = plt.figure()\n",
    "ax = fig.add_subplot(111)\n",
    "\n",
    "# ax.boxplot([x - frs[0] for x in frs]);\n",
    "ax.boxplot(frs)\n",
    "\n",
    "sns.despine()\n",
    "ax.set_xticklabels(['Pre', 'CNO', '24h Post'], fontsize=8)\n",
    "ax.set_ylabel('Spike Rate (Hz)', fontsize=10)\n",
    "ax.set_title('Immobility during PRE', fontsize=10)\n",
    "\n",
    "fig.savefig('/home/sebi/plots/ind/cno_fr_PRE_nonrunning.pdf')"
   ]
  },
  {
   "cell_type": "code",
   "execution_count": 62,
   "metadata": {},
   "outputs": [
    {
     "name": "stdout",
     "output_type": "stream",
     "text": [
      "Pre vs CNO; p = 0.00106128706934\n",
      "CNO vs Post; p = 3.13155046709e-12\n",
      "Pre vs Post; p = 2.65327041647e-05\n"
     ]
    }
   ],
   "source": [
    "print 'Pre vs CNO; p = {}'.format(wilcoxon(frs[0], frs[1])[1])\n",
    "print 'CNO vs Post; p = {}'.format(wilcoxon(frs[1], frs[2])[1])\n",
    "print 'Pre vs Post; p = {}'.format(wilcoxon(frs[0], frs[2])[1])"
   ]
  }
 ],
 "metadata": {
  "kernelspec": {
   "display_name": "Python 2",
   "language": "python",
   "name": "python2"
  },
  "language_info": {
   "codemirror_mode": {
    "name": "ipython",
    "version": 2
   },
   "file_extension": ".py",
   "mimetype": "text/x-python",
   "name": "python",
   "nbconvert_exporter": "python",
   "pygments_lexer": "ipython2",
   "version": "2.7.15+"
  }
 },
 "nbformat": 4,
 "nbformat_minor": 2
}
