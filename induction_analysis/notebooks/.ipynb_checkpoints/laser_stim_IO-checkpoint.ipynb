{
 "cells": [
  {
   "cell_type": "code",
   "execution_count": 21,
   "metadata": {},
   "outputs": [],
   "source": [
    "%matplotlib widget\n",
    "import matplotlib.pyplot as plt\n",
    "import seaborn as sns\n",
    "sns.set_style(style='ticks')\n",
    "import matplotlib.pyplot as plt\n",
    "import seaborn as sns\n",
    "\n",
    "from lab.classes.dbclasses import dbMouse, dbExperiment\n",
    "from lab.classes import ExperimentGroup\n",
    "import lab.analysis.imaging_analysis as ia\n",
    "\n",
    "import numpy as np"
   ]
  },
  {
   "cell_type": "code",
   "execution_count": 153,
   "metadata": {},
   "outputs": [],
   "source": [
    "filepath = '/data/Mohsin/2p/msa0919_2/10_1_19'\n",
    "\n",
    "mouse = dbMouse('msa0919_2')\n",
    "expts = mouse.imagingExperiments()\n",
    "expts = [x for x in expts if x.get('tSeriesDirectory').startswith(filepath)]"
   ]
  },
  {
   "cell_type": "code",
   "execution_count": 154,
   "metadata": {},
   "outputs": [],
   "source": [
    "expts = sorted(expts, key=lambda x: x.attrib['LED_setting'])"
   ]
  },
  {
   "cell_type": "code",
   "execution_count": 155,
   "metadata": {},
   "outputs": [],
   "source": [
    "stims = {}\n",
    "for expt in expts:\n",
    "    try:\n",
    "        stims[expt.totuple()] = (expt.behaviorData()['led_context_pin'][:, 0] / expt.frame_period()).astype(int)\n",
    "    except KeyError:\n",
    "        print expt.trial_id"
   ]
  },
  {
   "cell_type": "code",
   "execution_count": 156,
   "metadata": {},
   "outputs": [],
   "source": [
    "traces = []\n",
    "trace_stds = []\n",
    "\n",
    "diff_means = []\n",
    "diff_stds = []\n",
    "\n",
    "roi_filter = lambda x: 'targeted' in x.tags\n",
    "\n",
    "trace_dict = {}\n",
    "\n",
    "for expt in expts:\n",
    "    \n",
    "    out, _, xranges = ia.PSTH(ExperimentGroup([expt]), [stims[expt.totuple()]], data='raw', z_score=True,\n",
    "                              pre_time=5, post_time=6, label='s2p', roi_filter=roi_filter)\n",
    "    \n",
    "    trace_dict[expt.totuple()] = np.array(out)"
   ]
  },
  {
   "cell_type": "code",
   "execution_count": 162,
   "metadata": {},
   "outputs": [
    {
     "data": {
      "application/vnd.jupyter.widget-view+json": {
       "model_id": "dc525a18ad4c4a79afacf735a0c51d3a",
       "version_major": 2,
       "version_minor": 0
      },
      "text/plain": [
       "FigureCanvasNbAgg()"
      ]
     },
     "metadata": {},
     "output_type": "display_data"
    }
   ],
   "source": [
    "# colors = ['0.8', '0.65', '0.5', '0.35', '0.2', '0.05']\n",
    "colors = [str(x) for x in np.linspace(0.8, 0, 7)]\n",
    "labels = [x.attrib['LED_setting'] for x in expts]\n",
    "\n",
    "cell = 0\n",
    "\n",
    "fig = plt.figure()\n",
    "ax = fig.add_subplot(111)\n",
    "\n",
    "# for trace, trace_std, color, label in zip(traces, trace_stds, colors, labels):\n",
    "for expt, color, label in zip(expts, colors, labels):\n",
    "    trace = trace_dict[expt.totuple()][cell, :]\n",
    "    ax.plot(xranges[0], trace, color=color, label=label)\n",
    "#     ax.fill_between(x=xranges[0], y1=trace - trace_std, y2=trace + trace_std, color=color, alpha=0.2)\n",
    "    \n",
    "# ax.axvspan(0, 1, alpha=0.2, color='red')\n",
    "\n",
    "sns.despine()\n",
    "ax.legend()\n",
    "\n",
    "ax.set_xlabel('Time From Laser Onset (s)', fontsize=10)\n",
    "ax.set_ylabel('Raw Fluorescence (Z-Score)', fontsize=10)\n",
    "\n",
    "ax.set_title('Targeted Stimulation Response', fontsize=10);\n",
    "\n",
    "fig.savefig('/home/sebi/plots/ind/laser_io_psth_cell_{}.pdf'.format(cell))"
   ]
  },
  {
   "cell_type": "code",
   "execution_count": 165,
   "metadata": {},
   "outputs": [
    {
     "data": {
      "application/vnd.jupyter.widget-view+json": {
       "model_id": "b341f28c81324c77b9ad83b5919ccc18",
       "version_major": 2,
       "version_minor": 0
      },
      "text/plain": [
       "FigureCanvasNbAgg()"
      ]
     },
     "metadata": {},
     "output_type": "display_data"
    }
   ],
   "source": [
    "fig = plt.figure()\n",
    "ax = fig.add_subplot(111)\n",
    "\n",
    "sec = int(1 / expt.frame_period())\n",
    "zero = 5 * sec\n",
    "window = 2 * sec\n",
    "\n",
    "for color, cell in zip(['0.8', 'r', '0.2'], xrange(3)):\n",
    "    \n",
    "    for expt, label in zip(expts, labels):\n",
    "        trace = trace_dict[expt.totuple()][cell, :]\n",
    "        diff = np.mean(trace[zero:zero + window]) - np.mean(trace[zero - window:zero])\n",
    "        \n",
    "        if label == 1:\n",
    "            cell_label = 'cell {}'.format(cell)\n",
    "        else:\n",
    "            cell_label = None\n",
    "        ax.plot(label, diff, '.', color=color, ms=12, label=cell_label)\n",
    "\n",
    "sns.despine()\n",
    "ax.set_xlabel('Laser Power (mW)', fontsize=10)\n",
    "ax.set_ylabel('Post - Pre \\n(2s, Raw z-score)', fontsize=10)\n",
    "\n",
    "ax.set_title('Response Curves', fontsize=10)\n",
    "\n",
    "ax.legend()\n",
    "\n",
    "fig.savefig('/home/sebi/plots/ind/laser_io_response_curves.pdf')"
   ]
  },
  {
   "cell_type": "code",
   "execution_count": 181,
   "metadata": {},
   "outputs": [
    {
     "data": {
      "application/vnd.jupyter.widget-view+json": {
       "model_id": "cd1beb5b0f664c04a632729852a6cc48",
       "version_major": 2,
       "version_minor": 0
      },
      "text/plain": [
       "FigureCanvasNbAgg()"
      ]
     },
     "metadata": {},
     "output_type": "display_data"
    }
   ],
   "source": [
    "fig = plt.figure()\n",
    "ax = fig.add_subplot(111)\n",
    "\n",
    "sec = int(1 / expt.frame_period())\n",
    "zero = 5 * sec\n",
    "window = 2 * sec\n",
    "\n",
    "cells = np.array([1, 2])\n",
    "\n",
    "# for color, cell in zip(['0.8', 'r', '0.2'], xrange(3)):\n",
    "cell_means = []\n",
    "cell_stds = []\n",
    "\n",
    "for expt, label in zip(expts, labels):\n",
    "    \n",
    "    trace = trace_dict[expt.totuple()][cells, :]\n",
    "\n",
    "    diffs = np.mean(trace[:, zero:zero + window], axis=1) - np.mean(trace[:, zero - window:zero], axis=1)\n",
    "\n",
    "    cell_means.append(np.mean(diffs))\n",
    "    cell_stds.append(np.std(diffs))\n",
    "      \n",
    "ax.errorbar(labels, cell_means, yerr=cell_stds, color='k', marker='.',\n",
    "           ms=8, capsize=3, capthick=1.5, ls='none')\n",
    "\n",
    "sns.despine()\n",
    "ax.set_xlabel('Laser Power (mW)', fontsize=10)\n",
    "ax.set_ylabel('Post - Pre \\n(2s, Raw z-score)', fontsize=10)\n",
    "\n",
    "# ax.set_title('Response Curve', fontsize=10)\n",
    "\n",
    "fig.savefig('/home/sebi/plots/ind/laser_io_agg_response_curve.pdf')"
   ]
  }
 ],
 "metadata": {
  "kernelspec": {
   "display_name": "Python 2",
   "language": "python",
   "name": "python2"
  },
  "language_info": {
   "codemirror_mode": {
    "name": "ipython",
    "version": 2
   },
   "file_extension": ".py",
   "mimetype": "text/x-python",
   "name": "python",
   "nbconvert_exporter": "python",
   "pygments_lexer": "ipython2",
   "version": "2.7.15+"
  }
 },
 "nbformat": 4,
 "nbformat_minor": 2
}
