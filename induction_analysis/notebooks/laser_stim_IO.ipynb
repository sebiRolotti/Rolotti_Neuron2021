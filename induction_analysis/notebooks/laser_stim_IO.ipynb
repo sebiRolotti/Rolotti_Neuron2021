{
 "cells": [
  {
   "cell_type": "code",
   "execution_count": 115,
   "metadata": {},
   "outputs": [
    {
     "name": "stderr",
     "output_type": "stream",
     "text": [
      "/home/sebi/code/analysis/analysis-scripts/induction_analysis/Analysis/induction_analysis.py:4: UserWarning: \n",
      "This call to matplotlib.use() has no effect because the backend has already\n",
      "been chosen; matplotlib.use() must be called *before* pylab, matplotlib.pyplot,\n",
      "or matplotlib.backends is imported for the first time.\n",
      "\n",
      "The backend was *originally* set to 'module://ipympl.backend_nbagg' by the following code:\n",
      "  File \"/usr/lib/python2.7/runpy.py\", line 174, in _run_module_as_main\n",
      "    \"__main__\", fname, loader, pkg_name)\n",
      "  File \"/usr/lib/python2.7/runpy.py\", line 72, in _run_code\n",
      "    exec code in run_globals\n",
      "  File \"/home/sebi/.local/lib/python2.7/site-packages/ipykernel_launcher.py\", line 16, in <module>\n",
      "    app.launch_new_instance()\n",
      "  File \"/home/sebi/.local/lib/python2.7/site-packages/traitlets/config/application.py\", line 658, in launch_instance\n",
      "    app.start()\n",
      "  File \"/home/sebi/.local/lib/python2.7/site-packages/ipykernel/kernelapp.py\", line 499, in start\n",
      "    self.io_loop.start()\n",
      "  File \"/home/sebi/.local/lib/python2.7/site-packages/tornado/ioloop.py\", line 1073, in start\n",
      "    handler_func(fd_obj, events)\n",
      "  File \"/home/sebi/.local/lib/python2.7/site-packages/tornado/stack_context.py\", line 300, in null_wrapper\n",
      "    return fn(*args, **kwargs)\n",
      "  File \"/home/sebi/.local/lib/python2.7/site-packages/zmq/eventloop/zmqstream.py\", line 456, in _handle_events\n",
      "    self._handle_recv()\n",
      "  File \"/home/sebi/.local/lib/python2.7/site-packages/zmq/eventloop/zmqstream.py\", line 486, in _handle_recv\n",
      "    self._run_callback(callback, msg)\n",
      "  File \"/home/sebi/.local/lib/python2.7/site-packages/zmq/eventloop/zmqstream.py\", line 438, in _run_callback\n",
      "    callback(*args, **kwargs)\n",
      "  File \"/home/sebi/.local/lib/python2.7/site-packages/tornado/stack_context.py\", line 300, in null_wrapper\n",
      "    return fn(*args, **kwargs)\n",
      "  File \"/home/sebi/.local/lib/python2.7/site-packages/ipykernel/kernelbase.py\", line 283, in dispatcher\n",
      "    return self.dispatch_shell(stream, msg)\n",
      "  File \"/home/sebi/.local/lib/python2.7/site-packages/ipykernel/kernelbase.py\", line 233, in dispatch_shell\n",
      "    handler(stream, idents, msg)\n",
      "  File \"/home/sebi/.local/lib/python2.7/site-packages/ipykernel/kernelbase.py\", line 399, in execute_request\n",
      "    user_expressions, allow_stdin)\n",
      "  File \"/home/sebi/.local/lib/python2.7/site-packages/ipykernel/ipkernel.py\", line 208, in do_execute\n",
      "    res = shell.run_cell(code, store_history=store_history, silent=silent)\n",
      "  File \"/home/sebi/.local/lib/python2.7/site-packages/ipykernel/zmqshell.py\", line 537, in run_cell\n",
      "    return super(ZMQInteractiveShell, self).run_cell(*args, **kwargs)\n",
      "  File \"/home/sebi/.local/lib/python2.7/site-packages/IPython/core/interactiveshell.py\", line 2714, in run_cell\n",
      "    interactivity=interactivity, compiler=compiler, result=result)\n",
      "  File \"/home/sebi/.local/lib/python2.7/site-packages/IPython/core/interactiveshell.py\", line 2818, in run_ast_nodes\n",
      "    if self.run_code(code, result):\n",
      "  File \"/home/sebi/.local/lib/python2.7/site-packages/IPython/core/interactiveshell.py\", line 2878, in run_code\n",
      "    exec(code_obj, self.user_global_ns, self.user_ns)\n",
      "  File \"<ipython-input-115-3b0772f47a4b>\", line 1, in <module>\n",
      "    get_ipython().magic(u'matplotlib widget')\n",
      "  File \"/home/sebi/.local/lib/python2.7/site-packages/IPython/core/interactiveshell.py\", line 2160, in magic\n",
      "    return self.run_line_magic(magic_name, magic_arg_s)\n",
      "  File \"/home/sebi/.local/lib/python2.7/site-packages/IPython/core/interactiveshell.py\", line 2081, in run_line_magic\n",
      "    result = fn(*args,**kwargs)\n",
      "  File \"<decorator-gen-105>\", line 2, in matplotlib\n",
      "  File \"/home/sebi/.local/lib/python2.7/site-packages/IPython/core/magic.py\", line 188, in <lambda>\n",
      "    call = lambda f, *a, **k: f(*a, **k)\n",
      "  File \"/home/sebi/.local/lib/python2.7/site-packages/IPython/core/magics/pylab.py\", line 100, in matplotlib\n",
      "    gui, backend = self.shell.enable_matplotlib(args.gui)\n",
      "  File \"/home/sebi/.local/lib/python2.7/site-packages/IPython/core/interactiveshell.py\", line 2966, in enable_matplotlib\n",
      "    pt.activate_matplotlib(backend)\n",
      "  File \"/home/sebi/.local/lib/python2.7/site-packages/IPython/core/pylabtools.py\", line 315, in activate_matplotlib\n",
      "    matplotlib.pyplot.switch_backend(backend)\n",
      "  File \"/home/sebi/.local/lib/python2.7/site-packages/matplotlib/pyplot.py\", line 231, in switch_backend\n",
      "    matplotlib.use(newbackend, warn=False, force=True)\n",
      "  File \"/home/sebi/.local/lib/python2.7/site-packages/matplotlib/__init__.py\", line 1425, in use\n",
      "    reload(sys.modules['matplotlib.backends'])\n",
      "  File \"/home/sebi/.local/lib/python2.7/site-packages/matplotlib/backends/__init__.py\", line 17, in <module>\n",
      "    line for line in traceback.format_stack()\n",
      "\n",
      "\n",
      "  mpl.use('pdf')\n"
     ]
    }
   ],
   "source": [
    "%matplotlib widget\n",
    "import matplotlib.pyplot as plt\n",
    "import seaborn as sns\n",
    "sns.set_style(style='ticks')\n",
    "import matplotlib.pyplot as plt\n",
    "import seaborn as sns\n",
    "\n",
    "from lab.classes.dbclasses import dbMouse, dbExperiment\n",
    "from lab.classes import ExperimentGroup\n",
    "# import lab.analysis.imaging_analysis as ia\n",
    "\n",
    "import numpy as np\n",
    "import pandas as pd\n",
    "\n",
    "import sys\n",
    "sys.path.insert(0, '/home/sebi/code/analysis/analysis-scripts/induction_analysis')\n",
    "from Experiments.IOExperiment import IOExperiment\n",
    "import Analysis.induction_analysis as ia"
   ]
  },
  {
   "cell_type": "code",
   "execution_count": 88,
   "metadata": {},
   "outputs": [],
   "source": [
    "def formatPlot(ax, offset=10):\n",
    "    for axis in ['left', 'right', 'bottom', 'top']:\n",
    "        ax.spines[axis].set_linewidth(2)\n",
    "    ax.tick_params(labelsize=14, width=2, length=4)\n",
    "    sns.despine(ax=ax, offset=offset)\n",
    "    ax.set_xlabel('')\n",
    "    ax.set_ylabel('')"
   ]
  },
  {
   "cell_type": "code",
   "execution_count": 24,
   "metadata": {},
   "outputs": [],
   "source": [
    "mice = ['msa0919_1', 'msa0919_2', 'msa0919_3', 'msa1119_4']\n",
    "expts = []\n",
    "for mouse in mice:\n",
    "    expts.extend(dbMouse(mouse).findall('experiment'))"
   ]
  },
  {
   "cell_type": "code",
   "execution_count": 36,
   "metadata": {},
   "outputs": [],
   "source": [
    "grp  = []\n",
    "\n",
    "stim_file = '/home/sebi/code/analysis/analysis-scripts/induction_analysis/io_mohsin_experiments.csv'\n",
    "with open(stim_file, 'rb') as f:\n",
    "    for line in f:\n",
    "        exp, mark, e_type = line.split(',')\n",
    "        exp = exp.strip(' ')\n",
    "        mark = mark.strip(' ')\n",
    "        \n",
    "        eid = [x.trial_id for x in expts if exp == x.get('tSeriesDirectory')][0]\n",
    "\n",
    "        grp.append(IOExperiment(eid, mark))"
   ]
  },
  {
   "cell_type": "code",
   "execution_count": 38,
   "metadata": {},
   "outputs": [],
   "source": [
    "expts = sorted(grp, key=lambda x: x.attrib['LED_setting'])"
   ]
  },
  {
   "cell_type": "code",
   "execution_count": 42,
   "metadata": {},
   "outputs": [],
   "source": [
    "stims = {}\n",
    "for expt in expts:\n",
    "    try:\n",
    "        stims[expt.totuple()] = (expt.behaviorData()['led_context_pin'][:, 0] / expt.frame_period()).astype(int)\n",
    "    except KeyError:\n",
    "        print expt.trial_id"
   ]
  },
  {
   "cell_type": "code",
   "execution_count": 181,
   "metadata": {},
   "outputs": [],
   "source": [
    "def psth(sig, stim_idx, pre, post, stim_dur):\n",
    "    roi_psth = []\n",
    "    mean = np.nanmean(sig)\n",
    "    std = np.nanstd(sig)\n",
    "    zsig = (sig - mean) / std\n",
    "    for stim_frame in stim_idx:\n",
    "        if stim_frame == 0:\n",
    "            continue\n",
    "        roi_psth.append(zsig[stim_frame - pre:stim_frame + stim_dur + post + 1])\n",
    "    \n",
    "    return np.nanmean(roi_psth, axis = 0)"
   ]
  },
  {
   "cell_type": "code",
   "execution_count": 177,
   "metadata": {},
   "outputs": [],
   "source": [
    "def stim_response(sig, stim_idx, pre, post, stim_dur):\n",
    "    roi_psth = []\n",
    "    mean = np.nanmean(sig)\n",
    "    std = np.nanstd(sig)\n",
    "    zsig = (sig - mean) / std\n",
    "    for stim_frame in stim_idx:\n",
    "        # TODO are cells actually being stimmed at 0?\n",
    "        if stim_frame == 0:\n",
    "            continue\n",
    "#         roi_psth.append(np.hstack([sig[stim_frame - pre:stim_frame],\n",
    "#                                    sig[stim_frame + stim_dur:stim_frame + stim_dur + post + 1]]))\n",
    "        roi_psth.append(np.nanmean(zsig[stim_frame + stim_dur:stim_frame + stim_dur + post + 1]) -\n",
    "                        np.nanmean(zsig[stim_frame - pre:stim_frame]))\n",
    "    \n",
    "    return np.nanmean(roi_psth)\n",
    "    "
   ]
  },
  {
   "cell_type": "code",
   "execution_count": 102,
   "metadata": {},
   "outputs": [],
   "source": [
    "idx = expt.find_targeted_cells()"
   ]
  },
  {
   "cell_type": "code",
   "execution_count": 103,
   "metadata": {},
   "outputs": [
    {
     "data": {
      "text/plain": [
       "[32, 10, 14]"
      ]
     },
     "execution_count": 103,
     "metadata": {},
     "output_type": "execute_result"
    }
   ],
   "source": [
    "def find_targeted_cells(expt, label='s2p'):\n",
    "    expt._time_average = expt.imaging_dataset().time_averages[0, ..., -1]\n",
    "\n",
    "    rois = self.rois(label=label)\n",
    "#     centroids = [self._com(roi) for roi in rois]\n",
    "    dists = [roi.polygons[0].distance()]\n",
    "\n",
    "    idx = [self._closest_cell(centroids, point) for point in self.stim_locations]\n",
    "    return idx"
   ]
  },
  {
   "cell_type": "code",
   "execution_count": 112,
   "metadata": {},
   "outputs": [],
   "source": [
    "from shapely.geometry import Point\n",
    "from sima.ROI import mask2poly\n",
    "\n",
    "def dist_to_target(grp, stim_filter=None):\n",
    "    # Distance of stimmed cells to target\n",
    "    # Everything done in pixel space until final conversion\n",
    "    cell_names = ['Cell_A', 'Cell_B', 'Cell_C']\n",
    "    dists = []\n",
    "    for expt in grp:\n",
    "        rois = expt.rois()\n",
    "        expt._time_average = expt.imaging_dataset().time_averages[0, ..., -1]\n",
    "        spiral_height = expt.spiral_sizes[0] * expt.frame_shape()[2]\n",
    "        \n",
    "        mouse_name = expt.parent.mouse_name\n",
    "        eid = expt.trial_id\n",
    "        \n",
    "        for stim_name, stim_loc in zip(cell_names, expt.stim_locations):\n",
    "\n",
    "            spiral_center = Point(stim_loc)\n",
    "            spiral_footprint = spiral_center.buffer(spiral_height / 2.)\n",
    "\n",
    "            for roi in rois:\n",
    "                # TODO why do we have to transpose here??\n",
    "                roi_poly = mask2poly(ia.binarize_mask(roi).T)\n",
    "\n",
    "                dist = roi_poly.distance(spiral_footprint) * ia.get_microns(expt)[0]\n",
    "\n",
    "                dists.append({'mouse_name': mouse_name,\n",
    "                              'expt_id': eid,\n",
    "                              'cell': stim_name,\n",
    "                              'roi': roi.label,\n",
    "                              'dist': dist})\n",
    "\n",
    "    return pd.DataFrame(dists)"
   ]
  },
  {
   "cell_type": "code",
   "execution_count": 191,
   "metadata": {},
   "outputs": [
    {
     "data": {
      "text/plain": [
       "60"
      ]
     },
     "execution_count": 191,
     "metadata": {},
     "output_type": "execute_result"
    }
   ],
   "source": [
    "grp[-9].LED_setting"
   ]
  },
  {
   "cell_type": "code",
   "execution_count": 193,
   "metadata": {},
   "outputs": [
    {
     "data": {
      "text/plain": [
       "['0000-0077-0365-4080599747994258788',\n",
       " '0000-0066-0345-4080599747994258788',\n",
       " '0000-0330-0095-4080599747994258788',\n",
       " '0000-0327-0409-4080599747994258788',\n",
       " '0000-0343-0425-4080599747994258788',\n",
       " '0000-0314-0418-4080599747994258788']"
      ]
     },
     "execution_count": 193,
     "metadata": {},
     "output_type": "execute_result"
    }
   ],
   "source": [
    "roi_labels"
   ]
  },
  {
   "cell_type": "code",
   "execution_count": 195,
   "metadata": {},
   "outputs": [
    {
     "data": {
      "text/plain": [
       "(0, 5356, 1)"
      ]
     },
     "execution_count": 195,
     "metadata": {},
     "output_type": "execute_result"
    }
   ],
   "source": [
    "expt.imagingData(dFOverF='from_file', roi_filter=roi_filter).shape"
   ]
  },
  {
   "cell_type": "code",
   "execution_count": 201,
   "metadata": {},
   "outputs": [],
   "source": [
    "rois = expt.rois(roi_filter=roi_filter)"
   ]
  },
  {
   "cell_type": "code",
   "execution_count": 202,
   "metadata": {},
   "outputs": [
    {
     "name": "stdout",
     "output_type": "stream",
     "text": [
      "set(['stimmed_Cell_A', 'Cell_A'])\n",
      "set([])\n",
      "set(['stimmed_Cell_C', 'Cell_C'])\n",
      "set([])\n",
      "set([])\n",
      "set(['Cell_B'])\n"
     ]
    }
   ],
   "source": [
    "for r in rois:\n",
    "    print r.tags"
   ]
  },
  {
   "cell_type": "code",
   "execution_count": 200,
   "metadata": {},
   "outputs": [
    {
     "data": {
      "application/vnd.jupyter.widget-view+json": {
       "model_id": "5694b563869d4bb6bb599264b06a4b95",
       "version_major": 2,
       "version_minor": 0
      },
      "text/plain": [
       "FigureCanvasNbAgg()"
      ]
     },
     "metadata": {},
     "output_type": "display_data"
    }
   ],
   "source": [
    "fig = plt.figure()\n",
    "ax = fig.add_subplot(111)\n",
    "\n",
    "expt = grp[-9]\n",
    "roi_labels = cell_dists.loc[(cell_dists['expt_id'] == expt.trial_id) & (cell_dists['dist'] == 0)]['roi'].tolist()\n",
    "roi_filter = lambda x: x.label in roi_labels\n",
    "\n",
    "sigs = expt.imagingData(dFOverF='from_file', roi_filter=roi_filter)\n",
    "\n",
    "sigs = (sigs - np.nanmean(sigs, axis=1, keepdims=True)) / np.nanstd(sigs, axis=1, keepdims=True)\n",
    "\n",
    "for i, sig in enumerate(sigs):\n",
    "    \n",
    "    ax.plot(sig + 6*i)\n",
    "\n",
    "stims = (expt.behaviorData()['led_context_pin'][:, 0] / expt.frame_period()).astype(int)\n",
    "for stim in stims:\n",
    "    ax.axvline(stim, color='k')"
   ]
  },
  {
   "cell_type": "code",
   "execution_count": 326,
   "metadata": {},
   "outputs": [],
   "source": [
    "data_list = []\n",
    "\n",
    "cell_names = ['Cell_A', 'Cell_B', 'Cell_C']\n",
    "# roi_filter = lambda x: any([cell_name in x.tags for cell_name in ['Cell_A', 'Cell_B', 'Cell_C']])\n",
    "\n",
    "pre_sec = 1\n",
    "post_sec = 0.5\n",
    "stim_sec = 0.5\n",
    "\n",
    "for expt in expts:\n",
    "    \n",
    "    mouse_name = expt.parent.mouse_name\n",
    "    \n",
    "    if expt.get('LED_setting') in [70, 80]:\n",
    "        continue\n",
    "    \n",
    "    stim_dur = int(stim_sec / expt.frame_period())\n",
    "    pre = int(pre_sec / expt.frame_period())\n",
    "    post = int(post_sec / expt.frame_period())\n",
    "    stims = (expt.behaviorData()['led_context_pin'][:, 0] / expt.frame_period()).astype(int)\n",
    "    \n",
    "    for cell in xrange(3):\n",
    "        cell_stims = stims[cell::3]\n",
    "        roi_filter = None\n",
    "#         roi_filter = lambda x: cell_names[cell] in x.tags\n",
    "#         adjacent_labels = cell_dists.loc[(cell_dists['expt_id'] == expt.trial_id) & (cell_dists['cell'] == cell_names[cell]) & (cell_dists['dist'] == 0)]['roi'].tolist()\n",
    "    \n",
    "#         if len(adjacent_labels) == 0:\n",
    "#             print expt.get('tSeriesDirectory'), cell_names[cell]\n",
    "#             continue\n",
    "#         roi_filter = lambda x: x.label in adjacent_labels\n",
    "        \n",
    "        \n",
    "        sigs = expt.imagingData(dFOverF='from_file', roi_filter=roi_filter)[:, :, 0]\n",
    "        rois = expt.rois(roi_filter=roi_filter)\n",
    "        for sig, roi in zip(sigs, rois):\n",
    "            \n",
    "#             if roi.label not in adjacent_labels:\n",
    "#                 continue\n",
    "            rpsth = psth(sig, cell_stims, pre, 2 * post, stim_dur)\n",
    "            for stim_frame in stims:\n",
    "                sig[stim_frame:stim_frame + stim_dur + 1] = np.nan\n",
    "\n",
    "#             response = stim_response(sig, cell_stims, pre, post, stim_dur)\n",
    "            response = stim_response(sig, cell_stims, pre, post, stim_dur)\n",
    "\n",
    "            data_list.append({'expt_id': expt.trial_id,\n",
    "                              'mouse_name': mouse_name,\n",
    "                              'value': response,\n",
    "                              'LED': int(expt.get('LED_setting')),\n",
    "                              'cell': cell_names[cell],\n",
    "                              'roi': roi.label,\n",
    "                              'target': cell_names[cell] in roi.tags,\n",
    "                              'stim': any([x.startswith('stimmed') for x in roi.tags]),\n",
    "                              'psth': rpsth})\n",
    "        \n",
    "df = pd.DataFrame(data_list)\n",
    "df['mouse_cell'] = df['mouse_name'] + df['cell']"
   ]
  },
  {
   "cell_type": "code",
   "execution_count": 345,
   "metadata": {},
   "outputs": [
    {
     "data": {
      "application/vnd.jupyter.widget-view+json": {
       "model_id": "0d75706bfcfa445c99d6d6134d098699",
       "version_major": 2,
       "version_minor": 0
      },
      "text/plain": [
       "FigureCanvasNbAgg()"
      ]
     },
     "metadata": {},
     "output_type": "display_data"
    }
   ],
   "source": [
    "fig = plt.figure()\n",
    "ax = fig.add_subplot(111)\n",
    "plot_df = df.loc[df['target']]\n",
    "\n",
    "\n",
    "# sns.lineplot(y='value', x='LED', hue='mouse_cell', data=df, alpha=0.5, color='0.5', ax=ax)\n",
    "# group_df = df.groupby(['LED', 'mouse_cell'], as_index=False).mean()\n",
    "g = sns.pointplot(y='value', x='LED', data=plot_df, ci='sd', color='k', ax=ax)\n",
    "for l in g.lines:\n",
    "    plt.setp(l,linewidth=1)\n",
    "\n",
    "sns.swarmplot(y='value', x='LED', data=plot_df, color='0.5')\n",
    "\n",
    "pfit = np.polyfit(x=plot_df['LED'].values[:], y=plot_df['value'].values[:], deg=1)\n",
    "x = np.linspace(plot_df['LED'].min(), plot_df['LED'].max(), 2)\n",
    "y = x * pfit[0] + pfit[1]\n",
    "ax.plot([0, 6], y, color='k', zorder=0, ls='--')\n",
    "\n",
    "\n",
    "formatPlot(ax)\n",
    "ax.set_xlabel('Laser Power', fontsize=18)\n",
    "ax.set_ylabel(r'Stim Response ($\\sigma$)', fontsize=18)\n",
    "\n",
    "plt.tight_layout()\n",
    "\n",
    "fig.savefig('/home/sebi/plots/ind/figs3/power_vs_response_all.svg', bbox_inches='tight')"
   ]
  },
  {
   "cell_type": "code",
   "execution_count": 330,
   "metadata": {},
   "outputs": [],
   "source": [
    "merge_df = df.merge(cell_dists, on=['expt_id', 'mouse_name', 'roi', 'cell'])"
   ]
  },
  {
   "cell_type": "code",
   "execution_count": 230,
   "metadata": {},
   "outputs": [],
   "source": [
    "from scipy.stats import binned_statistic, sem"
   ]
  },
  {
   "cell_type": "code",
   "execution_count": 341,
   "metadata": {},
   "outputs": [
    {
     "data": {
      "application/vnd.jupyter.widget-view+json": {
       "model_id": "6a9782d6d48544509ba5d906354efeaf",
       "version_major": 2,
       "version_minor": 0
      },
      "text/plain": [
       "FigureCanvasNbAgg()"
      ]
     },
     "metadata": {},
     "output_type": "display_data"
    }
   ],
   "source": [
    "fig = plt.figure()\n",
    "ax = fig.add_subplot(111)\n",
    "\n",
    "target_df = df.loc[df['target']]\n",
    "\n",
    "colors = sns.cubehelix_palette(7)\n",
    "led_settings = [1, 10, 20, 30, 40, 50, 60]\n",
    "\n",
    "count = 0\n",
    "\n",
    "stim_dur = int(stim_sec / expt.frame_period())\n",
    "pre = int(pre_sec / expt.frame_period())\n",
    "post = int(post_sec / expt.frame_period())\n",
    "\n",
    "T = np.arange(-pre, 2 * post + stim_dur + 1) * expt.frame_period()\n",
    "\n",
    "for led_setting, led_df in target_df.groupby(['LED']):\n",
    "    \n",
    "    led_psth = np.vstack(led_df['psth'])\n",
    "    \n",
    "#     T = np.arange(led_psth.shape[1]) * expt.frame_period() - int(1 / expt.frame_period()) * expt.frame_period()\n",
    "\n",
    "    mean_response = np.nanmean(led_psth, axis=0)\n",
    "    sem_response = sem(led_psth, axis=0)\n",
    "    \n",
    "    color = colors[led_settings.index(led_setting)]\n",
    "    ax.fill_between(T, mean_response - sem_response, mean_response + sem_response, color=color, alpha=0.5, lw=1)\n",
    "    ax.plot(T, mean_response, color=color, label=led_setting, lw=1)\n",
    "\n",
    "formatPlot(ax)\n",
    "ax.legend()\n",
    "\n",
    "ax.set_xlabel('Time From Stim Onset (s)', fontsize=18)\n",
    "ax.set_ylabel(r'Mean Stim Response ($\\sigma$)', fontsize=18)\n",
    "\n",
    "fig.savefig('/home/sebi/plots/ind/figs3/mean_psths.svg', bbox_inches='tight')"
   ]
  },
  {
   "cell_type": "code",
   "execution_count": 284,
   "metadata": {},
   "outputs": [],
   "source": [
    "test = df.loc[df['target']]['psth'].mean()"
   ]
  },
  {
   "cell_type": "code",
   "execution_count": 346,
   "metadata": {},
   "outputs": [
    {
     "data": {
      "application/vnd.jupyter.widget-view+json": {
       "model_id": "9925a6ba855844b0a4c4e5e0125e8f34",
       "version_major": 2,
       "version_minor": 0
      },
      "text/plain": [
       "FigureCanvasNbAgg()"
      ]
     },
     "metadata": {},
     "output_type": "display_data"
    }
   ],
   "source": [
    "fig = plt.figure()\n",
    "ax = fig.add_subplot(111)\n",
    "\n",
    "# sns.lineplot(x='dist', y='value', hue='LED', data=merge_df)\n",
    "\n",
    "# colors = [str(x) for x in np.linspace(0.8, 0.2, 7)]\n",
    "# colors = sns.light_palette('r', 9)[-7:]\n",
    "colors = sns.cubehelix_palette(7)\n",
    "led_settings = [1, 10, 20, 30, 40, 50, 60]\n",
    "\n",
    "count = 0\n",
    "\n",
    "test_df = merge_df.loc[merge_df['dist'] <= 168.5935987978145]\n",
    "max_dist = test_df['dist'].max()\n",
    "\n",
    "for led_setting, led_df in test_df.groupby(['LED']):\n",
    "    \n",
    "    zeros = led_df.loc[led_df['dist'] == 0]\n",
    "    rest = led_df.loc[led_df['dist'] > 0]\n",
    "    values = rest['value'].values[:]\n",
    "    dists = rest['dist'].values[:]\n",
    "    \n",
    "    means, bins, _ = binned_statistic(dists, values,\n",
    "                                          statistic=np.mean,\n",
    "                                          bins=np.linspace(0, max_dist, 21))\n",
    "\n",
    "    stds, bins, _ = binned_statistic(dists, values,\n",
    "                                          statistic=sem,\n",
    "                                          bins=np.linspace(0, max_dist, 21))\n",
    "    \n",
    "    zero_mean = np.nanmean(zeros['value'])\n",
    "    zero_std = sem(zeros['value'])\n",
    "    \n",
    "    means = np.concatenate([[zero_mean], means])\n",
    "    stds = np.concatenate([[zero_std], stds])\n",
    "    plot_bins = np.concatenate([[0], bins + (bins[1] - bins[0]) / 2.])\n",
    "    \n",
    "    ax.errorbar(plot_bins[:-1], means, yerr=0, color=colors[count], label=led_setting, fmt='o-', lw=1)\n",
    "    count += 1\n",
    "    \n",
    "formatPlot(ax)\n",
    "ax.legend()\n",
    "\n",
    "ax.set_xlabel('Distance from Target Cell (um)', fontsize=18)\n",
    "ax.set_ylabel(r'Mean Stim Response ($\\sigma$)', fontsize=18)\n",
    "\n",
    "fig.savefig('/home/sebi/plots/ind/figs3/response_vs_dist.svg', bbox_inches='tight')"
   ]
  },
  {
   "cell_type": "code",
   "execution_count": 43,
   "metadata": {},
   "outputs": [],
   "source": [
    "traces = []\n",
    "trace_stds = []\n",
    "\n",
    "diff_means = []\n",
    "diff_stds = []\n",
    "\n",
    "roi_filter = lambda x: any([cell_name in x.tags for cell_name in ['Cell_A', 'Cell_B', 'Cell_C']])\n",
    "\n",
    "trace_dict = {}\n",
    "\n",
    "for expt in expts:\n",
    "    \n",
    "    stims = (expt.behaviorData()['led_context_pin'][:, 0] / expt.frame_period()).astype(int)\n",
    "    for cell in xrange(2):\n",
    "        \n",
    "        \n",
    "    \n",
    "    out, _, xranges = ia.PSTH(ExperimentGroup([expt]), [stims[expt.totuple()]], data='raw', z_score=True,\n",
    "                              pre_time=5, post_time=6, label='s2p', roi_filter=roi_filter)\n",
    "    \n",
    "    trace_dict[expt.totuple()] = np.array(out)"
   ]
  },
  {
   "cell_type": "code",
   "execution_count": 52,
   "metadata": {},
   "outputs": [
    {
     "data": {
      "text/plain": [
       "'/data/Mohsin/2p/msa0919_2/10_1_19/TSeriesmsa0919_2_10012019_inputoutput-003'"
      ]
     },
     "execution_count": 52,
     "metadata": {},
     "output_type": "execute_result"
    }
   ],
   "source": [
    "expt.get('tSeriesDirectory')"
   ]
  },
  {
   "cell_type": "code",
   "execution_count": 50,
   "metadata": {},
   "outputs": [],
   "source": [
    "for expt in expts:\n",
    "    if trace_dict[expt.totuple()].shape:\n",
    "        break"
   ]
  },
  {
   "cell_type": "code",
   "execution_count": 45,
   "metadata": {},
   "outputs": [
    {
     "data": {
      "application/vnd.jupyter.widget-view+json": {
       "model_id": "",
       "version_major": 2,
       "version_minor": 0
      },
      "text/plain": [
       "FigureCanvasNbAgg()"
      ]
     },
     "metadata": {},
     "output_type": "display_data"
    },
    {
     "ename": "IndexError",
     "evalue": "too many indices for array",
     "output_type": "error",
     "traceback": [
      "\u001b[0;31m---------------------------------------------------------------------------\u001b[0m",
      "\u001b[0;31mIndexError\u001b[0m                                Traceback (most recent call last)",
      "\u001b[0;32m<ipython-input-45-2557ee6872a5>\u001b[0m in \u001b[0;36m<module>\u001b[0;34m()\u001b[0m\n\u001b[1;32m     10\u001b[0m \u001b[0;31m# for trace, trace_std, color, label in zip(traces, trace_stds, colors, labels):\u001b[0m\u001b[0;34m\u001b[0m\u001b[0;34m\u001b[0m\u001b[0m\n\u001b[1;32m     11\u001b[0m \u001b[0;32mfor\u001b[0m \u001b[0mexpt\u001b[0m\u001b[0;34m,\u001b[0m \u001b[0mcolor\u001b[0m\u001b[0;34m,\u001b[0m \u001b[0mlabel\u001b[0m \u001b[0;32min\u001b[0m \u001b[0mzip\u001b[0m\u001b[0;34m(\u001b[0m\u001b[0mexpts\u001b[0m\u001b[0;34m,\u001b[0m \u001b[0mcolors\u001b[0m\u001b[0;34m,\u001b[0m \u001b[0mlabels\u001b[0m\u001b[0;34m)\u001b[0m\u001b[0;34m:\u001b[0m\u001b[0;34m\u001b[0m\u001b[0m\n\u001b[0;32m---> 12\u001b[0;31m     \u001b[0mtrace\u001b[0m \u001b[0;34m=\u001b[0m \u001b[0mtrace_dict\u001b[0m\u001b[0;34m[\u001b[0m\u001b[0mexpt\u001b[0m\u001b[0;34m.\u001b[0m\u001b[0mtotuple\u001b[0m\u001b[0;34m(\u001b[0m\u001b[0;34m)\u001b[0m\u001b[0;34m]\u001b[0m\u001b[0;34m[\u001b[0m\u001b[0mcell\u001b[0m\u001b[0;34m,\u001b[0m \u001b[0;34m:\u001b[0m\u001b[0;34m]\u001b[0m\u001b[0;34m\u001b[0m\u001b[0m\n\u001b[0m\u001b[1;32m     13\u001b[0m     \u001b[0max\u001b[0m\u001b[0;34m.\u001b[0m\u001b[0mplot\u001b[0m\u001b[0;34m(\u001b[0m\u001b[0mxranges\u001b[0m\u001b[0;34m[\u001b[0m\u001b[0;36m0\u001b[0m\u001b[0;34m]\u001b[0m\u001b[0;34m,\u001b[0m \u001b[0mtrace\u001b[0m\u001b[0;34m,\u001b[0m \u001b[0mcolor\u001b[0m\u001b[0;34m=\u001b[0m\u001b[0mcolor\u001b[0m\u001b[0;34m,\u001b[0m \u001b[0mlabel\u001b[0m\u001b[0;34m=\u001b[0m\u001b[0mlabel\u001b[0m\u001b[0;34m)\u001b[0m\u001b[0;34m\u001b[0m\u001b[0m\n\u001b[1;32m     14\u001b[0m \u001b[0;31m#     ax.fill_between(x=xranges[0], y1=trace - trace_std, y2=trace + trace_std, color=color, alpha=0.2)\u001b[0m\u001b[0;34m\u001b[0m\u001b[0;34m\u001b[0m\u001b[0m\n",
      "\u001b[0;31mIndexError\u001b[0m: too many indices for array"
     ]
    }
   ],
   "source": [
    "# colors = ['0.8', '0.65', '0.5', '0.35', '0.2', '0.05']\n",
    "colors = [str(x) for x in np.linspace(0.8, 0, 7)]\n",
    "labels = [x.attrib['LED_setting'] for x in expts]\n",
    "\n",
    "cell = 0\n",
    "\n",
    "fig = plt.figure()\n",
    "ax = fig.add_subplot(111)\n",
    "\n",
    "# for trace, trace_std, color, label in zip(traces, trace_stds, colors, labels):\n",
    "for expt, color, label in zip(expts, colors, labels):\n",
    "    trace = trace_dict[expt.totuple()][cell, :]\n",
    "    ax.plot(xranges[0], trace, color=color, label=label)\n",
    "#     ax.fill_between(x=xranges[0], y1=trace - trace_std, y2=trace + trace_std, color=color, alpha=0.2)\n",
    "    \n",
    "# ax.axvspan(0, 1, alpha=0.2, color='red')\n",
    "\n",
    "sns.despine()\n",
    "ax.legend()\n",
    "\n",
    "ax.set_xlabel('Time From Laser Onset (s)', fontsize=10)\n",
    "ax.set_ylabel('Raw Fluorescence (Z-Score)', fontsize=10)\n",
    "\n",
    "ax.set_title('Targeted Stimulation Response', fontsize=10);\n",
    "\n",
    "# fig.savefig('/home/sebi/plots/ind/laser_io_psth_cell_{}.pdf'.format(cell))"
   ]
  },
  {
   "cell_type": "code",
   "execution_count": 46,
   "metadata": {},
   "outputs": [
    {
     "data": {
      "application/vnd.jupyter.widget-view+json": {
       "model_id": "",
       "version_major": 2,
       "version_minor": 0
      },
      "text/plain": [
       "FigureCanvasNbAgg()"
      ]
     },
     "metadata": {},
     "output_type": "display_data"
    },
    {
     "ename": "IndexError",
     "evalue": "too many indices for array",
     "output_type": "error",
     "traceback": [
      "\u001b[0;31m---------------------------------------------------------------------------\u001b[0m",
      "\u001b[0;31mIndexError\u001b[0m                                Traceback (most recent call last)",
      "\u001b[0;32m<ipython-input-46-7125f6b4843b>\u001b[0m in \u001b[0;36m<module>\u001b[0;34m()\u001b[0m\n\u001b[1;32m      9\u001b[0m \u001b[0;34m\u001b[0m\u001b[0m\n\u001b[1;32m     10\u001b[0m     \u001b[0;32mfor\u001b[0m \u001b[0mexpt\u001b[0m\u001b[0;34m,\u001b[0m \u001b[0mlabel\u001b[0m \u001b[0;32min\u001b[0m \u001b[0mzip\u001b[0m\u001b[0;34m(\u001b[0m\u001b[0mexpts\u001b[0m\u001b[0;34m,\u001b[0m \u001b[0mlabels\u001b[0m\u001b[0;34m)\u001b[0m\u001b[0;34m:\u001b[0m\u001b[0;34m\u001b[0m\u001b[0m\n\u001b[0;32m---> 11\u001b[0;31m         \u001b[0mtrace\u001b[0m \u001b[0;34m=\u001b[0m \u001b[0mtrace_dict\u001b[0m\u001b[0;34m[\u001b[0m\u001b[0mexpt\u001b[0m\u001b[0;34m.\u001b[0m\u001b[0mtotuple\u001b[0m\u001b[0;34m(\u001b[0m\u001b[0;34m)\u001b[0m\u001b[0;34m]\u001b[0m\u001b[0;34m[\u001b[0m\u001b[0mcell\u001b[0m\u001b[0;34m,\u001b[0m \u001b[0;34m:\u001b[0m\u001b[0;34m]\u001b[0m\u001b[0;34m\u001b[0m\u001b[0m\n\u001b[0m\u001b[1;32m     12\u001b[0m         \u001b[0mdiff\u001b[0m \u001b[0;34m=\u001b[0m \u001b[0mnp\u001b[0m\u001b[0;34m.\u001b[0m\u001b[0mmean\u001b[0m\u001b[0;34m(\u001b[0m\u001b[0mtrace\u001b[0m\u001b[0;34m[\u001b[0m\u001b[0mzero\u001b[0m\u001b[0;34m:\u001b[0m\u001b[0mzero\u001b[0m \u001b[0;34m+\u001b[0m \u001b[0mwindow\u001b[0m\u001b[0;34m]\u001b[0m\u001b[0;34m)\u001b[0m \u001b[0;34m-\u001b[0m \u001b[0mnp\u001b[0m\u001b[0;34m.\u001b[0m\u001b[0mmean\u001b[0m\u001b[0;34m(\u001b[0m\u001b[0mtrace\u001b[0m\u001b[0;34m[\u001b[0m\u001b[0mzero\u001b[0m \u001b[0;34m-\u001b[0m \u001b[0mwindow\u001b[0m\u001b[0;34m:\u001b[0m\u001b[0mzero\u001b[0m\u001b[0;34m]\u001b[0m\u001b[0;34m)\u001b[0m\u001b[0;34m\u001b[0m\u001b[0m\n\u001b[1;32m     13\u001b[0m \u001b[0;34m\u001b[0m\u001b[0m\n",
      "\u001b[0;31mIndexError\u001b[0m: too many indices for array"
     ]
    }
   ],
   "source": [
    "fig = plt.figure()\n",
    "ax = fig.add_subplot(111)\n",
    "\n",
    "sec = int(1 / expt.frame_period())\n",
    "zero = 5 * sec\n",
    "window = 2 * sec\n",
    "\n",
    "for color, cell in zip(['0.8', 'r', '0.2'], xrange(3)):\n",
    "    \n",
    "    for expt, label in zip(expts, labels):\n",
    "        trace = trace_dict[expt.totuple()][cell, :]\n",
    "        diff = np.mean(trace[zero:zero + window]) - np.mean(trace[zero - window:zero])\n",
    "        \n",
    "        if label == 1:\n",
    "            cell_label = 'cell {}'.format(cell)\n",
    "        else:\n",
    "            cell_label = None\n",
    "        ax.plot(label, diff, '.', color=color, ms=12, label=cell_label)\n",
    "\n",
    "sns.despine()\n",
    "ax.set_xlabel('Laser Power (mW)', fontsize=10)\n",
    "ax.set_ylabel('Post - Pre \\n(2s, Raw z-score)', fontsize=10)\n",
    "\n",
    "ax.set_title('Response Curves', fontsize=10)\n",
    "\n",
    "ax.legend()\n",
    "\n",
    "# fig.savefig('/home/sebi/plots/ind/laser_io_response_curves.pdf')"
   ]
  },
  {
   "cell_type": "code",
   "execution_count": 181,
   "metadata": {},
   "outputs": [
    {
     "data": {
      "application/vnd.jupyter.widget-view+json": {
       "model_id": "cd1beb5b0f664c04a632729852a6cc48",
       "version_major": 2,
       "version_minor": 0
      },
      "text/plain": [
       "FigureCanvasNbAgg()"
      ]
     },
     "metadata": {},
     "output_type": "display_data"
    }
   ],
   "source": [
    "fig = plt.figure()\n",
    "ax = fig.add_subplot(111)\n",
    "\n",
    "sec = int(1 / expt.frame_period())\n",
    "zero = 5 * sec\n",
    "window = 2 * sec\n",
    "\n",
    "cells = np.array([1, 2])\n",
    "\n",
    "# for color, cell in zip(['0.8', 'r', '0.2'], xrange(3)):\n",
    "cell_means = []\n",
    "cell_stds = []\n",
    "\n",
    "for expt, label in zip(expts, labels):\n",
    "    \n",
    "    trace = trace_dict[expt.totuple()][cells, :]\n",
    "\n",
    "    diffs = np.mean(trace[:, zero:zero + window], axis=1) - np.mean(trace[:, zero - window:zero], axis=1)\n",
    "\n",
    "    cell_means.append(np.mean(diffs))\n",
    "    cell_stds.append(np.std(diffs))\n",
    "      \n",
    "ax.errorbar(labels, cell_means, yerr=cell_stds, color='k', marker='.',\n",
    "           ms=8, capsize=3, capthick=1.5, ls='none')\n",
    "\n",
    "sns.despine()\n",
    "ax.set_xlabel('Laser Power (mW)', fontsize=10)\n",
    "ax.set_ylabel('Post - Pre \\n(2s, Raw z-score)', fontsize=10)\n",
    "\n",
    "# ax.set_title('Response Curve', fontsize=10)\n",
    "\n",
    "fig.savefig('/home/sebi/plots/ind/laser_io_agg_response_curve.pdf')"
   ]
  }
 ],
 "metadata": {
  "kernelspec": {
   "display_name": "Python 2",
   "language": "python",
   "name": "python2"
  },
  "language_info": {
   "codemirror_mode": {
    "name": "ipython",
    "version": 2
   },
   "file_extension": ".py",
   "mimetype": "text/x-python",
   "name": "python",
   "nbconvert_exporter": "python",
   "pygments_lexer": "ipython2",
   "version": "2.7.17"
  }
 },
 "nbformat": 4,
 "nbformat_minor": 2
}
