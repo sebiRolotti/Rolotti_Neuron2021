{
 "cells": [
  {
   "cell_type": "code",
   "execution_count": 1,
   "metadata": {},
   "outputs": [],
   "source": [
    "%matplotlib inline\n",
    "import matplotlib.pyplot as plt\n",
    "import seaborn as sns\n",
    "sns.set_style(style='ticks')\n",
    "import matplotlib.pyplot as plt\n",
    "import seaborn as sns\n",
    "\n",
    "import numpy as np\n",
    "from scipy.ndimage.filters import gaussian_filter1d, gaussian_filter\n",
    "\n",
    "import sys\n",
    "sys.path.insert(0, '../induction_analysis')\n",
    "\n",
    "from lab_repo.classes.dbclasses import dbExperiment, dbMouse\n",
    "from lab_repo.classes.place_cell_classes import pcExperimentGroup\n",
    "\n",
    "from Experiments import LEDExperiment\n",
    "\n",
    "import lab_repo.analysis.place_cell_analysis as pca\n",
    "import lab_repo.analysis.behavior_analysis as ba\n",
    "import lab_repo.analysis.identify_place_fields as idf\n",
    "import lab_repo.analysis.reward_analysis as ra\n",
    "\n",
    "import pandas as pd\n",
    "\n",
    "from scipy.stats import ttest_rel, ttest_ind, ttest_1samp"
   ]
  },
  {
   "cell_type": "code",
   "execution_count": 3,
   "metadata": {},
   "outputs": [],
   "source": [
    "mice = [\"msa0520_4\", \"msa0520_3\", \"msa0520_5\"]\n",
    "mice += [\"msa1020_1\", \"msa1020_2\", \"msa1020_3\", \"msa1020_4\", \"msa1020_5\", \"msa1020_6\", \"msa1020_7\", \"msa1020_8\"] \n",
    "mice += [\"msa0221_6\", \"msa0221_7\", \"msa0221_8\", \"msa0221_9\", \"msa0221_10\"]"
   ]
  },
  {
   "cell_type": "code",
   "execution_count": 4,
   "metadata": {},
   "outputs": [],
   "source": [
    "expts = []\n",
    "for mouse in mice:\n",
    "    expts.extend(dbMouse(mouse).findall('experiment'))\n",
    "\n",
    "expts = [x for x in expts if x.session > 0]"
   ]
  },
  {
   "cell_type": "markdown",
   "metadata": {},
   "source": [
    "## Plotting"
   ]
  },
  {
   "cell_type": "code",
   "execution_count": 46,
   "metadata": {},
   "outputs": [],
   "source": [
    "# Setup\n",
    "from matplotlib import rc\n",
    "plt.rcParams['axes.linewidth'] = 1\n",
    "plt.rcParams['ytick.labelsize'] = 6\n",
    "plt.rcParams['xtick.labelsize'] = 6\n",
    "plt.rcParams['axes.labelsize'] = 7\n",
    "plt.rcParams['boxplot.boxprops.linewidth'] = 1\n",
    "\n",
    "plt.rcParams['pdf.fonttype'] = 42\n",
    "plt.rcParams['ps.fonttype'] = 42\n",
    "plt.rcParams['svg.fonttype'] = 'none'\n",
    "\n",
    "\n",
    "rc('font',**{'family':'sans-serif','sans-serif':['helvetica', 'sans-serif']})\n",
    "plt.rcParams['axes.unicode_minus'] = False\n",
    "\n",
    "def clean(ax, full=False, offset=0):\n",
    "    if full:\n",
    "        sns.despine(ax=ax, left=True, bottom=True, offset=offset)\n",
    "        ax.set_yticks([])\n",
    "        ax.set_xticks([])\n",
    "    else:\n",
    "        sns.despine(ax=ax, offset=offset)"
   ]
  },
  {
   "cell_type": "markdown",
   "metadata": {},
   "source": [
    "## Fraction Licks Near Reward"
   ]
  },
  {
   "cell_type": "code",
   "execution_count": 7,
   "metadata": {},
   "outputs": [],
   "source": [
    "data_dir = '/home/sebi/data/induction/fig4/'\n",
    "save_dir = '/home/sebi/plots/ind/fig4/'"
   ]
  },
  {
   "cell_type": "code",
   "execution_count": 16,
   "metadata": {},
   "outputs": [],
   "source": [
    "df = ra.fractionLicksNearRewardsPerLap(expts, anticipStartCM=-5, anticipEndCM=5, compareStartCM=-97,\n",
    "        compareEndCM=97, fractionColName=\"value\", rewardPositions=None,\n",
    "        exclude_reward=True, exclude_reward_duration=10.0)\n",
    "df.to_pickle(data_dir + 'fraction_licks.pkl')"
   ]
  },
  {
   "cell_type": "code",
   "execution_count": 504,
   "metadata": {},
   "outputs": [],
   "source": [
    "# Total Lick Fraction\n",
    "df = pd.read_pickle(data_dir + 'fraction_licks.pkl')\n",
    "grp_df = df.groupby(['trial', 'belt', 'mouse', 'opsin', 'condition', 'session'], as_index=False).sum()\n",
    "grp_df['value'] = grp_df['anticipLicks'] / grp_df['compareLicks']"
   ]
  },
  {
   "cell_type": "code",
   "execution_count": 484,
   "metadata": {},
   "outputs": [],
   "source": [
    "def opsin_condition(row):\n",
    "    return row['opsin'] + '_' + str(row['condition'])\n",
    "\n",
    "grp_df['opsin_condition'] = grp_df.apply(opsin_condition, axis=1)"
   ]
  },
  {
   "cell_type": "code",
   "execution_count": 226,
   "metadata": {},
   "outputs": [
    {
     "data": {
      "image/png": "[encoded data removed]",
      "text/plain": [
       "<Figure size 400x300 with 1 Axes>"
      ]
     },
     "metadata": {
      "needs_background": "light"
     },
     "output_type": "display_data"
    }
   ],
   "source": [
    "fig = plt.figure(figsize=(2, 1.5), dpi=200)\n",
    "ax = fig.add_subplot(111)\n",
    "\n",
    "color = sns.xkcd_palette(['shamrock'])\n",
    "\n",
    "sns.pointplot(x='session', hue='opsin_condition', y='value', data=grp_df, ax=ax, dodge=True,\n",
    "             marker='o', scale=0.35, err_style='bars', ci=68, lw=2, palette=['0.2', '0.2', color[0], color[0]],\n",
    "             errwidth=0.75, linestyles=['--', '-', '--', '-'], hue_order=['Ctrl_0', 'Ctrl_1', 'Arch_0', 'Arch_1'])\n",
    "\n",
    "clean(ax, offset=4)\n",
    "\n",
    "# tick_labels = ['RZ1\\n (Day 1)', 'RZ1 Cue RZ2\\n (Day 2)', 'RZ2\\n (Day 2)', 'RZ2\\n (Day 3)']\n",
    "tick_labels = ['1', '2', '3', '4', '5', '6']\n",
    "ax.set_xticklabels(tick_labels)\n",
    "ax.set_xlabel('Session')\n",
    "ax.set_ylabel('Fraction Licks Near RZ')\n",
    "\n",
    "ax.set_yticks([0, 0.1, 0.2, 0.3])\n",
    "\n",
    "plt.tight_layout()\n",
    "ax.get_legend().remove()\n",
    "\n",
    "fig.savefig(save_dir + 'licks_near_RZ_total.svg', bbox_inches='tight')"
   ]
  },
  {
   "cell_type": "code",
   "execution_count": 508,
   "metadata": {},
   "outputs": [
    {
     "name": "stderr",
     "output_type": "stream",
     "text": [
      "/home/sebi/.local/lib/python2.7/site-packages/statsmodels-0.9.0-py2.7-linux-x86_64.egg/statsmodels/regression/mixed_linear_model.py:2045: ConvergenceWarning: The MLE may be on the boundary of the parameter space.\n",
      "  warnings.warn(msg, ConvergenceWarning)\n"
     ]
    },
    {
     "name": "stdout",
     "output_type": "stream",
     "text": [
      "                    Mixed Linear Model Regression Results\n",
      "=============================================================================\n",
      "Model:                    MixedLM         Dependent Variable:         value  \n",
      "No. Observations:         84              Method:                     REML   \n",
      "No. Groups:               16              Scale:                      0.0207 \n",
      "Min. group size:          3               Likelihood:                 35.5038\n",
      "Max. group size:          6               Converged:                  Yes    \n",
      "Mean group size:          5.2                                                \n",
      "-----------------------------------------------------------------------------\n",
      "                                   Coef.  Std.Err.   z    P>|z| [0.025 0.975]\n",
      "-----------------------------------------------------------------------------\n",
      "Intercept                           0.089    0.031  2.899 0.004  0.029  0.150\n",
      "C(condition)[T.1]                   0.054    0.043  1.258 0.208 -0.030  0.138\n",
      "C(opsin)[T.Ctrl]                    0.002    0.043  0.051 0.959 -0.081  0.086\n",
      "C(condition)[T.1]:C(opsin)[T.Ctrl] -0.041    0.064 -0.642 0.521 -0.167  0.085\n",
      "Group Var                           0.000    0.013                           \n",
      "=============================================================================\n",
      "\n",
      "-----------\n"
     ]
    },
    {
     "name": "stderr",
     "output_type": "stream",
     "text": [
      "/home/sebi/.local/lib/python2.7/site-packages/statsmodels-0.9.0-py2.7-linux-x86_64.egg/statsmodels/base/model.py:508: ConvergenceWarning: Maximum Likelihood optimization failed to converge. Check mle_retvals\n",
      "  \"Check mle_retvals\", ConvergenceWarning)\n",
      "/home/sebi/.local/lib/python2.7/site-packages/statsmodels-0.9.0-py2.7-linux-x86_64.egg/statsmodels/base/model.py:508: ConvergenceWarning: Maximum Likelihood optimization failed to converge. Check mle_retvals\n",
      "  \"Check mle_retvals\", ConvergenceWarning)\n",
      "/home/sebi/.local/lib/python2.7/site-packages/statsmodels-0.9.0-py2.7-linux-x86_64.egg/statsmodels/base/model.py:508: ConvergenceWarning: Maximum Likelihood optimization failed to converge. Check mle_retvals\n",
      "  \"Check mle_retvals\", ConvergenceWarning)\n",
      "/home/sebi/.local/lib/python2.7/site-packages/statsmodels-0.9.0-py2.7-linux-x86_64.egg/statsmodels/base/model.py:508: ConvergenceWarning: Maximum Likelihood optimization failed to converge. Check mle_retvals\n",
      "  \"Check mle_retvals\", ConvergenceWarning)\n",
      "/home/sebi/.local/lib/python2.7/site-packages/statsmodels-0.9.0-py2.7-linux-x86_64.egg/statsmodels/base/model.py:508: ConvergenceWarning: Maximum Likelihood optimization failed to converge. Check mle_retvals\n",
      "  \"Check mle_retvals\", ConvergenceWarning)\n",
      "/home/sebi/.local/lib/python2.7/site-packages/statsmodels-0.9.0-py2.7-linux-x86_64.egg/statsmodels/regression/mixed_linear_model.py:2026: ConvergenceWarning: Gradient optimization failed.\n",
      "  warnings.warn(msg, ConvergenceWarning)\n",
      "/home/sebi/.local/lib/python2.7/site-packages/statsmodels-0.9.0-py2.7-linux-x86_64.egg/statsmodels/regression/mixed_linear_model.py:2045: ConvergenceWarning: The MLE may be on the boundary of the parameter space.\n",
      "  warnings.warn(msg, ConvergenceWarning)\n",
      "/home/sebi/.local/lib/python2.7/site-packages/statsmodels-0.9.0-py2.7-linux-x86_64.egg/statsmodels/regression/mixed_linear_model.py:2045: ConvergenceWarning: The MLE may be on the boundary of the parameter space.\n",
      "  warnings.warn(msg, ConvergenceWarning)\n"
     ]
    },
    {
     "name": "stdout",
     "output_type": "stream",
     "text": [
      "                    Mixed Linear Model Regression Results\n",
      "=============================================================================\n",
      "Model:                    MixedLM         Dependent Variable:         value  \n",
      "No. Observations:         87              Method:                     REML   \n",
      "No. Groups:               16              Scale:                      0.0203 \n",
      "Min. group size:          3               Likelihood:                 32.9698\n",
      "Max. group size:          6               Converged:                  No     \n",
      "Mean group size:          5.4                                                \n",
      "-----------------------------------------------------------------------------\n",
      "                                   Coef.  Std.Err.   z    P>|z| [0.025 0.975]\n",
      "-----------------------------------------------------------------------------\n",
      "Intercept                           0.170    0.036  4.669 0.000  0.099  0.241\n",
      "C(condition)[T.1]                  -0.012    0.041 -0.282 0.778 -0.092  0.069\n",
      "C(opsin)[T.Ctrl]                   -0.054    0.051 -1.054 0.292 -0.155  0.047\n",
      "C(condition)[T.1]:C(opsin)[T.Ctrl]  0.031    0.064  0.477 0.633 -0.095  0.156\n",
      "Group Var                           0.004    0.033                           \n",
      "=============================================================================\n",
      "\n",
      "-----------\n",
      "                    Mixed Linear Model Regression Results\n",
      "=============================================================================\n",
      "Model:                    MixedLM         Dependent Variable:         value  \n",
      "No. Observations:         87              Method:                     REML   \n",
      "No. Groups:               16              Scale:                      0.0120 \n",
      "Min. group size:          3               Likelihood:                 59.7589\n",
      "Max. group size:          6               Converged:                  Yes    \n",
      "Mean group size:          5.4                                                \n",
      "-----------------------------------------------------------------------------\n",
      "                                   Coef.  Std.Err.   z    P>|z| [0.025 0.975]\n",
      "-----------------------------------------------------------------------------\n",
      "Intercept                           0.081    0.022  3.606 0.000  0.037  0.124\n",
      "C(condition)[T.1]                   0.098    0.032  3.110 0.002  0.036  0.160\n",
      "C(opsin)[T.Ctrl]                   -0.040    0.032 -1.264 0.206 -0.102  0.022\n",
      "C(condition)[T.1]:C(opsin)[T.Ctrl] -0.034    0.048 -0.711 0.477 -0.128  0.060\n",
      "Group Var                           0.000    0.008                           \n",
      "=============================================================================\n",
      "\n",
      "-----------\n"
     ]
    },
    {
     "name": "stderr",
     "output_type": "stream",
     "text": [
      "/home/sebi/.local/lib/python2.7/site-packages/statsmodels-0.9.0-py2.7-linux-x86_64.egg/statsmodels/base/model.py:508: ConvergenceWarning: Maximum Likelihood optimization failed to converge. Check mle_retvals\n",
      "  \"Check mle_retvals\", ConvergenceWarning)\n",
      "/home/sebi/.local/lib/python2.7/site-packages/statsmodels-0.9.0-py2.7-linux-x86_64.egg/statsmodels/base/model.py:508: ConvergenceWarning: Maximum Likelihood optimization failed to converge. Check mle_retvals\n",
      "  \"Check mle_retvals\", ConvergenceWarning)\n",
      "/home/sebi/.local/lib/python2.7/site-packages/statsmodels-0.9.0-py2.7-linux-x86_64.egg/statsmodels/base/model.py:508: ConvergenceWarning: Maximum Likelihood optimization failed to converge. Check mle_retvals\n",
      "  \"Check mle_retvals\", ConvergenceWarning)\n",
      "/home/sebi/.local/lib/python2.7/site-packages/statsmodels-0.9.0-py2.7-linux-x86_64.egg/statsmodels/base/model.py:508: ConvergenceWarning: Maximum Likelihood optimization failed to converge. Check mle_retvals\n",
      "  \"Check mle_retvals\", ConvergenceWarning)\n"
     ]
    },
    {
     "name": "stdout",
     "output_type": "stream",
     "text": [
      "                    Mixed Linear Model Regression Results\n",
      "=============================================================================\n",
      "Model:                    MixedLM         Dependent Variable:         value  \n",
      "No. Observations:         87              Method:                     REML   \n",
      "No. Groups:               16              Scale:                      0.0176 \n",
      "Min. group size:          3               Likelihood:                 39.4788\n",
      "Max. group size:          6               Converged:                  No     \n",
      "Mean group size:          5.4                                                \n",
      "-----------------------------------------------------------------------------\n",
      "                                   Coef.  Std.Err.   z    P>|z| [0.025 0.975]\n",
      "-----------------------------------------------------------------------------\n",
      "Intercept                           0.110    0.033  3.330 0.001  0.045  0.175\n",
      "C(condition)[T.1]                   0.151    0.038  3.948 0.000  0.076  0.226\n",
      "C(opsin)[T.Ctrl]                   -0.001    0.047 -0.012 0.990 -0.092  0.091\n",
      "C(condition)[T.1]:C(opsin)[T.Ctrl] -0.138    0.060 -2.312 0.021 -0.254 -0.021\n",
      "Group Var                           0.003    0.025                           \n",
      "=============================================================================\n",
      "\n",
      "-----------\n",
      "                    Mixed Linear Model Regression Results\n",
      "=============================================================================\n",
      "Model:                    MixedLM         Dependent Variable:         value  \n",
      "No. Observations:         71              Method:                     REML   \n",
      "No. Groups:               13              Scale:                      0.0110 \n",
      "Min. group size:          3               Likelihood:                 49.6672\n",
      "Max. group size:          6               Converged:                  Yes    \n",
      "Mean group size:          5.5                                                \n",
      "-----------------------------------------------------------------------------\n",
      "                                   Coef.  Std.Err.   z    P>|z| [0.025 0.975]\n",
      "-----------------------------------------------------------------------------\n",
      "Intercept                           0.057    0.024  2.362 0.018  0.010  0.104\n",
      "C(condition)[T.1]                   0.045    0.032  1.408 0.159 -0.018  0.107\n",
      "C(opsin)[T.Ctrl]                    0.022    0.037  0.583 0.560 -0.051  0.094\n",
      "C(condition)[T.1]:C(opsin)[T.Ctrl] -0.035    0.052 -0.677 0.498 -0.136  0.066\n",
      "Group Var                           0.000    0.011                           \n",
      "=============================================================================\n",
      "\n",
      "-----------\n",
      "                    Mixed Linear Model Regression Results\n",
      "=============================================================================\n",
      "Model:                    MixedLM         Dependent Variable:         value  \n",
      "No. Observations:         73              Method:                     REML   \n",
      "No. Groups:               13              Scale:                      0.0081 \n",
      "Min. group size:          3               Likelihood:                 56.7954\n",
      "Max. group size:          6               Converged:                  Yes    \n",
      "Mean group size:          5.6                                                \n",
      "-----------------------------------------------------------------------------\n",
      "                                   Coef.  Std.Err.   z    P>|z| [0.025 0.975]\n",
      "-----------------------------------------------------------------------------\n",
      "Intercept                           0.104    0.027  3.903 0.000  0.052  0.156\n",
      "C(condition)[T.1]                   0.051    0.027  1.900 0.057 -0.002  0.104\n",
      "C(opsin)[T.Ctrl]                   -0.003    0.042 -0.078 0.938 -0.086  0.079\n",
      "C(condition)[T.1]:C(opsin)[T.Ctrl] -0.088    0.045 -1.959 0.050 -0.176  0.000\n",
      "Group Var                           0.003    0.022                           \n",
      "=============================================================================\n",
      "\n",
      "-----------\n"
     ]
    },
    {
     "name": "stderr",
     "output_type": "stream",
     "text": [
      "/home/sebi/.local/lib/python2.7/site-packages/statsmodels-0.9.0-py2.7-linux-x86_64.egg/statsmodels/base/model.py:508: ConvergenceWarning: Maximum Likelihood optimization failed to converge. Check mle_retvals\n",
      "  \"Check mle_retvals\", ConvergenceWarning)\n",
      "/home/sebi/.local/lib/python2.7/site-packages/statsmodels-0.9.0-py2.7-linux-x86_64.egg/statsmodels/regression/mixed_linear_model.py:2026: ConvergenceWarning: Gradient optimization failed.\n",
      "  warnings.warn(msg, ConvergenceWarning)\n",
      "/home/sebi/.local/lib/python2.7/site-packages/statsmodels-0.9.0-py2.7-linux-x86_64.egg/statsmodels/regression/mixed_linear_model.py:2045: ConvergenceWarning: The MLE may be on the boundary of the parameter space.\n",
      "  warnings.warn(msg, ConvergenceWarning)\n",
      "/home/sebi/.local/lib/python2.7/site-packages/statsmodels-0.9.0-py2.7-linux-x86_64.egg/statsmodels/regression/mixed_linear_model.py:2045: ConvergenceWarning: The MLE may be on the boundary of the parameter space.\n",
      "  warnings.warn(msg, ConvergenceWarning)\n",
      "/home/sebi/.local/lib/python2.7/site-packages/statsmodels-0.9.0-py2.7-linux-x86_64.egg/statsmodels/regression/mixed_linear_model.py:2045: ConvergenceWarning: The MLE may be on the boundary of the parameter space.\n",
      "  warnings.warn(msg, ConvergenceWarning)\n"
     ]
    }
   ],
   "source": [
    "for sess in range(1, 7):\n",
    "    sub_df = grp_df.loc[grp_df['session'] == sess].dropna(subset=['value'])\n",
    "    md = smf.mixedlm('value ~ C(condition) + C(opsin) + C(condition)*C(opsin)', sub_df, groups=sub_df['mouse'])\n",
    "    print md.fit().summary()\n",
    "    print '-----------'"
   ]
  },
  {
   "cell_type": "markdown",
   "metadata": {},
   "source": [
    "## Relative Licking"
   ]
  },
  {
   "cell_type": "code",
   "execution_count": 25,
   "metadata": {},
   "outputs": [
    {
     "name": "stderr",
     "output_type": "stream",
     "text": [
      "/home/sebi/.local/lib/python2.7/site-packages/ipykernel_launcher.py:16: SettingWithCopyWarning: \n",
      "A value is trying to be set on a copy of a slice from a DataFrame.\n",
      "Try using .loc[row_indexer,col_indexer] = value instead\n",
      "\n",
      "See the caveats in the documentation: http://pandas.pydata.org/pandas-docs/stable/indexing.html#indexing-view-versus-copy\n",
      "  app.launch_new_instance()\n"
     ]
    }
   ],
   "source": [
    "# Subtract each session's performance by that on same session of first condition\n",
    "blocks = []\n",
    "for _, block in grp_df.groupby(['belt', 'mouse', 'session']):\n",
    "    \n",
    "    try:\n",
    "        baseline_value = block.loc[block['condition'] == 0]['value'].values[0]\n",
    "        post_value = block.loc[block['condition'] == 1]['value'].values[0]\n",
    "    except IndexError:\n",
    "        continue\n",
    "    else:\n",
    "        \n",
    "        diff_value = post_value - baseline_value\n",
    "        if np.isnan(diff_value):\n",
    "            continue\n",
    "        \n",
    "        block['diff_value'] = post_value - baseline_value\n",
    "        blocks.append(block)\n",
    "\n",
    "diff_df = pd.concat(blocks).sort_index()"
   ]
  },
  {
   "cell_type": "code",
   "execution_count": 26,
   "metadata": {},
   "outputs": [],
   "source": [
    "def RZ(row):\n",
    "    if row['session'] <= 2:\n",
    "        return 1\n",
    "    elif row['session'] <=4:\n",
    "        return 2\n",
    "    else:\n",
    "        return 3\n",
    "\n",
    "diff_df['rz'] = diff_df.apply(RZ, axis=1)"
   ]
  },
  {
   "cell_type": "code",
   "execution_count": 503,
   "metadata": {},
   "outputs": [
    {
     "data": {
      "image/png": "[encoded data removed]",
      "text/plain": [
       "<Figure size 120x150 with 1 Axes>"
      ]
     },
     "metadata": {
      "needs_background": "light"
     },
     "output_type": "display_data"
    }
   ],
   "source": [
    "fig = plt.figure(figsize=(0.8, 1), dpi=150)\n",
    "ax = fig.add_subplot(111)\n",
    "\n",
    "plot_df = diff_df.loc[diff_df['condition'] == 1]\n",
    "\n",
    "sns.boxplot(y='diff_value', x='rz', hue='opsin', data=plot_df, ax=ax,\n",
    "            whis=[5, 95], showcaps=False, showfliers=False, palette=['0.2', color[0]], order=[1, 2, 3], hue_order=['Ctrl', 'Arch'],\n",
    "            whiskerprops={'linewidth':1})\n",
    "plt.setp(ax.artists, edgecolor='k', linewidth=1)\n",
    "plt.setp(ax.lines, color='k')\n",
    "clean(ax, offset=4)\n",
    "\n",
    "ax.get_legend().remove()\n",
    "ax.set_ylabel(r'$\\Delta$ Fraction RZ Licks')\n",
    "ax.set_xlabel('Reward Zone')\n",
    "# ax.set_xticklabels(['Pre-LED', 'Post-LED'])\n",
    "\n",
    "ax.axhline(0, color='0.5', ls='--', zorder=1000, lw=1)\n",
    "\n",
    "fig.savefig(save_dir + 'grouped_rz_diff_box.svg', bbox_inches='tight')"
   ]
  },
  {
   "cell_type": "code",
   "execution_count": 31,
   "metadata": {},
   "outputs": [
    {
     "name": "stdout",
     "output_type": "stream",
     "text": [
      "Ttest_1sampResult(statistic=0.9735657685675067, pvalue=0.33832346881563824)\n",
      "Ttest_1sampResult(statistic=0.958063867213588, pvalue=0.34326554614849414)\n",
      "Ttest_1sampResult(statistic=1.5265610763269823, pvalue=0.13770412181465516)\n",
      "Ttest_1sampResult(statistic=4.921813829885436, pvalue=1.0952304442662992e-05)\n",
      "Ttest_1sampResult(statistic=-0.5811551205650382, pvalue=0.5667880344172196)\n",
      "Ttest_1sampResult(statistic=2.5809049315750423, pvalue=0.013530479313866273)\n"
     ]
    }
   ],
   "source": [
    "a = plot_df.loc[(plot_df['rz'] == 1) & (plot_df['opsin'] == 'Ctrl')].dropna(subset=['diff_value'])\n",
    "b = plot_df.loc[(plot_df['rz'] == 1) & (plot_df['opsin'] == 'Arch')].dropna(subset=['diff_value'])\n",
    "c = plot_df.loc[(plot_df['rz'] == 2) & (plot_df['opsin'] == 'Ctrl')].dropna(subset=['diff_value'])\n",
    "d = plot_df.loc[(plot_df['rz'] == 2) & (plot_df['opsin'] == 'Arch')].dropna(subset=['diff_value'])\n",
    "e = plot_df.loc[(plot_df['rz'] == 3) & (plot_df['opsin'] == 'Ctrl')].dropna(subset=['diff_value'])\n",
    "f = plot_df.loc[(plot_df['rz'] == 3) & (plot_df['opsin'] == 'Arch')].dropna(subset=['diff_value'])\n",
    "\n",
    "for x in [a, b, c, d, e, f]:\n",
    "    print ttest_1samp(x['diff_value'], 0)"
   ]
  },
  {
   "cell_type": "markdown",
   "metadata": {},
   "source": [
    "## Mean Learning Curves"
   ]
  },
  {
   "cell_type": "code",
   "execution_count": 507,
   "metadata": {},
   "outputs": [
    {
     "name": "stdout",
     "output_type": "stream",
     "text": [
      "0\n",
      "3\n",
      "1\n",
      "4\n",
      "2\n",
      "5\n"
     ]
    },
    {
     "data": {
      "image/png": "[encoded data removed]",
      "text/plain": [
       "<Figure size 200x200 with 6 Axes>"
      ]
     },
     "metadata": {
      "needs_background": "light"
     },
     "output_type": "display_data"
    }
   ],
   "source": [
    "fig = plt.figure(figsize=(1, 1), dpi=200)\n",
    "\n",
    "n_laps=20\n",
    "T = range(n_laps)\n",
    "    \n",
    "n_sessions = 6\n",
    "n_conditions = 2\n",
    "\n",
    "means = np.zeros((n_conditions, n_sessions, n_laps))\n",
    "sems = np.zeros(means.shape)\n",
    "\n",
    "n_rows = 2\n",
    "n_cols = 3\n",
    "\n",
    "opsins = ['Ctrl', 'Arch']\n",
    "\n",
    "for session in xrange(1, n_sessions+1):\n",
    "    \n",
    "    sub_df = df.loc[(df['session'] == session) & (df['opsin'] == 'Arch') & (0 < df['lapNum']) & (df['lapNum'] <= n_laps)]\n",
    "#     sub_df = df.loc[(df['session'] == session) & (df['condition'] == 1) & (0 < df['lapNum']) & (df['lapNum'] <= n_laps)]\n",
    "\n",
    "    for condition in xrange(2):\n",
    "        cond_df = sub_df.loc[sub_df['condition'] == condition]\n",
    "#         cond_df = sub_df.loc[sub_df['opsin'] == opsins[condition]]\n",
    "\n",
    "        cond_mean = cond_df.groupby(['lapNum'])['value'].mean()\n",
    "        cond_sem = cond_df.groupby(['lapNum'])['value'].sem()\n",
    "    \n",
    "        means[condition, session-1, :] = cond_mean\n",
    "        sems[condition, session-1, :] = cond_sem\n",
    "        \n",
    "means = gaussian_filter1d(means, 1, axis=-1)\n",
    "sems = gaussian_filter1d(sems, 1, axis=-1)\n",
    "\n",
    "for i in xrange(1, n_sessions+1):\n",
    "    \n",
    "    idx = np.unravel_index(i-1, (n_rows, n_cols), order='F')\n",
    "    idx = np.ravel_multi_index(idx, (n_rows, n_cols), order='C')\n",
    "    print idx\n",
    "    \n",
    "    ax = fig.add_subplot(n_rows, n_cols, idx+1)\n",
    "    \n",
    "    ax.plot(T, means[0, i-1, :], 'g', lw=1, ls='--')\n",
    "    ax.fill_between(T, means[0, i-1, :] - sems[0, i-1, :], means[0, i-1, :] + sems[0, i-1, :], color='k', alpha=0.2, lw=0)\n",
    "    \n",
    "    ax.plot(T, means[1, i-1, :], color=color[0], lw=1)\n",
    "    ax.fill_between(T, means[1, i-1, :] - sems[1, i-1, :], means[1, i-1, :] + sems[1, i-1, :], color='g', alpha=0.2, lw=0)\n",
    "    \n",
    "    ax.set_ylim([0, 0.8])\n",
    "    clean(ax)\n",
    "    \n",
    "    if i in [2, 4, 6]:\n",
    "        ax.set_xlabel('Lap #')\n",
    "    ax.legend().set_visible(False)\n",
    "    \n",
    "    ax.axhline(0.25, color='0.5', alpha=0.5, lw=0.5, ls='--')\n",
    "    ax.axhline(0.5, color='0.5', alpha=0.5, lw=0.5, ls='--')\n",
    "\n",
    "    \n",
    "    if i == 1:\n",
    "        ax.set_ylabel('Fraction Licks Near RZ')\n",
    "        sns.despine(left=False, ax=ax, offset=4)\n",
    "        ax.set_yticks([0, 0.25, 0.5])\n",
    "        ax.set_yticklabels(['0', '', '0.5'])\n",
    "    elif i == 2:\n",
    "        sns.despine(left=False, ax=ax, offset=4)\n",
    "        ax.set_yticks([0, 0.25, 0.5])\n",
    "        ax.set_yticklabels(['0', '', '0.5'])\n",
    "    else:\n",
    "        ax.set_ylabel('')\n",
    "        ax.set_yticks([])\n",
    "        sns.despine(left=True, ax=ax, offset=4)\n",
    "    \n",
    "    if i == 2:\n",
    "        ax.axvspan(5, 9, color='r', alpha=0.2, lw=0)\n",
    "        ax.set_xticks([0, 5, 9, 19])\n",
    "#         ax.set_xticklabels(['1', '6', '10', '20'])\n",
    "        ax.set_xticklabels(['1', '', '', '20'])\n",
    "    else:\n",
    "        ax.set_xticks([0, 19])\n",
    "        ax.set_xticklabels(['1', '20'])\n",
    "\n",
    "    \n",
    "# plt.tight_layout()\n",
    "fig.savefig(save_dir + 'fraction_licks_per_lap.svg')"
   ]
  },
  {
   "cell_type": "markdown",
   "metadata": {},
   "source": [
    "## Full Lick Raster"
   ]
  },
  {
   "cell_type": "code",
   "execution_count": 263,
   "metadata": {},
   "outputs": [],
   "source": [
    "def get_anticipatory_licks(bd, abspos, n_laps=20, exclude_reward_duration=10):\n",
    "    \n",
    "    laps = abspos.astype(int)\n",
    "    licks = bd['licking']\n",
    "    \n",
    "    for i in xrange(1, n_laps+1):\n",
    "\n",
    "        numExcPoints = np.int(np.float(\n",
    "            exclude_reward_duration) / bd[\"samplingInterval\"])\n",
    "        try:\n",
    "            firstWater = np.where((laps==i) & bd[\"water\"])[0]\n",
    "            if(firstWater.size > 0):\n",
    "                firstWater = firstWater[0]\n",
    "                licks[firstWater+1:firstWater +\n",
    "                          numExcPoints] = 0\n",
    "        except KeyError:\n",
    "            pass\n",
    "    \n",
    "    return licks"
   ]
  },
  {
   "cell_type": "code",
   "execution_count": 322,
   "metadata": {},
   "outputs": [],
   "source": [
    "arch_expts = [x for x in expts if x.opsin == 'Arch']"
   ]
  },
  {
   "cell_type": "code",
   "execution_count": 495,
   "metadata": {},
   "outputs": [
    {
     "data": {
      "image/png": "[encoded data removed]",
      "text/plain": [
       "<Figure size 160x600 with 1 Axes>"
      ]
     },
     "metadata": {
      "needs_background": "light"
     },
     "output_type": "display_data"
    }
   ],
   "source": [
    "## Lick raster?\n",
    "fig = plt.figure(figsize=(0.8, 3), dpi=200)\n",
    "ax = fig.add_subplot(111)\n",
    "\n",
    "expt_subset = arch_expts[-198:-192]\n",
    "\n",
    "def calc_raster(expt, n_bins=100, n_laps=20, spacing=1, start_lap=1):\n",
    "\n",
    "    bd = expt.behaviorData(\n",
    "        imageSync=False, sampling_interval=\"actual\")\n",
    "\n",
    "    abspos = ba.absolutePosition(expt.find('trial'), imageSync=False, sampling_interval=\"actual\")\n",
    "    pos = ((abspos % 1) * n_bins).astype(int) # relative position rounded to two decimals\n",
    "    laps = abspos.astype(int)\n",
    "\n",
    "    n_lap_display = n_laps\n",
    "    spacing = spacing + 1\n",
    "\n",
    "    raster = np.zeros((n_lap_display*spacing, n_bins))\n",
    "    \n",
    "    licking = get_anticipatory_licks(bd, abspos)\n",
    "\n",
    "#     lick_idx = np.where(bd['licking'])[0]\n",
    "    lick_idx = np.where(licking)[0]\n",
    "    for lick_i in lick_idx:\n",
    "        lap = laps[lick_i]\n",
    "        if lap < start_lap:\n",
    "            continue\n",
    "        elif (lap - start_lap) >= n_laps:\n",
    "            break\n",
    "        lick_pos = pos[lick_i]\n",
    "        raster[(lap-start_lap)*spacing, lick_pos] += 1\n",
    "        \n",
    "    return raster\n",
    "        \n",
    "rasters = np.vstack([calc_raster(expt) for expt in expt_subset])\n",
    "    \n",
    "sns.heatmap(rasters, vmax=1, cmap='Greys', cbar=False)\n",
    "\n",
    "# clean(ax)\n",
    "ax.set_xlim([int(-.01*n_bins), int(1.01 * n_bins)])\n",
    "ax.set_xticks([0, int(n_bins/2), n_bins-1])\n",
    "ax.set_xticklabels([0, 0.5, 1], rotation=0)\n",
    "# ax.set_yticks([0 +0.5, n_lap_display * spacing - 2 + 0.5])\n",
    "ax.set_yticks([(n_lap_display * spacing * ei) - 1 for ei in xrange(len(expt_subset) + 1)])\n",
    "ax.set_yticklabels([])\n",
    "# ax.set_yticklabels([1, n_lap_display], rotation=0)\n",
    "# ax.set_ylim([-0.5, n_lap_display * spacing -0.5])\n",
    "# ax.set_ylim([n_lap_display * spacing -0.5, -0.5])\n",
    "\n",
    "# ax.axvline(expt.rewardPositions(units='normalized')[0] * n_bins, color='b', lw=1, alpha=0.5)\n",
    "\n",
    "for ei, expt in enumerate(expt_subset):\n",
    "    ax.axhline(n_lap_display*spacing*ei - 1, color='0.5', alpha=0.5, lw=0.5)\n",
    "    ax.vlines(expt.rewardPositions(units='normalized')[0] * n_bins,\n",
    "             n_lap_display*spacing*ei, n_lap_display*spacing*(ei+1) - 1, color='b', lw=0.5, alpha=0.5)\n",
    "    \n",
    "    if ei == 1:\n",
    "        ax.vlines(expt_subset[2].rewardPositions(units='normalized')[0] * n_bins,\n",
    "                    (n_lap_display*ei + 5)*spacing, (n_lap_display*ei + 10)*spacing, color='r', lw=0.5, alpha=0.5)\n",
    "\n",
    "for _, spine in ax.spines.items():\n",
    "    spine.set_visible(True)\n",
    "    \n",
    "ax.set_title('Lick Raster')\n",
    "ax.set_xlabel('Normalized Position')\n",
    "ax.set_ylabel('Laps')\n",
    "\n",
    "fig.savefig(save_dir + 'example_raster.svg')"
   ]
  },
  {
   "cell_type": "markdown",
   "metadata": {},
   "source": [
    "## Fraction of licks near RZ2"
   ]
  },
  {
   "cell_type": "code",
   "execution_count": 259,
   "metadata": {},
   "outputs": [],
   "source": [
    "df = ra.fractionLicksNearRZ2PerLap(expts, anticipStartCM=-5, anticipEndCM=5, compareStartCM=-97,\n",
    "        compareEndCM=97, fractionColName=\"value\",\n",
    "        exclude_reward=True, exclude_reward_duration=10.0)"
   ]
  },
  {
   "cell_type": "code",
   "execution_count": 426,
   "metadata": {},
   "outputs": [],
   "source": [
    "df.to_pickle(data_dir + 'fraction_licks_rz2.pkl')"
   ]
  },
  {
   "cell_type": "code",
   "execution_count": 478,
   "metadata": {},
   "outputs": [],
   "source": [
    "df = pd.read_pickle(data_dir + 'fraction_licks_rz2.pkl')"
   ]
  },
  {
   "cell_type": "code",
   "execution_count": 479,
   "metadata": {},
   "outputs": [],
   "source": [
    "grp_df = df.groupby(['trial', 'belt', 'mouse', 'opsin', 'condition', 'session'], as_index=False).sum()\n",
    "grp_df['value'] = grp_df['anticipLicks'] / grp_df['compareLicks']\n",
    "def opsin_condition(row):\n",
    "    return row['opsin'] + '_' + str(row['condition'])\n",
    "\n",
    "grp_df['opsin_condition'] = grp_df.apply(opsin_condition, axis=1)"
   ]
  },
  {
   "cell_type": "code",
   "execution_count": 428,
   "metadata": {},
   "outputs": [
    {
     "data": {
      "image/png": "[encoded data removed]",
      "text/plain": [
       "<Figure size 400x300 with 1 Axes>"
      ]
     },
     "metadata": {
      "needs_background": "light"
     },
     "output_type": "display_data"
    }
   ],
   "source": [
    "fig = plt.figure(figsize=(2, 1.5), dpi=200)\n",
    "ax = fig.add_subplot(111)\n",
    "\n",
    "color = sns.xkcd_palette(['shamrock'])\n",
    "\n",
    "sns.pointplot(x='session', hue='opsin_condition', y='value', data=grp_df, ax=ax, dodge=True,\n",
    "             marker='o', scale=0.35, err_style='bars', ci=68, lw=2, palette=['0.2', '0.2', color[0], color[0]],\n",
    "             errwidth=0.75, linestyles=['--', '-', '--', '-'], hue_order=['Ctrl_0', 'Ctrl_1', 'Arch_0', 'Arch_1'])\n",
    "\n",
    "clean(ax, offset=4)\n",
    "\n",
    "# tick_labels = ['RZ1\\n (Day 1)', 'RZ1 Cue RZ2\\n (Day 2)', 'RZ2\\n (Day 2)', 'RZ2\\n (Day 3)']\n",
    "tick_labels = ['1', '2', '3', '4', '5', '6']\n",
    "ax.set_xticklabels(tick_labels)\n",
    "ax.set_xlabel('Session')\n",
    "ax.set_ylabel('Fraction Licks Near RZ2')\n",
    "\n",
    "ax.set_yticks([0, 0.1, 0.2, 0.3])\n",
    "\n",
    "plt.tight_layout()\n",
    "ax.get_legend().remove()\n",
    "\n",
    "# fig.savefig(save_dir + 'licks_near_RZ_total.svg', bbox_inches='tight')"
   ]
  },
  {
   "cell_type": "code",
   "execution_count": 485,
   "metadata": {},
   "outputs": [
    {
     "name": "stderr",
     "output_type": "stream",
     "text": [
      "/home/sebi/.local/lib/python2.7/site-packages/ipykernel_launcher.py:2: SettingWithCopyWarning: \n",
      "A value is trying to be set on a copy of a slice from a DataFrame.\n",
      "Try using .loc[row_indexer,col_indexer] = value instead\n",
      "\n",
      "See the caveats in the documentation: http://pandas.pydata.org/pandas-docs/stable/indexing.html#indexing-view-versus-copy\n",
      "  \n",
      "/home/sebi/.local/lib/python2.7/site-packages/ipykernel_launcher.py:5: SettingWithCopyWarning: \n",
      "A value is trying to be set on a copy of a slice from a DataFrame.\n",
      "Try using .loc[row_indexer,col_indexer] = value instead\n",
      "\n",
      "See the caveats in the documentation: http://pandas.pydata.org/pandas-docs/stable/indexing.html#indexing-view-versus-copy\n",
      "  \"\"\"\n"
     ]
    }
   ],
   "source": [
    "a = grp_df.loc[grp_df['session'] == 2]\n",
    "a['rz'] = 1\n",
    "\n",
    "b = rz2_df.loc[rz2_df['session'] == 2]\n",
    "b['rz'] = 2\n",
    "\n",
    "df = pd.concat([a, b])"
   ]
  },
  {
   "cell_type": "code",
   "execution_count": 496,
   "metadata": {},
   "outputs": [
    {
     "data": {
      "image/png": "[encoded data removed]",
      "text/plain": [
       "<Figure size 200x300 with 1 Axes>"
      ]
     },
     "metadata": {
      "needs_background": "light"
     },
     "output_type": "display_data"
    }
   ],
   "source": [
    "fig = plt.figure(figsize=(1, 1.5), dpi=200)\n",
    "ax = fig.add_subplot(111)\n",
    "\n",
    "color = sns.xkcd_palette(['shamrock'])\n",
    "\n",
    "sns.pointplot(x='rz', hue='opsin_condition', y='value', data=df, ax=ax, dodge=0.4,\n",
    "             marker='o', scale=0.25, err_style='bars', ci=68, lw=1, palette=['0.2', '0.2', color[0], color[0]],\n",
    "             errwidth=0.75, linestyles=['--', '-', '--', '-'], hue_order=['Ctrl_0', 'Ctrl_1', 'Arch_0', 'Arch_1'])\n",
    "\n",
    "clean(ax, offset=4)\n",
    "\n",
    "# tick_labels = ['RZ1\\n (Day 1)', 'RZ1 Cue RZ2\\n (Day 2)', 'RZ2\\n (Day 2)', 'RZ2\\n (Day 3)']\n",
    "tick_labels = ['RZ1', 'RZ2\\n(SZ)']\n",
    "ax.set_xticklabels(tick_labels)\n",
    "ax.set_xlabel('')\n",
    "ax.set_ylabel('Fraction Licks Near Zone')\n",
    "# ax.set_title('Session 2\\n(Post-Stim)')\n",
    "\n",
    "ax.set_yticks([0, 0.1, 0.2])\n",
    "\n",
    "plt.tight_layout()\n",
    "ax.get_legend().remove()\n",
    "\n",
    "fig.savefig(save_dir + 'rz1_rz2_comparison.svg')"
   ]
  }
 ],
 "metadata": {
  "kernelspec": {
   "display_name": "Python 2",
   "language": "python",
   "name": "python2"
  },
  "language_info": {
   "codemirror_mode": {
    "name": "ipython",
    "version": 2
   },
   "file_extension": ".py",
   "mimetype": "text/x-python",
   "name": "python",
   "nbconvert_exporter": "python",
   "pygments_lexer": "ipython2",
   "version": "2.7.17"
  }
 },
 "nbformat": 4,
 "nbformat_minor": 4
}
