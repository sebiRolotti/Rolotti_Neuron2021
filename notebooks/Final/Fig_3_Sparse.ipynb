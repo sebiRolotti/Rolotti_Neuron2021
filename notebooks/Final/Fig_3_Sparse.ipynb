{
 "cells": [
  {
   "cell_type": "code",
   "execution_count": 1,
   "metadata": {
    "collapsed": true,
    "jupyter": {
     "outputs_hidden": true
    }
   },
   "outputs": [
    {
     "name": "stderr",
     "output_type": "stream",
     "text": [
      "/home/sebi/code/analysis/analysis-scripts/induction_analysis/Analysis/induction_analysis.py:4: UserWarning: \n",
      "This call to matplotlib.use() has no effect because the backend has already\n",
      "been chosen; matplotlib.use() must be called *before* pylab, matplotlib.pyplot,\n",
      "or matplotlib.backends is imported for the first time.\n",
      "\n",
      "The backend was *originally* set to 'module://ipykernel.pylab.backend_inline' by the following code:\n",
      "  File \"/usr/lib/python2.7/runpy.py\", line 174, in _run_module_as_main\n",
      "    \"__main__\", fname, loader, pkg_name)\n",
      "  File \"/usr/lib/python2.7/runpy.py\", line 72, in _run_code\n",
      "    exec code in run_globals\n",
      "  File \"/home/sebi/.local/lib/python2.7/site-packages/ipykernel_launcher.py\", line 16, in <module>\n",
      "    app.launch_new_instance()\n",
      "  File \"/home/sebi/.local/lib/python2.7/site-packages/traitlets/config/application.py\", line 658, in launch_instance\n",
      "    app.start()\n",
      "  File \"/home/sebi/.local/lib/python2.7/site-packages/ipykernel/kernelapp.py\", line 499, in start\n",
      "    self.io_loop.start()\n",
      "  File \"/home/sebi/.local/lib/python2.7/site-packages/tornado/ioloop.py\", line 1073, in start\n",
      "    handler_func(fd_obj, events)\n",
      "  File \"/home/sebi/.local/lib/python2.7/site-packages/tornado/stack_context.py\", line 300, in null_wrapper\n",
      "    return fn(*args, **kwargs)\n",
      "  File \"/home/sebi/.local/lib/python2.7/site-packages/zmq/eventloop/zmqstream.py\", line 456, in _handle_events\n",
      "    self._handle_recv()\n",
      "  File \"/home/sebi/.local/lib/python2.7/site-packages/zmq/eventloop/zmqstream.py\", line 486, in _handle_recv\n",
      "    self._run_callback(callback, msg)\n",
      "  File \"/home/sebi/.local/lib/python2.7/site-packages/zmq/eventloop/zmqstream.py\", line 438, in _run_callback\n",
      "    callback(*args, **kwargs)\n",
      "  File \"/home/sebi/.local/lib/python2.7/site-packages/tornado/stack_context.py\", line 300, in null_wrapper\n",
      "    return fn(*args, **kwargs)\n",
      "  File \"/home/sebi/.local/lib/python2.7/site-packages/ipykernel/kernelbase.py\", line 283, in dispatcher\n",
      "    return self.dispatch_shell(stream, msg)\n",
      "  File \"/home/sebi/.local/lib/python2.7/site-packages/ipykernel/kernelbase.py\", line 233, in dispatch_shell\n",
      "    handler(stream, idents, msg)\n",
      "  File \"/home/sebi/.local/lib/python2.7/site-packages/ipykernel/kernelbase.py\", line 399, in execute_request\n",
      "    user_expressions, allow_stdin)\n",
      "  File \"/home/sebi/.local/lib/python2.7/site-packages/ipykernel/ipkernel.py\", line 208, in do_execute\n",
      "    res = shell.run_cell(code, store_history=store_history, silent=silent)\n",
      "  File \"/home/sebi/.local/lib/python2.7/site-packages/ipykernel/zmqshell.py\", line 537, in run_cell\n",
      "    return super(ZMQInteractiveShell, self).run_cell(*args, **kwargs)\n",
      "  File \"/home/sebi/.local/lib/python2.7/site-packages/IPython/core/interactiveshell.py\", line 2714, in run_cell\n",
      "    interactivity=interactivity, compiler=compiler, result=result)\n",
      "  File \"/home/sebi/.local/lib/python2.7/site-packages/IPython/core/interactiveshell.py\", line 2818, in run_ast_nodes\n",
      "    if self.run_code(code, result):\n",
      "  File \"/home/sebi/.local/lib/python2.7/site-packages/IPython/core/interactiveshell.py\", line 2878, in run_code\n",
      "    exec(code_obj, self.user_global_ns, self.user_ns)\n",
      "  File \"<ipython-input-1-454fb99a1c0e>\", line 1, in <module>\n",
      "    get_ipython().magic(u'matplotlib inline')\n",
      "  File \"/home/sebi/.local/lib/python2.7/site-packages/IPython/core/interactiveshell.py\", line 2160, in magic\n",
      "    return self.run_line_magic(magic_name, magic_arg_s)\n",
      "  File \"/home/sebi/.local/lib/python2.7/site-packages/IPython/core/interactiveshell.py\", line 2081, in run_line_magic\n",
      "    result = fn(*args,**kwargs)\n",
      "  File \"<decorator-gen-105>\", line 2, in matplotlib\n",
      "  File \"/home/sebi/.local/lib/python2.7/site-packages/IPython/core/magic.py\", line 188, in <lambda>\n",
      "    call = lambda f, *a, **k: f(*a, **k)\n",
      "  File \"/home/sebi/.local/lib/python2.7/site-packages/IPython/core/magics/pylab.py\", line 100, in matplotlib\n",
      "    gui, backend = self.shell.enable_matplotlib(args.gui)\n",
      "  File \"/home/sebi/.local/lib/python2.7/site-packages/IPython/core/interactiveshell.py\", line 2966, in enable_matplotlib\n",
      "    pt.activate_matplotlib(backend)\n",
      "  File \"/home/sebi/.local/lib/python2.7/site-packages/IPython/core/pylabtools.py\", line 315, in activate_matplotlib\n",
      "    matplotlib.pyplot.switch_backend(backend)\n",
      "  File \"/home/sebi/.local/lib/python2.7/site-packages/matplotlib/pyplot.py\", line 231, in switch_backend\n",
      "    matplotlib.use(newbackend, warn=False, force=True)\n",
      "  File \"/home/sebi/.local/lib/python2.7/site-packages/matplotlib/__init__.py\", line 1425, in use\n",
      "    reload(sys.modules['matplotlib.backends'])\n",
      "  File \"/home/sebi/.local/lib/python2.7/site-packages/matplotlib/backends/__init__.py\", line 17, in <module>\n",
      "    line for line in traceback.format_stack()\n",
      "\n",
      "\n",
      "  mpl.use('pdf')\n"
     ]
    }
   ],
   "source": [
    "%matplotlib inline\n",
    "import matplotlib.pyplot as plt\n",
    "import seaborn as sns\n",
    "sns.set_style(style='ticks')\n",
    "import matplotlib.pyplot as plt\n",
    "import seaborn as sns\n",
    "\n",
    "import sys\n",
    "sys.path.insert(0, '../induction_analysis')\n",
    "\n",
    "import Analysis.induction_analysis as ia\n",
    "import Analysis.induction_plots as ip\n",
    "from Analysis import filters\n",
    "\n",
    "from lab_repo.classes.place_cell_classes import pcExperimentGroup\n",
    "import lab_repo.analysis.behavior_analysis as ba\n",
    "\n",
    "from Experiments import SingleCellExperiment\n",
    "\n",
    "import pandas as pd\n",
    "\n",
    "import numpy as np\n",
    "from scipy.stats import binned_statistic, sem, ttest_rel, ttest_1samp\n",
    "\n",
    "import cPickle as pkl"
   ]
  },
  {
   "cell_type": "code",
   "execution_count": 2,
   "metadata": {},
   "outputs": [],
   "source": [
    "# Initialize Group\n",
    "\n",
    "expt_ids = [22745, 22757, 23845, 23890, 23841, 23901] + [24699, 24760, 24702, 24987]\n",
    "mps = ['/data/Sebi/2p/svr153/102919/MarkPoints-10072019-ref-003', \n",
    "      '/data/Sebi/2p/svr154/103019/MarkPoints-10302019-1254-001',\n",
    "      '/data/Sebi/2p/svr159/010820/MarkPoints-01082020-1318-001',\n",
    "      '/data/Sebi/2p/svr160/010820/MarkPoints-01082020-1318-001',\n",
    "      '/data/Sebi/2p/svr161/010920/MarkPoints-01092020-1404-003',\n",
    "      '/data/Sebi/2p/svr164/011020/MarkPoints-01102020-1135-002',\n",
    "      '/data3/Sebi/2p/svr165/030320/MarkPoints-02282020-induce-002',\n",
    "      '/data3/Sebi/2p/svr166/030320/MarkPoints-02282020-induce-002',\n",
    "      '/data3/Sebi/2p/svr169/030320/MarkPoints-02282020-induce-002',\n",
    "      '/data3/Sebi/2p/svr174/030820/MarkPoints-03082020-induction-001']\n",
    "\n",
    "expts = [SingleCellExperiment.SingleCellExperiment(x, mp) for x, mp in zip(expt_ids, mps)]\n",
    "\n",
    "pc_kwargs = {'imaging_label': 'suite2p',\n",
    "                         'nPositionBins': 100,\n",
    "                         'channel': 'Ch2',\n",
    "                         'demixed': False,\n",
    "                         'pf_subset': None,\n",
    "                         'signal': 'spikes'}\n",
    "\n",
    "grp = pcExperimentGroup(expts, label='sparse_targeted', **pc_kwargs)\n",
    "\n",
    "filter_overwrite = False\n",
    "\n",
    "# Should we remove spatial dist requirement?\n",
    "stim_filter = filters.grp_stim_filter(grp, spatial_dist=75, label='suite2p', overwrite=filter_overwrite, activity_filter=True)\n",
    "ind_filter = filters.grp_induction_filter(grp, stim_filter=stim_filter, overwrite=filter_overwrite)\n",
    "nostim_filter = filters.grp_unstimmed_filter(grp, exclude_baseline_stim=True, overwrite=filter_overwrite)\n",
    "nostim_ind_filter = filters.grp_unstimmed_formation_filter(grp, stim_filter=nostim_filter, overwrite=filter_overwrite)\n",
    "prefix = '/home/sebi/plots/ind/sparse_targeted/sparse_targeted_'\n",
    "\n",
    "\n",
    "# Exclude experiments with no stimmed cells\n",
    "expts = [expt for expt in expts if len(expt.rois(roi_filter=stim_filter))]\n",
    "grp = pcExperimentGroup(expts, label='sparse_targeted', **pc_kwargs)"
   ]
  },
  {
   "cell_type": "markdown",
   "metadata": {},
   "source": [
    "## Plots"
   ]
  },
  {
   "cell_type": "code",
   "execution_count": 11,
   "metadata": {},
   "outputs": [],
   "source": [
    "# Setup\n",
    "from matplotlib import rc\n",
    "plt.rcParams['axes.linewidth'] = 1\n",
    "plt.rcParams['ytick.labelsize'] = 6\n",
    "plt.rcParams['xtick.labelsize'] = 6\n",
    "plt.rcParams['axes.labelsize'] = 7\n",
    "plt.rcParams['boxplot.boxprops.linewidth'] = 1\n",
    "plt.rcParams['axes.unicode_minus'] = False\n",
    "\n",
    "rc('font',**{'family':'sans-serif','sans-serif':['helvetica', 'sans-serif']})\n",
    "\n",
    "def clean(ax, full=False, offset=0):\n",
    "    if full:\n",
    "        sns.despine(ax=ax, left=True, bottom=True, offset=offset)\n",
    "        ax.set_yticks([])\n",
    "        ax.set_xticks([])\n",
    "    else:\n",
    "        sns.despine(ax=ax, offset=offset)"
   ]
  },
  {
   "cell_type": "markdown",
   "metadata": {},
   "source": [
    "### Activity Centroids"
   ]
  },
  {
   "cell_type": "code",
   "execution_count": 113,
   "metadata": {},
   "outputs": [
    {
     "name": "stdout",
     "output_type": "stream",
     "text": [
      "Activity Centroid Dist (POST): Stim=30.8632814145 3.82736993394, No Stim=51.8217600341 1.10456051811, p=0.00036314348712, 0.00173708005867\n",
      "Activity Centroid Dist (24H): Stim=37.8172134564 7.14956779547, No Stim=48.97936132 0.69147152107, p=0.147921214056, 0.173482954652\n"
     ]
    },
    {
     "data": {
      "image/png": "[encoded data removed]",
      "text/plain": [
       "<Figure size 180x108 with 1 Axes>"
      ]
     },
     "metadata": {},
     "output_type": "display_data"
    }
   ],
   "source": [
    "fig = plt.figure(figsize=(2.5, 1.5))\n",
    "ax = fig.add_subplot(111)\n",
    "\n",
    "sessions = ['PRE', 'POST', '24H']\n",
    "\n",
    "grp_df = activity_centroid_df.groupby(['expt_id', 'session', 'stimmed'], as_index=False).mean()\n",
    "sns.boxplot(x='session', y='abs_dist', hue='stimmed', data=grp_df,\n",
    "              order=sessions, hue_order=['unstimmed', 'stimmed'], ax=ax,\n",
    "              whis=False, showcaps=False, showfliers=False)\n",
    "plt.setp(ax.artists, edgecolor='k', facecolor='w', linewidth=1)\n",
    "plt.setp(ax.lines, color='k')\n",
    "\n",
    "sns.swarmplot(x='session', y='abs_dist', hue='stimmed', data=grp_df, palette=['0.7', 'r'],\n",
    "              dodge=True, order=sessions, hue_order=['unstimmed', 'stimmed'], ax=ax, size=4,\n",
    "              edgecolor='k', linewidth=0.5, alpha=1)\n",
    "\n",
    "clean(ax, offset=4)\n",
    "ax.set_ylabel('Tuning Distance to SZ (cm)')\n",
    "ax.set_xlabel('Session')\n",
    "ax.get_legend().remove()\n",
    "ax.set_ylim([0, ax.get_ylim()[-1]])\n",
    "# ax.set_yticks(range(0, 120, 20))\n",
    "# ax.get_legend().remove()\n",
    "\n",
    "ax.axhline(194./4, color='0.5', ls='--')\n",
    "\n",
    "# fig.savefig(save_dir + 'activity_centroid_plot.svg', bbox_inches='tight')\n",
    "\n",
    "# Stats\n",
    "for session in ['POST', '24H']:\n",
    "    \n",
    "    pval = ttest_rel(stim_df['abs_dist'], nostim_df['abs_dist'])[1]\n",
    "\n",
    "    print 'Activity Centroid Dist ({}): Stim={} {}, No Stim={} {}, p={}, {}'.format(\n",
    "        session, stim_df.mean()['abs_dist'], stim_df['abs_dist'].sem(), nostim_df.mean()['abs_dist'], nostim_df['abs_dist'].sem(), pval, ttest_1samp(stim_df['abs_dist'], 194/4.)[1])"
   ]
  },
  {
   "cell_type": "code",
   "execution_count": null,
   "metadata": {},
   "outputs": [],
   "source": [
    "### Shift"
   ]
  },
  {
   "cell_type": "code",
   "execution_count": 44,
   "metadata": {},
   "outputs": [
    {
     "name": "stdout",
     "output_type": "stream",
     "text": [
      "20.371071933 7.19835845866503\n",
      "2.81677228411 1.778050466462279\n",
      "Ttest_relResult(statistic=2.3361775226879327, pvalue=0.047699470493473346)\n",
      "Ttest_1sampResult(statistic=2.829960754243158, pvalue=0.02215154906242607)\n",
      "Ttest_1sampResult(statistic=1.584191414832286, pvalue=0.15180929746707045)\n"
     ]
    },
    {
     "data": {
      "image/png": "[encoded data removed]",
      "text/plain": [
       "<Figure size 57.6x108 with 1 Axes>"
      ]
     },
     "metadata": {
      "needs_background": "light"
     },
     "output_type": "display_data"
    }
   ],
   "source": [
    "shift_df = activity_centroid_df.loc[(activity_centroid_df['session'] == 'POST')].merge(\n",
    "    activity_centroid_df.loc[(activity_centroid_df['session'] == 'PRE')],\n",
    "    on=['roi', 'mouse_name', 'stimmed'],\n",
    "    suffixes=['_ind', '_base'])\n",
    "\n",
    "shift_df['shift'] = shift_df.apply(lambda x: x['abs_dist_base'] - x['abs_dist_ind'], axis=1)\n",
    "\n",
    "grp_df = shift_df.groupby(['mouse_name', 'stimmed', 'expt_id_ind'], as_index=False).mean()\n",
    "\n",
    "fig = plt.figure(figsize=(0.8, 1.5))\n",
    "ax = fig.add_subplot(111)\n",
    "\n",
    "ax.axhline(0, color='0.7', alpha=0.5, ls='--')\n",
    "\n",
    "sns.boxplot(x='stimmed', y='shift', data=grp_df, color='k',\n",
    "            order=['unstimmed', 'stimmed'], ax=ax,\n",
    "            whis=False, showcaps=False, showfliers=False)\n",
    "plt.setp(ax.artists, edgecolor='k', facecolor='w', linewidth=1)\n",
    "plt.setp(ax.lines, color='k')\n",
    "\n",
    "sns.swarmplot(x='stimmed', y='shift', hue='stimmed', data=grp_df, palette=['0.7', 'r'],\n",
    "              order=['unstimmed', 'stimmed'], hue_order=['unstimmed', 'stimmed'], ax=ax, size=4,\n",
    "              edgecolor='k', linewidth=0.5, alpha=1)\n",
    "\n",
    "ax.get_legend().remove()\n",
    "\n",
    "clean(ax, offset=4)\n",
    "ax.set_ylabel('Shift Toward SZ (cm)')\n",
    "ax.set_xlabel('Stimulated?')\n",
    "ax.set_xticklabels(['No', 'Yes'])\n",
    "ax.set_yticks([-20, 0, 20, 40])\n",
    "ax.set_yticklabels([\"-20\", \"0\", \"20\", \"40\"])\n",
    "\n",
    "fig.savefig(save_dir + 'shifts.svg')\n",
    "\n",
    "stim_df = grp_df.loc[(grp_df['stimmed'] == 'stimmed')]\n",
    "nostim_df = grp_df.loc[(grp_df['stimmed'] == 'unstimmed')]\n",
    "\n",
    "print stim_df['shift'].mean(), stim_df['shift'].sem()\n",
    "print nostim_df['shift'].mean(), nostim_df['shift'].sem()\n",
    "print ttest_rel(stim_df['shift'], nostim_df['shift'])\n",
    "print ttest_1samp(stim_df['shift'], 0)\n",
    "print ttest_1samp(nostim_df['shift'], 0)"
   ]
  },
  {
   "cell_type": "markdown",
   "metadata": {},
   "source": [
    "### Stim Response vs Distance"
   ]
  },
  {
   "cell_type": "code",
   "execution_count": 9,
   "metadata": {},
   "outputs": [
    {
     "data": {
      "image/png": "[encoded data removed]",
      "text/plain": [
       "<Figure size 86.4x97.2 with 1 Axes>"
      ]
     },
     "metadata": {
      "needs_background": "light"
     },
     "output_type": "display_data"
    }
   ],
   "source": [
    "# Max across all single cell stim experiments \n",
    "max_dist = 168.5935987978145\n",
    "\n",
    "amps = pd.read_pickle(data_dir + 'amps.pkl')\n",
    "dists = pd.read_pickle(data_dir + 'dists.pkl')\n",
    "\n",
    "full_df = dists.merge(amps, on=['mouse_name', 'expt_id', 'roi'])\n",
    "df = full_df.loc[full_df['dist'] <= max_dist]\n",
    "\n",
    "zeros = df.loc[df['dist'] == 0]['zdiff']\n",
    "rest = df.loc[df['dist'] > 0]\n",
    "means, bins, _ = binned_statistic(rest['dist'], rest['zdiff'],\n",
    "                                      statistic=np.mean,\n",
    "                                      bins=np.linspace(0, max_dist, 21))\n",
    "\n",
    "stds, bins, _ = binned_statistic(rest['dist'], rest['zdiff'],\n",
    "                                      statistic=sem,\n",
    "                                      bins=np.linspace(0, max_dist, 21))\n",
    "\n",
    "bin_size = bins[1] - bins[0]\n",
    "zero_mean = np.nanmean(zeros)\n",
    "zero_std = sem(zeros)\n",
    "\n",
    "means = np.concatenate([[zero_mean], means])[:-8]\n",
    "stds = np.concatenate([[zero_std], stds])[:-8]\n",
    "plot_bins = np.concatenate([[0], bins + (bins[1] - bins[0]) / 2.])[:-8]\n",
    "\n",
    "fig = plt.figure(figsize=(1.2, 1.35))\n",
    "ax = fig.add_subplot(111)\n",
    "\n",
    "color = sns.xkcd_palette(['pumpkin'])[0]\n",
    "ax.errorbar(plot_bins[:-1], means, yerr=stds, fmt='o', mfc=color, mec='k', ecolor='k', ms=3.5, elinewidth=0.5, mew=0.5)\n",
    "clean(ax, offset=4)\n",
    "ax.set_xlabel('Distance from Target (um)')\n",
    "ax.set_ylabel('Mean Stim Response ($\\sigma$)')\n",
    "\n",
    "ax.axhline(0, color='0.5', ls='--')\n",
    "\n",
    "# ax.set_yticks(range(-1, 6, 2))\n",
    "ax.set_ylim([-1, 5])\n",
    "\n",
    "fig.savefig(save_dir + 'stim_response_vs_dist_clipped.svg')"
   ]
  },
  {
   "cell_type": "markdown",
   "metadata": {},
   "source": [
    "### Tuning Change"
   ]
  },
  {
   "cell_type": "code",
   "execution_count": 45,
   "metadata": {},
   "outputs": [],
   "source": [
    "def tuning_difference(grp, bgrp, roi_filter=None, by_mouse=False,\n",
    "                       normalize=False):\n",
    "\n",
    "    \"\"\"Return mean difference of tuning curves.\n",
    "    \"\"\"\n",
    "\n",
    "    all_diffs = []\n",
    "    mean_diffs = []\n",
    "    \n",
    "    fulldata = grp.data(roi_filter=None)\n",
    "    data = grp.data(roi_filter=roi_filter)\n",
    "    \n",
    "    bfulldata = bgrp.data(roi_filter=None)\n",
    "    bdata = bgrp.data(roi_filter=roi_filter)\n",
    "\n",
    "    for expt, bexpt in zip(grp, bgrp):\n",
    "\n",
    "        stim_loc = expt._get_stim_positions(units='normalized')[0]\n",
    "        shift = 50 - int(stim_loc)\n",
    "\n",
    "        if normalize:\n",
    "\n",
    "            mean2 = np.nanmean(fulldata[expt], axis=0, keepdims=True)\n",
    "            mean1 = np.nanmean(bfulldata[bexpt], axis=0, keepdims=True)\n",
    "\n",
    "            mean_diff = mean2 - mean1\n",
    "            diffs = data[expt] - bdata[bexpt] - mean_diff\n",
    "\n",
    "        else:\n",
    "            diffs = data[expt] - bdata[bexpt]\n",
    "\n",
    "        diffs = np.roll(diffs, shift, axis=1)\n",
    "\n",
    "        # Convert from frames to seconds\n",
    "        diffs = diffs / expt.frame_period()\n",
    "\n",
    "        if by_mouse:\n",
    "            all_diffs.append(np.nanmean(diffs, axis=0))\n",
    "        else:\n",
    "            all_diffs.extend(diffs)\n",
    "        \n",
    "        if normalize:\n",
    "            mean_diffs.extend(np.roll(mean_diff, shift, axis=1) / expt.frame_period())\n",
    "            \n",
    "    if normalize:\n",
    "        return all_diffs, mean_diffs\n",
    "    else:\n",
    "        return all_diffs, None"
   ]
  },
  {
   "cell_type": "code",
   "execution_count": 46,
   "metadata": {},
   "outputs": [],
   "source": [
    "bgrp = pcExperimentGroup([x._get_session('control_baseline') for x in grp], **grp.args)"
   ]
  },
  {
   "cell_type": "code",
   "execution_count": 47,
   "metadata": {},
   "outputs": [],
   "source": [
    "stim_diff, _ = tuning_difference(grp, bgrp, normalize=True, roi_filter=stim_filter, by_mouse=False)\n",
    "nostim_diff, _ = tuning_difference(grp, bgrp, normalize=True, roi_filter=nostim_filter, by_mouse=False)"
   ]
  },
  {
   "cell_type": "code",
   "execution_count": 50,
   "metadata": {},
   "outputs": [
    {
     "data": {
      "text/plain": [
       "'/home/sebi/plots/ind/fig3/'"
      ]
     },
     "execution_count": 50,
     "metadata": {},
     "output_type": "execute_result"
    }
   ],
   "source": [
    "save_dir"
   ]
  },
  {
   "cell_type": "code",
   "execution_count": 51,
   "metadata": {},
   "outputs": [
    {
     "data": {
      "image/png": "[encoded data removed]",
      "text/plain": [
       "<Figure size 200x300 with 1 Axes>"
      ]
     },
     "metadata": {
      "needs_background": "light"
     },
     "output_type": "display_data"
    }
   ],
   "source": [
    "fig = plt.figure(figsize=(1, 1.5), dpi=200)\n",
    "ax = fig.add_subplot(111)\n",
    "\n",
    "bin_to_cm = grp[0].track_length / 1000.\n",
    "\n",
    "stim_mean = np.nanmean(stim_diff, axis=0)\n",
    "stim_sem = sem(stim_diff, axis=0)\n",
    "\n",
    "nostim_mean = np.nanmean(nostim_diff, axis=0)\n",
    "nostim_sem = sem(nostim_diff, axis=0)\n",
    "\n",
    "x = np.arange(-50, 50) / 100.\n",
    "\n",
    "# ax.axvline(0, color='k', ls='--')\n",
    "\n",
    "ax.plot(x, nostim_mean, color='0.7', lw=1)\n",
    "ax.fill_between(x, nostim_mean-nostim_sem, nostim_mean+nostim_sem, color='0.7', alpha=0.2, lw=0)\n",
    "ax.plot(x, stim_mean, color='r', lw=1)\n",
    "ax.fill_between(x, stim_mean-stim_sem, stim_mean+stim_sem, color='r', alpha=0.2, lw=0)\n",
    "\n",
    "clean(ax, offset=4)\n",
    "ax.set_xlabel('Normalized Position')\n",
    "ax.set_ylabel('$\\Delta$ Tuning (Hz)')\n",
    "ax.set_title('POST - PRE')\n",
    "\n",
    "fig.savefig(save_dir + 'tuning_difference.svg', bbox_inches='tight')"
   ]
  },
  {
   "cell_type": "markdown",
   "metadata": {},
   "source": [
    "### Example Raster"
   ]
  },
  {
   "cell_type": "code",
   "execution_count": 12,
   "metadata": {},
   "outputs": [
    {
     "name": "stdout",
     "output_type": "stream",
     "text": [
      "1\n"
     ]
    },
    {
     "data": {
      "text/plain": [
       "(-21, 0)"
      ]
     },
     "execution_count": 12,
     "metadata": {},
     "output_type": "execute_result"
    },
    {
     "data": {
      "image/png": "[encoded data removed]",
      "text/plain": [
       "<Figure size 160x300 with 2 Axes>"
      ]
     },
     "metadata": {
      "needs_background": "light"
     },
     "output_type": "display_data"
    }
   ],
   "source": [
    "fig = plt.figure(figsize=(0.8, 1.5), dpi=200)\n",
    "ax1 = fig.add_subplot(211)\n",
    "ax2 = fig.add_subplot(212)\n",
    "\n",
    "\n",
    "roi_label='0000-0172-0392-6031974970479320307'\n",
    "roi_filter = lambda x: x.label == roi_label\n",
    "\n",
    "cell_idx = 0\n",
    "\n",
    "expt = grp[4]\n",
    "print len(expt.rois(roi_filter=roi_filter))\n",
    "spikes = expt.spikes(binary=True, roi_filter=roi_filter)[cell_idx, ...]\n",
    "\n",
    "abspos = ba.absolutePosition(expt.find('trial'))\n",
    "pos = ((abspos * 100).astype(int) / 100.) % 1 # relative position rounded to two decimals\n",
    "laps = abspos.astype(int)\n",
    "running = expt.velocity()[0] > 1\n",
    "\n",
    "# Baseline Info\n",
    "bexpt = expt._get_session('control_baseline')\n",
    "bspikes = bexpt.spikes(binary=True, roi_filter=roi_filter)[cell_idx, ...]\n",
    "babspos = ba.absolutePosition(bexpt.find('trial'))\n",
    "bpos = ((babspos * 100).astype(int) / 100.) % 1\n",
    "blaps = babspos.astype(int)\n",
    "brunning = bexpt.velocity()[0] > 1\n",
    "\n",
    "shift = (50-int(expt._get_stim_positions(units='normalized')[0]))/100.\n",
    "\n",
    "# Plot last 20 laps of baseline session\n",
    "ax1.axvline(.5, color='0.7', lw=0.75)\n",
    "spike_idx = np.where(bspikes)[0]\n",
    "n_laps = blaps[-1]\n",
    "start_lap = n_laps - n_lap_display - 1\n",
    "\n",
    "for spike_i in spike_idx:\n",
    "    if not brunning[spike_i]:\n",
    "        continue\n",
    "    lap = int(babspos[spike_i])\n",
    "    if lap <= start_lap:\n",
    "        continue\n",
    "    elif lap == n_laps:\n",
    "        break\n",
    "    pos = (babspos[spike_i] + shift) % 1\n",
    "    ax1.plot(pos, start_lap-lap, marker='|', color='k', ms=1.5)\n",
    "\n",
    "ax1.set_xlim([-0.01, 1])\n",
    "ax1.set_xticks([0, .50, .99])\n",
    "ax1.set_xticklabels([])\n",
    "ax1.set_yticks([-1, -n_lap_display])\n",
    "ax1.set_yticklabels([-n_lap_display, -1])\n",
    "ax1.set_ylim([-n_lap_display - 1, 0])\n",
    "\n",
    "\n",
    "# Plot first 20 laps of induction session\n",
    "ax2.axvline(.5, color='0.7', lw=0.75)\n",
    "ax2.vlines(x=0.5, ymin=-5.5, ymax=-0.5, color='r', alpha=0.5, zorder=100, lw=0.75)\n",
    "\n",
    "spike_idx = np.where(spikes)[0]\n",
    "for spike_i in spike_idx:\n",
    "    if not running[spike_i]:\n",
    "        continue\n",
    "    lap = int(abspos[spike_i])\n",
    "    # Lap 0 is not complete so skip\n",
    "    if lap == 0:\n",
    "        continue\n",
    "    if lap > 20:\n",
    "        break\n",
    "    pos = (abspos[spike_i] + shift) % 1\n",
    "    \n",
    "    ax2.plot(pos, -lap, marker='|', color='k', ms=1.5)\n",
    "    \n",
    "ax2.set_xlim([-0.01, 1])\n",
    "ax2.set_xticks([0, .50, .99])\n",
    "ax2.set_xticklabels([-0.5, 0, 0.5], rotation=0)\n",
    "ax2.set_yticks([-1, -n_lap_display])\n",
    "ax2.set_yticklabels([1, n_lap_display])\n",
    "ax2.set_ylim([-n_lap_display - 1, 0])   \n",
    "\n",
    "# ax.set_ylabel('Lap')\n",
    "# ax.set_xlabel('Normalized Position')\n",
    "# ax.set_title('Example Cell')\n",
    "# fig.savefig('/home/sebi/plots/ind/figs_led_example/svr180_c1_example_raster.svg')"
   ]
  },
  {
   "cell_type": "code",
   "execution_count": 38,
   "metadata": {},
   "outputs": [
    {
     "name": "stdout",
     "output_type": "stream",
     "text": [
      "1\n"
     ]
    },
    {
     "data": {
      "text/plain": [
       "(-21, 0)"
      ]
     },
     "execution_count": 38,
     "metadata": {},
     "output_type": "execute_result"
    },
    {
     "data": {
      "image/png": "[encoded data removed]",
      "text/plain": [
       "<Figure size 160x300 with 2 Axes>"
      ]
     },
     "metadata": {
      "needs_background": "light"
     },
     "output_type": "display_data"
    }
   ],
   "source": [
    "fig = plt.figure(figsize=(0.8, 1.5), dpi=200)\n",
    "ax1 = fig.add_subplot(211)\n",
    "ax2 = fig.add_subplot(212)\n",
    "\n",
    "\n",
    "# roi_label='0000-0172-0392-6031974970479320307'\n",
    "# roi_filter = lambda x: x.label == roi_label\n",
    "\n",
    "# roi_filter = ind_filter #e8c0\n",
    "roi_filter = lambda x: stim_filter(x) and not ind_filter(x) #e5c0\n",
    "\n",
    "cell_idx = 0\n",
    "\n",
    "expt = grp[5]\n",
    "print len(expt.rois(roi_filter=roi_filter))\n",
    "spikes = expt.spikes(binary=True, roi_filter=roi_filter)[cell_idx, ...]\n",
    "\n",
    "abspos = ba.absolutePosition(expt.find('trial'))\n",
    "pos = ((abspos * 100).astype(int) / 100.) % 1 # relative position rounded to two decimals\n",
    "laps = abspos.astype(int)\n",
    "running = expt.velocity()[0] > 1\n",
    "\n",
    "# Baseline Info\n",
    "bexpt = expt._get_session('control_baseline')\n",
    "bspikes = bexpt.spikes(binary=True, roi_filter=roi_filter)[cell_idx, ...]\n",
    "babspos = ba.absolutePosition(bexpt.find('trial'))\n",
    "bpos = ((babspos * 100).astype(int) / 100.) % 1\n",
    "blaps = babspos.astype(int)\n",
    "brunning = bexpt.velocity()[0] > 1\n",
    "\n",
    "shift = (50-int(expt._get_stim_positions(units='normalized')[0]))/100.\n",
    "\n",
    "# Plot last 20 laps of baseline session\n",
    "ax1.axvline(.5, color='0.7', lw=0.75)\n",
    "spike_idx = np.where(bspikes)[0]\n",
    "n_laps = blaps[-1]\n",
    "start_lap = n_laps - n_lap_display - 1\n",
    "\n",
    "for spike_i in spike_idx:\n",
    "    if not brunning[spike_i]:\n",
    "        continue\n",
    "    lap = int(babspos[spike_i])\n",
    "    if lap <= start_lap:\n",
    "        continue\n",
    "    elif lap == n_laps:\n",
    "        break\n",
    "    pos = (babspos[spike_i] + shift) % 1\n",
    "    ax1.plot(pos, start_lap-lap, marker='|', color='k', ms=1.5)\n",
    "\n",
    "ax1.set_xlim([-0.01, 1])\n",
    "ax1.set_xticks([0, .50, .99])\n",
    "ax1.set_xticklabels([])\n",
    "ax1.set_yticks([-1, -n_lap_display])\n",
    "ax1.set_yticklabels([-n_lap_display, -1])\n",
    "ax1.set_ylim([-n_lap_display - 1, 0])\n",
    "\n",
    "\n",
    "# Plot first 20 laps of induction session\n",
    "ax2.axvline(.5, color='0.7', lw=0.75)\n",
    "ax2.vlines(x=0.5, ymin=-5.5, ymax=-0.5, color='r', alpha=0.5, zorder=100, lw=0.75)\n",
    "\n",
    "spike_idx = np.where(spikes)[0]\n",
    "for spike_i in spike_idx:\n",
    "    if not running[spike_i]:\n",
    "        continue\n",
    "    lap = int(abspos[spike_i])\n",
    "    # Lap 0 is not complete so skip\n",
    "    if lap == 0:\n",
    "        continue\n",
    "    if lap > 20:\n",
    "        break\n",
    "    pos = (abspos[spike_i] + shift) % 1\n",
    "    \n",
    "    ax2.plot(pos, -lap, marker='|', color='k', ms=1.5)\n",
    "    \n",
    "ax2.set_xlim([-0.01, 1])\n",
    "ax2.set_xticks([0, .50, .99])\n",
    "ax2.set_xticklabels([-0.5, 0, 0.5], rotation=0)\n",
    "ax2.set_yticks([-1, -n_lap_display])\n",
    "ax2.set_yticklabels([1, n_lap_display])\n",
    "ax2.set_ylim([-n_lap_display - 1, 0])   \n",
    "\n",
    "# ax.set_ylabel('Lap')\n",
    "# ax.set_xlabel('Normalized Position')\n",
    "# ax.set_title('Example Cell')\n",
    "# fig.savefig(save_dir + 'example_failure_cell_raster.svg')"
   ]
  },
  {
   "cell_type": "code",
   "execution_count": 10,
   "metadata": {},
   "outputs": [
    {
     "data": {
      "image/png": "[encoded data removed]",
      "text/plain": [
       "<Figure size 240x300 with 1 Axes>"
      ]
     },
     "metadata": {
      "needs_background": "light"
     },
     "output_type": "display_data"
    }
   ],
   "source": [
    "expt = grp[4]\n",
    "roi_label='0000-0172-0392-6031974970479320307'\n",
    "roi_filter = lambda x: x.label == roi_label\n",
    "\n",
    "spikes = expt.spikes(roi_filter=roi_filter, binary=True)[0, ...]\n",
    "abs_pos = ba.absolutePosition(expt.find('trial'), imageSync=True)\n",
    "\n",
    "shift = (50 - int(expt._get_stim_positions(units='normalized')[0]))/100.\n",
    "\n",
    "fig = plt.figure(figsize=(1.2, 1.5), dpi=200)\n",
    "ax = fig.add_subplot(111)\n",
    "\n",
    "spike_idx = np.where(spikes)[0]\n",
    "for spike_i in spike_idx:\n",
    "    lap = int(abs_pos[spike_i])\n",
    "    pos = (abs_pos[spike_i] + shift) % 1\n",
    "    \n",
    "    ax.plot(pos, -lap, marker='|', color='k')\n",
    "\n",
    "ax.set_xticks([0, .50, .99])\n",
    "ax.set_xticklabels([-0.5, 0, 0.5], rotation=0)\n",
    "ax.set_yticks([-1, -lap])\n",
    "ax.set_yticklabels([1, lap])\n",
    "ax.set_ylabel('Lap')\n",
    "ax.set_xlabel('Normalized Position\\n(Centered on SZ)')\n",
    "ax.set_title('Example Cell')\n",
    "\n",
    "fig.savefig(save_dir + 'example_cell_raster.svg')"
   ]
  },
  {
   "cell_type": "markdown",
   "metadata": {},
   "source": [
    "## Data Functions"
   ]
  },
  {
   "cell_type": "code",
   "execution_count": 3,
   "metadata": {},
   "outputs": [],
   "source": [
    "save_dir = '/home/sebi/plots/ind/fig3/'\n",
    "data_dir = '/home/sebi/data/induction/fig3/'"
   ]
  },
  {
   "cell_type": "code",
   "execution_count": 3,
   "metadata": {},
   "outputs": [],
   "source": [
    "def activity_centroids(grp, stim_filter, \n",
    "                            nostim_filter=None):\n",
    "    \n",
    "    full_sessions = ['control_baseline', 'control_induction', 'control_24h']\n",
    "\n",
    "    session_name_dict = {'induction': 'POST',\n",
    "                         'baseline': 'PRE',\n",
    "                         '24h': '24H'}\n",
    "\n",
    "    if not nostim_filter:\n",
    "        nostim_filter = lambda x: not stim_filter(x)\n",
    "\n",
    "    df = pd.DataFrame([])\n",
    "\n",
    "    for session in full_sessions:\n",
    "\n",
    "        sess_grp = [x._get_session(session) for x in grp]\n",
    "        sess_grp = pcExperimentGroup(sess_grp, **grp.args)\n",
    "\n",
    "        stim_session = session.split('_')[0] + '_induction'\n",
    "\n",
    "        for stimmed, sfilter in zip(['stimmed', 'unstimmed'], [stim_filter, nostim_filter]):\n",
    "\n",
    "            sess_df = ia.activity_centroid_distance(sess_grp, roi_filter=sfilter, stim_session=stim_session)\n",
    "            sess_df['stimmed'] = stimmed\n",
    "            sess_df['session'] = session_name_dict[session.split('_')[-1]]\n",
    "\n",
    "            df = pd.concat([df, sess_df])\n",
    "\n",
    "    return df"
   ]
  },
  {
   "cell_type": "code",
   "execution_count": 6,
   "metadata": {},
   "outputs": [],
   "source": [
    "activity_centroid_df = activity_centroids(grp, stim_filter, nostim_filter)\n",
    "activity_centroid_df.to_pickle(data_dir + 'activity_centroid_df.pkl')"
   ]
  },
  {
   "cell_type": "code",
   "execution_count": 40,
   "metadata": {},
   "outputs": [],
   "source": [
    "activity_centroid_df = pd.read_pickle(data_dir + 'activity_centroid_df.pkl')"
   ]
  },
  {
   "cell_type": "code",
   "execution_count": 7,
   "metadata": {},
   "outputs": [],
   "source": [
    "ind_rate = ia.induction_rate(grp, stim_filter, ind_filter, nostim_filter, nostim_ind_filter)\n",
    "ind_rate.to_pickle(data_dir + 'ind_rate.pkl')"
   ]
  },
  {
   "cell_type": "code",
   "execution_count": 4,
   "metadata": {},
   "outputs": [],
   "source": [
    "ind_rate = pd.read_pickle(data_dir + 'ind_rate.pkl')"
   ]
  },
  {
   "cell_type": "code",
   "execution_count": 8,
   "metadata": {},
   "outputs": [],
   "source": [
    "amps = ia.burst_size(grp, roi_filter=None, win=(1, 0.5), exclude_stim=True)\n",
    "dists = ia.dist_to_target(grp, stim_filter=None)\n",
    "\n",
    "amps.to_pickle(data_dir + 'amps.pkl')\n",
    "dists.to_pickle(data_dir + 'dists.pkl')"
   ]
  },
  {
   "cell_type": "code",
   "execution_count": 12,
   "metadata": {},
   "outputs": [],
   "source": [
    "stim_td = ia.tuning_difference(grp, roi_filter=stim_filter, by_mouse=False)\n",
    "nostim_td = ia.tuning_difference(grp, roi_filter=nostim_filter, by_mouse=False)\n",
    "with open(data_dir + 'tuning_differences.pkl', 'wb') as fw:\n",
    "    pkl.dump([stim_td, nostim_td], fw)"
   ]
  }
 ],
 "metadata": {
  "kernelspec": {
   "display_name": "Python 2",
   "language": "python",
   "name": "python2"
  },
  "language_info": {
   "codemirror_mode": {
    "name": "ipython",
    "version": 2
   },
   "file_extension": ".py",
   "mimetype": "text/x-python",
   "name": "python",
   "nbconvert_exporter": "python",
   "pygments_lexer": "ipython2",
   "version": "2.7.17"
  }
 },
 "nbformat": 4,
 "nbformat_minor": 4
}
