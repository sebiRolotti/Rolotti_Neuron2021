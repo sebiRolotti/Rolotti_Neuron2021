{
 "cells": [
  {
   "cell_type": "code",
   "execution_count": 1,
   "metadata": {
    "collapsed": true,
    "jupyter": {
     "outputs_hidden": true
    }
   },
   "outputs": [
    {
     "name": "stderr",
     "output_type": "stream",
     "text": [
      "/home/sebi/code/analysis/analysis-scripts/induction_analysis/Analysis/induction_analysis.py:4: UserWarning: \n",
      "This call to matplotlib.use() has no effect because the backend has already\n",
      "been chosen; matplotlib.use() must be called *before* pylab, matplotlib.pyplot,\n",
      "or matplotlib.backends is imported for the first time.\n",
      "\n",
      "The backend was *originally* set to 'module://ipykernel.pylab.backend_inline' by the following code:\n",
      "  File \"/usr/lib/python2.7/runpy.py\", line 174, in _run_module_as_main\n",
      "    \"__main__\", fname, loader, pkg_name)\n",
      "  File \"/usr/lib/python2.7/runpy.py\", line 72, in _run_code\n",
      "    exec code in run_globals\n",
      "  File \"/home/sebi/.local/lib/python2.7/site-packages/ipykernel_launcher.py\", line 16, in <module>\n",
      "    app.launch_new_instance()\n",
      "  File \"/home/sebi/.local/lib/python2.7/site-packages/traitlets/config/application.py\", line 658, in launch_instance\n",
      "    app.start()\n",
      "  File \"/home/sebi/.local/lib/python2.7/site-packages/ipykernel/kernelapp.py\", line 499, in start\n",
      "    self.io_loop.start()\n",
      "  File \"/home/sebi/.local/lib/python2.7/site-packages/tornado/ioloop.py\", line 1073, in start\n",
      "    handler_func(fd_obj, events)\n",
      "  File \"/home/sebi/.local/lib/python2.7/site-packages/tornado/stack_context.py\", line 300, in null_wrapper\n",
      "    return fn(*args, **kwargs)\n",
      "  File \"/home/sebi/.local/lib/python2.7/site-packages/zmq/eventloop/zmqstream.py\", line 456, in _handle_events\n",
      "    self._handle_recv()\n",
      "  File \"/home/sebi/.local/lib/python2.7/site-packages/zmq/eventloop/zmqstream.py\", line 486, in _handle_recv\n",
      "    self._run_callback(callback, msg)\n",
      "  File \"/home/sebi/.local/lib/python2.7/site-packages/zmq/eventloop/zmqstream.py\", line 438, in _run_callback\n",
      "    callback(*args, **kwargs)\n",
      "  File \"/home/sebi/.local/lib/python2.7/site-packages/tornado/stack_context.py\", line 300, in null_wrapper\n",
      "    return fn(*args, **kwargs)\n",
      "  File \"/home/sebi/.local/lib/python2.7/site-packages/ipykernel/kernelbase.py\", line 283, in dispatcher\n",
      "    return self.dispatch_shell(stream, msg)\n",
      "  File \"/home/sebi/.local/lib/python2.7/site-packages/ipykernel/kernelbase.py\", line 233, in dispatch_shell\n",
      "    handler(stream, idents, msg)\n",
      "  File \"/home/sebi/.local/lib/python2.7/site-packages/ipykernel/kernelbase.py\", line 399, in execute_request\n",
      "    user_expressions, allow_stdin)\n",
      "  File \"/home/sebi/.local/lib/python2.7/site-packages/ipykernel/ipkernel.py\", line 208, in do_execute\n",
      "    res = shell.run_cell(code, store_history=store_history, silent=silent)\n",
      "  File \"/home/sebi/.local/lib/python2.7/site-packages/ipykernel/zmqshell.py\", line 537, in run_cell\n",
      "    return super(ZMQInteractiveShell, self).run_cell(*args, **kwargs)\n",
      "  File \"/home/sebi/.local/lib/python2.7/site-packages/IPython/core/interactiveshell.py\", line 2714, in run_cell\n",
      "    interactivity=interactivity, compiler=compiler, result=result)\n",
      "  File \"/home/sebi/.local/lib/python2.7/site-packages/IPython/core/interactiveshell.py\", line 2818, in run_ast_nodes\n",
      "    if self.run_code(code, result):\n",
      "  File \"/home/sebi/.local/lib/python2.7/site-packages/IPython/core/interactiveshell.py\", line 2878, in run_code\n",
      "    exec(code_obj, self.user_global_ns, self.user_ns)\n",
      "  File \"<ipython-input-1-e8472752acb9>\", line 1, in <module>\n",
      "    get_ipython().magic(u'matplotlib inline')\n",
      "  File \"/home/sebi/.local/lib/python2.7/site-packages/IPython/core/interactiveshell.py\", line 2160, in magic\n",
      "    return self.run_line_magic(magic_name, magic_arg_s)\n",
      "  File \"/home/sebi/.local/lib/python2.7/site-packages/IPython/core/interactiveshell.py\", line 2081, in run_line_magic\n",
      "    result = fn(*args,**kwargs)\n",
      "  File \"<decorator-gen-105>\", line 2, in matplotlib\n",
      "  File \"/home/sebi/.local/lib/python2.7/site-packages/IPython/core/magic.py\", line 188, in <lambda>\n",
      "    call = lambda f, *a, **k: f(*a, **k)\n",
      "  File \"/home/sebi/.local/lib/python2.7/site-packages/IPython/core/magics/pylab.py\", line 100, in matplotlib\n",
      "    gui, backend = self.shell.enable_matplotlib(args.gui)\n",
      "  File \"/home/sebi/.local/lib/python2.7/site-packages/IPython/core/interactiveshell.py\", line 2966, in enable_matplotlib\n",
      "    pt.activate_matplotlib(backend)\n",
      "  File \"/home/sebi/.local/lib/python2.7/site-packages/IPython/core/pylabtools.py\", line 315, in activate_matplotlib\n",
      "    matplotlib.pyplot.switch_backend(backend)\n",
      "  File \"/home/sebi/.local/lib/python2.7/site-packages/matplotlib/pyplot.py\", line 231, in switch_backend\n",
      "    matplotlib.use(newbackend, warn=False, force=True)\n",
      "  File \"/home/sebi/.local/lib/python2.7/site-packages/matplotlib/__init__.py\", line 1425, in use\n",
      "    reload(sys.modules['matplotlib.backends'])\n",
      "  File \"/home/sebi/.local/lib/python2.7/site-packages/matplotlib/backends/__init__.py\", line 17, in <module>\n",
      "    line for line in traceback.format_stack()\n",
      "\n",
      "\n",
      "  mpl.use('pdf')\n"
     ]
    }
   ],
   "source": [
    "%matplotlib inline\n",
    "import matplotlib.pyplot as plt\n",
    "import seaborn as sns\n",
    "sns.set_style(style='ticks')\n",
    "import matplotlib.pyplot as plt\n",
    "import seaborn as sns\n",
    "\n",
    "import sys\n",
    "sys.path.insert(0, '../../induction_analysis')\n",
    "\n",
    "import Analysis.induction_analysis as ia\n",
    "import Analysis.induction_plots as ip\n",
    "from Analysis import filters\n",
    "from Analysis import comparison_plots as cp\n",
    "\n",
    "from lab_repo.classes.place_cell_classes import pcExperimentGroup\n",
    "\n",
    "from Experiments import SingleCellExperiment\n",
    "\n",
    "import pandas as pd\n",
    "import numpy as np\n",
    "\n",
    "from scipy.stats import ttest_ind, spearmanr, mann_whitneyu, sem"
   ]
  },
  {
   "cell_type": "code",
   "execution_count": 2,
   "metadata": {},
   "outputs": [],
   "source": [
    "# Initialize Groups\n",
    "grps = []\n",
    "\n",
    "pc_kwargs = {'imaging_label': 's2p',\n",
    "             'nPositionBins': 100,\n",
    "             'channel': 'Ch2',\n",
    "             'demixed': False,\n",
    "             'pf_subset': None,\n",
    "             'signal': 'spikes'}\n",
    "\n",
    "# First, control\n",
    "expt_ids = [22286, 22311, 22417, 24600, 24640, 24659, 24694, 24603, 24677, 24773, 24688, 24781]\n",
    "\n",
    "mps = ['/data/Mohsin/2p/msa0919_2/10_10_19/MarkPoints-10102019-induce-002',\n",
    "       '/data/Mohsin/2p/msa0919_2/10_5_19/MarkPoints-10052019-induce-002',\n",
    "       '/data/Mohsin/2p/msa0919_1/10_18_19/MarkPoints-10182019-induce-001',\n",
    "       '/data4/Mohsin/2p/msa0220_3/2_24_20/MarkPoints-02242020-induce-003',\n",
    "       '/data4/Mohsin/2p/msa0220_3/2_28_20/MarkPoints-02282020-induce-003',\n",
    "       '/data4/Mohsin/2p/msa0220_3/3_4_20/MarkPoints-02282020-induce-003',\n",
    "       '/data4/Mohsin/2p/msa0220_3/3_8_20/MarkPoints-03082020-induce-003',\n",
    "       '/data4/Mohsin/2p/msa0220_4/2_24_20/MarkPoints-02242020-induce-003',\n",
    "       '/data4/Mohsin/2p/msa0320_1/3_6_20/MarkPoints-02282020-induce-003',\n",
    "       '/data4/Mohsin/2p/msa0320_1/3_10_20/MarkPoints-03102020-induce-003',\n",
    "       '/data4/Mohsin/2p/msa0320_2/3_9_20/MarkPoints-03092020-induce-003',\n",
    "       '/data4/Mohsin/2p/msa0320_2/3_11_20/MarkPoints-03082020-induce-003']\n",
    "\n",
    "expts = [SingleCellExperiment.SingleCellExperiment(x, mp) for x, mp in zip(expt_ids, mps)]\n",
    "grp = pcExperimentGroup(expts, label='dense_all', **pc_kwargs)\n",
    "grps.append(grp)\n",
    "\n",
    "# Next, CNO\n",
    "expt_ids = [22326, 22318, 22432, 24609, 24656, 24676, 24777, 24691, 24792, 24765, 24798]\n",
    "\n",
    "mps = ['/data/Mohsin/2p/msa0919_2/10_10_19/MarkPoints-10102019-induce-002',\n",
    "       '/data/Mohsin/2p/msa0919_2/10_7_19/MarkPoints-10072019-CNO_test-006',\n",
    "       '/data/Mohsin/2p/msa0919_1/10_20_19/MarkPoints-10202019-induce-001',\n",
    "       '/data4/Mohsin/2p/msa0220_3/2_26_20/MarkPoints-02262020-induce-003',\n",
    "       '/data4/Mohsin/2p/msa0220_3/3_1_20/MarkPoints-02282020-test-002',\n",
    "       '/data4/Mohsin/2p/msa0220_3/3_6_20/MarkPoints-02282020-induce-003',\n",
    "       '/data4/Mohsin/2p/msa0220_3/3_10_20/MarkPoints-03102020-induce-003',\n",
    "       '/data4/Mohsin/2p/msa0320_1/3_8_20/MarkPoints-03082020-induce-003',\n",
    "       '/data4/Mohsin/2p/msa0320_1/3_12_20/MarkPoints-03082020-induce-003',\n",
    "       '/data4/Mohsin/2p/msa0320_2/3_9_20/MarkPoints-03092020-induce-003',\n",
    "       '/data4/Mohsin/2p/msa0320_2/3_13_20/MarkPoints-03082020-induce-003']\n",
    "\n",
    "expts = [SingleCellExperiment.SingleCellExperiment(x, mp) for x, mp in zip(expt_ids, mps)]\n",
    "grp = pcExperimentGroup(expts, label='cno_dense_all', **pc_kwargs)\n",
    "grps.append(grp)\n",
    "\n",
    "labels = ['Dense', '+Dreadd']\n",
    "colors = ['warm blue', 'golden rod']\n",
    "colors = sns.xkcd_palette(colors)\n",
    "\n",
    "# Setup Filters\n",
    "stim_filters = []\n",
    "ind_filters = []\n",
    "nostim_filters = []\n",
    "nostim_ind_filters = []\n",
    "filter_overwrite = False\n",
    "\n",
    "\n",
    "for grp in grps:\n",
    "    stim_filter = filters.grp_stim_filter(grp, spatial_dist=75, label='s2p', overwrite=filter_overwrite, activity_filter=True)\n",
    "    ind_filter = filters.grp_induction_filter(grp, stim_filter=stim_filter, overwrite=filter_overwrite)\n",
    "    nostim_filter = filters.grp_unstimmed_filter(grp, exclude_baseline_stim=True, overwrite=filter_overwrite)\n",
    "    nostim_ind_filter = filters.grp_unstimmed_formation_filter(grp, stim_filter=nostim_filter, overwrite=filter_overwrite)\n",
    "\n",
    "    stim_filters.append(stim_filter)\n",
    "    ind_filters.append(ind_filter)\n",
    "    nostim_filters.append(nostim_filter)\n",
    "    nostim_ind_filters.append(nostim_ind_filter)\n",
    "\n",
    "filtered_grps = []\n",
    "for grp, stim_filter in zip(grps, stim_filters):\n",
    "    expts = [expt for expt in grp if len(expt.rois(roi_filter=stim_filter))]\n",
    "    grp = pcExperimentGroup(expts, label=grp.label(), **grp.args)\n",
    "    filtered_grps.append(grp)\n",
    "grps = filtered_grps"
   ]
  },
  {
   "cell_type": "code",
   "execution_count": null,
   "metadata": {},
   "outputs": [],
   "source": [
    "# Note: Need to exclude msa0919_1 expt_id: 22417 because it failed to stimulate multiple cells"
   ]
  },
  {
   "cell_type": "markdown",
   "metadata": {},
   "source": [
    "## Plots"
   ]
  },
  {
   "cell_type": "code",
   "execution_count": 96,
   "metadata": {},
   "outputs": [
    {
     "name": "stdout",
     "output_type": "stream",
     "text": [
      "22326 msa0919_2\n",
      "22318 msa0919_2\n",
      "24609 msa0220_3\n",
      "24656 msa0220_3\n",
      "24676 msa0220_3\n",
      "24777 msa0220_3\n",
      "24691 msa0320_1\n",
      "24792 msa0320_1\n",
      "24765 msa0320_2\n",
      "24798 msa0320_2\n"
     ]
    }
   ],
   "source": [
    "for expt in grps[1]:\n",
    "    print expt.trial_id, expt.parent.mouse_name"
   ]
  },
  {
   "cell_type": "code",
   "execution_count": 16,
   "metadata": {},
   "outputs": [],
   "source": [
    "# Setup\n",
    "from matplotlib import rc\n",
    "plt.rcParams['axes.linewidth'] = 1\n",
    "plt.rcParams['ytick.labelsize'] = 6\n",
    "plt.rcParams['xtick.labelsize'] = 6\n",
    "plt.rcParams['axes.labelsize'] = 7\n",
    "plt.rcParams['boxplot.boxprops.linewidth'] = 1\n",
    "plt.rcParams['axes.unicode_minus'] = False\n",
    "\n",
    "rc('font',**{'family':'sans-serif','sans-serif':['helvetica', 'sans-serif']})\n",
    "\n",
    "def clean(ax, full=False, offset=0):\n",
    "    if full:\n",
    "        sns.despine(ax=ax, left=True, bottom=True, offset=offset)\n",
    "        ax.set_yticks([])\n",
    "        ax.set_xticks([])\n",
    "    else:\n",
    "        sns.despine(ax=ax, offset=offset)\n",
    "        \n",
    "labels = ['Dense', '+Dreadd']\n",
    "colors = ['warm blue', 'golden rod']\n",
    "colors = sns.xkcd_palette(colors)"
   ]
  },
  {
   "cell_type": "markdown",
   "metadata": {},
   "source": [
    "### Activity Centroids"
   ]
  },
  {
   "cell_type": "code",
   "execution_count": 32,
   "metadata": {},
   "outputs": [
    {
     "name": "stdout",
     "output_type": "stream",
     "text": [
      "SpearmanrResult(correlation=-0.38298049251844074, pvalue=0.27467301434339914)\n",
      "SpearmanrResult(correlation=0.7500139429824981, pvalue=0.012475320838889697)\n"
     ]
    },
    {
     "data": {
      "image/png": "[encoded data removed]",
      "text/plain": [
       "<Figure size 72x108 with 1 Axes>"
      ]
     },
     "metadata": {
      "needs_background": "light"
     },
     "output_type": "display_data"
    }
   ],
   "source": [
    "fig = plt.figure(figsize=(1, 1.5))\n",
    "ax = fig.add_subplot(111)\n",
    "\n",
    "activity_centroid_df = activity_centroid_df.reset_index()\n",
    "activity_centroid_df = activity_centroid_df.loc[activity_centroid_df['expt_id'] != 22417] #Exclude expt with single stimulated cell\n",
    "\n",
    "sns.scatterplot(y='abs_dist', x='count', hue='group', palette=colors,\n",
    "                data=activity_centroid_df, linewidth=0.5, edgecolor='k', s=16, ax=ax)\n",
    "clean(ax, offset=4)\n",
    "\n",
    "ax.get_legend().remove()\n",
    "ax.set_xlabel('N stimmed')\n",
    "ax.set_xticks([1, 10, 20, 30])\n",
    "ax.set_ylabel('Tuning Distance to SZ (cm)')\n",
    "\n",
    "# Plot trendlines\n",
    "\n",
    "max_count = activity_centroid_df['count'].max()\n",
    "\n",
    "i = 1\n",
    "for _, sub_df in activity_centroid_df.groupby('group'):\n",
    "\n",
    "    pfit = np.polyfit(x=sub_df['count'].values[:], y=sub_df['abs_dist'].values[:], deg=1)\n",
    "    x = np.linspace(0, max_count, 3)\n",
    "    y = x * pfit[0] + pfit[1]\n",
    "    \n",
    "    ax.plot(x, y, color=colors[i], zorder=0, ls='--')\n",
    "    i-=1\n",
    "\n",
    "fig.savefig(savedir + 'activity_centroid_vs_pct_dense.svg')\n",
    "\n",
    "dense_df = activity_centroid_df.loc[activity_centroid_df['group'] == 'dense_all']\n",
    "cno_df = activity_centroid_df.loc[activity_centroid_df['group'] == 'cno_dense_all']\n",
    "\n",
    "print spearmanr(dense_df['abs_dist'], dense_df['count'])\n",
    "print spearmanr(cno_df['abs_dist'], cno_df['count'])"
   ]
  },
  {
   "cell_type": "markdown",
   "metadata": {},
   "source": [
    "### Shifts"
   ]
  },
  {
   "cell_type": "code",
   "execution_count": 38,
   "metadata": {},
   "outputs": [
    {
     "name": "stdout",
     "output_type": "stream",
     "text": [
      "1.61079466557 4.147369702709742\n",
      "17.9075964395 5.687620692006236\n",
      "0.03261061888324828\n"
     ]
    },
    {
     "data": {
      "image/png": "[encoded data removed]",
      "text/plain": [
       "<Figure size 72x108 with 1 Axes>"
      ]
     },
     "metadata": {
      "needs_background": "light"
     },
     "output_type": "display_data"
    }
   ],
   "source": [
    "fig = plt.figure(figsize=(1, 1.5))\n",
    "ax = fig.add_subplot(111)\n",
    "\n",
    "# shift_df = shift_df.reset_index()\n",
    "shift_df = shift_df.loc[shift_df['expt_id_ind'] != 22417]\n",
    "\n",
    "sns.boxplot(x='condition', y='shift', data=shift_df,\n",
    "            ax=ax, order=['Dense', '+Dreadd'],\n",
    "            whis=False, showcaps=False, showfliers=False)\n",
    "plt.setp(ax.artists, edgecolor='k', facecolor='w', linewidth=1)\n",
    "plt.setp(ax.lines, color='k')\n",
    "\n",
    "sns.swarmplot(x='condition', y='shift', hue='condition', data=shift_df, palette=colors,\n",
    "              order=['Dense', '+Dreadd'], hue_order=['Dense', '+Dreadd'], ax=ax, size=4,\n",
    "              edgecolor='k', linewidth=0.5, alpha=1)\n",
    "\n",
    "ax.get_legend().remove()\n",
    "\n",
    "clean(ax, offset=4)\n",
    "ax.set_ylabel('Shift Toward SZ (cm)')\n",
    "ax.set_xlabel('Condition')\n",
    "ax.set_xticklabels(['+saline', '+CNO'])\n",
    "\n",
    "ax.axhline(0, color='0.5', ls='--')\n",
    "\n",
    "fig.savefig(savedir + 'shift_dense.svg')\n",
    "\n",
    "# fig.savefig(save_path + 'activity_centroid_shift_comparison.{}'.format(FILE_ENDING), bbox_inches='tight')\n",
    "\n",
    "# Stats\n",
    "control_df = shift_df.loc[shift_df['condition'] == 'Dense'].dropna()\n",
    "cno_df = shift_df.loc[shift_df['condition'] == '+Dreadd'].dropna()\n",
    "\n",
    "print control_df['shift'].mean(), control_df['shift'].sem()\n",
    "print cno_df['shift'].mean(), cno_df['shift'].sem()\n",
    "print ttest_ind(control_df['shift'], cno_df['shift'])[1]\n",
    "\n",
    "# print 'Activity Centroid Shift: Control Mean={}, CNO Mean={}, p={}'.format(\n",
    "#     control_df.mean()['shift'], cno_df.mean()['shift'], pval)"
   ]
  },
  {
   "cell_type": "markdown",
   "metadata": {},
   "source": [
    "### Induction Rate"
   ]
  },
  {
   "cell_type": "code",
   "execution_count": 9,
   "metadata": {},
   "outputs": [
    {
     "name": "stdout",
     "output_type": "stream",
     "text": [
      "0.131185897436 0.05118473784113942\n",
      "0.339523809524 0.08141108757501113\n",
      "Ttest_indResult(statistic=-2.166470549654141, pvalue=0.04394106622654944)\n",
      "MannwhitneyuResult(statistic=23.0, pvalue=0.021572243847711073)\n"
     ]
    },
    {
     "data": {
      "image/png": "[encoded data removed]",
      "text/plain": [
       "<Figure size 72x108 with 1 Axes>"
      ]
     },
     "metadata": {
      "needs_background": "light"
     },
     "output_type": "display_data"
    }
   ],
   "source": [
    "fig = plt.figure(figsize=(1, 1.5))\n",
    "ax = fig.add_subplot(111)\n",
    "\n",
    "ind_rate = ind_rate.loc[ind_rate['expt'] != 22417]\n",
    "\n",
    "sns.boxplot(x='condition', y='pct_success', data=ind_rate,\n",
    "            ax=ax, order=['Dense', '+Dreadd'],\n",
    "            whis=False, showcaps=False, showfliers=False)\n",
    "plt.setp(ax.artists, edgecolor='k', facecolor='w', linewidth=1)\n",
    "plt.setp(ax.lines, color='k')\n",
    "\n",
    "sns.swarmplot(x='condition', y='pct_success', hue='condition', data=ind_rate, palette=colors,\n",
    "              order=['Dense', '+Dreadd'], hue_order=['Dense', '+Dreadd'], ax=ax, size=4,\n",
    "              edgecolor='k', linewidth=0.5, alpha=1)\n",
    "\n",
    "ax.get_legend().remove()\n",
    "\n",
    "clean(ax, offset=4)\n",
    "ax.set_ylabel('Induction Efficacy')\n",
    "ax.set_xlabel('Condition')\n",
    "ax.set_xticklabels(['+saline', '+CNO'])\n",
    "ax.set_ylim([-0.05, 1.05])\n",
    "\n",
    "# fig.savefig(savedir + 'efficacy_dense.svg')\n",
    "\n",
    "control_df = ind_rate.loc[ind_rate['condition'] == 'Dense'].dropna()\n",
    "cno_df = ind_rate.loc[ind_rate['condition'] == '+Dreadd'].dropna()\n",
    "\n",
    "print control_df['pct_success'].mean(), control_df['pct_success'].sem()\n",
    "print cno_df['pct_success'].mean(), cno_df['pct_success'].sem()\n",
    "print ttest_ind(control_df['pct_success'], cno_df['pct_success'])\n",
    "print mannwhitneyu(control_df['pct_success'], cno_df['pct_success'])"
   ]
  },
  {
   "cell_type": "code",
   "execution_count": 68,
   "metadata": {},
   "outputs": [],
   "source": [
    "ind_rate['delta'] = ind_rate['pct_success'] - ind_rate['pct_success_control']"
   ]
  },
  {
   "cell_type": "code",
   "execution_count": 76,
   "metadata": {},
   "outputs": [
    {
     "name": "stdout",
     "output_type": "stream",
     "text": [
      "0.0239542930117 0.044258467180296794\n",
      "0.224048633042 0.09021993033059363\n",
      "Ttest_1sampResult(statistic=0.5412363901841718, pvalue=0.6014827173385908)\n",
      "Ttest_1sampResult(statistic=2.4833607410374996, pvalue=0.03479902790967181)\n"
     ]
    },
    {
     "data": {
      "image/png": "[encoded data removed]",
      "text/plain": [
       "<Figure size 150x300 with 1 Axes>"
      ]
     },
     "metadata": {
      "needs_background": "light"
     },
     "output_type": "display_data"
    }
   ],
   "source": [
    "fig = plt.figure(figsize=(0.75, 1.5), dpi=200)\n",
    "ax = fig.add_subplot(111)\n",
    "\n",
    "sns.boxplot(x='condition', y='delta', data=ind_rate,\n",
    "            ax=ax, order=['Dense', '+Dreadd'],\n",
    "            whis=False, showcaps=False, showfliers=False)\n",
    "plt.setp(ax.artists, edgecolor='k', facecolor='w', linewidth=1)\n",
    "plt.setp(ax.lines, color='k')\n",
    "\n",
    "sns.swarmplot(x='condition', y='delta', hue='condition', data=ind_rate, palette=colors,\n",
    "              order=['Dense', '+Dreadd'], hue_order=['Dense', '+Dreadd'], ax=ax, size=4,\n",
    "              edgecolor='k', linewidth=0.5, alpha=1)\n",
    "\n",
    "ax.get_legend().remove()\n",
    "\n",
    "clean(ax, offset=4)\n",
    "ax.set_ylabel('Efficacy Relative to Control')\n",
    "ax.set_xlabel('Condition')\n",
    "ax.set_xticklabels(['+saline', '+CNO'])\n",
    "\n",
    "ax.axhline(0, color='0.5', ls='--', zorder=100)\n",
    "\n",
    "\n",
    "\n",
    "fig.savefig('/home/sebi/plots/ind/figs3/' + 'efficacy_delta_dense.svg')\n",
    "control_df = ind_rate.loc[ind_rate['condition'] == 'Dense'].dropna()\n",
    "cno_df = ind_rate.loc[ind_rate['condition'] == '+Dreadd'].dropna()\n",
    "\n",
    "print control_df['delta'].mean(), control_df['delta'].sem()\n",
    "print cno_df['delta'].mean(), cno_df['delta'].sem()\n",
    "print ttest_1samp(control_df['delta'], 0)\n",
    "print ttest_1samp(cno_df['delta'], 0)"
   ]
  },
  {
   "cell_type": "code",
   "execution_count": 27,
   "metadata": {},
   "outputs": [],
   "source": [
    "def tuning_difference(grp, bgrp, roi_filter=None, by_mouse=False,\n",
    "                       normalize=False):\n",
    "\n",
    "    \"\"\"Return mean difference of tuning curves.\n",
    "    \"\"\"\n",
    "\n",
    "    all_diffs = []\n",
    "    mean_diffs = []\n",
    "    \n",
    "    fulldata = grp.data(roi_filter=None)\n",
    "    data = grp.data(roi_filter=roi_filter)\n",
    "    \n",
    "    bfulldata = bgrp.data(roi_filter=None)\n",
    "    bdata = bgrp.data(roi_filter=roi_filter)\n",
    "\n",
    "    for expt, bexpt in zip(grp, bgrp):\n",
    "\n",
    "        stim_loc = expt._get_stim_positions(units='normalized')[0]\n",
    "        shift = 50 - int(stim_loc)\n",
    "\n",
    "        if normalize:\n",
    "\n",
    "            mean2 = np.nanmean(fulldata[expt], axis=0, keepdims=True)\n",
    "            mean1 = np.nanmean(bfulldata[bexpt], axis=0, keepdims=True)\n",
    "\n",
    "            mean_diff = mean2 - mean1\n",
    "            diffs = data[expt] - bdata[bexpt] - mean_diff\n",
    "\n",
    "        else:\n",
    "            diffs = data[expt] - bdata[bexpt]\n",
    "\n",
    "        diffs = np.roll(diffs, shift, axis=1)\n",
    "\n",
    "        # Convert from frames to seconds\n",
    "        diffs = diffs / expt.frame_period()\n",
    "\n",
    "        if by_mouse:\n",
    "            all_diffs.append(np.nanmean(diffs, axis=0))\n",
    "        else:\n",
    "            all_diffs.extend(diffs)\n",
    "        \n",
    "        if normalize:\n",
    "            mean_diffs.extend(np.roll(mean_diff, shift, axis=1) / expt.frame_period())\n",
    "            \n",
    "    if normalize:\n",
    "        return all_diffs, mean_diffs\n",
    "    else:\n",
    "        return all_diffs, None"
   ]
  },
  {
   "cell_type": "code",
   "execution_count": 28,
   "metadata": {},
   "outputs": [],
   "source": [
    "dense_grp = grps[0]\n",
    "dense_bgrp = pcExperimentGroup([x._get_session('control_baseline') for x in dense_grp], **dense_grp.args)\n",
    "\n",
    "cno_grp = grps[1]\n",
    "cno_bgrp = pcExperimentGroup([x._get_session('cno_baseline') for x in cno_grp], **cno_grp.args)"
   ]
  },
  {
   "cell_type": "code",
   "execution_count": 109,
   "metadata": {},
   "outputs": [],
   "source": [
    "dense_diffs, dense_means = tuning_difference(dense_grp, dense_bgrp, roi_filter=stim_filters[0], normalize=False, by_mouse=True)\n",
    "cno_diffs, cno_means = tuning_difference(cno_grp, cno_bgrp, roi_filter=stim_filters[1], normalize=False, by_mouse=True)"
   ]
  },
  {
   "cell_type": "code",
   "execution_count": 108,
   "metadata": {},
   "outputs": [],
   "source": [
    "control_dense_diffs, _ = tuning_difference(dense_grp, dense_bgrp, roi_filter=nostim_filters[0], normalize=False, by_mouse=True)\n",
    "control_cno_diffs, _ = tuning_difference(cno_grp, cno_bgrp, roi_filter=nostim_filters[1], normalize=False, by_mouse=True)"
   ]
  },
  {
   "cell_type": "code",
   "execution_count": 114,
   "metadata": {},
   "outputs": [
    {
     "data": {
      "text/plain": [
       "Text(0.5,1,'POST - PRE')"
      ]
     },
     "execution_count": 114,
     "metadata": {},
     "output_type": "execute_result"
    },
    {
     "data": {
      "image/png": "[encoded data removed]",
      "text/plain": [
       "<Figure size 200x300 with 1 Axes>"
      ]
     },
     "metadata": {
      "needs_background": "light"
     },
     "output_type": "display_data"
    }
   ],
   "source": [
    "fig = plt.figure(figsize=(1, 1.5), dpi=200)\n",
    "ax = fig.add_subplot(111)\n",
    "\n",
    "bin_to_cm = grp[0].track_length / 1000.\n",
    "\n",
    "# dense_mean = np.nanmean(dense_diffs, axis=0)\n",
    "# dense_mean = dense_mean - np.nanmean(control_dense_diffs, axis=0)\n",
    "# dense_sem = sem(dense_diffs, axis=0)\n",
    "\n",
    "dense_diffs = np.array(dense_diffs) - np.array(control_dense_diffs)\n",
    "dense_mean = np.nanmean(dense_diffs, axis=0)\n",
    "dense_sem = sem(dense_diffs, axis=0)\n",
    "\n",
    "# cno_mean = np.nanmean(cno_diffs, axis=0)\n",
    "# dense_mean = dense_mean - np.nanmean(control_cno_diffs, axis=0)\n",
    "# cno_sem = sem(cno_diffs, axis=0)\n",
    "\n",
    "cno_diffs = np.array(cno_diffs) - np.array(control_cno_diffs)\n",
    "cno_mean = np.nanmean(cno_diffs, axis=0)\n",
    "cno_sem = sem(cno_diffs, axis=0)\n",
    "\n",
    "x = np.arange(-50, 50) / 100.\n",
    "\n",
    "# ax.axvline(0, color='k', ls='--')\n",
    "\n",
    "ax.plot(x, dense_mean, color=colors[0], lw=1)\n",
    "ax.fill_between(x, dense_mean-dense_sem, dense_mean+dense_sem, color=colors[0], alpha=0.2, lw=0)\n",
    "ax.plot(x, cno_mean, color=colors[1], lw=1)\n",
    "ax.fill_between(x, cno_mean-cno_sem, cno_mean+cno_sem, color=colors[1], alpha=0.2, lw=0)\n",
    "\n",
    "clean(ax, offset=4)\n",
    "ax.set_xlabel('Normalized Position')\n",
    "ax.set_ylabel('$\\Delta$ Tuning (Hz)')\n",
    "ax.set_title('POST - PRE')\n",
    "\n",
    "# fig.savefig(savedir + 'cno_tuning_difference.svg', bbox_inches='tight')"
   ]
  },
  {
   "cell_type": "markdown",
   "metadata": {},
   "source": [
    "## Data Functions"
   ]
  },
  {
   "cell_type": "code",
   "execution_count": 37,
   "metadata": {},
   "outputs": [],
   "source": [
    "savedir = '/home/sebi/plots/ind/fig3/'\n",
    "datadir = '/home/sebi/data/induction/fig3/'"
   ]
  },
  {
   "cell_type": "code",
   "execution_count": 5,
   "metadata": {},
   "outputs": [],
   "source": [
    "def activity_centroid_vs_nstimmed(grps, stim_filters, labels=None, n_stimmed=True):\n",
    "\n",
    "    if labels is None:\n",
    "        labels = [x.label() for x in grps]\n",
    "\n",
    "    dfs = []\n",
    "    for grp, stim_filter, label in zip(grps, stim_filters, labels):\n",
    "        df = ia.activity_centroid_distance(grp, roi_filter=stim_filter, stim_session=grp[0].stim_session)\n",
    "        grouped_df = df.groupby(['mouse_name', 'expt_id']).mean()\n",
    "        if n_stimmed:\n",
    "            count_df = df.groupby(['mouse_name', 'expt_id']).count()\n",
    "            grouped_df['count'] = count_df['abs_dist']\n",
    "        else:\n",
    "            stim_df = ia.success_rate(grp, stim_filter, stim_filter)\n",
    "            grouped_df = grouped_df.merge(stim_df, left_on=['mouse_name', 'expt_id'],\n",
    "                                          right_on=['mouse', 'expt'])\n",
    "            grouped_df['count'] = grouped_df['pct_stimmed'] * 100\n",
    "        grouped_df['group'] = label\n",
    "#         corr = pearsonr(grouped_df['abs_dist'], grouped_df['count'])\n",
    "#         print 'Activity Centroid V N Stimmed: r={}, p={}'.format(corr[0], corr[1])\n",
    "#         corr = spearmanr(grouped_df['abs_dist'], grouped_df['count'])\n",
    "#         print 'Activity Centroid V N Stimmed: spearman r={}, p={}'.format(corr[0], corr[1])\n",
    "        dfs.append(grouped_df)\n",
    "\n",
    "    df = pd.concat(dfs)\n",
    "    \n",
    "    return df"
   ]
  },
  {
   "cell_type": "code",
   "execution_count": 9,
   "metadata": {},
   "outputs": [],
   "source": [
    "def activity_centroid_shift_paired(grps, stim_filters,\n",
    "                            sessions=['baseline', 'induction'],\n",
    "                            labels=['Dense', '+Dreadd'], colors=None):\n",
    "\n",
    "    df = pd.DataFrame([])\n",
    "\n",
    "    for grp, stim_filter, label in zip(grps, stim_filters, labels):\n",
    "        condition = grp[0].session.split('_')[0]\n",
    "        for session in sessions:\n",
    "\n",
    "            sess_grp = [x._get_session(condition + '_' + session) for x in grp]\n",
    "            sess_grp = pcExperimentGroup(sess_grp, **grp.args)\n",
    "\n",
    "            stim_session = condition + '_induction'\n",
    "\n",
    "            sess_df = ia.activity_centroid_distance(sess_grp, roi_filter=stim_filter, stim_session=stim_session)\n",
    "            sess_df['condition'] = label\n",
    "            sess_df['session'] = session\n",
    "\n",
    "            df = pd.concat([df, sess_df])\n",
    "\n",
    "    shift_df = df.loc[(df['session'] == 'induction')].merge(\n",
    "        df.loc[(df['session'] == 'baseline')],\n",
    "        on=['roi', 'mouse_name', 'condition'],\n",
    "        suffixes=['_ind', '_base'])\n",
    "\n",
    "    shift_df['shift'] = shift_df.apply(lambda x: x['abs_dist_base'] - x['abs_dist_ind'], axis=1)\n",
    "\n",
    "    grp_df = shift_df.groupby(['mouse_name', 'condition', 'expt_id_ind'], as_index=False).mean()\n",
    "    \n",
    "    return grp_df"
   ]
  },
  {
   "cell_type": "code",
   "execution_count": 23,
   "metadata": {},
   "outputs": [],
   "source": [
    "def success_rate_paired(grps, stim_filters, ind_filters, nostim_filters, nostim_ind_filters,\n",
    "                        labels=['Dense', '+Dreadd']):\n",
    "\n",
    "    dfs = []\n",
    "    for grp, label, a, b, c, d in zip(grps, labels, stim_filters, ind_filters, nostim_filters, nostim_ind_filters):\n",
    "\n",
    "        ind_rate = ia.induction_rate(grp, a, b, c, d)\n",
    "        ind_rate['condition'] = label\n",
    "\n",
    "        dfs.append(ind_rate)\n",
    "\n",
    "    df = pd.concat(dfs)\n",
    "    \n",
    "    return df"
   ]
  },
  {
   "cell_type": "code",
   "execution_count": 8,
   "metadata": {},
   "outputs": [],
   "source": [
    "activity_centroid_df = activity_centroid_vs_nstimmed(grps, stim_filters)\n",
    "activity_centroid_df.to_pickle(savedir + 'activity_centroid_dense.pkl')"
   ]
  },
  {
   "cell_type": "code",
   "execution_count": 20,
   "metadata": {},
   "outputs": [],
   "source": [
    "shift_df = activity_centroid_shift_paired(grps, stim_filters)\n",
    "shift_df.to_pickle(savedir + 'shift_dense.pkl')"
   ]
  },
  {
   "cell_type": "code",
   "execution_count": 29,
   "metadata": {},
   "outputs": [],
   "source": [
    "ind_rate = success_rate_paired(grps, stim_filters, ind_filters, nostim_filters, nostim_ind_filters)\n",
    "ind_rate.to_pickle(savedir + 'success_dense.pkl')"
   ]
  },
  {
   "cell_type": "code",
   "execution_count": 8,
   "metadata": {},
   "outputs": [],
   "source": [
    "ind_rate = pd.read_pickle(datadir + 'success_dense.pkl')\n",
    "activity_centroid_df = pd.read_pickle(datadir + 'activity_centroid_dense.pkl')\n",
    "shift_df = pd.read_pickle(datadir + 'shift_dense.pkl')"
   ]
  },
  {
   "cell_type": "code",
   "execution_count": 12,
   "metadata": {},
   "outputs": [
    {
     "data": {
      "text/plain": [
       "11.5"
      ]
     },
     "execution_count": 12,
     "metadata": {},
     "output_type": "execute_result"
    }
   ],
   "source": [
    "ind_rate.loc[(ind_rate['condition'] == 'Dense') & (ind_rate['n_stimmed'] > 1)]['n_stimmed'].median()"
   ]
  },
  {
   "cell_type": "code",
   "execution_count": 12,
   "metadata": {},
   "outputs": [],
   "source": [
    "stim_td = ia.tuning_difference(grps[0], roi_filter=stim_filters[0], by_mouse=False)\n",
    "cno_stim_td = ia.tuning_difference(grps[1], roi_filter=stim_filters[1], by_mouse=False,\n",
    "                                  session1='cno_baseline', session2='cno_induction')"
   ]
  }
 ],
 "metadata": {
  "kernelspec": {
   "display_name": "Python 2",
   "language": "python",
   "name": "python2"
  },
  "language_info": {
   "codemirror_mode": {
    "name": "ipython",
    "version": 2
   },
   "file_extension": ".py",
   "mimetype": "text/x-python",
   "name": "python",
   "nbconvert_exporter": "python",
   "pygments_lexer": "ipython2",
   "version": "2.7.17"
  }
 },
 "nbformat": 4,
 "nbformat_minor": 4
}
