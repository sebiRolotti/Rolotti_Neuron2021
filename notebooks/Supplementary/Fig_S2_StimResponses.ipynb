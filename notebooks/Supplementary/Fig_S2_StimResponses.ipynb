{
 "cells": [
  {
   "cell_type": "code",
   "execution_count": 12,
   "metadata": {},
   "outputs": [
    {
     "name": "stdout",
     "output_type": "stream",
     "text": [
      "[(0, 'SCE'), (1, 'Sparse Targeted'), (2, 'Dense'), (3, 'Dense + Dreadd'), (4, 'Sparse LED')]\n"
     ]
    }
   ],
   "source": [
    "%run /home/sebi/code/analysis/analysis-scripts/induction_analysis/group_scripts/init_all.py"
   ]
  },
  {
   "cell_type": "code",
   "execution_count": 27,
   "metadata": {},
   "outputs": [],
   "source": [
    "import Analysis.induction_analysis as ia\n",
    "\n",
    "%matplotlib widget\n",
    "import matplotlib.pyplot as plt\n",
    "import seaborn as sns\n",
    "sns.set_style(style='ticks')\n",
    "\n",
    "import numpy as np\n",
    "from scipy.stats import sem\n",
    "\n",
    "import pandas as pd"
   ]
  },
  {
   "cell_type": "code",
   "execution_count": 110,
   "metadata": {},
   "outputs": [],
   "source": [
    "def formatPlot(ax, offset=10):\n",
    "    for axis in ['left', 'right', 'bottom', 'top']:\n",
    "        ax.spines[axis].set_linewidth(2)\n",
    "    ax.tick_params(labelsize=14, width=2, length=4)\n",
    "    sns.despine(ax=ax, offset=offset)\n",
    "    ax.set_xlabel('')\n",
    "    ax.set_ylabel('')"
   ]
  },
  {
   "cell_type": "code",
   "execution_count": 206,
   "metadata": {},
   "outputs": [],
   "source": [
    "grp_means = []\n",
    "grp_sems = []\n",
    "grp_psths = []\n",
    "Ts = []\n",
    "\n",
    "for grp, stim_filter in zip(grps, stim_filters):\n",
    "\n",
    "    psths = []\n",
    "    \n",
    "    expt_Ts = []\n",
    "        \n",
    "    for expt in grp:\n",
    "        \n",
    "        T, roi_psths = ia.psth(expt, roi_filter=stim_filter, pre=4, post=8)\n",
    "        expt_Ts.extend([T] * roi_psths.shape[1])\n",
    "        psths.extend(np.nanmean(roi_psths, axis=0))\n",
    "        # By Cell For Now\n",
    "        \n",
    "    # Interpolate to make all experiments of same type same length\n",
    "    anchor_idx = np.argmin([len(x) for x in expt_Ts])\n",
    "    psths_interp = np.vstack([np.interp(expt_Ts[anchor_idx], T, rpsth) for T, rpsth in zip(expt_Ts, psths)])\n",
    "    \n",
    "    Ts.append(expt_Ts[anchor_idx])\n",
    "    psths = np.vstack(psths_interp)\n",
    "\n",
    "    psth_mean = np.nanmean(psths, axis=0)\n",
    "    psth_sem = sem(psths, axis=0)\n",
    "    \n",
    "    grp_psths.append(psths)\n",
    "    grp_means.append(psth_mean)\n",
    "    grp_sems.append(psth_sem)"
   ]
  },
  {
   "cell_type": "code",
   "execution_count": 221,
   "metadata": {},
   "outputs": [
    {
     "data": {
      "application/vnd.jupyter.widget-view+json": {
       "model_id": "d38151e3dad64ab4ac2b7f6226000853",
       "version_major": 2,
       "version_minor": 0
      },
      "text/plain": [
       "FigureCanvasNbAgg()"
      ]
     },
     "metadata": {},
     "output_type": "display_data"
    }
   ],
   "source": [
    "fig = plt.figure()\n",
    "ax = fig.add_subplot(111)\n",
    "\n",
    "for pmean, psem, T, label, color in zip(grp_means, grp_sems, Ts, labels, colors):\n",
    "    \n",
    "    ax.fill_between(T, pmean+psem, pmean-psem, color=color, alpha=0.3)\n",
    "    ax.plot(T, pmean, color=color, label=label)\n",
    "    \n",
    "formatPlot(ax)\n",
    "ax.set_ylabel('Normalized Fluorescence', fontsize=18)\n",
    "ax.set_xlabel('Time From Stim Onset', fontsize=18)\n",
    "\n",
    "# ax.set_xlim([-2, 6])\n",
    "\n",
    "ax.legend()\n",
    "\n",
    "fig.savefig('/home/sebi/plots/ind/figs1/mean_psth_by_condition.svg', bbox_inches='tight')"
   ]
  }
 ],
 "metadata": {
  "kernelspec": {
   "display_name": "Python 2",
   "language": "python",
   "name": "python2"
  },
  "language_info": {
   "codemirror_mode": {
    "name": "ipython",
    "version": 2
   },
   "file_extension": ".py",
   "mimetype": "text/x-python",
   "name": "python",
   "nbconvert_exporter": "python",
   "pygments_lexer": "ipython2",
   "version": "2.7.17"
  }
 },
 "nbformat": 4,
 "nbformat_minor": 4
}
