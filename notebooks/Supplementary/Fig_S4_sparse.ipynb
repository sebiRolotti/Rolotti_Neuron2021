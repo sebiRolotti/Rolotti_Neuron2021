{
 "cells": [
  {
   "cell_type": "code",
   "execution_count": 2,
   "metadata": {},
   "outputs": [
    {
     "name": "stderr",
     "output_type": "stream",
     "text": [
      "/home/sebi/code/analysis/analysis-scripts/induction_analysis/Analysis/induction_analysis.py:4: UserWarning: \n",
      "This call to matplotlib.use() has no effect because the backend has already\n",
      "been chosen; matplotlib.use() must be called *before* pylab, matplotlib.pyplot,\n",
      "or matplotlib.backends is imported for the first time.\n",
      "\n",
      "The backend was *originally* set to 'module://ipykernel.pylab.backend_inline' by the following code:\n",
      "  File \"/usr/lib/python2.7/runpy.py\", line 174, in _run_module_as_main\n",
      "    \"__main__\", fname, loader, pkg_name)\n",
      "  File \"/usr/lib/python2.7/runpy.py\", line 72, in _run_code\n",
      "    exec code in run_globals\n",
      "  File \"/home/sebi/.local/lib/python2.7/site-packages/ipykernel_launcher.py\", line 16, in <module>\n",
      "    app.launch_new_instance()\n",
      "  File \"/home/sebi/.local/lib/python2.7/site-packages/traitlets/config/application.py\", line 658, in launch_instance\n",
      "    app.start()\n",
      "  File \"/home/sebi/.local/lib/python2.7/site-packages/ipykernel/kernelapp.py\", line 499, in start\n",
      "    self.io_loop.start()\n",
      "  File \"/home/sebi/.local/lib/python2.7/site-packages/tornado/ioloop.py\", line 1073, in start\n",
      "    handler_func(fd_obj, events)\n",
      "  File \"/home/sebi/.local/lib/python2.7/site-packages/tornado/stack_context.py\", line 300, in null_wrapper\n",
      "    return fn(*args, **kwargs)\n",
      "  File \"/home/sebi/.local/lib/python2.7/site-packages/zmq/eventloop/zmqstream.py\", line 456, in _handle_events\n",
      "    self._handle_recv()\n",
      "  File \"/home/sebi/.local/lib/python2.7/site-packages/zmq/eventloop/zmqstream.py\", line 486, in _handle_recv\n",
      "    self._run_callback(callback, msg)\n",
      "  File \"/home/sebi/.local/lib/python2.7/site-packages/zmq/eventloop/zmqstream.py\", line 438, in _run_callback\n",
      "    callback(*args, **kwargs)\n",
      "  File \"/home/sebi/.local/lib/python2.7/site-packages/tornado/stack_context.py\", line 300, in null_wrapper\n",
      "    return fn(*args, **kwargs)\n",
      "  File \"/home/sebi/.local/lib/python2.7/site-packages/ipykernel/kernelbase.py\", line 283, in dispatcher\n",
      "    return self.dispatch_shell(stream, msg)\n",
      "  File \"/home/sebi/.local/lib/python2.7/site-packages/ipykernel/kernelbase.py\", line 233, in dispatch_shell\n",
      "    handler(stream, idents, msg)\n",
      "  File \"/home/sebi/.local/lib/python2.7/site-packages/ipykernel/kernelbase.py\", line 399, in execute_request\n",
      "    user_expressions, allow_stdin)\n",
      "  File \"/home/sebi/.local/lib/python2.7/site-packages/ipykernel/ipkernel.py\", line 208, in do_execute\n",
      "    res = shell.run_cell(code, store_history=store_history, silent=silent)\n",
      "  File \"/home/sebi/.local/lib/python2.7/site-packages/ipykernel/zmqshell.py\", line 537, in run_cell\n",
      "    return super(ZMQInteractiveShell, self).run_cell(*args, **kwargs)\n",
      "  File \"/home/sebi/.local/lib/python2.7/site-packages/IPython/core/interactiveshell.py\", line 2714, in run_cell\n",
      "    interactivity=interactivity, compiler=compiler, result=result)\n",
      "  File \"/home/sebi/.local/lib/python2.7/site-packages/IPython/core/interactiveshell.py\", line 2818, in run_ast_nodes\n",
      "    if self.run_code(code, result):\n",
      "  File \"/home/sebi/.local/lib/python2.7/site-packages/IPython/core/interactiveshell.py\", line 2878, in run_code\n",
      "    exec(code_obj, self.user_global_ns, self.user_ns)\n",
      "  File \"<ipython-input-2-767856f1a0e6>\", line 1, in <module>\n",
      "    get_ipython().magic(u'matplotlib inline')\n",
      "  File \"/home/sebi/.local/lib/python2.7/site-packages/IPython/core/interactiveshell.py\", line 2160, in magic\n",
      "    return self.run_line_magic(magic_name, magic_arg_s)\n",
      "  File \"/home/sebi/.local/lib/python2.7/site-packages/IPython/core/interactiveshell.py\", line 2081, in run_line_magic\n",
      "    result = fn(*args,**kwargs)\n",
      "  File \"<decorator-gen-105>\", line 2, in matplotlib\n",
      "  File \"/home/sebi/.local/lib/python2.7/site-packages/IPython/core/magic.py\", line 188, in <lambda>\n",
      "    call = lambda f, *a, **k: f(*a, **k)\n",
      "  File \"/home/sebi/.local/lib/python2.7/site-packages/IPython/core/magics/pylab.py\", line 100, in matplotlib\n",
      "    gui, backend = self.shell.enable_matplotlib(args.gui)\n",
      "  File \"/home/sebi/.local/lib/python2.7/site-packages/IPython/core/interactiveshell.py\", line 2966, in enable_matplotlib\n",
      "    pt.activate_matplotlib(backend)\n",
      "  File \"/home/sebi/.local/lib/python2.7/site-packages/IPython/core/pylabtools.py\", line 315, in activate_matplotlib\n",
      "    matplotlib.pyplot.switch_backend(backend)\n",
      "  File \"/home/sebi/.local/lib/python2.7/site-packages/matplotlib/pyplot.py\", line 231, in switch_backend\n",
      "    matplotlib.use(newbackend, warn=False, force=True)\n",
      "  File \"/home/sebi/.local/lib/python2.7/site-packages/matplotlib/__init__.py\", line 1425, in use\n",
      "    reload(sys.modules['matplotlib.backends'])\n",
      "  File \"/home/sebi/.local/lib/python2.7/site-packages/matplotlib/backends/__init__.py\", line 17, in <module>\n",
      "    line for line in traceback.format_stack()\n",
      "\n",
      "\n",
      "  mpl.use('pdf')\n"
     ]
    }
   ],
   "source": [
    "%matplotlib inline\n",
    "import matplotlib.pyplot as plt\n",
    "import seaborn as sns\n",
    "sns.set_style(style='ticks')\n",
    "import matplotlib.pyplot as plt\n",
    "import seaborn as sns\n",
    "\n",
    "import sys\n",
    "sys.path.insert(0, '../induction_analysis')\n",
    "\n",
    "import Analysis.induction_analysis as ia\n",
    "import Analysis.induction_plots as ip\n",
    "from Analysis import filters\n",
    "from Analysis import comparison_plots as cp\n",
    "\n",
    "from lab_repo.classes.place_cell_classes import pcExperimentGroup\n",
    "\n",
    "from Experiments import SingleCellExperiment\n",
    "\n",
    "import pandas as pd\n",
    "import numpy as np\n",
    "\n",
    "from scipy.stats import ttest_ind, ttest_rel, ttest_1samp, mannwhitneyu, wilcoxon, spearmanr, binned_statistic, sem"
   ]
  },
  {
   "cell_type": "code",
   "execution_count": 3,
   "metadata": {},
   "outputs": [],
   "source": [
    "# Sparse\n",
    "\n",
    "# Initialize Group\n",
    "grps = []\n",
    "\n",
    "expt_ids = [22745, 22757, 23845, 23890, 23841, 23901] + [24699, 24760, 24702, 24987]\n",
    "mps = ['/data/Sebi/2p/svr153/102919/MarkPoints-10072019-ref-003', \n",
    "      '/data/Sebi/2p/svr154/103019/MarkPoints-10302019-1254-001',\n",
    "      '/data/Sebi/2p/svr159/010820/MarkPoints-01082020-1318-001',\n",
    "      '/data/Sebi/2p/svr160/010820/MarkPoints-01082020-1318-001',\n",
    "      '/data/Sebi/2p/svr161/010920/MarkPoints-01092020-1404-003',\n",
    "      '/data/Sebi/2p/svr164/011020/MarkPoints-01102020-1135-002',\n",
    "      '/data3/Sebi/2p/svr165/030320/MarkPoints-02282020-induce-002',\n",
    "      '/data3/Sebi/2p/svr166/030320/MarkPoints-02282020-induce-002',\n",
    "      '/data3/Sebi/2p/svr169/030320/MarkPoints-02282020-induce-002',\n",
    "      '/data3/Sebi/2p/svr174/030820/MarkPoints-03082020-induction-001']\n",
    "\n",
    "expts = [SingleCellExperiment.SingleCellExperiment(x, mp) for x, mp in zip(expt_ids, mps)]\n",
    "\n",
    "pc_kwargs = {'imaging_label': 'suite2p',\n",
    "                         'nPositionBins': 100,\n",
    "                         'channel': 'Ch2',\n",
    "                         'demixed': False,\n",
    "                         'pf_subset': None,\n",
    "                         'signal': 'spikes'}\n",
    "\n",
    "grp = pcExperimentGroup(expts, label='sparse_targeted', **pc_kwargs)\n",
    "grps.append(grp)\n",
    "\n",
    "\n",
    "expt_ids = [22738, 22748, 23836, 23902, 23835, 23837] + [24723, 24756, 24708, 25010]\n",
    "mps = ['/data/Sebi/2p/svr153/103119/MarkPoints-10072019-ref-001',\n",
    "      '/data/Sebi/2p/svr154/110119/MarkPoints-10072019-ref-001',\n",
    "      '/data/Sebi/2p/svr159/011120/MarkPoints-01112020-1030-001',\n",
    "      '/data/Sebi/2p/svr160/011120/MarkPoints-01112020-1030-002',\n",
    "      '/data/Sebi/2p/svr161/011220/MarkPoints-01112020-1030-001',\n",
    "      '/data/Sebi/2p/svr164/011220/MarkPoints-01112020-1030-001',\n",
    "      '/data3/Sebi/2p/svr165/030520/MarkPoints-02282020-induce-001',\n",
    "      '/data3/Sebi/2p/svr166/030520/MarkPoints-02282020-induce-001',\n",
    "      '/data3/Sebi/2p/svr169/030520/MarkPoints-02282020-induce-002',\n",
    "      '/data3/Sebi/2p/svr174/031020/MarkPoints-03102020-induce-cno-001']\n",
    "\n",
    "expts = [SingleCellExperiment.SingleCellExperiment(x, mp) for x, mp in zip(expt_ids, mps)]\n",
    "grp = pcExperimentGroup(expts, label='cno_sparse_targeted', **pc_kwargs)\n",
    "grps.append(grp)\n",
    "\n",
    "labels = ['Sparse', '+Dreadd']\n",
    "# colors = ['grey', 'coral']\n",
    "colors = ['orange yellow']\n",
    "colors = ['r'] + sns.xkcd_palette(colors)\n",
    "\n",
    "# Setup Filters\n",
    "stim_filters = []\n",
    "ind_filters = []\n",
    "nostim_filters = []\n",
    "nostim_ind_filters = []\n",
    "filter_overwrite = [False, False]\n",
    "\n",
    "\n",
    "for grp, f_o in zip(grps, filter_overwrite):\n",
    "    stim_filter = filters.grp_stim_filter(grp, spatial_dist=75, label='suite2p', overwrite=f_o, activity_filter=True)\n",
    "    ind_filter = filters.grp_induction_filter(grp, stim_filter=stim_filter, overwrite=f_o)\n",
    "    nostim_filter = filters.grp_unstimmed_filter(grp, exclude_baseline_stim=True, overwrite=f_o)\n",
    "    nostim_ind_filter = filters.grp_unstimmed_formation_filter(grp, stim_filter=nostim_filter, overwrite=f_o)\n",
    "\n",
    "    stim_filters.append(stim_filter)\n",
    "    ind_filters.append(ind_filter)\n",
    "    nostim_filters.append(nostim_filter)\n",
    "    nostim_ind_filters.append(nostim_ind_filter)\n",
    "\n",
    "filtered_grps = []\n",
    "for grp, stim_filter in zip(grps, stim_filters):\n",
    "    expts = [expt for expt in grp if len(expt.rois(roi_filter=stim_filter))]\n",
    "    grp = pcExperimentGroup(expts, label=grp.label(), **grp.args)\n",
    "    filtered_grps.append(grp)\n",
    "grps = filtered_grps"
   ]
  },
  {
   "cell_type": "code",
   "execution_count": 4,
   "metadata": {},
   "outputs": [],
   "source": [
    "data_dir = '/home/sebi/data/induction/figs3/'\n",
    "save_dir = '/home/sebi/plots/ind/figs3/'"
   ]
  },
  {
   "cell_type": "markdown",
   "metadata": {},
   "source": [
    "## Plotting"
   ]
  },
  {
   "cell_type": "code",
   "execution_count": 5,
   "metadata": {},
   "outputs": [],
   "source": [
    "# Setup\n",
    "from matplotlib import rc\n",
    "plt.rcParams['axes.linewidth'] = 1\n",
    "plt.rcParams['ytick.labelsize'] = 6\n",
    "plt.rcParams['xtick.labelsize'] = 6\n",
    "plt.rcParams['axes.labelsize'] = 7\n",
    "plt.rcParams['boxplot.boxprops.linewidth'] = 1\n",
    "plt.rcParams['axes.unicode_minus'] = False\n",
    "\n",
    "rc('font',**{'family':'sans-serif','sans-serif':['helvetica', 'sans-serif']})\n",
    "\n",
    "def clean(ax, full=False, offset=0):\n",
    "    if full:\n",
    "        sns.despine(ax=ax, left=True, bottom=True, offset=offset)\n",
    "        ax.set_yticks([])\n",
    "        ax.set_xticks([])\n",
    "    else:\n",
    "        sns.despine(ax=ax, offset=offset)"
   ]
  },
  {
   "cell_type": "code",
   "execution_count": 146,
   "metadata": {},
   "outputs": [
    {
     "data": {
      "text/plain": [
       "(-1, 5)"
      ]
     },
     "execution_count": 146,
     "metadata": {},
     "output_type": "execute_result"
    },
    {
     "data": {
      "image/png": "[encoded data removed]",
      "text/plain": [
       "<Figure size 240x300 with 1 Axes>"
      ]
     },
     "metadata": {},
     "output_type": "display_data"
    }
   ],
   "source": [
    "# Max across all single cell stim experiments \n",
    "max_dist = 168.5935987978145\n",
    "\n",
    "amps = pd.read_pickle(data_dir + 'sparse_amps.pkl')\n",
    "dists = pd.read_pickle(data_dir + 'sparse_dists.pkl')\n",
    "\n",
    "def bin_data(amps, dists):\n",
    "\n",
    "    full_df = dists.merge(amps, on=['mouse_name', 'expt_id', 'roi'])\n",
    "    df = full_df.loc[full_df['dist'] <= max_dist]\n",
    "\n",
    "    zeros = df.loc[df['dist'] == 0]['zdiff']\n",
    "    rest = df.loc[df['dist'] > 0]\n",
    "    means, bins, _ = binned_statistic(rest['dist'], rest['zdiff'],\n",
    "                                          statistic=np.mean,\n",
    "                                          bins=np.linspace(0, max_dist, 21))\n",
    "\n",
    "    stds, bins, _ = binned_statistic(rest['dist'], rest['zdiff'],\n",
    "                                          statistic=sem,\n",
    "                                          bins=np.linspace(0, max_dist, 21))\n",
    "\n",
    "    bin_size = bins[1] - bins[0]\n",
    "    zero_mean = np.nanmean(zeros)\n",
    "    zero_std = sem(zeros)\n",
    "\n",
    "    means = np.concatenate([[zero_mean], means])[:-8]\n",
    "    stds = np.concatenate([[zero_std], stds])[:-8]\n",
    "    plot_bins = np.concatenate([[0], bins + (bins[1] - bins[0]) / 2.])[:-8]\n",
    "    \n",
    "    return means, stds, plot_bins\n",
    "\n",
    "amps = pd.read_pickle(data_dir + 'sparse_amps.pkl')\n",
    "dists = pd.read_pickle(data_dir + 'sparse_dists.pkl')\n",
    "\n",
    "means, stds, plot_bins = bin_data(amps, dists)\n",
    "\n",
    "amps = pd.read_pickle(data_dir + 'cno_sparse_amps.pkl')\n",
    "dists = pd.read_pickle(data_dir + 'cno_sparse_dists.pkl')\n",
    "\n",
    "cno_means, cno_stds, cno_plot_bins = bin_data(amps, dists)\n",
    "\n",
    "\n",
    "\n",
    "fig = plt.figure(figsize=(1.2, 1.5), dpi=200)\n",
    "ax = fig.add_subplot(111)\n",
    "\n",
    "ax.errorbar(plot_bins[:-1], means, yerr=stds, fmt='o', mfc=colors[0], mec='k', ecolor='k', ms=2.5, elinewidth=0.5, mew=0.5)\n",
    "ax.errorbar(cno_plot_bins[:-1] + 1, cno_means, yerr=cno_stds, fmt='o', mfc=colors[1], mec='k', ecolor='k', ms=2.5, elinewidth=0.5, mew=0.5)\n",
    "\n",
    "clean(ax, offset=4)\n",
    "ax.set_xlabel('Distance from Target (um)')\n",
    "ax.set_ylabel('Mean Stim Response ($\\sigma$)')\n",
    "\n",
    "ax.axhline(0, color='0.5', ls='--')\n",
    "\n",
    "# ax.set_yticks(range(-1, 6, 2))\n",
    "ax.set_ylim([-1, 5])\n",
    "\n",
    "# fig.savefig(save_dir + 'sparse_stim_response_vs_dist_clipped_overlay.svg')"
   ]
  },
  {
   "cell_type": "code",
   "execution_count": 145,
   "metadata": {},
   "outputs": [
    {
     "name": "stdout",
     "output_type": "stream",
     "text": [
      "(1750, 11)\n",
      "(1785, 11)\n"
     ]
    }
   ],
   "source": [
    "amps = pd.read_pickle(data_dir + 'sparse_amps.pkl')\n",
    "print amps.shape\n",
    "\n",
    "amps = pd.read_pickle(data_dir + 'cno_sparse_amps.pkl')\n",
    "print amps.shape"
   ]
  },
  {
   "cell_type": "code",
   "execution_count": 55,
   "metadata": {},
   "outputs": [
    {
     "name": "stdout",
     "output_type": "stream",
     "text": [
      "Ttest_indResult(statistic=0.26281204248316253, pvalue=0.7938689999290258)\n",
      "Ttest_indResult(statistic=-1.468549104007467, pvalue=0.14775665069123733)\n",
      "Ttest_indResult(statistic=1.1951670642848624, pvalue=0.23550933537154034)\n",
      "Ttest_indResult(statistic=0.5315212229237948, pvalue=0.5964439943752522)\n",
      "Ttest_indResult(statistic=-0.06451140501434216, pvalue=0.9486811899864718)\n",
      "Ttest_indResult(statistic=-1.2276451711632008, pvalue=0.22208715389160552)\n",
      "Ttest_indResult(statistic=-0.9685614313253322, pvalue=0.33464942802746045)\n",
      "Ttest_indResult(statistic=1.3089582839664502, pvalue=0.19270835224988705)\n",
      "Ttest_indResult(statistic=-0.47667198987882087, pvalue=0.6342893749035552)\n",
      "Ttest_indResult(statistic=0.41668849858762114, pvalue=0.6775830787366914)\n",
      "Ttest_indResult(statistic=1.0591932909391364, pvalue=0.29131013913407816)\n"
     ]
    }
   ],
   "source": [
    "amps = pd.read_pickle(data_dir + 'sparse_amps.pkl')\n",
    "dists = pd.read_pickle(data_dir + 'sparse_dists.pkl')\n",
    "\n",
    "full_df = dists.merge(amps, on=['mouse_name', 'expt_id', 'roi'])\n",
    "df = full_df.loc[full_df['dist'] <= max_dist]\n",
    "\n",
    "zeros = df.loc[df['dist'] == 0]['zdiff']\n",
    "rest = df.loc[df['dist'] > 0]\n",
    "\n",
    "cno_amps = pd.read_pickle(data_dir + 'cno_sparse_amps.pkl')\n",
    "cno_dists = pd.read_pickle(data_dir + 'cno_sparse_dists.pkl')\n",
    "\n",
    "full_df = cno_dists.merge(cno_amps, on=['mouse_name', 'expt_id', 'roi'])\n",
    "df = full_df.loc[full_df['dist'] <= max_dist]\n",
    "\n",
    "cno_zeros = df.loc[df['dist'] == 0]['zdiff']\n",
    "cno_rest = df.loc[df['dist'] > 0]\n",
    "\n",
    "bins=np.linspace(0, max_dist, 21)\n",
    "\n",
    "print ttest_ind(zeros.dropna(), cno_zeros.dropna())\n",
    "for i in xrange(10):\n",
    "    a = rest.loc[(rest['dist'] >= bins[i]) & (rest['dist'] < bins[i+1])]['zdiff'].dropna()\n",
    "    b = cno_rest.loc[(cno_rest['dist'] >= bins[i]) & (cno_rest['dist'] < bins[i+1])]['zdiff'].dropna()\n",
    "    print ttest_ind(a, b)"
   ]
  },
  {
   "cell_type": "markdown",
   "metadata": {},
   "source": [
    "### Firing Rates"
   ]
  },
  {
   "cell_type": "code",
   "execution_count": 106,
   "metadata": {},
   "outputs": [
    {
     "name": "stdout",
     "output_type": "stream",
     "text": [
      "PRE\n",
      "Ttest_relResult(statistic=-2.718067027641513, pvalue=0.026327345128988874)\n",
      "POST\n",
      "Ttest_relResult(statistic=-1.9622423599757821, pvalue=0.08536161035060762)\n",
      "24H\n",
      "Ttest_relResult(statistic=-0.3914396495540699, pvalue=0.7056919875315114)\n"
     ]
    },
    {
     "data": {
      "image/png": "[encoded data removed]",
      "text/plain": [
       "<Figure size 108x108 with 1 Axes>"
      ]
     },
     "metadata": {},
     "output_type": "display_data"
    }
   ],
   "source": [
    "frs['condition'] = '+saline'\n",
    "cno_frs['condition'] = '+CNO'\n",
    "\n",
    "fr_df = pd.concat([frs, cno_frs])\n",
    "\n",
    "fig = plt.figure(figsize=(1.5, 1.5))\n",
    "ax = fig.add_subplot(111)\n",
    "\n",
    "sessions = ['PRE', 'POST', '24H']\n",
    "\n",
    "grouped_df = fr_df.groupby(['expt', 'mouse', 'condition', 'session'], as_index=False).mean()\n",
    "\n",
    "sns.boxplot(x='session', y='fr', hue='condition', data=grouped_df, order=sessions,\n",
    "            ax=ax, whis=False, showcaps=False, showfliers=False, hue_order=['+saline', '+CNO'])\n",
    "plt.setp(ax.artists, edgecolor='k', facecolor='w', linewidth=1)\n",
    "plt.setp(ax.lines, color='k')\n",
    "\n",
    "sns.swarmplot(x='session', y='fr', hue='condition', data=grouped_df, palette=colors,\n",
    "              order=sessions, hue_order=['+saline', '+CNO'], ax=ax, size=4, dodge=True,\n",
    "              edgecolor='k', linewidth=0.5, alpha=1)\n",
    "\n",
    "ax.get_legend().remove()\n",
    "\n",
    "clean(ax, offset=4)\n",
    "ax.set_xlabel('Session')\n",
    "ax.set_ylabel('Mean Event Rate (Hz)')\n",
    "\n",
    "# ax.axhline(194./4, color='0.5', ls='--')\n",
    "\n",
    "fig.savefig(save_dir + 'sparse_FR.svg')\n",
    "\n",
    "for session in sessions:\n",
    "    print session\n",
    "    a = grouped_df.loc[(grouped_df['session'] == session) & (grouped_df['condition'] == '+saline')]['fr']\n",
    "    b = grouped_df.loc[(grouped_df['session'] == session) & (grouped_df['condition'] == '+CNO')]['fr']\n",
    "    \n",
    "    print ttest_rel(a, b)"
   ]
  },
  {
   "cell_type": "markdown",
   "metadata": {},
   "source": [
    "### Activity Centroids"
   ]
  },
  {
   "cell_type": "code",
   "execution_count": 105,
   "metadata": {},
   "outputs": [
    {
     "name": "stdout",
     "output_type": "stream",
     "text": [
      "PRE\n",
      "Ttest_relResult(statistic=-0.9030656429159177, pvalue=0.3928702029028749)\n",
      "POST\n",
      "Ttest_relResult(statistic=-2.509877667169149, pvalue=0.03637786422751133)\n",
      "24H\n",
      "Ttest_relResult(statistic=-0.17321496693341046, pvalue=0.8667848811980132)\n"
     ]
    },
    {
     "data": {
      "image/png": "[encoded data removed]",
      "text/plain": [
       "<Figure size 108x108 with 1 Axes>"
      ]
     },
     "metadata": {},
     "output_type": "display_data"
    }
   ],
   "source": [
    "fig = plt.figure(figsize=(1.5, 1.5))\n",
    "ax = fig.add_subplot(111)\n",
    "\n",
    "activity_centroid_df['condition'] = '+saline'\n",
    "# cno_activity_centroid_df['condition'] = '+CNO'\n",
    "\n",
    "\n",
    "full_df = pd.concat([activity_centroid_df, cno_activity_centroid_df])\n",
    "\n",
    "full_df = full_df.groupby(['session', 'condition', 'expt_id', 'mouse_name'], as_index=False).mean()\n",
    "\n",
    "sns.boxplot(x='session', y='abs_dist', hue='condition', data=full_df, order=sessions,\n",
    "            ax=ax, whis=False, showcaps=False, showfliers=False, hue_order=['+saline', '+CNO'])\n",
    "plt.setp(ax.artists, edgecolor='k', facecolor='w', linewidth=1)\n",
    "plt.setp(ax.lines, color='k')\n",
    "\n",
    "sns.swarmplot(x='session', y='abs_dist', hue='condition', data=full_df, palette=colors,\n",
    "              order=sessions, hue_order=['+saline', '+CNO'], ax=ax, size=4, dodge=True,\n",
    "              edgecolor='k', linewidth=0.5, alpha=1)\n",
    "\n",
    "clean(ax, offset=4)\n",
    "\n",
    "ax.get_legend().remove()\n",
    "ax.set_xlabel('Session')\n",
    "ax.set_ylabel('Tuning Distance to SZ (cm)')\n",
    "\n",
    "ax.axhline(194/4., color='0.5', ls='--')\n",
    "\n",
    "fig.savefig(save_dir + 'sparse_activity_centroid_session.svg')\n",
    "\n",
    "for session in sessions:\n",
    "    print session\n",
    "    a = full_df.loc[(full_df['session'] == session) & (full_df['condition'] == '+saline')]['abs_dist']\n",
    "    b = full_df.loc[(full_df['session'] == session) & (full_df['condition'] == '+CNO')]['abs_dist']\n",
    "    \n",
    "    print ttest_rel(a, b)"
   ]
  },
  {
   "cell_type": "code",
   "execution_count": 117,
   "metadata": {},
   "outputs": [
    {
     "name": "stdout",
     "output_type": "stream",
     "text": [
      "20.371071933 7.19835845866503\n",
      "8.22264807383 9.76269379850274\n",
      "0.4010908877149164\n"
     ]
    },
    {
     "data": {
      "image/png": "[encoded data removed]",
      "text/plain": [
       "<Figure size 54x108 with 1 Axes>"
      ]
     },
     "metadata": {},
     "output_type": "display_data"
    }
   ],
   "source": [
    "#Shift\n",
    "fig = plt.figure(figsize=(0.75, 1.5))\n",
    "ax = fig.add_subplot(111)\n",
    "\n",
    "shift_df = pd.read_pickle(data_dir + 'sparse_shift.pkl')\n",
    "\n",
    "sns.boxplot(x='condition', y='shift', data=shift_df,\n",
    "            ax=ax, order=['Dense', '+Dreadd'],\n",
    "            whis=False, showcaps=False, showfliers=False)\n",
    "plt.setp(ax.artists, edgecolor='k', facecolor='w', linewidth=1)\n",
    "plt.setp(ax.lines, color='k')\n",
    "\n",
    "sns.swarmplot(x='condition', y='shift', hue='condition', data=shift_df, palette=colors,\n",
    "              order=['Dense', '+Dreadd'], hue_order=['Dense', '+Dreadd'], ax=ax, size=4,\n",
    "              edgecolor='k', linewidth=0.5, alpha=1)\n",
    "\n",
    "ax.get_legend().remove()\n",
    "\n",
    "clean(ax, offset=4)\n",
    "ax.set_ylabel('Shift Toward SZ (cm)')\n",
    "ax.set_xlabel('Condition')\n",
    "ax.set_xticklabels(['+saline', '+CNO'])\n",
    "\n",
    "ax.axhline(0, color='0.5', ls='--')\n",
    "\n",
    "fig.savefig(save_dir + 'shift_sparse.svg')\n",
    "\n",
    "# Stats\n",
    "control_df = shift_df.loc[shift_df['condition'] == 'Dense'].dropna()\n",
    "cno_df = shift_df.loc[shift_df['condition'] == '+Dreadd'].dropna()\n",
    "\n",
    "print control_df['shift'].mean(), control_df['shift'].sem()\n",
    "print cno_df['shift'].mean(), cno_df['shift'].sem()\n",
    "print ttest_rel(control_df['shift'], cno_df['shift'])[1]\n",
    "\n",
    "# print 'Activity Centroid Shift: Control Mean={}, CNO Mean={}, p={}'.format(\n",
    "#     control_df.mean()['shift'], cno_df.mean()['shift'], pval)"
   ]
  },
  {
   "cell_type": "markdown",
   "metadata": {},
   "source": [
    "### Activity Centroids for Unstimmed"
   ]
  },
  {
   "cell_type": "code",
   "execution_count": 114,
   "metadata": {},
   "outputs": [
    {
     "name": "stdout",
     "output_type": "stream",
     "text": [
      "PRE\n",
      "Ttest_relResult(statistic=0.06020418332865927, pvalue=0.9534698223471586)\n",
      "POST\n",
      "Ttest_relResult(statistic=-0.5172669304323437, pvalue=0.618963905834121)\n",
      "24H\n",
      "Ttest_relResult(statistic=-6.879656594479573, pvalue=0.00012711360204952475)\n"
     ]
    },
    {
     "data": {
      "image/png": "[encoded data removed]",
      "text/plain": [
       "<Figure size 108x108 with 1 Axes>"
      ]
     },
     "metadata": {},
     "output_type": "display_data"
    }
   ],
   "source": [
    "fig = plt.figure(figsize=(1.5, 1.5))\n",
    "ax = fig.add_subplot(111)\n",
    "\n",
    "nostim_activity_centroid_df['condition'] = '+saline'\n",
    "nostim_cno_activity_centroid_df['condition'] = '+CNO'\n",
    "\n",
    "full_df = pd.concat([nostim_activity_centroid_df, nostim_cno_activity_centroid_df])\n",
    "\n",
    "full_df = full_df.groupby(['session', 'condition', 'expt_id', 'mouse_name'], as_index=False).mean()\n",
    "\n",
    "sns.boxplot(x='session', y='abs_dist', hue='condition', data=full_df, order=sessions,\n",
    "            ax=ax, whis=False, showcaps=False, showfliers=False, hue_order=['+saline', '+CNO'])\n",
    "plt.setp(ax.artists, edgecolor='k', facecolor='w', linewidth=1)\n",
    "plt.setp(ax.lines, color='k')\n",
    "\n",
    "sns.swarmplot(x='session', y='abs_dist', hue='condition', data=full_df, palette=['0.3', '0.7'],\n",
    "              order=sessions, hue_order=['+saline', '+CNO'], ax=ax, size=4, dodge=True,\n",
    "              edgecolor='k', linewidth=0.5, alpha=1)\n",
    "\n",
    "clean(ax, offset=4)\n",
    "\n",
    "ax.get_legend().remove()\n",
    "ax.set_ylabel('Tuning Distance to SZ (cm)')\n",
    "ax.set_ylim([0, 100])\n",
    "ax.set_xlabel('Session')\n",
    "\n",
    "ax.axhline(194/4., color='0.5', ls='--')\n",
    "\n",
    "fig.savefig(save_dir + 'sparse_nostim_activity_centroid_session.svg')\n",
    "\n",
    "# dense_df = activity_centroid_df.loc[activity_centroid_df['group'] == 'sparse_targeted']\n",
    "# cno_df = activity_centroid_df.loc[activity_centroid_df['group'] == 'cno_sparse_targeted']\n",
    "\n",
    "# print spearmanr(dense_df['abs_dist'].dropna(), dense_df['count'].dropna())\n",
    "# print spearmanr(cno_df['abs_dist'].dropna(), cno_df['count'].dropna())\n",
    "\n",
    "for session in sessions:\n",
    "    print session\n",
    "    a = full_df.loc[(full_df['session'] == session) & (full_df['condition'] == '+saline')]['abs_dist']\n",
    "    b = full_df.loc[(full_df['session'] == session) & (full_df['condition'] == '+CNO')]['abs_dist']\n",
    "    \n",
    "    print ttest_rel(a, b)"
   ]
  },
  {
   "cell_type": "code",
   "execution_count": 115,
   "metadata": {},
   "outputs": [
    {
     "data": {
      "image/png": "[encoded data removed]",
      "text/plain": [
       "<Figure size 54x108 with 1 Axes>"
      ]
     },
     "metadata": {},
     "output_type": "display_data"
    }
   ],
   "source": [
    "full_df = pd.concat([nostim_activity_centroid_df, nostim_cno_activity_centroid_df])\n",
    "\n",
    "shift_df = full_df.loc[(full_df['session'] == 'POST')].merge(\n",
    "        full_df.loc[(full_df['session'] == 'PRE')],\n",
    "        on=['roi', 'mouse_name', 'condition'],\n",
    "        suffixes=['_ind', '_base'])\n",
    "\n",
    "shift_df['shift'] = shift_df.apply(lambda x: x['abs_dist_base'] - x['abs_dist_ind'], axis=1)\n",
    "\n",
    "grouped_df = shift_df.groupby(['expt_id_ind', 'mouse_name', 'condition'], as_index=False).mean()\n",
    "\n",
    "fig = plt.figure(figsize=(0.75, 1.5))\n",
    "ax = fig.add_subplot(111)\n",
    "\n",
    "sns.boxplot(x='condition', y='shift', data=grouped_df,\n",
    "            ax=ax, whis=False, showcaps=False, showfliers=False, order=['+saline', '+CNO'])\n",
    "plt.setp(ax.artists, edgecolor='k', facecolor='w', linewidth=1)\n",
    "plt.setp(ax.lines, color='k')\n",
    "\n",
    "sns.swarmplot(x='condition', y='shift', hue='condition', data=grouped_df, palette=['0.3', '0.7'],\n",
    "              order=['+saline', '+CNO'], hue_order=['+saline', '+CNO'], ax=ax, size=4, dodge=False,\n",
    "              edgecolor='k', linewidth=0.5, alpha=1)\n",
    "\n",
    "ax.axhline(0, color='0.5', ls='--')\n",
    "\n",
    "ax.get_legend().remove()\n",
    "\n",
    "clean(ax, offset=4)\n",
    "\n",
    "ax.set_ylabel('Shift Toward SZ (cm)')\n",
    "ax.set_xlabel('Condition')\n",
    "ax.set_ylim([-40, 40])\n",
    "\n",
    "fig.savefig(save_dir + 'sparse_unstimmed_shift.svg')"
   ]
  },
  {
   "cell_type": "markdown",
   "metadata": {},
   "source": [
    "## Redo activity centroid plots but compare within condition instead"
   ]
  },
  {
   "cell_type": "code",
   "execution_count": 125,
   "metadata": {},
   "outputs": [
    {
     "name": "stdout",
     "output_type": "stream",
     "text": [
      "PRE\n",
      "Ttest_relResult(statistic=-0.440296436551533, pvalue=0.6713763135664321)\n",
      "POST\n",
      "Ttest_relResult(statistic=-5.896578338238877, pvalue=0.00036314348712008766)\n",
      "24H\n",
      "Ttest_relResult(statistic=-1.6015571176940275, pvalue=0.1479212140561146)\n"
     ]
    },
    {
     "data": {
      "image/png": "[encoded data removed]",
      "text/plain": [
       "<Figure size 108x108 with 1 Axes>"
      ]
     },
     "metadata": {},
     "output_type": "display_data"
    }
   ],
   "source": [
    "fig = plt.figure(figsize=(1.5, 1.5))\n",
    "ax = fig.add_subplot(111)\n",
    "\n",
    "activity_centroid_df['stimmed'] = True\n",
    "nostim_activity_centroid_df['stimmed'] = False\n",
    "\n",
    "plot_colors = ['0.3', colors[0]]\n",
    "\n",
    "\n",
    "full_df = pd.concat([activity_centroid_df, nostim_activity_centroid_df])\n",
    "\n",
    "full_df = full_df.groupby(['session', 'stimmed', 'expt_id', 'mouse_name'], as_index=False).mean()\n",
    "\n",
    "sns.boxplot(x='session', y='abs_dist', hue='stimmed', data=full_df, order=sessions,\n",
    "            ax=ax, whis=False, showcaps=False, showfliers=False, hue_order=[False, True])\n",
    "plt.setp(ax.artists, edgecolor='k', facecolor='w', linewidth=1)\n",
    "plt.setp(ax.lines, color='k')\n",
    "\n",
    "sns.swarmplot(x='session', y='abs_dist', hue='stimmed', data=full_df, palette=plot_colors,\n",
    "              order=sessions, hue_order=[False, True], ax=ax, size=4, dodge=True,\n",
    "              edgecolor='k', linewidth=0.5, alpha=1)\n",
    "\n",
    "clean(ax, offset=4)\n",
    "\n",
    "ax.get_legend().remove()\n",
    "ax.set_xlabel('Session')\n",
    "ax.set_ylabel('Tuning Distance to SZ (cm)')\n",
    "\n",
    "ax.axhline(194/4., color='0.5', ls='--')\n",
    "\n",
    "fig.savefig(save_dir + 'sparse_activity_centroid_session_by_stim_saline.svg')\n",
    "\n",
    "# dense_df = activity_centroid_df.loc[activity_centroid_df['group'] == 'sparse_targeted']\n",
    "# cno_df = activity_centroid_df.loc[activity_centroid_df['group'] == 'cno_sparse_targeted']\n",
    "\n",
    "# print spearmanr(dense_df['abs_dist'].dropna(), dense_df['count'].dropna())\n",
    "# print spearmanr(cno_df['abs_dist'].dropna(), cno_df['count'].dropna())\n",
    "\n",
    "for session in sessions:\n",
    "    print session\n",
    "    a = full_df.loc[(full_df['session'] == session) & (full_df['stimmed'] == True)]['abs_dist']\n",
    "    b = full_df.loc[(full_df['session'] == session) & (full_df['stimmed'] == False)]['abs_dist']\n",
    "    \n",
    "    print ttest_rel(a, b)"
   ]
  },
  {
   "cell_type": "code",
   "execution_count": 132,
   "metadata": {},
   "outputs": [
    {
     "name": "stdout",
     "output_type": "stream",
     "text": [
      "Ttest_relResult(statistic=2.3361775226879327, pvalue=0.047699470493473346)\n"
     ]
    },
    {
     "data": {
      "image/png": "[encoded data removed]",
      "text/plain": [
       "<Figure size 54x108 with 1 Axes>"
      ]
     },
     "metadata": {},
     "output_type": "display_data"
    }
   ],
   "source": [
    "full_df = pd.concat([activity_centroid_df, nostim_activity_centroid_df])\n",
    "\n",
    "shift_df = full_df.loc[(full_df['session'] == 'POST')].merge(\n",
    "        full_df.loc[(full_df['session'] == 'PRE')],\n",
    "        on=['roi', 'mouse_name', 'stimmed'],\n",
    "        suffixes=['_ind', '_base'])\n",
    "\n",
    "shift_df['shift'] = shift_df.apply(lambda x: x['abs_dist_base'] - x['abs_dist_ind'], axis=1)\n",
    "\n",
    "grouped_df = shift_df.groupby(['expt_id_ind', 'mouse_name', 'stimmed'], as_index=False).mean()\n",
    "\n",
    "fig = plt.figure(figsize=(0.75, 1.5))\n",
    "ax = fig.add_subplot(111)\n",
    "\n",
    "sns.boxplot(x='stimmed', y='shift', data=grouped_df,\n",
    "            ax=ax, whis=False, showcaps=False, showfliers=False, order=[False, True])\n",
    "plt.setp(ax.artists, edgecolor='k', facecolor='w', linewidth=1)\n",
    "plt.setp(ax.lines, color='k')\n",
    "\n",
    "plot_colors = ['0.3', colors[0]]\n",
    "\n",
    "sns.swarmplot(x='stimmed', y='shift', hue='stimmed', data=grouped_df, palette=plot_colors,\n",
    "              order=[False, True], hue_order=[False, True], ax=ax, size=4, dodge=False,\n",
    "              edgecolor='k', linewidth=0.5, alpha=1)\n",
    "\n",
    "ax.axhline(0, color='0.5', ls='--')\n",
    "\n",
    "ax.get_legend().remove()\n",
    "\n",
    "clean(ax, offset=4)\n",
    "\n",
    "ax.set_ylabel('Shift Toward SZ (cm)')\n",
    "ax.set_xlabel('Condition')\n",
    "ax.set_ylim([-40, 40])\n",
    "\n",
    "fig.savefig(save_dir + 'sparse_saline_shift.svg')\n",
    "\n",
    "print ttest_rel(grouped_df.loc[grouped_df['stimmed']]['shift'], grouped_df.loc[~grouped_df['stimmed']]['shift'])"
   ]
  },
  {
   "cell_type": "code",
   "execution_count": 129,
   "metadata": {},
   "outputs": [
    {
     "name": "stdout",
     "output_type": "stream",
     "text": [
      "PRE\n",
      "Ttest_relResult(statistic=1.2345995590219765, pvalue=0.25201103822659016)\n",
      "POST\n",
      "Ttest_relResult(statistic=-0.1658744628250813, pvalue=0.8723711040280218)\n",
      "24H\n",
      "Ttest_relResult(statistic=-1.3342059358714162, pvalue=0.218864952540376)\n"
     ]
    },
    {
     "data": {
      "image/png": "[encoded data removed]",
      "text/plain": [
       "<Figure size 108x108 with 1 Axes>"
      ]
     },
     "metadata": {},
     "output_type": "display_data"
    }
   ],
   "source": [
    "fig = plt.figure(figsize=(1.5, 1.5))\n",
    "ax = fig.add_subplot(111)\n",
    "\n",
    "cno_activity_centroid_df['stimmed'] = True\n",
    "nostim_cno_activity_centroid_df['stimmed'] = False\n",
    "\n",
    "plot_colors = ['0.7', colors[1]]\n",
    "\n",
    "\n",
    "full_df = pd.concat([cno_activity_centroid_df, nostim_cno_activity_centroid_df])\n",
    "\n",
    "full_df = full_df.groupby(['session', 'stimmed', 'expt_id', 'mouse_name'], as_index=False).mean()\n",
    "\n",
    "sns.boxplot(x='session', y='abs_dist', hue='stimmed', data=full_df, order=sessions,\n",
    "            ax=ax, whis=False, showcaps=False, showfliers=False, hue_order=[False, True])\n",
    "plt.setp(ax.artists, edgecolor='k', facecolor='w', linewidth=1)\n",
    "plt.setp(ax.lines, color='k')\n",
    "\n",
    "sns.swarmplot(x='session', y='abs_dist', hue='stimmed', data=full_df, palette=plot_colors,\n",
    "              order=sessions, hue_order=[False, True], ax=ax, size=4, dodge=True,\n",
    "              edgecolor='k', linewidth=0.5, alpha=1)\n",
    "\n",
    "clean(ax, offset=4)\n",
    "\n",
    "ax.get_legend().remove()\n",
    "ax.set_xlabel('Session')\n",
    "ax.set_ylabel('Tuning Distance to SZ (cm)')\n",
    "\n",
    "ax.axhline(194/4., color='0.5', ls='--')\n",
    "\n",
    "fig.savefig(save_dir + 'sparse_activity_centroid_session_by_stim_cno.svg')\n",
    "\n",
    "# dense_df = activity_centroid_df.loc[activity_centroid_df['group'] == 'sparse_targeted']\n",
    "# cno_df = activity_centroid_df.loc[activity_centroid_df['group'] == 'cno_sparse_targeted']\n",
    "\n",
    "# print spearmanr(dense_df['abs_dist'].dropna(), dense_df['count'].dropna())\n",
    "# print spearmanr(cno_df['abs_dist'].dropna(), cno_df['count'].dropna())\n",
    "\n",
    "for session in sessions:\n",
    "    print session\n",
    "    a = full_df.loc[(full_df['session'] == session) & (full_df['stimmed'] == True)]['abs_dist']\n",
    "    b = full_df.loc[(full_df['session'] == session) & (full_df['stimmed'] == False)]['abs_dist']\n",
    "    \n",
    "    print ttest_rel(a, b)"
   ]
  },
  {
   "cell_type": "code",
   "execution_count": 143,
   "metadata": {},
   "outputs": [
    {
     "name": "stdout",
     "output_type": "stream",
     "text": [
      "Ttest_relResult(statistic=0.6560751102890228, pvalue=0.5301889555563235)\n"
     ]
    },
    {
     "data": {
      "image/png": "[encoded data removed]",
      "text/plain": [
       "<Figure size 72x108 with 1 Axes>"
      ]
     },
     "metadata": {},
     "output_type": "display_data"
    }
   ],
   "source": [
    "full_df = pd.concat([cno_activity_centroid_df, nostim_cno_activity_centroid_df])\n",
    "\n",
    "shift_df = full_df.loc[(full_df['session'] == 'POST')].merge(\n",
    "        full_df.loc[(full_df['session'] == 'PRE')],\n",
    "        on=['roi', 'mouse_name', 'stimmed'],\n",
    "        suffixes=['_ind', '_base'])\n",
    "\n",
    "shift_df['shift'] = shift_df.apply(lambda x: x['abs_dist_base'] - x['abs_dist_ind'], axis=1)\n",
    "\n",
    "grouped_df = shift_df.groupby(['expt_id_ind', 'mouse_name', 'stimmed'], as_index=False).mean()\n",
    "\n",
    "fig = plt.figure(figsize=(1, 1.5))\n",
    "ax = fig.add_subplot(111)\n",
    "\n",
    "sns.boxplot(x='stimmed', y='shift', data=grouped_df,\n",
    "            ax=ax, whis=False, showcaps=False, showfliers=False, order=[False, True])\n",
    "plt.setp(ax.artists, edgecolor='k', facecolor='w', linewidth=1)\n",
    "plt.setp(ax.lines, color='k')\n",
    "\n",
    "plot_colors = ['0.7', colors[1]]\n",
    "\n",
    "sns.swarmplot(x='stimmed', y='shift', hue='stimmed', data=grouped_df, palette=plot_colors,\n",
    "              order=[False, True], hue_order=[False, True], ax=ax, size=4, dodge=False,\n",
    "              edgecolor='k', linewidth=0.5, alpha=1)\n",
    "\n",
    "ax.axhline(0, color='0.5', ls='--')\n",
    "\n",
    "ax.get_legend().remove()\n",
    "\n",
    "clean(ax, offset=4)\n",
    "\n",
    "ax.set_ylabel('Shift Toward SZ (cm)')\n",
    "ax.set_xlabel('Condition')\n",
    "# ax.set_ylim([-40, 40])\n",
    "ax.set_xticklabels(['Unstimmed', 'Stimmed'])\n",
    "\n",
    "fig.savefig(save_dir + 'sparse_cno_shift.svg')\n",
    "\n",
    "print ttest_rel(grouped_df.loc[grouped_df['stimmed']]['shift'], grouped_df.loc[~grouped_df['stimmed']]['shift'])"
   ]
  },
  {
   "cell_type": "code",
   "execution_count": 6,
   "metadata": {},
   "outputs": [],
   "source": [
    "amps = ia.burst_size(grps[0], roi_filter=None, win=(1, 0.5), exclude_stim=True)\n",
    "dists = ia.dist_to_target(grps[0], stim_filter=None)\n",
    "\n",
    "cno_amps = ia.burst_size(grps[1], roi_filter=None, win=(1, 0.5), exclude_stim=True)\n",
    "cno_dists = ia.dist_to_target(grps[1], stim_filter=None)"
   ]
  },
  {
   "cell_type": "code",
   "execution_count": 33,
   "metadata": {},
   "outputs": [],
   "source": [
    "def activity_centroid_vs_nstimmed(grps, stim_filters, labels=None, n_stimmed=True):\n",
    "\n",
    "    if labels is None:\n",
    "        labels = [x.label() for x in grps]\n",
    "\n",
    "    dfs = []\n",
    "    for grp, stim_filter, label in zip(grps, stim_filters, labels):\n",
    "        df = ia.activity_centroid_distance(grp, roi_filter=stim_filter, stim_session=grp[0].stim_session)\n",
    "        grouped_df = df.groupby(['mouse_name', 'expt_id']).mean()\n",
    "        if n_stimmed:\n",
    "            count_df = df.groupby(['mouse_name', 'expt_id']).count()\n",
    "            grouped_df['count'] = count_df['abs_dist']\n",
    "        else:\n",
    "            stim_df = ia.success_rate(grp, stim_filter, stim_filter)\n",
    "            grouped_df = grouped_df.merge(stim_df, left_on=['mouse_name', 'expt_id'],\n",
    "                                          right_on=['mouse', 'expt'])\n",
    "            grouped_df['count'] = grouped_df['pct_stimmed'] * 100\n",
    "        grouped_df['group'] = label\n",
    "#         corr = pearsonr(grouped_df['abs_dist'], grouped_df['count'])\n",
    "#         print 'Activity Centroid V N Stimmed: r={}, p={}'.format(corr[0], corr[1])\n",
    "#         corr = spearmanr(grouped_df['abs_dist'], grouped_df['count'])\n",
    "#         print 'Activity Centroid V N Stimmed: spearman r={}, p={}'.format(corr[0], corr[1])\n",
    "        dfs.append(grouped_df)\n",
    "\n",
    "    df = pd.concat(dfs)\n",
    "    \n",
    "    return df"
   ]
  },
  {
   "cell_type": "code",
   "execution_count": 63,
   "metadata": {},
   "outputs": [],
   "source": [
    "def activity_centroids(grp, stim_filter, \n",
    "                        full_sessions=None):\n",
    "    \n",
    "#     full_sessions = ['control_baseline', 'control_induction', 'control_24h']\n",
    "\n",
    "    session_name_dict = {'induction': 'POST',\n",
    "                         'baseline': 'PRE',\n",
    "                         '24h': '24H'}\n",
    "\n",
    "    df = pd.DataFrame([])\n",
    "\n",
    "    for session in full_sessions:\n",
    "\n",
    "        sess_grp = [x._get_session(session) for x in grp]\n",
    "        sess_grp = pcExperimentGroup(sess_grp, **grp.args)\n",
    "\n",
    "        stim_session = session.split('_')[0] + '_induction'\n",
    "\n",
    "        sess_df = ia.activity_centroid_distance(sess_grp, roi_filter=stim_filter, stim_session=stim_session)\n",
    "        sess_df['session'] = session_name_dict[session.split('_')[-1]]\n",
    "\n",
    "        df = pd.concat([df, sess_df])\n",
    "\n",
    "    return df"
   ]
  },
  {
   "cell_type": "code",
   "execution_count": 35,
   "metadata": {},
   "outputs": [],
   "source": [
    "def success_rate_paired(grps, stim_filters, ind_filters, nostim_filters, nostim_ind_filters,\n",
    "                        labels=['Dense', '+Dreadd']):\n",
    "\n",
    "    dfs = []\n",
    "    for grp, label, a, b, c, d in zip(grps, labels, stim_filters, ind_filters, nostim_filters, nostim_ind_filters):\n",
    "\n",
    "        ind_rate = ia.induction_rate(grp, a, b, c, d)\n",
    "        ind_rate['condition'] = label\n",
    "\n",
    "        dfs.append(ind_rate)\n",
    "\n",
    "    df = pd.concat(dfs)\n",
    "    \n",
    "    return df"
   ]
  },
  {
   "cell_type": "code",
   "execution_count": 38,
   "metadata": {},
   "outputs": [],
   "source": [
    "def activity_centroid_shift_paired(grps, stim_filters,\n",
    "                            sessions=['baseline', 'induction'],\n",
    "                            labels=['Dense', '+Dreadd'], colors=None):\n",
    "\n",
    "    df = pd.DataFrame([])\n",
    "\n",
    "    for grp, stim_filter, label in zip(grps, stim_filters, labels):\n",
    "        condition = grp[0].session.split('_')[0]\n",
    "        for session in sessions:\n",
    "\n",
    "            sess_grp = [x._get_session(condition + '_' + session) for x in grp]\n",
    "            sess_grp = pcExperimentGroup(sess_grp, **grp.args)\n",
    "\n",
    "            stim_session = condition + '_induction'\n",
    "\n",
    "            sess_df = ia.activity_centroid_distance(sess_grp, roi_filter=stim_filter, stim_session=stim_session)\n",
    "            sess_df['condition'] = label\n",
    "            sess_df['session'] = session\n",
    "\n",
    "            df = pd.concat([df, sess_df])\n",
    "\n",
    "    shift_df = df.loc[(df['session'] == 'induction')].merge(\n",
    "        df.loc[(df['session'] == 'baseline')],\n",
    "        on=['roi', 'mouse_name', 'condition'],\n",
    "        suffixes=['_ind', '_base'])\n",
    "\n",
    "    shift_df['shift'] = shift_df.apply(lambda x: x['abs_dist_base'] - x['abs_dist_ind'], axis=1)\n",
    "\n",
    "    grp_df = shift_df.groupby(['mouse_name', 'condition', 'expt_id_ind'], as_index=False).mean()\n",
    "    \n",
    "    return grp_df"
   ]
  },
  {
   "cell_type": "code",
   "execution_count": 41,
   "metadata": {},
   "outputs": [],
   "source": [
    "def mean_fr(grp, roi_filter=None, cno=False):\n",
    "    \n",
    "    sessions = ['_baseline', '_induction', '_24h']\n",
    "    session_names = ['PRE', 'POST', '24H']\n",
    "    \n",
    "    if cno:\n",
    "        sessions = ['cno' + x for x in sessions]\n",
    "    else:\n",
    "        sessions = ['control' + x for x in sessions]\n",
    "    \n",
    "    data_list = []\n",
    "    \n",
    "    \n",
    "    for session, session_name in zip(sessions, session_names):\n",
    "        \n",
    "        sess_grp = pcExperimentGroup([x._get_session(session) for x in grp], **grp.args)\n",
    "        \n",
    "        for expt in sess_grp:\n",
    "            \n",
    "            if expt is None:\n",
    "                continue\n",
    "\n",
    "            running = expt.velocity()[0] > 0\n",
    "            T = np.sum(running) * expt.frame_period()\n",
    "\n",
    "            spikes = expt.spikes(roi_filter=roi_filter, binary=True)\n",
    "            rois = expt.rois(roi_filter=roi_filter)\n",
    "\n",
    "            im_period = expt.frame_period()\n",
    "            mouse_name = expt.parent.mouse_name\n",
    "            tid = expt.trial_id\n",
    "\n",
    "            for roi, spike in zip(rois, spikes):\n",
    "\n",
    "                data_list.append({'expt': tid,\n",
    "                                  'roi': roi.label,\n",
    "                                  'mouse': mouse_name,\n",
    "                                  'session': session_name,\n",
    "                                  'fr': np.nansum(spike) / T})\n",
    "        \n",
    "    return pd.DataFrame(data_list)"
   ]
  },
  {
   "cell_type": "code",
   "execution_count": 29,
   "metadata": {},
   "outputs": [],
   "source": [
    "amps.to_pickle(data_dir + 'sparse_amps.pkl')\n",
    "dists.to_pickle(data_dir + 'sparse_dists.pkl')\n",
    "\n",
    "cno_amps.to_pickle(data_dir + 'cno_sparse_amps.pkl')\n",
    "cno_dists.to_pickle(data_dir + 'cno_sparse_dists.pkl')"
   ]
  },
  {
   "cell_type": "code",
   "execution_count": 34,
   "metadata": {},
   "outputs": [],
   "source": [
    "activity_centroid_df = activity_centroid_vs_nstimmed(grps, stim_filters)"
   ]
  },
  {
   "cell_type": "code",
   "execution_count": 57,
   "metadata": {},
   "outputs": [],
   "source": [
    "activity_centroid_df.to_pickle(data_dir + 'centroid_vs_nstim.pkl')"
   ]
  },
  {
   "cell_type": "code",
   "execution_count": 37,
   "metadata": {},
   "outputs": [],
   "source": [
    "ind_rate = success_rate_paired(grps, stim_filters, ind_filters, nostim_filters, nostim_ind_filters)"
   ]
  },
  {
   "cell_type": "code",
   "execution_count": 58,
   "metadata": {},
   "outputs": [],
   "source": [
    "ind_rate.to_pickle(data_dir + 'sparse_ind_rate.pkl')"
   ]
  },
  {
   "cell_type": "code",
   "execution_count": 6,
   "metadata": {},
   "outputs": [],
   "source": [
    "ind_rate = pd.read_pickle(data_dir + 'sparse_ind_rate.pkl')"
   ]
  },
  {
   "cell_type": "code",
   "execution_count": 39,
   "metadata": {},
   "outputs": [],
   "source": [
    "shift_df = activity_centroid_shift_paired(grps, stim_filters)"
   ]
  },
  {
   "cell_type": "code",
   "execution_count": 59,
   "metadata": {},
   "outputs": [],
   "source": [
    "shift_df.to_pickle(data_dir + 'sparse_shift.pkl')"
   ]
  },
  {
   "cell_type": "code",
   "execution_count": 42,
   "metadata": {},
   "outputs": [],
   "source": [
    "frs = mean_fr(grps[0], roi_filter=nostim_filters[0], cno=False)\n",
    "cno_frs = mean_fr(grps[1], roi_filter=nostim_filters[1], cno=True)"
   ]
  },
  {
   "cell_type": "code",
   "execution_count": 60,
   "metadata": {},
   "outputs": [],
   "source": [
    "frs.to_pickle(data_dir + 'sparse_frs.pkl')\n",
    "cno_frs.to_pickle(data_dir + 'cno_sparse_frs.pkl')"
   ]
  },
  {
   "cell_type": "code",
   "execution_count": 64,
   "metadata": {},
   "outputs": [],
   "source": [
    "activity_centroid_df = activity_centroids(grps[0], stim_filters[0], full_sessions =['control_baseline', 'control_induction', 'control_24h'])\n",
    "cno_activity_centroid_df = activity_centroids(grps[1], stim_filters[1], full_sessions =['cno_baseline', 'cno_induction', 'cno_24h'])"
   ]
  },
  {
   "cell_type": "code",
   "execution_count": 95,
   "metadata": {},
   "outputs": [],
   "source": [
    "nostim_activity_centroid_df = activity_centroids(grps[0], nostim_filters[0], full_sessions =['control_baseline', 'control_induction', 'control_24h'])\n",
    "nostim_cno_activity_centroid_df = activity_centroids(grps[1], nostim_filters[1], full_sessions =['cno_baseline', 'cno_induction', 'cno_24h'])"
   ]
  }
 ],
 "metadata": {
  "kernelspec": {
   "display_name": "Python 2",
   "language": "python",
   "name": "python2"
  },
  "language_info": {
   "codemirror_mode": {
    "name": "ipython",
    "version": 2
   },
   "file_extension": ".py",
   "mimetype": "text/x-python",
   "name": "python",
   "nbconvert_exporter": "python",
   "pygments_lexer": "ipython2",
   "version": "2.7.17"
  }
 },
 "nbformat": 4,
 "nbformat_minor": 4
}
