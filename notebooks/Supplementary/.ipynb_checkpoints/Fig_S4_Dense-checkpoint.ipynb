{
 "cells": [
  {
   "cell_type": "code",
   "execution_count": 1,
   "metadata": {
    "collapsed": true,
    "jupyter": {
     "outputs_hidden": true
    }
   },
   "outputs": [
    {
     "name": "stderr",
     "output_type": "stream",
     "text": [
      "/home/sebi/code/analysis/analysis-scripts/induction_analysis/Analysis/induction_analysis.py:4: UserWarning: \n",
      "This call to matplotlib.use() has no effect because the backend has already\n",
      "been chosen; matplotlib.use() must be called *before* pylab, matplotlib.pyplot,\n",
      "or matplotlib.backends is imported for the first time.\n",
      "\n",
      "The backend was *originally* set to 'module://ipykernel.pylab.backend_inline' by the following code:\n",
      "  File \"/usr/lib/python2.7/runpy.py\", line 174, in _run_module_as_main\n",
      "    \"__main__\", fname, loader, pkg_name)\n",
      "  File \"/usr/lib/python2.7/runpy.py\", line 72, in _run_code\n",
      "    exec code in run_globals\n",
      "  File \"/home/sebi/.local/lib/python2.7/site-packages/ipykernel_launcher.py\", line 16, in <module>\n",
      "    app.launch_new_instance()\n",
      "  File \"/home/sebi/.local/lib/python2.7/site-packages/traitlets/config/application.py\", line 658, in launch_instance\n",
      "    app.start()\n",
      "  File \"/home/sebi/.local/lib/python2.7/site-packages/ipykernel/kernelapp.py\", line 499, in start\n",
      "    self.io_loop.start()\n",
      "  File \"/home/sebi/.local/lib/python2.7/site-packages/tornado/ioloop.py\", line 1073, in start\n",
      "    handler_func(fd_obj, events)\n",
      "  File \"/home/sebi/.local/lib/python2.7/site-packages/tornado/stack_context.py\", line 300, in null_wrapper\n",
      "    return fn(*args, **kwargs)\n",
      "  File \"/home/sebi/.local/lib/python2.7/site-packages/zmq/eventloop/zmqstream.py\", line 456, in _handle_events\n",
      "    self._handle_recv()\n",
      "  File \"/home/sebi/.local/lib/python2.7/site-packages/zmq/eventloop/zmqstream.py\", line 486, in _handle_recv\n",
      "    self._run_callback(callback, msg)\n",
      "  File \"/home/sebi/.local/lib/python2.7/site-packages/zmq/eventloop/zmqstream.py\", line 438, in _run_callback\n",
      "    callback(*args, **kwargs)\n",
      "  File \"/home/sebi/.local/lib/python2.7/site-packages/tornado/stack_context.py\", line 300, in null_wrapper\n",
      "    return fn(*args, **kwargs)\n",
      "  File \"/home/sebi/.local/lib/python2.7/site-packages/ipykernel/kernelbase.py\", line 283, in dispatcher\n",
      "    return self.dispatch_shell(stream, msg)\n",
      "  File \"/home/sebi/.local/lib/python2.7/site-packages/ipykernel/kernelbase.py\", line 233, in dispatch_shell\n",
      "    handler(stream, idents, msg)\n",
      "  File \"/home/sebi/.local/lib/python2.7/site-packages/ipykernel/kernelbase.py\", line 399, in execute_request\n",
      "    user_expressions, allow_stdin)\n",
      "  File \"/home/sebi/.local/lib/python2.7/site-packages/ipykernel/ipkernel.py\", line 208, in do_execute\n",
      "    res = shell.run_cell(code, store_history=store_history, silent=silent)\n",
      "  File \"/home/sebi/.local/lib/python2.7/site-packages/ipykernel/zmqshell.py\", line 537, in run_cell\n",
      "    return super(ZMQInteractiveShell, self).run_cell(*args, **kwargs)\n",
      "  File \"/home/sebi/.local/lib/python2.7/site-packages/IPython/core/interactiveshell.py\", line 2714, in run_cell\n",
      "    interactivity=interactivity, compiler=compiler, result=result)\n",
      "  File \"/home/sebi/.local/lib/python2.7/site-packages/IPython/core/interactiveshell.py\", line 2818, in run_ast_nodes\n",
      "    if self.run_code(code, result):\n",
      "  File \"/home/sebi/.local/lib/python2.7/site-packages/IPython/core/interactiveshell.py\", line 2878, in run_code\n",
      "    exec(code_obj, self.user_global_ns, self.user_ns)\n",
      "  File \"<ipython-input-1-767856f1a0e6>\", line 1, in <module>\n",
      "    get_ipython().magic(u'matplotlib inline')\n",
      "  File \"/home/sebi/.local/lib/python2.7/site-packages/IPython/core/interactiveshell.py\", line 2160, in magic\n",
      "    return self.run_line_magic(magic_name, magic_arg_s)\n",
      "  File \"/home/sebi/.local/lib/python2.7/site-packages/IPython/core/interactiveshell.py\", line 2081, in run_line_magic\n",
      "    result = fn(*args,**kwargs)\n",
      "  File \"<decorator-gen-105>\", line 2, in matplotlib\n",
      "  File \"/home/sebi/.local/lib/python2.7/site-packages/IPython/core/magic.py\", line 188, in <lambda>\n",
      "    call = lambda f, *a, **k: f(*a, **k)\n",
      "  File \"/home/sebi/.local/lib/python2.7/site-packages/IPython/core/magics/pylab.py\", line 100, in matplotlib\n",
      "    gui, backend = self.shell.enable_matplotlib(args.gui)\n",
      "  File \"/home/sebi/.local/lib/python2.7/site-packages/IPython/core/interactiveshell.py\", line 2966, in enable_matplotlib\n",
      "    pt.activate_matplotlib(backend)\n",
      "  File \"/home/sebi/.local/lib/python2.7/site-packages/IPython/core/pylabtools.py\", line 315, in activate_matplotlib\n",
      "    matplotlib.pyplot.switch_backend(backend)\n",
      "  File \"/home/sebi/.local/lib/python2.7/site-packages/matplotlib/pyplot.py\", line 231, in switch_backend\n",
      "    matplotlib.use(newbackend, warn=False, force=True)\n",
      "  File \"/home/sebi/.local/lib/python2.7/site-packages/matplotlib/__init__.py\", line 1425, in use\n",
      "    reload(sys.modules['matplotlib.backends'])\n",
      "  File \"/home/sebi/.local/lib/python2.7/site-packages/matplotlib/backends/__init__.py\", line 17, in <module>\n",
      "    line for line in traceback.format_stack()\n",
      "\n",
      "\n",
      "  mpl.use('pdf')\n"
     ]
    }
   ],
   "source": [
    "%matplotlib inline\n",
    "import matplotlib.pyplot as plt\n",
    "import seaborn as sns\n",
    "sns.set_style(style='ticks')\n",
    "import matplotlib.pyplot as plt\n",
    "import seaborn as sns\n",
    "\n",
    "import sys\n",
    "sys.path.insert(0, '../induction_analysis')\n",
    "\n",
    "import Analysis.induction_analysis as ia\n",
    "import Analysis.induction_plots as ip\n",
    "from Analysis import filters\n",
    "from Analysis import comparison_plots as cp\n",
    "\n",
    "from lab_repo.classes.place_cell_classes import pcExperimentGroup\n",
    "import lab_repo.analysis.behavior_analysis as ba\n",
    "\n",
    "from Experiments import SingleCellExperiment\n",
    "\n",
    "import pandas as pd\n",
    "import numpy as np\n",
    "\n",
    "from scipy.stats import ttest_ind, ttest_1samp, spearmanr, binned_statistic, sem"
   ]
  },
  {
   "cell_type": "code",
   "execution_count": 5,
   "metadata": {},
   "outputs": [],
   "source": [
    "# Initialize Groups\n",
    "grps = []\n",
    "\n",
    "pc_kwargs = {'imaging_label': 's2p',\n",
    "             'nPositionBins': 100,\n",
    "             'channel': 'Ch2',\n",
    "             'demixed': False,\n",
    "             'pf_subset': None,\n",
    "             'signal': 'spikes'}\n",
    "\n",
    "# First, control\n",
    "expt_ids = [22286, 22311, 22417, 24600, 24640, 24659, 24694, 24603, 24677, 24773, 24688, 24781]\n",
    "\n",
    "mps = ['/data/Mohsin/2p/msa0919_2/10_10_19/MarkPoints-10102019-induce-002',\n",
    "       '/data/Mohsin/2p/msa0919_2/10_5_19/MarkPoints-10052019-induce-002',\n",
    "       '/data/Mohsin/2p/msa0919_1/10_18_19/MarkPoints-10182019-induce-001',\n",
    "       '/data4/Mohsin/2p/msa0220_3/2_24_20/MarkPoints-02242020-induce-003',\n",
    "       '/data4/Mohsin/2p/msa0220_3/2_28_20/MarkPoints-02282020-induce-003',\n",
    "       '/data4/Mohsin/2p/msa0220_3/3_4_20/MarkPoints-02282020-induce-003',\n",
    "       '/data4/Mohsin/2p/msa0220_3/3_8_20/MarkPoints-03082020-induce-003',\n",
    "       '/data4/Mohsin/2p/msa0220_4/2_24_20/MarkPoints-02242020-induce-003',\n",
    "       '/data4/Mohsin/2p/msa0320_1/3_6_20/MarkPoints-02282020-induce-003',\n",
    "       '/data4/Mohsin/2p/msa0320_1/3_10_20/MarkPoints-03102020-induce-003',\n",
    "       '/data4/Mohsin/2p/msa0320_2/3_9_20/MarkPoints-03092020-induce-003',\n",
    "       '/data4/Mohsin/2p/msa0320_2/3_11_20/MarkPoints-03082020-induce-003']\n",
    "\n",
    "expts = [SingleCellExperiment.SingleCellExperiment(x, mp) for x, mp in zip(expt_ids, mps)]\n",
    "grp = pcExperimentGroup(expts, label='dense_all', **pc_kwargs)\n",
    "grps.append(grp)\n",
    "\n",
    "# Next, CNO\n",
    "expt_ids = [22326, 22318, 22432, 24609, 24656, 24676, 24777, 24691, 24792, 24765, 24798]\n",
    "\n",
    "mps = ['/data/Mohsin/2p/msa0919_2/10_10_19/MarkPoints-10102019-induce-002',\n",
    "       '/data/Mohsin/2p/msa0919_2/10_7_19/MarkPoints-10072019-CNO_test-006',\n",
    "       '/data/Mohsin/2p/msa0919_1/10_20_19/MarkPoints-10202019-induce-001',\n",
    "       '/data4/Mohsin/2p/msa0220_3/2_26_20/MarkPoints-02262020-induce-003',\n",
    "       '/data4/Mohsin/2p/msa0220_3/3_1_20/MarkPoints-02282020-test-002',\n",
    "       '/data4/Mohsin/2p/msa0220_3/3_6_20/MarkPoints-02282020-induce-003',\n",
    "       '/data4/Mohsin/2p/msa0220_3/3_10_20/MarkPoints-03102020-induce-003',\n",
    "       '/data4/Mohsin/2p/msa0320_1/3_8_20/MarkPoints-03082020-induce-003',\n",
    "       '/data4/Mohsin/2p/msa0320_1/3_12_20/MarkPoints-03082020-induce-003',\n",
    "       '/data4/Mohsin/2p/msa0320_2/3_9_20/MarkPoints-03092020-induce-003',\n",
    "       '/data4/Mohsin/2p/msa0320_2/3_13_20/MarkPoints-03082020-induce-003']\n",
    "\n",
    "expts = [SingleCellExperiment.SingleCellExperiment(x, mp) for x, mp in zip(expt_ids, mps)]\n",
    "grp = pcExperimentGroup(expts, label='cno_dense_all', **pc_kwargs)\n",
    "grps.append(grp)\n",
    "\n",
    "labels = ['Dense', '+Dreadd']\n",
    "# colors = ['grey', 'coral']\n",
    "colors = ['warm blue', 'golden rod']\n",
    "colors = sns.xkcd_palette(colors)\n",
    "\n",
    "# Setup Filters\n",
    "stim_filters = []\n",
    "ind_filters = []\n",
    "nostim_filters = []\n",
    "nostim_ind_filters = []\n",
    "filter_overwrite = False\n",
    "\n",
    "\n",
    "for grp in grps:\n",
    "    stim_filter = filters.grp_stim_filter(grp, spatial_dist=75, label='s2p', overwrite=filter_overwrite, activity_filter=True)\n",
    "    ind_filter = filters.grp_induction_filter(grp, stim_filter=stim_filter, overwrite=filter_overwrite)\n",
    "    nostim_filter = filters.grp_unstimmed_filter(grp, exclude_baseline_stim=True, overwrite=filter_overwrite)\n",
    "    nostim_ind_filter = filters.grp_unstimmed_formation_filter(grp, stim_filter=nostim_filter, overwrite=filter_overwrite)\n",
    "\n",
    "    stim_filters.append(stim_filter)\n",
    "    ind_filters.append(ind_filter)\n",
    "    nostim_filters.append(nostim_filter)\n",
    "    nostim_ind_filters.append(nostim_ind_filter)\n",
    "\n",
    "filtered_grps = []\n",
    "for grp, stim_filter in zip(grps, stim_filters):\n",
    "    expts = [expt for expt in grp if len(expt.rois(roi_filter=stim_filter))]\n",
    "    grp = pcExperimentGroup(expts, label=grp.label(), **grp.args)\n",
    "    filtered_grps.append(grp)\n",
    "grps = filtered_grps"
   ]
  },
  {
   "cell_type": "markdown",
   "metadata": {},
   "source": [
    "## Plotting"
   ]
  },
  {
   "cell_type": "code",
   "execution_count": 2,
   "metadata": {},
   "outputs": [],
   "source": [
    "# Setup\n",
    "from matplotlib import rc\n",
    "plt.rcParams['axes.linewidth'] = 1\n",
    "plt.rcParams['ytick.labelsize'] = 6\n",
    "plt.rcParams['xtick.labelsize'] = 6\n",
    "plt.rcParams['axes.labelsize'] = 7\n",
    "plt.rcParams['boxplot.boxprops.linewidth'] = 1\n",
    "plt.rcParams['axes.unicode_minus'] = False\n",
    "\n",
    "rc('font',**{'family':'sans-serif','sans-serif':['helvetica', 'sans-serif']})\n",
    "\n",
    "def clean(ax, full=False, offset=0):\n",
    "    if full:\n",
    "        sns.despine(ax=ax, left=True, bottom=True, offset=offset)\n",
    "        ax.set_yticks([])\n",
    "        ax.set_xticks([])\n",
    "    else:\n",
    "        sns.despine(ax=ax, offset=offset)"
   ]
  },
  {
   "cell_type": "markdown",
   "metadata": {},
   "source": [
    "## Response Amplitude vs Distance"
   ]
  },
  {
   "cell_type": "code",
   "execution_count": 141,
   "metadata": {},
   "outputs": [],
   "source": [
    "amps = pd.read_pickle(data_dir + 'amps.pkl')\n",
    "dists = pd.read_pickle(data_dir + 'dists.pkl')\n",
    "\n",
    "full_df = dists.merge(amps, on=['mouse_name', 'expt_id', 'roi'])\n",
    "df = full_df.loc[full_df['dist'] <= max_dist]\n",
    "\n",
    "# Exclude single cell stim experiment\n",
    "df = df.loc[df['expt_id'] != 22417]"
   ]
  },
  {
   "cell_type": "code",
   "execution_count": 143,
   "metadata": {},
   "outputs": [
    {
     "name": "stdout",
     "output_type": "stream",
     "text": [
      "(2230, 12)\n"
     ]
    }
   ],
   "source": [
    "cno_amps = pd.read_pickle(data_dir + 'cno_amps.pkl')\n",
    "cno_dists = pd.read_pickle(data_dir + 'cno_dists.pkl')\n",
    "\n",
    "full_df = cno_dists.merge(cno_amps, on=['mouse_name', 'expt_id', 'roi'])\n",
    "df = full_df.loc[full_df['dist'] <= max_dist]\n",
    "print df.shape"
   ]
  },
  {
   "cell_type": "code",
   "execution_count": 132,
   "metadata": {},
   "outputs": [
    {
     "name": "stdout",
     "output_type": "stream",
     "text": [
      "Ttest_indResult(statistic=-0.500616127156791, pvalue=0.6189291244428803)\n",
      "Ttest_indResult(statistic=-0.5422220419681314, pvalue=0.5891542068764504)\n",
      "Ttest_indResult(statistic=-0.4929076399898515, pvalue=0.6230973868251561)\n",
      "Ttest_indResult(statistic=-0.3241899297871699, pvalue=0.7463633761850921)\n",
      "Ttest_indResult(statistic=-0.23635618209578357, pvalue=0.8134512341699656)\n",
      "Ttest_indResult(statistic=-1.0239650298483698, pvalue=0.30707045222276663)\n",
      "Ttest_indResult(statistic=-0.7113539714240379, pvalue=0.47754440570388523)\n",
      "Ttest_indResult(statistic=-1.5038766426585122, pvalue=0.13400927738159346)\n",
      "Ttest_indResult(statistic=-0.42192446960591545, pvalue=0.6734288028055435)\n",
      "Ttest_indResult(statistic=-0.8891520822336277, pvalue=0.37465075885490684)\n",
      "Ttest_indResult(statistic=-0.43137785577254617, pvalue=0.6665524885573056)\n"
     ]
    }
   ],
   "source": [
    "amps = pd.read_pickle(data_dir + 'amps.pkl')\n",
    "dists = pd.read_pickle(data_dir + 'dists.pkl')\n",
    "\n",
    "full_df = dists.merge(amps, on=['mouse_name', 'expt_id', 'roi'])\n",
    "df = full_df.loc[full_df['dist'] <= max_dist]\n",
    "\n",
    "df = df.loc[df['expt_id'] != 22417]\n",
    "\n",
    "zeros = df.loc[df['dist'] == 0]['zdiff']\n",
    "rest = df.loc[df['dist'] > 0]\n",
    "\n",
    "cno_amps = pd.read_pickle(data_dir + 'cno_amps.pkl')\n",
    "cno_dists = pd.read_pickle(data_dir + 'cno_dists.pkl')\n",
    "\n",
    "full_df = cno_dists.merge(cno_amps, on=['mouse_name', 'expt_id', 'roi'])\n",
    "df = full_df.loc[full_df['dist'] <= max_dist]\n",
    "\n",
    "cno_zeros = df.loc[df['dist'] == 0]['zdiff']\n",
    "cno_rest = df.loc[df['dist'] > 0]\n",
    "\n",
    "bins=np.linspace(0, max_dist, 21)\n",
    "\n",
    "print ttest_ind(zeros.dropna(), cno_zeros.dropna())\n",
    "for i in xrange(10):\n",
    "    a = rest.loc[(rest['dist'] >= bins[i]) & (rest['dist'] < bins[i+1])]['zdiff'].dropna()\n",
    "    b = cno_rest.loc[(cno_rest['dist'] >= bins[i]) & (cno_rest['dist'] < bins[i+1])]['zdiff'].dropna()\n",
    "    print ttest_ind(a, b)"
   ]
  },
  {
   "cell_type": "code",
   "execution_count": 133,
   "metadata": {},
   "outputs": [
    {
     "data": {
      "image/png": "[encoded data removed]",
      "text/plain": [
       "<Figure size 240x300 with 1 Axes>"
      ]
     },
     "metadata": {},
     "output_type": "display_data"
    }
   ],
   "source": [
    "# Max across all single cell stim experiments \n",
    "max_dist = 168.5935987978145\n",
    "\n",
    "def bin_data(amps, dists):\n",
    "\n",
    "    full_df = dists.merge(amps, on=['mouse_name', 'expt_id', 'roi'])\n",
    "    df = full_df.loc[full_df['dist'] <= max_dist]\n",
    "    \n",
    "    df = df.loc[df['expt_id'] != 22417]\n",
    "\n",
    "    zeros = df.loc[df['dist'] == 0]['zdiff']\n",
    "    rest = df.loc[df['dist'] > 0]\n",
    "    means, bins, _ = binned_statistic(rest['dist'], rest['zdiff'],\n",
    "                                          statistic=np.mean,\n",
    "                                          bins=np.linspace(0, max_dist, 21))\n",
    "\n",
    "    stds, bins, _ = binned_statistic(rest['dist'], rest['zdiff'],\n",
    "                                          statistic=sem,\n",
    "                                          bins=np.linspace(0, max_dist, 21))\n",
    "\n",
    "    bin_size = bins[1] - bins[0]\n",
    "    zero_mean = np.nanmean(zeros)\n",
    "    zero_std = sem(zeros)\n",
    "\n",
    "    means = np.concatenate([[zero_mean], means])[:-8]\n",
    "    stds = np.concatenate([[zero_std], stds])[:-8]\n",
    "    plot_bins = np.concatenate([[0], bins + (bins[1] - bins[0]) / 2.])[:-8]\n",
    "    \n",
    "    return means, stds, plot_bins\n",
    "    \n",
    "amps = pd.read_pickle(data_dir + 'amps.pkl')\n",
    "dists = pd.read_pickle(data_dir + 'dists.pkl')\n",
    "\n",
    "means, stds, plot_bins = bin_data(amps, dists)\n",
    "\n",
    "amps = pd.read_pickle(data_dir + 'cno_amps.pkl')\n",
    "dists = pd.read_pickle(data_dir + 'cno_dists.pkl')\n",
    "\n",
    "cno_means, cno_stds, cno_plot_bins = bin_data(amps, dists)\n",
    "    \n",
    "\n",
    "fig = plt.figure(figsize=(1.2, 1.5), dpi=200)\n",
    "ax = fig.add_subplot(111)\n",
    "\n",
    "ax.errorbar(plot_bins[:-1], means, yerr=stds, fmt='o', mfc=colors[0], mec='k', ecolor='k', ms=2.5, elinewidth=0.5, mew=0.5)\n",
    "ax.errorbar(cno_plot_bins[:-1] + 1, cno_means, yerr=cno_stds, fmt='o', mfc=colors[1], mec='k', ecolor='k', ms=2.5, elinewidth=0.5, mew=0.5)\n",
    "\n",
    "clean(ax, offset=4)\n",
    "ax.set_xlabel('Distance from Target (um)')\n",
    "ax.set_ylabel('Mean Stim Response ($\\sigma$)')\n",
    "\n",
    "ax.axhline(0, color='0.5', ls='--')\n",
    "\n",
    "# ax.set_yticks(range(-1, 6, 2))\n",
    "ax.set_ylim([-1, 5])\n",
    "\n",
    "fig.savefig(save_dir + 'dense_stim_response_vs_dist_clipped_overlay.svg')"
   ]
  },
  {
   "cell_type": "code",
   "execution_count": 31,
   "metadata": {},
   "outputs": [
    {
     "data": {
      "image/png": "[encoded data removed]",
      "text/plain": [
       "<Figure size 240x300 with 1 Axes>"
      ]
     },
     "metadata": {},
     "output_type": "display_data"
    }
   ],
   "source": [
    "# Max across all single cell stim experiments \n",
    "max_dist = 168.5935987978145\n",
    "\n",
    "amps = pd.read_pickle(data_dir + 'cno_amps.pkl')\n",
    "dists = pd.read_pickle(data_dir + 'cno_dists.pkl')\n",
    "\n",
    "full_df = dists.merge(amps, on=['mouse_name', 'expt_id', 'roi'])\n",
    "df = full_df.loc[full_df['dist'] <= max_dist]\n",
    "\n",
    "zeros = df.loc[df['dist'] == 0]['zdiff']\n",
    "rest = df.loc[df['dist'] > 0]\n",
    "means, bins, _ = binned_statistic(rest['dist'], rest['zdiff'],\n",
    "                                      statistic=np.mean,\n",
    "                                      bins=np.linspace(0, max_dist, 21))\n",
    "\n",
    "stds, bins, _ = binned_statistic(rest['dist'], rest['zdiff'],\n",
    "                                      statistic=sem,\n",
    "                                      bins=np.linspace(0, max_dist, 21))\n",
    "\n",
    "bin_size = bins[1] - bins[0]\n",
    "zero_mean = np.nanmean(zeros)\n",
    "zero_std = sem(zeros)\n",
    "\n",
    "means = np.concatenate([[zero_mean], means])[:-8]\n",
    "stds = np.concatenate([[zero_std], stds])[:-8]\n",
    "plot_bins = np.concatenate([[0], bins + (bins[1] - bins[0]) / 2.])[:-8]\n",
    "\n",
    "fig = plt.figure(figsize=(1.2, 1.5), dpi=200)\n",
    "ax = fig.add_subplot(111)\n",
    "\n",
    "ax.errorbar(plot_bins[:-1], means, yerr=stds, fmt='o', mfc=colors[1], mec='k', ecolor='k', ms=3.5, elinewidth=0.5, mew=0.5)\n",
    "clean(ax, offset=4)\n",
    "ax.set_xlabel('Distance from Target (um)')\n",
    "ax.set_ylabel('Mean Stim Response ($\\sigma$)')\n",
    "\n",
    "ax.axhline(0, color='0.5', ls='--')\n",
    "\n",
    "# ax.set_yticks(range(-1, 6, 2))\n",
    "ax.set_ylim([-1, 5])\n",
    "\n",
    "fig.savefig(save_dir + 'cno_dense_stim_response_vs_dist_clipped.svg')"
   ]
  },
  {
   "cell_type": "markdown",
   "metadata": {},
   "source": [
    "### Firing Rates"
   ]
  },
  {
   "cell_type": "code",
   "execution_count": 134,
   "metadata": {},
   "outputs": [
    {
     "name": "stdout",
     "output_type": "stream",
     "text": [
      "PRE\n",
      "Ttest_indResult(statistic=-2.4752689794472387, pvalue=0.0229019991328144)\n",
      "POST\n",
      "Ttest_indResult(statistic=-3.459710459444637, pvalue=0.002795872461198001)\n",
      "24H\n",
      "Ttest_indResult(statistic=-0.9513099806907509, pvalue=0.3587998646753052)\n"
     ]
    },
    {
     "data": {
      "image/png": "[encoded data removed]",
      "text/plain": [
       "<Figure size 108x108 with 1 Axes>"
      ]
     },
     "metadata": {},
     "output_type": "display_data"
    }
   ],
   "source": [
    "frs['condition'] = '+saline'\n",
    "cno_frs['condition'] = '+CNO'\n",
    "\n",
    "fr_df = pd.concat([frs, cno_frs])\n",
    "\n",
    "fig = plt.figure(figsize=(1.5, 1.5))\n",
    "ax = fig.add_subplot(111)\n",
    "\n",
    "sessions = ['PRE', 'POST', '24H']\n",
    "\n",
    "grouped_df = fr_df.groupby(['expt', 'mouse', 'condition', 'session'], as_index=False).mean()\n",
    "\n",
    "grouped_df = grouped_df.loc[grouped_df['expt'] != 22417]\n",
    "\n",
    "sns.boxplot(x='session', y='fr', hue='condition', data=grouped_df, order=sessions,\n",
    "            ax=ax, whis=False, showcaps=False, showfliers=False, hue_order=['+saline', '+CNO'])\n",
    "plt.setp(ax.artists, edgecolor='k', facecolor='w', linewidth=1)\n",
    "plt.setp(ax.lines, color='k')\n",
    "\n",
    "sns.swarmplot(x='session', y='fr', hue='condition', data=grouped_df, palette=colors,\n",
    "              order=sessions, hue_order=['+saline', '+CNO'], ax=ax, size=4, dodge=True,\n",
    "              edgecolor='k', linewidth=0.5, alpha=1)\n",
    "\n",
    "ax.get_legend().remove()\n",
    "\n",
    "clean(ax, offset=4)\n",
    "ax.set_xlabel('Session')\n",
    "ax.set_ylabel('Mean Event Rate (Hz)')\n",
    "\n",
    "# ax.axhline(194./4, color='0.5', ls='--')\n",
    "\n",
    "fig.savefig(save_dir + 'dense_FR.svg')\n",
    "\n",
    "for session in sessions:\n",
    "    print session\n",
    "    a = grouped_df.loc[(grouped_df['session'] == session) & (grouped_df['condition'] == '+saline')]['fr']\n",
    "    b = grouped_df.loc[(grouped_df['session'] == session) & (grouped_df['condition'] == '+CNO')]['fr']\n",
    "    \n",
    "    print ttest_ind(a, b)"
   ]
  },
  {
   "cell_type": "markdown",
   "metadata": {},
   "source": [
    "### Unstimmed Activity Centroids"
   ]
  },
  {
   "cell_type": "code",
   "execution_count": 135,
   "metadata": {},
   "outputs": [
    {
     "name": "stdout",
     "output_type": "stream",
     "text": [
      "PRE\n",
      "Ttest_1sampResult(statistic=2.7809802518068203, pvalue=0.01941796962436071)\n",
      "Ttest_1sampResult(statistic=6.102718556794991, pvalue=0.0001786543328580779)\n",
      "POST\n",
      "Ttest_1sampResult(statistic=1.139759376333823, pvalue=0.2838106945270048)\n",
      "Ttest_1sampResult(statistic=0.18788868662126607, pvalue=0.8551318291960972)\n",
      "24H\n",
      "Ttest_1sampResult(statistic=1.2510077526320282, pvalue=0.2511215034460255)\n",
      "Ttest_1sampResult(statistic=0.7312026611336118, pvalue=0.49221170638567857)\n"
     ]
    },
    {
     "data": {
      "image/png": "[encoded data removed]",
      "text/plain": [
       "<Figure size 108x108 with 1 Axes>"
      ]
     },
     "metadata": {},
     "output_type": "display_data"
    }
   ],
   "source": [
    "nostim_activity_centroid_df['condition'] = '+saline'\n",
    "nostim_cno_activity_centroid_df['condition'] = '+CNO'\n",
    "\n",
    "ac_df = pd.concat([nostim_activity_centroid_df, nostim_cno_activity_centroid_df])\n",
    "\n",
    "fig = plt.figure(figsize=(1.5, 1.5))\n",
    "ax = fig.add_subplot(111)\n",
    "\n",
    "sessions = ['PRE', 'POST', '24H']\n",
    "\n",
    "grouped_df = ac_df.groupby(['expt_id', 'mouse_name', 'condition', 'session'], as_index=False).mean()\n",
    "grouped_df = grouped_df.loc[grouped_df['expt_id'] != 22417]\n",
    "\n",
    "sns.boxplot(x='session', y='abs_dist', hue='condition', data=grouped_df, order=sessions,\n",
    "            ax=ax, whis=False, showcaps=False, showfliers=False, hue_order=['+saline', '+CNO'])\n",
    "plt.setp(ax.artists, edgecolor='k', facecolor='w', linewidth=1)\n",
    "plt.setp(ax.lines, color='k')\n",
    "\n",
    "sns.swarmplot(x='session', y='abs_dist', hue='condition', data=grouped_df, palette=['0.3', '0.7'],\n",
    "              order=sessions, hue_order=['+saline', '+CNO'], ax=ax, size=4, dodge=True,\n",
    "              edgecolor='k', linewidth=0.5, alpha=1)\n",
    "\n",
    "ax.get_legend().remove()\n",
    "\n",
    "clean(ax, offset=4)\n",
    "ax.set_xlabel('Session')\n",
    "ax.set_ylabel('Tuning Distance to SZ (cm)')\n",
    "\n",
    "ax.set_ylim([0, 80])\n",
    "\n",
    "ax.axhline(194./4, color='0.5', ls='--')\n",
    "\n",
    "fig.savefig(save_dir + 'dense_unstimmed_activity_centroids.svg')\n",
    "\n",
    "for session in sessions:\n",
    "    \n",
    "    print session\n",
    "    a = grouped_df.loc[(grouped_df['session'] == session) & (grouped_df['condition'] == '+saline')]['abs_dist']\n",
    "    b = grouped_df.loc[(grouped_df['session'] == session) & (grouped_df['condition'] == '+CNO')]['abs_dist']\n",
    "    \n",
    "    print ttest_1samp(a, 194./4)\n",
    "    print ttest_1samp(b, 194./4)"
   ]
  },
  {
   "cell_type": "code",
   "execution_count": 140,
   "metadata": {},
   "outputs": [
    {
     "data": {
      "image/png": "[encoded data removed]",
      "text/plain": [
       "<Figure size 54x108 with 1 Axes>"
      ]
     },
     "metadata": {},
     "output_type": "display_data"
    }
   ],
   "source": [
    "shift_df = ac_df.loc[(ac_df['session'] == 'POST')].merge(\n",
    "        ac_df.loc[(ac_df['session'] == 'PRE')],\n",
    "        on=['roi', 'mouse_name', 'condition'],\n",
    "        suffixes=['_ind', '_base'])\n",
    "\n",
    "shift_df['shift'] = shift_df.apply(lambda x: x['abs_dist_base'] - x['abs_dist_ind'], axis=1)\n",
    "\n",
    "grouped_df = shift_df.groupby(['expt_id_ind', 'mouse_name', 'condition'], as_index=False).mean()\n",
    "grouped_df = grouped_df.loc[grouped_df['expt_id_ind'] != 22417]\n",
    "\n",
    "fig = plt.figure(figsize=(0.75, 1.5))\n",
    "ax = fig.add_subplot(111)\n",
    "\n",
    "sns.boxplot(x='condition', y='shift', data=grouped_df,\n",
    "            ax=ax, whis=False, showcaps=False, showfliers=False, hue_order=['+saline', '+CNO'])\n",
    "plt.setp(ax.artists, edgecolor='k', facecolor='w', linewidth=1)\n",
    "plt.setp(ax.lines, color='k')\n",
    "\n",
    "sns.swarmplot(x='condition', y='shift', hue='condition', data=grouped_df, palette=['0.3', '0.7'],\n",
    "              hue_order=['+saline', '+CNO'], ax=ax, size=4, dodge=False,\n",
    "              edgecolor='k', linewidth=0.5, alpha=1)\n",
    "\n",
    "ax.axhline(0, color='0.5', ls='--')\n",
    "\n",
    "ax.get_legend().remove()\n",
    "\n",
    "clean(ax, offset=4)\n",
    "\n",
    "ax.set_ylabel('Shift Toward SZ (cm)')\n",
    "ax.set_ylim([-20, 40])\n",
    "ax.set_xlabel('Condition')\n",
    "\n",
    "fig.savefig(save_dir + 'dense_unstimmed_shift.svg')"
   ]
  },
  {
   "cell_type": "code",
   "execution_count": 131,
   "metadata": {},
   "outputs": [
    {
     "data": {
      "text/plain": [
       "Ttest_1sampResult(statistic=5.117149463420372, pvalue=0.0006303958890455764)"
      ]
     },
     "execution_count": 131,
     "metadata": {},
     "output_type": "execute_result"
    }
   ],
   "source": [
    "ttest_1samp(grouped_df.loc[grouped_df['condition'] == '+CNO']['shift'], 0)"
   ]
  },
  {
   "cell_type": "markdown",
   "metadata": {},
   "source": [
    "### Fraction PFs"
   ]
  },
  {
   "cell_type": "code",
   "execution_count": 145,
   "metadata": {},
   "outputs": [
    {
     "data": {
      "image/png": "[encoded data removed]",
      "text/plain": [
       "<Figure size 150x300 with 1 Axes>"
      ]
     },
     "metadata": {},
     "output_type": "display_data"
    }
   ],
   "source": [
    "dense_frac_pfs['condition'] = '+saline'\n",
    "cno_frac_pfs['condition'] = '+CNO'\n",
    "\n",
    "frac_df = pd.concat([dense_frac_pfs, cno_frac_pfs])\n",
    "\n",
    "frac_df = frac_df.loc[frac_df['expt'] != 22417]\n",
    "\n",
    "fig = plt.figure(figsize=(0.75, 1.5), dpi=200)\n",
    "ax = fig.add_subplot(111)\n",
    "\n",
    "sns.boxplot(x='condition', y='frac', data=frac_df,\n",
    "            ax=ax, whis=False, showcaps=False, showfliers=False, order=['+saline', '+CNO'])\n",
    "plt.setp(ax.artists, edgecolor='k', facecolor='w', linewidth=1)\n",
    "plt.setp(ax.lines, color='k')\n",
    "\n",
    "sns.swarmplot(x='condition', y='frac', hue='condition', data=frac_df, palette=['0.3', '0.7'],\n",
    "              hue_order=['+saline', '+CNO'], ax=ax, size=4, dodge=False,\n",
    "              edgecolor='k', linewidth=0.5, alpha=1)\n",
    "\n",
    "ax.get_legend().remove()\n",
    "\n",
    "clean(ax, offset=4)\n",
    "\n",
    "ax.set_ylabel('Fraction Place Cells')\n",
    "ax.set_xlabel('Condition')\n",
    "\n",
    "ax.set_ylim([0, 1])\n",
    "\n",
    "fig.savefig(save_dir + 'unstimmed_frac_pfs.svg')"
   ]
  },
  {
   "cell_type": "code",
   "execution_count": 144,
   "metadata": {},
   "outputs": [
    {
     "data": {
      "text/plain": [
       "Ttest_indResult(statistic=-1.9127526238825754, pvalue=0.07097376183278542)"
      ]
     },
     "execution_count": 144,
     "metadata": {},
     "output_type": "execute_result"
    }
   ],
   "source": [
    "ttest_ind(dense_frac_pfs['frac'], cno_frac_pfs['frac'])"
   ]
  },
  {
   "cell_type": "markdown",
   "metadata": {},
   "source": [
    "## Data"
   ]
  },
  {
   "cell_type": "code",
   "execution_count": 3,
   "metadata": {},
   "outputs": [],
   "source": [
    "amps = ia.burst_size(grps[0], roi_filter=None, win=(1, 0.5), exclude_stim=True)\n",
    "dists = ia.dist_to_target(grps[0], stim_filter=None)\n",
    "\n",
    "cno_amps = ia.burst_size(grps[1], roi_filter=None, win=(1, 0.5), exclude_stim=True)\n",
    "cno_dists = ia.dist_to_target(grps[1], stim_filter=None)"
   ]
  },
  {
   "cell_type": "code",
   "execution_count": 75,
   "metadata": {},
   "outputs": [],
   "source": [
    "data_dir = '/home/sebi/data/induction/figs3/'\n",
    "save_dir = '/home/sebi/plots/ind/figs3/'"
   ]
  },
  {
   "cell_type": "code",
   "execution_count": 27,
   "metadata": {},
   "outputs": [],
   "source": [
    "amps.to_pickle(data_dir + 'amps.pkl')\n",
    "dists.to_pickle(data_dir + 'dists.pkl')\n",
    "cno_amps.to_pickle(data_dir + 'cno_amps.pkl')\n",
    "cno_dists.to_pickle(data_dir + 'cno_dists.pkl')"
   ]
  },
  {
   "cell_type": "code",
   "execution_count": 44,
   "metadata": {},
   "outputs": [],
   "source": [
    "def mean_fr(grp, roi_filter=None, cno=False):\n",
    "    \n",
    "    sessions = ['_baseline', '_induction', '_24h']\n",
    "    session_names = ['PRE', 'POST', '24H']\n",
    "    \n",
    "    if cno:\n",
    "        sessions = ['cno' + x for x in sessions]\n",
    "    else:\n",
    "        sessions = ['control' + x for x in sessions]\n",
    "    \n",
    "    data_list = []\n",
    "    \n",
    "    \n",
    "    for session, session_name in zip(sessions, session_names):\n",
    "        \n",
    "        sess_grp = pcExperimentGroup([x._get_session(session) for x in grp], **grp.args)\n",
    "        \n",
    "        for expt in sess_grp:\n",
    "            \n",
    "            if expt is None:\n",
    "                continue\n",
    "\n",
    "            running = expt.velocity()[0] > 0\n",
    "            T = np.sum(running) * expt.frame_period()\n",
    "\n",
    "            spikes = expt.spikes(roi_filter=roi_filter, binary=True)\n",
    "            rois = expt.rois(roi_filter=roi_filter)\n",
    "\n",
    "            im_period = expt.frame_period()\n",
    "            mouse_name = expt.parent.mouse_name\n",
    "            tid = expt.trial_id\n",
    "\n",
    "            for roi, spike in zip(rois, spikes):\n",
    "\n",
    "                data_list.append({'expt': tid,\n",
    "                                  'roi': roi.label,\n",
    "                                  'mouse': mouse_name,\n",
    "                                  'session': session_name,\n",
    "                                  'fr': np.nansum(spike) / T})\n",
    "        \n",
    "    return pd.DataFrame(data_list)"
   ]
  },
  {
   "cell_type": "code",
   "execution_count": 74,
   "metadata": {},
   "outputs": [],
   "source": [
    "def activity_centroids(grp, stim_filter, \n",
    "                        full_sessions=None):\n",
    "    \n",
    "#     full_sessions = ['control_baseline', 'control_induction', 'control_24h']\n",
    "\n",
    "    session_name_dict = {'induction': 'POST',\n",
    "                         'baseline': 'PRE',\n",
    "                         '24h': '24H'}\n",
    "\n",
    "    df = pd.DataFrame([])\n",
    "\n",
    "    for session in full_sessions:\n",
    "\n",
    "        sess_grp = [x._get_session(session) for x in grp]\n",
    "        sess_grp = [x for x in sess_grp if x is not None]\n",
    "        sess_grp = pcExperimentGroup(sess_grp, **grp.args)\n",
    "\n",
    "        stim_session = session.split('_')[0] + '_induction'\n",
    "\n",
    "        sess_df = ia.activity_centroid_distance(sess_grp, roi_filter=stim_filter, stim_session=stim_session)\n",
    "        sess_df['session'] = session_name_dict[session.split('_')[-1]]\n",
    "\n",
    "        df = pd.concat([df, sess_df])\n",
    "\n",
    "    return df"
   ]
  },
  {
   "cell_type": "code",
   "execution_count": 45,
   "metadata": {},
   "outputs": [
    {
     "name": "stdout",
     "output_type": "stream",
     "text": [
      "control_24h not in association dictionary {u'control': {u'pre': 22349, u'post': 22341, u'induction': 22286, u'baseline': 22287}, u'cno': {u'pre': 22344, u'post': 22348, u'induction': 22326, u'baseline': 22327}}\n",
      "control_24h not in association dictionary {u'control': {u'pre': 22346, u'post': 22340, u'induction': 22311, u'baseline': 22313}, u'cno': {u'pre': 22345, u'post': 22350, u'induction': 22318, u'baseline': 22317}}\n",
      "control_24h not in association dictionary {u'control': {u'pre': 24601, u'induction': 24603, u'baseline': 24602}, u'cno': {}}\n"
     ]
    }
   ],
   "source": [
    "frs = mean_fr(grps[0], roi_filter=nostim_filters[0])"
   ]
  },
  {
   "cell_type": "code",
   "execution_count": 48,
   "metadata": {},
   "outputs": [],
   "source": [
    "frs.to_pickle(data_dir + 'dense_frs.pkl')"
   ]
  },
  {
   "cell_type": "code",
   "execution_count": 47,
   "metadata": {},
   "outputs": [
    {
     "name": "stdout",
     "output_type": "stream",
     "text": [
      "cno_24h not in association dictionary {u'control': {u'pre': 22349, u'post': 22341, u'induction': 22286, u'baseline': 22287}, u'cno': {u'pre': 22344, u'post': 22348, u'induction': 22326, u'baseline': 22327}}\n",
      "cno_24h not in association dictionary {u'control': {u'pre': 22346, u'post': 22340, u'induction': 22311, u'baseline': 22313}, u'cno': {u'pre': 22345, u'post': 22350, u'induction': 22318, u'baseline': 22317}}\n",
      "cno_24h not in association dictionary {u'control': {u'pre': 24783, u'post': 24784, u'induction': 24781, u'baseline': 24782, u'24h': 24797}, u'cno': {u'pre': 24795, u'post': 24796, u'induction': 24798, u'baseline': 24799}}\n"
     ]
    }
   ],
   "source": [
    "cno_frs = mean_fr(grps[1], roi_filter=nostim_filters[1], cno=True)"
   ]
  },
  {
   "cell_type": "code",
   "execution_count": 49,
   "metadata": {},
   "outputs": [],
   "source": [
    "cno_frs.to_pickle(data_dir + 'cno_dense_frs.pkl')"
   ]
  },
  {
   "cell_type": "code",
   "execution_count": 75,
   "metadata": {
    "collapsed": true,
    "jupyter": {
     "outputs_hidden": true
    }
   },
   "outputs": [
    {
     "name": "stdout",
     "output_type": "stream",
     "text": [
      "control_24h not in association dictionary {u'control': {u'pre': 22349, u'post': 22341, u'induction': 22286, u'baseline': 22287}, u'cno': {u'pre': 22344, u'post': 22348, u'induction': 22326, u'baseline': 22327}}\n",
      "control_24h not in association dictionary {u'control': {u'pre': 22346, u'post': 22340, u'induction': 22311, u'baseline': 22313}, u'cno': {u'pre': 22345, u'post': 22350, u'induction': 22318, u'baseline': 22317}}\n",
      "control_24h not in association dictionary {u'control': {u'pre': 24601, u'induction': 24603, u'baseline': 24602}, u'cno': {}}\n",
      "saving changes to 24610: {'control_markpoints_path': '/data4/Mohsin/2p/msa0220_3/2_24_20/MarkPoints-02242020-induce-003'}\n",
      "saving changes to 24651: {'control_markpoints_path': '/data4/Mohsin/2p/msa0220_3/2_28_20/MarkPoints-02282020-induce-003'}\n",
      "saving changes to 24672: {'control_markpoints_path': '/data4/Mohsin/2p/msa0220_3/3_4_20/MarkPoints-02282020-induce-003'}\n",
      "saving changes to 24762: {'control_markpoints_path': '/data4/Mohsin/2p/msa0220_3/3_8_20/MarkPoints-03082020-induce-003'}\n",
      "saving changes to 24780: {'control_markpoints_path': '/data4/Mohsin/2p/msa0320_1/3_10_20/MarkPoints-03102020-induce-003'}\n",
      "saving changes to 24693: {'control_markpoints_path': '/data4/Mohsin/2p/msa0320_2/3_9_20/MarkPoints-03092020-induce-003'}\n",
      "saving changes to 24797: {'control_markpoints_path': '/data4/Mohsin/2p/msa0320_2/3_11_20/MarkPoints-03082020-induce-003'}\n",
      "cno_24h not in association dictionary {u'control': {u'pre': 22349, u'post': 22341, u'induction': 22286, u'baseline': 22287}, u'cno': {u'pre': 22344, u'post': 22348, u'induction': 22326, u'baseline': 22327}}\n",
      "cno_24h not in association dictionary {u'control': {u'pre': 22346, u'post': 22340, u'induction': 22311, u'baseline': 22313}, u'cno': {u'pre': 22345, u'post': 22350, u'induction': 22318, u'baseline': 22317}}\n",
      "cno_24h not in association dictionary {u'control': {u'pre': 24783, u'post': 24784, u'induction': 24781, u'baseline': 24782, u'24h': 24797}, u'cno': {u'pre': 24795, u'post': 24796, u'induction': 24798, u'baseline': 24799}}\n",
      "saving changes to 24636: {'cno_markpoints_path': '/data4/Mohsin/2p/msa0220_3/2_26_20/MarkPoints-02262020-induce-003'}\n",
      "saving changes to 24658: {'cno_markpoints_path': '/data4/Mohsin/2p/msa0220_3/3_1_20/MarkPoints-02282020-test-002'}\n",
      "saving changes to 24681: {'cno_markpoints_path': '/data4/Mohsin/2p/msa0220_3/3_6_20/MarkPoints-02282020-induce-003'}\n",
      "saving changes to 24779: {'cno_markpoints_path': '/data4/Mohsin/2p/msa0220_3/3_10_20/MarkPoints-03102020-induce-003'}\n",
      "saving changes to 24763: {'cno_markpoints_path': '/data4/Mohsin/2p/msa0320_1/3_8_20/MarkPoints-03082020-induce-003'}\n",
      "saving changes to 24791: {'cno_markpoints_path': '/data4/Mohsin/2p/msa0320_1/3_12_20/MarkPoints-03082020-induce-003'}\n",
      "saving changes to 24770: {'cno_markpoints_path': '/data4/Mohsin/2p/msa0320_2/3_9_20/MarkPoints-03092020-induce-003'}\n"
     ]
    }
   ],
   "source": [
    "nostim_activity_centroid_df = activity_centroids(grps[0], nostim_filters[0], full_sessions =['control_baseline', 'control_induction', 'control_24h'])\n",
    "nostim_cno_activity_centroid_df = activity_centroids(grps[1], nostim_filters[1], full_sessions =['cno_baseline', 'cno_induction', 'cno_24h'])"
   ]
  },
  {
   "cell_type": "code",
   "execution_count": 112,
   "metadata": {},
   "outputs": [],
   "source": [
    "nostim_activity_centroid_df.to_pickle(data_dir + 'nostim_activity_centroid.pkl')\n",
    "nostim_cno_activity_centroid_df.to_pickle(data_dir + 'nostim_cno_activity_centroid.pkl')"
   ]
  },
  {
   "cell_type": "code",
   "execution_count": 113,
   "metadata": {},
   "outputs": [],
   "source": [
    "def frac_pfs(grp, roi_filter):\n",
    "    \n",
    "    data_list = []\n",
    "    \n",
    "    pfs = grp.pfs(roi_filter=roi_filter)\n",
    "    for expt in grp:\n",
    "        epfs = pfs[expt]\n",
    "        npfs = len([x for x in epfs if x])\n",
    "        nrois = len(epfs)\n",
    "        \n",
    "        data_list.append({'expt': expt.trial_id,\n",
    "                          'mouse': expt.parent.mouse_name,\n",
    "                          'npfs': npfs,\n",
    "                          'nrois': nrois,\n",
    "                          'frac': npfs / float(nrois)})\n",
    "    \n",
    "    return pd.DataFrame(data_list)\n",
    "        "
   ]
  },
  {
   "cell_type": "code",
   "execution_count": 114,
   "metadata": {},
   "outputs": [],
   "source": [
    "dense_frac_pfs = frac_pfs(grps[0], nostim_filters[0])"
   ]
  },
  {
   "cell_type": "code",
   "execution_count": 115,
   "metadata": {},
   "outputs": [],
   "source": [
    "cno_frac_pfs = frac_pfs(grps[1], nostim_filters[1])"
   ]
  }
 ],
 "metadata": {
  "kernelspec": {
   "display_name": "Python 2",
   "language": "python",
   "name": "python2"
  },
  "language_info": {
   "codemirror_mode": {
    "name": "ipython",
    "version": 2
   },
   "file_extension": ".py",
   "mimetype": "text/x-python",
   "name": "python",
   "nbconvert_exporter": "python",
   "pygments_lexer": "ipython2",
   "version": "2.7.17"
  }
 },
 "nbformat": 4,
 "nbformat_minor": 4
}
