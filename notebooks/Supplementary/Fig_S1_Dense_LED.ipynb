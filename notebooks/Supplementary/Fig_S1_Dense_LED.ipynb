{
 "cells": [
  {
   "cell_type": "code",
   "execution_count": 1,
   "metadata": {
    "collapsed": true,
    "jupyter": {
     "outputs_hidden": true
    }
   },
   "outputs": [
    {
     "name": "stderr",
     "output_type": "stream",
     "text": [
      "/home/sebi/code/analysis/analysis-scripts/induction_analysis/Analysis/induction_analysis.py:4: UserWarning: \n",
      "This call to matplotlib.use() has no effect because the backend has already\n",
      "been chosen; matplotlib.use() must be called *before* pylab, matplotlib.pyplot,\n",
      "or matplotlib.backends is imported for the first time.\n",
      "\n",
      "The backend was *originally* set to 'module://ipykernel.pylab.backend_inline' by the following code:\n",
      "  File \"/usr/lib/python2.7/runpy.py\", line 174, in _run_module_as_main\n",
      "    \"__main__\", fname, loader, pkg_name)\n",
      "  File \"/usr/lib/python2.7/runpy.py\", line 72, in _run_code\n",
      "    exec code in run_globals\n",
      "  File \"/home/sebi/.local/lib/python2.7/site-packages/ipykernel_launcher.py\", line 16, in <module>\n",
      "    app.launch_new_instance()\n",
      "  File \"/home/sebi/.local/lib/python2.7/site-packages/traitlets/config/application.py\", line 658, in launch_instance\n",
      "    app.start()\n",
      "  File \"/home/sebi/.local/lib/python2.7/site-packages/ipykernel/kernelapp.py\", line 499, in start\n",
      "    self.io_loop.start()\n",
      "  File \"/home/sebi/.local/lib/python2.7/site-packages/tornado/ioloop.py\", line 1073, in start\n",
      "    handler_func(fd_obj, events)\n",
      "  File \"/home/sebi/.local/lib/python2.7/site-packages/tornado/stack_context.py\", line 300, in null_wrapper\n",
      "    return fn(*args, **kwargs)\n",
      "  File \"/home/sebi/.local/lib/python2.7/site-packages/zmq/eventloop/zmqstream.py\", line 456, in _handle_events\n",
      "    self._handle_recv()\n",
      "  File \"/home/sebi/.local/lib/python2.7/site-packages/zmq/eventloop/zmqstream.py\", line 486, in _handle_recv\n",
      "    self._run_callback(callback, msg)\n",
      "  File \"/home/sebi/.local/lib/python2.7/site-packages/zmq/eventloop/zmqstream.py\", line 438, in _run_callback\n",
      "    callback(*args, **kwargs)\n",
      "  File \"/home/sebi/.local/lib/python2.7/site-packages/tornado/stack_context.py\", line 300, in null_wrapper\n",
      "    return fn(*args, **kwargs)\n",
      "  File \"/home/sebi/.local/lib/python2.7/site-packages/ipykernel/kernelbase.py\", line 283, in dispatcher\n",
      "    return self.dispatch_shell(stream, msg)\n",
      "  File \"/home/sebi/.local/lib/python2.7/site-packages/ipykernel/kernelbase.py\", line 233, in dispatch_shell\n",
      "    handler(stream, idents, msg)\n",
      "  File \"/home/sebi/.local/lib/python2.7/site-packages/ipykernel/kernelbase.py\", line 399, in execute_request\n",
      "    user_expressions, allow_stdin)\n",
      "  File \"/home/sebi/.local/lib/python2.7/site-packages/ipykernel/ipkernel.py\", line 208, in do_execute\n",
      "    res = shell.run_cell(code, store_history=store_history, silent=silent)\n",
      "  File \"/home/sebi/.local/lib/python2.7/site-packages/ipykernel/zmqshell.py\", line 537, in run_cell\n",
      "    return super(ZMQInteractiveShell, self).run_cell(*args, **kwargs)\n",
      "  File \"/home/sebi/.local/lib/python2.7/site-packages/IPython/core/interactiveshell.py\", line 2714, in run_cell\n",
      "    interactivity=interactivity, compiler=compiler, result=result)\n",
      "  File \"/home/sebi/.local/lib/python2.7/site-packages/IPython/core/interactiveshell.py\", line 2818, in run_ast_nodes\n",
      "    if self.run_code(code, result):\n",
      "  File \"/home/sebi/.local/lib/python2.7/site-packages/IPython/core/interactiveshell.py\", line 2878, in run_code\n",
      "    exec(code_obj, self.user_global_ns, self.user_ns)\n",
      "  File \"<ipython-input-1-27656edb7ceb>\", line 1, in <module>\n",
      "    get_ipython().magic(u'matplotlib inline')\n",
      "  File \"/home/sebi/.local/lib/python2.7/site-packages/IPython/core/interactiveshell.py\", line 2160, in magic\n",
      "    return self.run_line_magic(magic_name, magic_arg_s)\n",
      "  File \"/home/sebi/.local/lib/python2.7/site-packages/IPython/core/interactiveshell.py\", line 2081, in run_line_magic\n",
      "    result = fn(*args,**kwargs)\n",
      "  File \"<decorator-gen-105>\", line 2, in matplotlib\n",
      "  File \"/home/sebi/.local/lib/python2.7/site-packages/IPython/core/magic.py\", line 188, in <lambda>\n",
      "    call = lambda f, *a, **k: f(*a, **k)\n",
      "  File \"/home/sebi/.local/lib/python2.7/site-packages/IPython/core/magics/pylab.py\", line 100, in matplotlib\n",
      "    gui, backend = self.shell.enable_matplotlib(args.gui)\n",
      "  File \"/home/sebi/.local/lib/python2.7/site-packages/IPython/core/interactiveshell.py\", line 2966, in enable_matplotlib\n",
      "    pt.activate_matplotlib(backend)\n",
      "  File \"/home/sebi/.local/lib/python2.7/site-packages/IPython/core/pylabtools.py\", line 315, in activate_matplotlib\n",
      "    matplotlib.pyplot.switch_backend(backend)\n",
      "  File \"/home/sebi/.local/lib/python2.7/site-packages/matplotlib/pyplot.py\", line 231, in switch_backend\n",
      "    matplotlib.use(newbackend, warn=False, force=True)\n",
      "  File \"/home/sebi/.local/lib/python2.7/site-packages/matplotlib/__init__.py\", line 1425, in use\n",
      "    reload(sys.modules['matplotlib.backends'])\n",
      "  File \"/home/sebi/.local/lib/python2.7/site-packages/matplotlib/backends/__init__.py\", line 17, in <module>\n",
      "    line for line in traceback.format_stack()\n",
      "\n",
      "\n",
      "  mpl.use('pdf')\n"
     ]
    }
   ],
   "source": [
    "%matplotlib inline\n",
    "import matplotlib.pyplot as plt\n",
    "import seaborn as sns\n",
    "sns.set_style(style='ticks')\n",
    "import matplotlib.pyplot as plt\n",
    "import seaborn as sns\n",
    "\n",
    "import numpy as np\n",
    "import sys\n",
    "sys.path.insert(0, '../induction_analysis')\n",
    "\n",
    "from lab_repo.classes.dbclasses import dbExperiment, dbMouse\n",
    "from lab_repo.classes.place_cell_classes import pcExperimentGroup\n",
    "\n",
    "from Experiments import LEDExperiment\n",
    "\n",
    "import lab_repo.analysis.place_cell_analysis as pca\n",
    "import lab_repo.analysis.behavior_analysis as ba\n",
    "import lab_repo.analysis.identify_place_fields as idf\n",
    "\n",
    "import pandas as pd\n",
    "\n",
    "from Analysis import induction_analysis as ia\n",
    "from Analysis import filters"
   ]
  },
  {
   "cell_type": "code",
   "execution_count": 2,
   "metadata": {},
   "outputs": [],
   "source": [
    "from matplotlib import rc\n",
    "plt.rcParams['axes.linewidth'] = 1\n",
    "plt.rcParams['ytick.labelsize'] = 6\n",
    "plt.rcParams['xtick.labelsize'] = 6\n",
    "plt.rcParams['axes.labelsize'] = 7\n",
    "plt.rcParams['boxplot.boxprops.linewidth'] = 1\n",
    "\n",
    "rc('font',**{'family':'sans-serif','sans-serif':['helvetica', 'sans-serif']})\n",
    "plt.rcParams['axes.unicode_minus'] = False"
   ]
  },
  {
   "cell_type": "code",
   "execution_count": 3,
   "metadata": {},
   "outputs": [],
   "source": [
    "def clean(ax, full=False, offset=0):\n",
    "    if full:\n",
    "        sns.despine(ax=ax, left=True, bottom=True, offset=offset)\n",
    "        ax.set_yticks([])\n",
    "        ax.set_xticks([])\n",
    "    else:\n",
    "        sns.despine(ax=ax, offset=offset)"
   ]
  },
  {
   "cell_type": "code",
   "execution_count": 4,
   "metadata": {},
   "outputs": [],
   "source": [
    "expt_ids = [22434, 22487]\n",
    "\n",
    "expts = [LEDExperiment.LEDExperiment(expt_id) for expt_id in expt_ids]"
   ]
  },
  {
   "cell_type": "code",
   "execution_count": 5,
   "metadata": {},
   "outputs": [],
   "source": [
    "pc_kwargs = pc_kwargs = {'imaging_label': 's2p',\n",
    "                         'nPositionBins': 100,\n",
    "                         'channel': 'Ch2',\n",
    "                         'demixed': False,\n",
    "                         'pf_subset': None,\n",
    "                         'signal': 'spikes'}\n",
    "\n",
    "grp = pcExperimentGroup(expts, label='dense_led', **pc_kwargs)"
   ]
  },
  {
   "cell_type": "code",
   "execution_count": 22,
   "metadata": {},
   "outputs": [],
   "source": [
    "def formatPlot(ax, offset=10):\n",
    "    for axis in ['left', 'right', 'bottom', 'top']:\n",
    "        ax.spines[axis].set_linewidth(2)\n",
    "    ax.tick_params(labelsize=14, width=2, length=4)\n",
    "    sns.despine(ax=ax, offset=offset)\n",
    "    ax.set_xlabel('')\n",
    "    ax.set_ylabel('')"
   ]
  },
  {
   "cell_type": "code",
   "execution_count": 78,
   "metadata": {},
   "outputs": [],
   "source": [
    "control_stim_filter = filters.grp_stim_filter(grp, activity_filter=True, overwrite=False)\n",
    "control_induction_filter = filters.grp_induction_filter(grp, stim_filter=control_stim_filter, overwrite=False)"
   ]
  },
  {
   "cell_type": "code",
   "execution_count": 5,
   "metadata": {},
   "outputs": [],
   "source": [
    "sigs = grp[0].imagingData(dFOverF='from_file')[..., 0]"
   ]
  },
  {
   "cell_type": "code",
   "execution_count": 6,
   "metadata": {},
   "outputs": [],
   "source": [
    "baseline_sigs = grp[0]._get_session('control_baseline').imagingData(dFOverF='from_file')[..., 0]"
   ]
  },
  {
   "cell_type": "code",
   "execution_count": 24,
   "metadata": {},
   "outputs": [],
   "source": [
    "pos = ba.absolutePosition(grp[0].find('trial'), imageSync=True) % 1\n",
    "baseline_pos = ba.absolutePosition(grp[0]._get_session('control_baseline').find('trial'), imageSync=True) % 1\n",
    "post_pos = ba.absolutePosition(grp[0]._get_session('control_24h').find('trial'), imageSync=True) % 1\n",
    "\n",
    "pos[np.where(np.diff(pos) < -0.5)] = np.nan\n",
    "baseline_pos[np.where(np.diff(baseline_pos) < -0.5)] = np.nan\n",
    "post_pos[np.where(np.diff(post_pos) < -0.5)] = np.nan"
   ]
  },
  {
   "cell_type": "code",
   "execution_count": 35,
   "metadata": {},
   "outputs": [
    {
     "name": "stderr",
     "output_type": "stream",
     "text": [
      "/home/sebi/.local/lib/python2.7/site-packages/ipykernel_launcher.py:43: RuntimeWarning: Mean of empty slice\n"
     ]
    },
    {
     "data": {
      "image/png": "[encoded data removed]",
      "text/plain": [
       "<Figure size 468x216 with 1 Axes>"
      ]
     },
     "metadata": {},
     "output_type": "display_data"
    }
   ],
   "source": [
    "fig = plt.figure(figsize=(6.5, 3))\n",
    "ax = fig.add_subplot(111)\n",
    "\n",
    "lw=0.5\n",
    "\n",
    "# Baseline\n",
    "T = np.arange(baseline_sigs.shape[1]) * grp[0].frame_period()\n",
    "\n",
    "mean_sig = np.nanmean(baseline_sigs, axis=0)\n",
    "mean_mean = np.nanmean(mean_sig)\n",
    "mean_std = np.nanstd(mean_sig)\n",
    "ax.plot(T, (mean_sig - np.nanmean(mean_sig)) / np.nanstd(mean_sig) + 10, 'k', lw=lw)\n",
    "\n",
    "stds = []\n",
    "means = []\n",
    "\n",
    "for i, sig in enumerate(baseline_sigs):\n",
    "    \n",
    "    stds.append(np.nanstd(sig))\n",
    "    means.append(np.nanmean(sig))\n",
    "    \n",
    "    ax.plot(T, (sig - np.nanmean(sig)) / np.nanstd(sig) - 6*i, lw=lw)\n",
    "    \n",
    "    if i > 10:\n",
    "        break\n",
    "        \n",
    "ax.plot(T, baseline_pos * 18 - 6*(i + 4), lw=1, color='k')\n",
    "\n",
    "# Induction\n",
    "\n",
    "plt.gca().set_prop_cycle(None)\n",
    "\n",
    "for start, stop in zip(starts, stops):\n",
    "    sigs[:, start - 1:stop + 2] = np.nan\n",
    "#     ax.axvspan(start * grp[0].frame_period(), stop * grp[0].frame_period())\n",
    "\n",
    "T = np.arange(sigs.shape[1]) * grp[0].frame_period() + T[-1] + 60\n",
    "\n",
    "stim_times = grp[0]._get_stim_times()[:, 0]\n",
    "for stim_time in stim_times:\n",
    "    ax.axvline(stim_time + T[0], color='r', alpha=0.5)\n",
    "\n",
    "mean_sig = np.nanmean(sigs, axis=0)\n",
    "# ax.plot(T, (mean_sig - np.nanmean(mean_sig)) / np.nanstd(mean_sig) + 10, 'k', lw=lw)\n",
    "ax.plot(T, (mean_sig - mean_mean) / mean_std + 10, 'k', lw=lw)\n",
    "\n",
    "for i, sig in enumerate(sigs):\n",
    "        \n",
    "#     ax.plot(T, (sig - np.nanmean(sig)) / np.nanstd(sig) - 6*i, lw=lw)\n",
    "    ax.plot(T, (sig - means[i]) / stds[i] - 6*i, lw=lw)\n",
    "\n",
    "    \n",
    "    if i > 10:\n",
    "        break\n",
    "        \n",
    "ax.plot(T, pos * 18 - 6*(i + 4), lw=1, color='k')\n",
    "\n",
    "        \n",
    "\n",
    "# Post\n",
    "plt.gca().set_prop_cycle(None)\n",
    "\n",
    "T = np.arange(post_sigs.shape[1]) * grp[0].frame_period() + T[-1] + 60\n",
    "\n",
    "mean_sig = np.nanmean(post_sigs, axis=0)\n",
    "# ax.plot(T, (mean_sig - np.nanmean(mean_sig)) / np.nanstd(mean_sig) + 10, 'k', lw=lw)\n",
    "ax.plot(T, (mean_sig - mean_mean) / mean_std + 10, 'k', lw=lw)\n",
    "\n",
    "for i, sig in enumerate(post_sigs):\n",
    "        \n",
    "#     ax.plot(T, (sig - np.nanmean(sig)) / np.nanstd(sig) - 6*i, lw=lw)\n",
    "    ax.plot(T, (sig - means[i]) / stds[i] - 6*i, lw=lw)\n",
    "    \n",
    "    if i > 10:\n",
    "        break\n",
    "\n",
    "ax.plot(T, post_pos * 18 - 6*(i + 4), lw=1, color='k')\n",
    "\n",
    "formatPlot(ax)\n",
    "\n",
    "sns.despine(ax=ax, left=True)\n",
    "# ax.set_yticks([])\n",
    "\n",
    "# fig.savefig('/home/sebi/plots/ind/figs2/baseline_traces.svg', bbox_inches='tight')\n",
    "fig.savefig('/home/sebi/plots/ind/figs2/example_all_session_traces.svg', bbox_inches='tight')"
   ]
  },
  {
   "cell_type": "code",
   "execution_count": 6,
   "metadata": {},
   "outputs": [],
   "source": [
    "sessions = ['control_baseline', 'control_induction', 'control_24h']\n",
    "response_df = pd.DataFrame()\n",
    "\n",
    "for session in sessions:\n",
    "    \n",
    "    sessgrp = pcExperimentGroup([x._get_session(session) for x in grp], **pc_kwargs)\n",
    "    if 'control' in session:\n",
    "        sessdf = ia.activity_centroid_distance(sessgrp, roi_filter=None, stim_session='control_induction')\n",
    "    else:\n",
    "        sessdf = ia.activity_centroid_distance(sessgrp, roi_filter=None, stim_session='cno_induction')\n",
    "    sessdf['session'] = session\n",
    "    \n",
    "    response_df = response_df.append(sessdf)"
   ]
  },
  {
   "cell_type": "code",
   "execution_count": 18,
   "metadata": {},
   "outputs": [
    {
     "data": {
      "image/png": "[encoded data removed]",
      "text/plain": [
       "<Figure size 300x300 with 1 Axes>"
      ]
     },
     "metadata": {
      "needs_background": "light"
     },
     "output_type": "display_data"
    }
   ],
   "source": [
    "# grp_sessions = df.groupby(['session', 'mouse_name'], as_index=False).mean()\n",
    "\n",
    "fig = plt.figure(figsize=(1.5, 1.5), dpi=200)\n",
    "ax = fig.add_subplot(111)\n",
    "\n",
    "sns.pointplot(y='abs_dist', x='session', hue='mouse_name',\n",
    "              data=response_df, order=sessions, ci='sd', dodge=0.1, scale=0.4, errwidth=1)\n",
    "\n",
    "clean(ax, offset=4)\n",
    "# ax.set_xlabel('session', fontsize=10)\n",
    "ax.set_xticklabels(['PRE', 'POST', '24H'])\n",
    "ax.set_ylabel('Activity Centroid Dist to SZ (cm)')\n",
    "# ax.set_title('activity centroid distribution', fontsize=10)\n",
    "ax.set_ylim([0, 100])\n",
    "ax.axhline(194 / 4., linestyle='--', color='0.5', zorder=-1)\n",
    "\n",
    "ax.legend().remove()\n",
    "\n",
    "fig.savefig('/home/sebi/plots/ind/figs2/activity_centroid_dist.svg', bbox_inches='tight')"
   ]
  },
  {
   "cell_type": "code",
   "execution_count": 19,
   "metadata": {},
   "outputs": [],
   "source": [
    "post_df = response_df.loc[response_df['session'] == 'control_induction']\n",
    "base_df = response_df.loc[response_df['session'] == 'control_baseline']\n",
    "\n",
    "merge_df = post_df.merge(base_df, on=['mouse_name', 'roi'], suffixes=['_post', '_pre'])\n",
    "\n",
    "merge_df['shift'] = merge_df['abs_dist_pre'] - merge_df['abs_dist_post']"
   ]
  },
  {
   "cell_type": "code",
   "execution_count": 25,
   "metadata": {},
   "outputs": [
    {
     "data": {
      "image/png": "[encoded data removed]",
      "text/plain": [
       "<Figure size 100x300 with 1 Axes>"
      ]
     },
     "metadata": {
      "needs_background": "light"
     },
     "output_type": "display_data"
    }
   ],
   "source": [
    "fig = plt.figure(figsize=(0.5, 1.5), dpi=200)\n",
    "ax = fig.add_subplot(111)\n",
    "\n",
    "sns.pointplot(x='session_post', y='shift', hue='mouse_name', data=merge_df,\n",
    "              dodge=0.2, scale=0.4, ci='sd', errwidth=1)\n",
    "\n",
    "clean(ax, offset=4)\n",
    "ax.set_ylabel('Shift Toward SZ (cm)')\n",
    "ax.set_xticks([])\n",
    "ax.set_xlabel('')\n",
    "ax.legend().remove()\n",
    "\n",
    "ax.axhline(0, linestyle='--', color='0.5', zorder=-1)\n",
    "\n",
    "\n",
    "# ax.set_aspect(3 / ax.get_data_ratio())\n",
    "\n",
    "fig.savefig('/home/sebi/plots/ind/figs2/activity_centroid_shift.svg', bbox_inches='tight')"
   ]
  },
  {
   "cell_type": "code",
   "execution_count": 198,
   "metadata": {},
   "outputs": [
    {
     "data": {
      "text/plain": [
       "array([1517.79651068, 2178.26317319, 2918.10010582, 3590.9172509 ,\n",
       "       4266.05577357])"
      ]
     },
     "execution_count": 198,
     "metadata": {},
     "output_type": "execute_result"
    }
   ],
   "source": [
    "stim_times / grp[0].frame_period()"
   ]
  },
  {
   "cell_type": "code",
   "execution_count": 199,
   "metadata": {},
   "outputs": [
    {
     "name": "stderr",
     "output_type": "stream",
     "text": [
      "/home/sebi/.local/lib/python2.7/site-packages/ipykernel_launcher.py:2: RuntimeWarning: Mean of empty slice\n",
      "  \n",
      "/home/sebi/.local/lib/python2.7/site-packages/ipykernel_launcher.py:4: RuntimeWarning: Mean of empty slice\n",
      "  after removing the cwd from sys.path.\n"
     ]
    }
   ],
   "source": [
    "seq = grp[0].imaging_dataset().sequences[0]\n",
    "base_ta = np.nanmean(seq[:1500, ...], axis=(0, 1, 4))\n",
    "ind_ta = np.nanmean(seq[1517:3017, ...], axis=(0, 1, 4))\n",
    "post_ta = np.nanmean(seq[5000:6500, ...], axis=(0, 1, 4))"
   ]
  },
  {
   "cell_type": "code",
   "execution_count": 218,
   "metadata": {},
   "outputs": [
    {
     "data": {
      "application/vnd.jupyter.widget-view+json": {
       "model_id": "b1a38cd9ad79400ca5e0d34b4c7ff320",
       "version_major": 2,
       "version_minor": 0
      },
      "text/plain": [
       "FigureCanvasNbAgg()"
      ]
     },
     "metadata": {},
     "output_type": "display_data"
    }
   ],
   "source": [
    "fig = plt.figure()\n",
    "ax = fig.add_subplot(131)\n",
    "ax.imshow(base_ta, cmap='Greys_r')\n",
    "plt.axis('off')\n",
    "ax = fig.add_subplot(132)\n",
    "ax.imshow(ind_ta, cmap='Greys_r')\n",
    "plt.axis('off')\n",
    "ax = fig.add_subplot(133)\n",
    "ax.imshow(post_ta, cmap='Greys_r')\n",
    "plt.axis('off')\n",
    "# sns.despine(fig=fig, left=True, bottom=True)\n",
    "\n",
    "fig.savefig('/home/sebi/plots/ind/figs2/example_time_averages.png', bbox_inches='tight')"
   ]
  }
 ],
 "metadata": {
  "kernelspec": {
   "display_name": "Python 2",
   "language": "python",
   "name": "python2"
  },
  "language_info": {
   "codemirror_mode": {
    "name": "ipython",
    "version": 2
   },
   "file_extension": ".py",
   "mimetype": "text/x-python",
   "name": "python",
   "nbconvert_exporter": "python",
   "pygments_lexer": "ipython2",
   "version": "2.7.17"
  }
 },
 "nbformat": 4,
 "nbformat_minor": 4
}
