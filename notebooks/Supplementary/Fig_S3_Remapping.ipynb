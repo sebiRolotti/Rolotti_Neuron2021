{
 "cells": [
  {
   "cell_type": "code",
   "execution_count": 2,
   "metadata": {
    "collapsed": true,
    "jupyter": {
     "outputs_hidden": true
    }
   },
   "outputs": [
    {
     "name": "stderr",
     "output_type": "stream",
     "text": [
      "/home/sebi/code/analysis/analysis-scripts/induction_analysis/Analysis/induction_analysis.py:4: UserWarning: \n",
      "This call to matplotlib.use() has no effect because the backend has already\n",
      "been chosen; matplotlib.use() must be called *before* pylab, matplotlib.pyplot,\n",
      "or matplotlib.backends is imported for the first time.\n",
      "\n",
      "The backend was *originally* set to 'module://ipykernel.pylab.backend_inline' by the following code:\n",
      "  File \"/usr/lib/python2.7/runpy.py\", line 174, in _run_module_as_main\n",
      "    \"__main__\", fname, loader, pkg_name)\n",
      "  File \"/usr/lib/python2.7/runpy.py\", line 72, in _run_code\n",
      "    exec code in run_globals\n",
      "  File \"/home/sebi/.local/lib/python2.7/site-packages/ipykernel_launcher.py\", line 16, in <module>\n",
      "    app.launch_new_instance()\n",
      "  File \"/home/sebi/.local/lib/python2.7/site-packages/traitlets/config/application.py\", line 658, in launch_instance\n",
      "    app.start()\n",
      "  File \"/home/sebi/.local/lib/python2.7/site-packages/ipykernel/kernelapp.py\", line 499, in start\n",
      "    self.io_loop.start()\n",
      "  File \"/home/sebi/.local/lib/python2.7/site-packages/tornado/ioloop.py\", line 1073, in start\n",
      "    handler_func(fd_obj, events)\n",
      "  File \"/home/sebi/.local/lib/python2.7/site-packages/tornado/stack_context.py\", line 300, in null_wrapper\n",
      "    return fn(*args, **kwargs)\n",
      "  File \"/home/sebi/.local/lib/python2.7/site-packages/zmq/eventloop/zmqstream.py\", line 456, in _handle_events\n",
      "    self._handle_recv()\n",
      "  File \"/home/sebi/.local/lib/python2.7/site-packages/zmq/eventloop/zmqstream.py\", line 486, in _handle_recv\n",
      "    self._run_callback(callback, msg)\n",
      "  File \"/home/sebi/.local/lib/python2.7/site-packages/zmq/eventloop/zmqstream.py\", line 438, in _run_callback\n",
      "    callback(*args, **kwargs)\n",
      "  File \"/home/sebi/.local/lib/python2.7/site-packages/tornado/stack_context.py\", line 300, in null_wrapper\n",
      "    return fn(*args, **kwargs)\n",
      "  File \"/home/sebi/.local/lib/python2.7/site-packages/ipykernel/kernelbase.py\", line 283, in dispatcher\n",
      "    return self.dispatch_shell(stream, msg)\n",
      "  File \"/home/sebi/.local/lib/python2.7/site-packages/ipykernel/kernelbase.py\", line 233, in dispatch_shell\n",
      "    handler(stream, idents, msg)\n",
      "  File \"/home/sebi/.local/lib/python2.7/site-packages/ipykernel/kernelbase.py\", line 399, in execute_request\n",
      "    user_expressions, allow_stdin)\n",
      "  File \"/home/sebi/.local/lib/python2.7/site-packages/ipykernel/ipkernel.py\", line 208, in do_execute\n",
      "    res = shell.run_cell(code, store_history=store_history, silent=silent)\n",
      "  File \"/home/sebi/.local/lib/python2.7/site-packages/ipykernel/zmqshell.py\", line 537, in run_cell\n",
      "    return super(ZMQInteractiveShell, self).run_cell(*args, **kwargs)\n",
      "  File \"/home/sebi/.local/lib/python2.7/site-packages/IPython/core/interactiveshell.py\", line 2714, in run_cell\n",
      "    interactivity=interactivity, compiler=compiler, result=result)\n",
      "  File \"/home/sebi/.local/lib/python2.7/site-packages/IPython/core/interactiveshell.py\", line 2818, in run_ast_nodes\n",
      "    if self.run_code(code, result):\n",
      "  File \"/home/sebi/.local/lib/python2.7/site-packages/IPython/core/interactiveshell.py\", line 2878, in run_code\n",
      "    exec(code_obj, self.user_global_ns, self.user_ns)\n",
      "  File \"<ipython-input-2-c06cd6378593>\", line 1, in <module>\n",
      "    get_ipython().magic(u'matplotlib inline')\n",
      "  File \"/home/sebi/.local/lib/python2.7/site-packages/IPython/core/interactiveshell.py\", line 2160, in magic\n",
      "    return self.run_line_magic(magic_name, magic_arg_s)\n",
      "  File \"/home/sebi/.local/lib/python2.7/site-packages/IPython/core/interactiveshell.py\", line 2081, in run_line_magic\n",
      "    result = fn(*args,**kwargs)\n",
      "  File \"<decorator-gen-105>\", line 2, in matplotlib\n",
      "  File \"/home/sebi/.local/lib/python2.7/site-packages/IPython/core/magic.py\", line 188, in <lambda>\n",
      "    call = lambda f, *a, **k: f(*a, **k)\n",
      "  File \"/home/sebi/.local/lib/python2.7/site-packages/IPython/core/magics/pylab.py\", line 100, in matplotlib\n",
      "    gui, backend = self.shell.enable_matplotlib(args.gui)\n",
      "  File \"/home/sebi/.local/lib/python2.7/site-packages/IPython/core/interactiveshell.py\", line 2966, in enable_matplotlib\n",
      "    pt.activate_matplotlib(backend)\n",
      "  File \"/home/sebi/.local/lib/python2.7/site-packages/IPython/core/pylabtools.py\", line 315, in activate_matplotlib\n",
      "    matplotlib.pyplot.switch_backend(backend)\n",
      "  File \"/home/sebi/.local/lib/python2.7/site-packages/matplotlib/pyplot.py\", line 231, in switch_backend\n",
      "    matplotlib.use(newbackend, warn=False, force=True)\n",
      "  File \"/home/sebi/.local/lib/python2.7/site-packages/matplotlib/__init__.py\", line 1425, in use\n",
      "    reload(sys.modules['matplotlib.backends'])\n",
      "  File \"/home/sebi/.local/lib/python2.7/site-packages/matplotlib/backends/__init__.py\", line 17, in <module>\n",
      "    line for line in traceback.format_stack()\n",
      "\n",
      "\n",
      "  mpl.use('pdf')\n"
     ]
    }
   ],
   "source": [
    "%matplotlib inline\n",
    "import matplotlib.pyplot as plt\n",
    "import seaborn as sns\n",
    "sns.set_style(style='ticks')\n",
    "import matplotlib.pyplot as plt\n",
    "import seaborn as sns\n",
    "\n",
    "import sys\n",
    "sys.path.insert(0, '../../induction_analysis')\n",
    "\n",
    "import Analysis.induction_analysis as ia\n",
    "import Analysis.induction_plots as ip\n",
    "import Analysis.comparison_plots as cp\n",
    "from Analysis import filters\n",
    "\n",
    "from lab_repo.classes.place_cell_classes import pcExperimentGroup\n",
    "\n",
    "from Experiments import LEDExperiment, SingleCellExperiment\n",
    "\n",
    "\n",
    "import numpy as np\n",
    "import pandas as pd\n",
    "\n",
    "from scipy.stats import pearsonr, spearmanr, ttest_ind, ttest_1samp"
   ]
  },
  {
   "cell_type": "code",
   "execution_count": 3,
   "metadata": {},
   "outputs": [],
   "source": [
    "# Initialize Sparse LED Induction Group\n",
    "\n",
    "mice = ['svr141', 'svr142', 'svr143', 'svr146', 'svr147', 'svr148'] + ['svr153', 'svr154', 'svr157', 'svr159', 'svr160', 'svr161', 'svr162', 'svr164']\n",
    "ind_expt_ids = [22362, 22365, 22140, 22716, 22725, 22727] + [22754, 22755, 23227, 23853, 23882, 23875, 23834, 23866] + [25002, 25020, 25030, 25035]\n",
    "\n",
    "expts = [LEDExperiment.LEDExperiment(x) for x in ind_expt_ids]\n",
    "pc_kwargs = {'imaging_label': 'suite2p',\n",
    "                         'nPositionBins': 100,\n",
    "                         'channel': 'Ch2',\n",
    "                         'demixed': False,\n",
    "                         'pf_subset': None,\n",
    "                         'signal': 'spikes'}\n",
    "\n",
    "grp = pcExperimentGroup(expts, label='sparse_led', **pc_kwargs)\n",
    "\n",
    "filter_overwrite = False\n",
    "\n",
    "stim_filter = filters.grp_stim_filter(grp, label='suite2p', overwrite=filter_overwrite, activity_filter=True)\n",
    "ind_filter = filters.grp_induction_filter(grp, stim_filter=stim_filter, overwrite=filter_overwrite)\n",
    "nostim_filter = filters.grp_unstimmed_filter(grp, exclude_baseline_stim=True, overwrite=filter_overwrite)\n",
    "nostim_ind_filter = filters.grp_unstimmed_formation_filter(grp, stim_filter=nostim_filter, overwrite=filter_overwrite)"
   ]
  },
  {
   "cell_type": "code",
   "execution_count": 4,
   "metadata": {},
   "outputs": [],
   "source": [
    "control_ids = [26235, 26237, 26240, 26252, 26251]\n",
    "    \n",
    "expts = [LEDExperiment.LEDExperiment(x) for x in control_ids]\n",
    "pc_kwargs = {'imaging_label': 'suite2p',\n",
    "                         'nPositionBins': 100,\n",
    "                         'channel': 'Ch2',\n",
    "                         'demixed': False,\n",
    "                         'pf_subset': None,\n",
    "                         'signal': 'spikes'}\n",
    "\n",
    "control_grp = pcExperimentGroup(expts, label='led_control', **pc_kwargs)\n",
    "\n",
    "control_stim_filter = filters.grp_stim_filter(control_grp, label='suite2p', overwrite=False, activity_filter=True)\n",
    "control_ind_filter = filters.grp_induction_filter(control_grp, stim_filter=control_stim_filter, overwrite=False)\n",
    "control_nostim_filter = filters.grp_unstimmed_filter(control_grp, exclude_baseline_stim=True, overwrite=True)\n",
    "control_nostim_ind_filter = filters.grp_unstimmed_formation_filter(control_grp, stim_filter=control_nostim_filter, overwrite=True)"
   ]
  },
  {
   "cell_type": "code",
   "execution_count": 141,
   "metadata": {},
   "outputs": [],
   "source": [
    "# control_corr_df = ia.mckenzie_remapping_cells(control_grp)\n",
    "# control_corr_df.to_pickle('/home/sebi/data/induction/fig2/control_smooth_pre_post_corr.pkl')"
   ]
  },
  {
   "cell_type": "code",
   "execution_count": 52,
   "metadata": {
    "collapsed": true,
    "jupyter": {
     "outputs_hidden": true
    }
   },
   "outputs": [
    {
     "name": "stderr",
     "output_type": "stream",
     "text": [
      "/home/sebi/code/analysis/analysis-scripts/induction_analysis/Analysis/induction_analysis.py:4: UserWarning: \n",
      "This call to matplotlib.use() has no effect because the backend has already\n",
      "been chosen; matplotlib.use() must be called *before* pylab, matplotlib.pyplot,\n",
      "or matplotlib.backends is imported for the first time.\n",
      "\n",
      "The backend was *originally* set to 'module://ipykernel.pylab.backend_inline' by the following code:\n",
      "  File \"/usr/lib/python2.7/runpy.py\", line 174, in _run_module_as_main\n",
      "    \"__main__\", fname, loader, pkg_name)\n",
      "  File \"/usr/lib/python2.7/runpy.py\", line 72, in _run_code\n",
      "    exec code in run_globals\n",
      "  File \"/home/sebi/.local/lib/python2.7/site-packages/ipykernel_launcher.py\", line 16, in <module>\n",
      "    app.launch_new_instance()\n",
      "  File \"/home/sebi/.local/lib/python2.7/site-packages/traitlets/config/application.py\", line 658, in launch_instance\n",
      "    app.start()\n",
      "  File \"/home/sebi/.local/lib/python2.7/site-packages/ipykernel/kernelapp.py\", line 499, in start\n",
      "    self.io_loop.start()\n",
      "  File \"/home/sebi/.local/lib/python2.7/site-packages/tornado/ioloop.py\", line 1073, in start\n",
      "    handler_func(fd_obj, events)\n",
      "  File \"/home/sebi/.local/lib/python2.7/site-packages/tornado/stack_context.py\", line 300, in null_wrapper\n",
      "    return fn(*args, **kwargs)\n",
      "  File \"/home/sebi/.local/lib/python2.7/site-packages/zmq/eventloop/zmqstream.py\", line 456, in _handle_events\n",
      "    self._handle_recv()\n",
      "  File \"/home/sebi/.local/lib/python2.7/site-packages/zmq/eventloop/zmqstream.py\", line 486, in _handle_recv\n",
      "    self._run_callback(callback, msg)\n",
      "  File \"/home/sebi/.local/lib/python2.7/site-packages/zmq/eventloop/zmqstream.py\", line 438, in _run_callback\n",
      "    callback(*args, **kwargs)\n",
      "  File \"/home/sebi/.local/lib/python2.7/site-packages/tornado/stack_context.py\", line 300, in null_wrapper\n",
      "    return fn(*args, **kwargs)\n",
      "  File \"/home/sebi/.local/lib/python2.7/site-packages/ipykernel/kernelbase.py\", line 283, in dispatcher\n",
      "    return self.dispatch_shell(stream, msg)\n",
      "  File \"/home/sebi/.local/lib/python2.7/site-packages/ipykernel/kernelbase.py\", line 233, in dispatch_shell\n",
      "    handler(stream, idents, msg)\n",
      "  File \"/home/sebi/.local/lib/python2.7/site-packages/ipykernel/kernelbase.py\", line 399, in execute_request\n",
      "    user_expressions, allow_stdin)\n",
      "  File \"/home/sebi/.local/lib/python2.7/site-packages/ipykernel/ipkernel.py\", line 208, in do_execute\n",
      "    res = shell.run_cell(code, store_history=store_history, silent=silent)\n",
      "  File \"/home/sebi/.local/lib/python2.7/site-packages/ipykernel/zmqshell.py\", line 537, in run_cell\n",
      "    return super(ZMQInteractiveShell, self).run_cell(*args, **kwargs)\n",
      "  File \"/home/sebi/.local/lib/python2.7/site-packages/IPython/core/interactiveshell.py\", line 2724, in run_cell\n",
      "    self.events.trigger('post_run_cell')\n",
      "  File \"/home/sebi/.local/lib/python2.7/site-packages/IPython/core/events.py\", line 74, in trigger\n",
      "    func(*args, **kwargs)\n",
      "  File \"/home/sebi/.local/lib/python2.7/site-packages/ipykernel/pylab/backend_inline.py\", line 164, in configure_once\n",
      "    activate_matplotlib(backend)\n",
      "  File \"/home/sebi/.local/lib/python2.7/site-packages/IPython/core/pylabtools.py\", line 315, in activate_matplotlib\n",
      "    matplotlib.pyplot.switch_backend(backend)\n",
      "  File \"/home/sebi/.local/lib/python2.7/site-packages/matplotlib/pyplot.py\", line 231, in switch_backend\n",
      "    matplotlib.use(newbackend, warn=False, force=True)\n",
      "  File \"/home/sebi/.local/lib/python2.7/site-packages/matplotlib/__init__.py\", line 1425, in use\n",
      "    reload(sys.modules['matplotlib.backends'])\n",
      "  File \"/home/sebi/.local/lib/python2.7/site-packages/matplotlib/backends/__init__.py\", line 17, in <module>\n",
      "    line for line in traceback.format_stack()\n",
      "\n",
      "\n",
      "  mpl.use('pdf')\n"
     ]
    },
    {
     "data": {
      "text/plain": [
       "<module 'Analysis.induction_analysis' from '/home/sebi/code/analysis/analysis-scripts/induction_analysis/Analysis/induction_analysis.py'>"
      ]
     },
     "execution_count": 52,
     "metadata": {},
     "output_type": "execute_result"
    }
   ],
   "source": [
    "reload(ia)"
   ]
  },
  {
   "cell_type": "code",
   "execution_count": 53,
   "metadata": {},
   "outputs": [],
   "source": [
    "corr_df = ia.mckenzie_remapping_cells(grp)\n",
    "control_corr_df = ia.mckenzie_remapping_cells(control_grp)"
   ]
  },
  {
   "cell_type": "code",
   "execution_count": 14,
   "metadata": {},
   "outputs": [],
   "source": [
    "def clean(ax, full=False, offset=0):\n",
    "    if full:\n",
    "        sns.despine(ax=ax, left=True, bottom=True, offset=offset)\n",
    "        ax.set_yticks([])\n",
    "        ax.set_xticks([])\n",
    "    else:\n",
    "        sns.despine(ax=ax, offset=offset)\n",
    "\n",
    "from matplotlib import rc\n",
    "plt.rcParams['axes.linewidth'] = 1\n",
    "plt.rcParams['ytick.labelsize'] = 6\n",
    "plt.rcParams['xtick.labelsize'] = 6\n",
    "plt.rcParams['axes.labelsize'] = 7\n",
    "plt.rcParams['boxplot.boxprops.linewidth'] = 1\n",
    "\n",
    "rc('font',**{'family':'sans-serif','sans-serif':['helvetica', 'sans-serif']})\n",
    "plt.rcParams['axes.unicode_minus'] = False"
   ]
  },
  {
   "cell_type": "code",
   "execution_count": 9,
   "metadata": {},
   "outputs": [],
   "source": [
    "stim_df = get_stim_df(grp, stim_filter)"
   ]
  },
  {
   "cell_type": "code",
   "execution_count": 10,
   "metadata": {},
   "outputs": [],
   "source": [
    "control_stim_df = get_stim_df(control_grp, control_stim_filter)"
   ]
  },
  {
   "cell_type": "code",
   "execution_count": 7,
   "metadata": {},
   "outputs": [],
   "source": [
    "def get_stim_df(grp, stim_filter):\n",
    "    \n",
    "    data_list = []\n",
    "    \n",
    "    for expt in grp:\n",
    "        \n",
    "        tid = expt.trial_id\n",
    "        \n",
    "        rois = expt.rois()\n",
    "        stim_rois = expt.rois(roi_filter=stim_filter)\n",
    "        \n",
    "        frac = len(stim_rois) / float(len(rois))\n",
    "        \n",
    "        for roi in rois:\n",
    "            \n",
    "            data_list.append({'expt': tid,\n",
    "                              'roi': roi.label,\n",
    "                              'frac': frac,\n",
    "                              'stim': stim_filter(roi)})\n",
    "    \n",
    "    return pd.DataFrame(data_list)"
   ]
  },
  {
   "cell_type": "code",
   "execution_count": 8,
   "metadata": {},
   "outputs": [],
   "source": [
    "def prep_corr_df(df, threshold=0.25):\n",
    "    \n",
    "    post_df = df.loc[(df['lap'] > 0) & (df['lap'] <= 10)].groupby(['roi'], as_index=False).mean()\n",
    "    post_include = post_df.loc[post_df['post_corr']>= threshold]['roi'].tolist()\n",
    "\n",
    "    pre_df = df.loc[df['lap'] < 0 & (df['lap'] >= -10)].groupby(['roi'], as_index=False).mean()\n",
    "    pre_include = pre_df.loc[pre_df['pre_corr'] >= threshold]['roi'].tolist()\n",
    "\n",
    "    final_include = set(pre_include).intersection(post_include)\n",
    "\n",
    "    df['include'] = df.apply(lambda x: x['roi'] in final_include, axis=1)\n",
    "    df = df.loc[(df['lap'] <=10) & (df['lap'] >= -10)]\n",
    "\n",
    "    include_df = df.loc[df['include']]\n",
    "    \n",
    "    return include_df"
   ]
  },
  {
   "cell_type": "code",
   "execution_count": 164,
   "metadata": {},
   "outputs": [],
   "source": [
    "merge_df = corr_df.merge(stim_df, on=['expt', 'roi'])\n",
    "include_df = prep_corr_df(merge_df)"
   ]
  },
  {
   "cell_type": "code",
   "execution_count": 186,
   "metadata": {},
   "outputs": [
    {
     "data": {
      "image/png": "[encoded data removed]",
      "text/plain": [
       "<Figure size 300x300 with 1 Axes>"
      ]
     },
     "metadata": {
      "needs_background": "light"
     },
     "output_type": "display_data"
    }
   ],
   "source": [
    "merge_df = corr_df.merge(stim_df, on=['expt', 'roi'])\n",
    "\n",
    "threshold=0.25\n",
    "#subselect only ROIs with mean correlation >threshold before and after shift\n",
    "include_df = prep_corr_df(merge_df)\n",
    "\n",
    "# Look only at unstimmed cells\n",
    "include_df = include_df.loc[~include_df['stim']]\n",
    "\n",
    "# Add dummy empty zero\n",
    "plot_df = include_df.append(pd.DataFrame([{'lap': 0,\n",
    "               'post_corr':np.inf,\n",
    "               'pre_corr': np.inf,\n",
    "               'expt': 0.0,\n",
    "               'frac': np.nan,\n",
    "               'stim': 0.0,\n",
    "               'include':1.0}]))\n",
    "\n",
    "fig = plt.figure(figsize=(1.5, 1.5), dpi=200)\n",
    "ax = fig.add_subplot(111)\n",
    "\n",
    "sns.lineplot(y='post_corr', x='lap', data=plot_df, label='POST', ci=68, color='r')\n",
    "sns.lineplot(y='pre_corr', x='lap', data=plot_df, label='PRE', ci=68, color='r')\n",
    "\n",
    "# Now do Control\n",
    "merge_df = control_corr_df\n",
    "include_df = prep_corr_df(merge_df)\n",
    "plot_df = include_df.append(pd.DataFrame([{'lap': 0,\n",
    "               'post_corr':np.inf,\n",
    "               'pre_corr': np.inf,\n",
    "               'expt': 0.0,\n",
    "               'frac': np.nan,\n",
    "               'include':1.0}]))\n",
    "\n",
    "sns.lineplot(y='post_corr', x='lap', data=plot_df, label='POST', ci=68, color='0.3')\n",
    "sns.lineplot(y='pre_corr', x='lap', data=plot_df, label='PRE', ci=68, color='0.3')\n",
    "\n",
    "ax.legend().set_visible(False)\n",
    "\n",
    "clean(ax)\n",
    "\n",
    "# ax.legend(fontsize=5, frameon=False)\n",
    "\n",
    "ax.set_xlim([-11, 11])\n",
    "ax.set_xticks(range(-10, 11, 5))\n",
    "ax.set_xlabel('Lap Relative to STIM')\n",
    "ax.set_ylim([0.15, 0.75])\n",
    "ax.set_ylabel('Correlation to Template')\n",
    "\n",
    "# ax.set_title('Manipulation Experiments')\n",
    "\n",
    "fig.savefig('/home/sebi/plots/ind/fig2/led_remapping_by_lap.svg')"
   ]
  },
  {
   "cell_type": "code",
   "execution_count": null,
   "metadata": {},
   "outputs": [],
   "source": [
    "r_corr_df['post_corr'].mean()"
   ]
  },
  {
   "cell_type": "code",
   "execution_count": 157,
   "metadata": {},
   "outputs": [],
   "source": [
    "manipulation_df = final_df.copy()"
   ]
  },
  {
   "cell_type": "code",
   "execution_count": 159,
   "metadata": {},
   "outputs": [
    {
     "name": "stdout",
     "output_type": "stream",
     "text": [
      "0.233238639374 0.316472576374\n"
     ]
    }
   ],
   "source": [
    "print manipulation_df['delta'].mean(), manipulation_df['delta'].std()"
   ]
  },
  {
   "cell_type": "code",
   "execution_count": 160,
   "metadata": {},
   "outputs": [
    {
     "name": "stdout",
     "output_type": "stream",
     "text": [
      "0.278416768089 0.3212107097\n"
     ]
    }
   ],
   "source": [
    "print final_df['delta'].mean(), final_df['delta'].std()"
   ]
  },
  {
   "cell_type": "code",
   "execution_count": 96,
   "metadata": {},
   "outputs": [],
   "source": [
    "# Calc Rate of Remapping\n",
    "def remapping(df):\n",
    "    post_df = df.loc[df['lap'] > 0]\n",
    "    post_df = post_df.groupby(['expt', 'roi'], as_index=False).mean()\n",
    "\n",
    "    pre_df = df.loc[df['lap'] < 0]\n",
    "    pre_df = pre_df.groupby(['expt', 'roi'], as_index=False).mean()\n",
    "\n",
    "    final_df = pre_df.merge(post_df, on=['expt', 'roi'], suffixes=['_pre', '_post'])\n",
    "    final_df['delta'] = final_df['post_corr_post'] - final_df['pre_corr_post']\n",
    "\n",
    "    return final_df"
   ]
  },
  {
   "cell_type": "code",
   "execution_count": 176,
   "metadata": {},
   "outputs": [],
   "source": [
    "def group_density(x):\n",
    "    \n",
    "    if x['frac_post'] < 0.028571:\n",
    "        return 'Low'\n",
    "    else:\n",
    "        return 'Med'"
   ]
  },
  {
   "cell_type": "code",
   "execution_count": 97,
   "metadata": {},
   "outputs": [],
   "source": [
    "# Compare all 4 conditions\n",
    "merge_df = corr_df.merge(stim_df, on=['expt', 'roi'])\n",
    "include_df = prep_corr_df(merge_df)\n",
    "include_df = include_df.loc[~include_df['stim']]\n",
    "led_df = remapping(include_df)\n",
    "\n",
    "include_df = prep_corr_df(control_corr_df)\n",
    "control_df = remapping(include_df)"
   ]
  },
  {
   "cell_type": "code",
   "execution_count": 85,
   "metadata": {},
   "outputs": [],
   "source": [
    "merge_df = dense_corr_df.merge(dense_stim_df, on=['expt', 'roi'])"
   ]
  },
  {
   "cell_type": "code",
   "execution_count": 87,
   "metadata": {},
   "outputs": [],
   "source": [
    "include_df = prep_corr_df(merge_df)"
   ]
  },
  {
   "cell_type": "code",
   "execution_count": 178,
   "metadata": {},
   "outputs": [],
   "source": [
    "led_df['density'] = led_df.apply(group_density, axis=1)"
   ]
  },
  {
   "cell_type": "code",
   "execution_count": 191,
   "metadata": {},
   "outputs": [
    {
     "name": "stderr",
     "output_type": "stream",
     "text": [
      "/home/sebi/.local/lib/python2.7/site-packages/ipykernel_launcher.py:7: SettingWithCopyWarning: \n",
      "A value is trying to be set on a copy of a slice from a DataFrame.\n",
      "Try using .loc[row_indexer,col_indexer] = value instead\n",
      "\n",
      "See the caveats in the documentation: http://pandas.pydata.org/pandas-docs/stable/indexing.html#indexing-view-versus-copy\n",
      "  import sys\n",
      "/home/sebi/.local/lib/python2.7/site-packages/ipykernel_launcher.py:9: SettingWithCopyWarning: \n",
      "A value is trying to be set on a copy of a slice from a DataFrame.\n",
      "Try using .loc[row_indexer,col_indexer] = value instead\n",
      "\n",
      "See the caveats in the documentation: http://pandas.pydata.org/pandas-docs/stable/indexing.html#indexing-view-versus-copy\n",
      "  if __name__ == '__main__':\n",
      "/home/sebi/.local/lib/python2.7/site-packages/ipykernel_launcher.py:14: FutureWarning: Sorting because non-concatenation axis is not aligned. A future version\n",
      "of pandas will change to not sort by default.\n",
      "\n",
      "To accept the future behavior, pass 'sort=False'.\n",
      "\n",
      "To retain the current behavior and silence the warning, pass 'sort=True'.\n",
      "\n",
      "  \n"
     ]
    }
   ],
   "source": [
    "led_df['condition'] = 'LED\\n(All)'\n",
    "control_df['condition'] = 'control'\n",
    "# sparse_df['condition'] = 'sparse 2p'\n",
    "# dense_df['condition'] = 'dense 2p'\n",
    "\n",
    "low_df = led_df.loc[led_df['density'] == 'Low']\n",
    "low_df['condition'] = 'LED\\n(Low)'\n",
    "med_df = led_df.loc[led_df['density'] == 'Med']\n",
    "med_df['condition'] = 'LED\\n(Medium)'\n",
    "\n",
    "# dfs = [led_df, control_df, sparse_df, dense_df]\n",
    "dfs = [control_df, led_df, low_df, med_df]\n",
    "\n",
    "full_df = pd.concat([x.groupby(['expt', 'condition'], as_index=False).mean() for x in dfs])"
   ]
  },
  {
   "cell_type": "code",
   "execution_count": 196,
   "metadata": {},
   "outputs": [
    {
     "data": {
      "image/png": "[encoded data removed]",
      "text/plain": [
       "<Figure size 300x300 with 1 Axes>"
      ]
     },
     "metadata": {
      "needs_background": "light"
     },
     "output_type": "display_data"
    }
   ],
   "source": [
    "fig = plt.figure(figsize=(1.5, 1.5), dpi=200)\n",
    "ax = fig.add_subplot(111)\n",
    "\n",
    "colors = ['0.3', 'r', '#ef6e4b'] + sns.xkcd_palette(['rouge'])\n",
    "\n",
    "sns.boxplot(y='delta', x='condition', data=full_df, showfliers=False, whis=False, showcaps=False)\n",
    "plt.setp(ax.artists, edgecolor='k', facecolor='w')\n",
    "plt.setp(ax.lines, color='k')\n",
    "sns.swarmplot(y='delta', x='condition', hue='condition', palette=colors, data=full_df, s=4, edgecolor='k', linewidth=0.5)\n",
    "clean(ax)\n",
    "\n",
    "ax.legend().set_visible(False)\n",
    "\n",
    "ax.set_ylabel(r'$\\Delta$ Template Correlation')\n",
    "ax.set_xlabel('Condition')\n",
    "\n",
    "fig.savefig('/home/sebi/plots/ind/fig2/led_remapping_delta.svg')"
   ]
  },
  {
   "cell_type": "code",
   "execution_count": 195,
   "metadata": {},
   "outputs": [
    {
     "name": "stdout",
     "output_type": "stream",
     "text": [
      "Ttest_indResult(statistic=-0.04967778065608892, pvalue=0.9608486335124988)\n",
      "Ttest_indResult(statistic=0.034536891515280804, pvalue=0.9728762251809637)\n"
     ]
    }
   ],
   "source": [
    "print ttest_ind(full_df.loc[full_df['condition'] == 'control']['delta'],\n",
    "          full_df.loc[full_df['condition'] == 'LED\\n(All)']['delta'])\n",
    "\n",
    "print ttest_ind(full_df.loc[full_df['condition'] == 'LED\\n(Low)']['delta'],\n",
    "          full_df.loc[full_df['condition'] == 'LED\\n(Medium)']['delta'])"
   ]
  }
 ],
 "metadata": {
  "kernelspec": {
   "display_name": "Python 2",
   "language": "python",
   "name": "python2"
  },
  "language_info": {
   "codemirror_mode": {
    "name": "ipython",
    "version": 2
   },
   "file_extension": ".py",
   "mimetype": "text/x-python",
   "name": "python",
   "nbconvert_exporter": "python",
   "pygments_lexer": "ipython2",
   "version": "2.7.17"
  }
 },
 "nbformat": 4,
 "nbformat_minor": 4
}
